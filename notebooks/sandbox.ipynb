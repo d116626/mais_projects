{
 "cells": [
  {
   "cell_type": "code",
   "execution_count": 2,
   "metadata": {},
   "outputs": [],
   "source": [
    "%reload_ext autoreload\n",
    "%autoreload 2\n",
    "\n",
    "import warnings\n",
    "warnings.filterwarnings('ignore')\n",
    "\n",
    "import pandas as pd\n",
    "import numpy as np\n",
    "\n",
    "pd.options.display.max_columns = 999\n",
    "pd.options.display.max_rows = 1999\n",
    "pd.options.display.max_colwidth = 200\n",
    "\n",
    "\n",
    "from paths import *\n",
    "from scpts import manipulation\n",
    "# from scripts import io\n",
    "\n",
    "import basedosdados as bd\n",
    "from basedosdados import Storage, Table, Dataset\n",
    "\n",
    "import os\n",
    "\n",
    "# os.environ[\"GOOGLE_APPLICATION_CREDENTIALS\"]=\"../../credentials/cli-adm2.json\"\n",
    "\n",
    "import yaml"
   ]
  },
  {
   "cell_type": "code",
   "execution_count": 9,
   "metadata": {},
   "outputs": [],
   "source": [
    "from google.cloud import bigquery"
   ]
  },
  {
   "cell_type": "code",
   "execution_count": 10,
   "metadata": {},
   "outputs": [
    {
     "data": {
      "text/plain": [
       "'1.28.0'"
      ]
     },
     "execution_count": 10,
     "metadata": {},
     "output_type": "execute_result"
    }
   ],
   "source": [
    "bigquery.__version__"
   ]
  },
  {
   "cell_type": "code",
   "execution_count": null,
   "metadata": {},
   "outputs": [],
   "source": []
  },
  {
   "cell_type": "code",
   "execution_count": null,
   "metadata": {},
   "outputs": [],
   "source": []
  },
  {
   "cell_type": "code",
   "execution_count": 3,
   "metadata": {},
   "outputs": [],
   "source": [
    "tb = Table('test','br_inep_test_2')"
   ]
  },
  {
   "cell_type": "code",
   "execution_count": 7,
   "metadata": {},
   "outputs": [
    {
     "name": "stderr",
     "output_type": "stream",
     "text": [
      "Uploading files: 100%|██████████| 1/1 [00:18<00:00, 18.14s/it]\n"
     ]
    }
   ],
   "source": [
    "tb.create('test/', if_storage_data_exists='replace',if_table_config_exists='replace',if_table_exists='replace')"
   ]
  },
  {
   "cell_type": "code",
   "execution_count": null,
   "metadata": {},
   "outputs": [],
   "source": []
  },
  {
   "cell_type": "code",
   "execution_count": 11,
   "metadata": {},
   "outputs": [],
   "source": [
    "df = pd.read_csv('municipios.csv', error_bad_lines=False, encoding='latin1', sep=';')"
   ]
  },
  {
   "cell_type": "code",
   "execution_count": 12,
   "metadata": {},
   "outputs": [],
   "source": [
    "df = df.drop(['ano'],1)"
   ]
  },
  {
   "cell_type": "code",
   "execution_count": 13,
   "metadata": {},
   "outputs": [],
   "source": [
    "df.columns = manipulation.normalize_cols(df.columns)\n",
    "df.to_csv('test/ano=2006/municipios_solved.csv', index=False)"
   ]
  },
  {
   "cell_type": "code",
   "execution_count": null,
   "metadata": {},
   "outputs": [],
   "source": []
  },
  {
   "cell_type": "code",
   "execution_count": null,
   "metadata": {},
   "outputs": [],
   "source": []
  },
  {
   "cell_type": "code",
   "execution_count": null,
   "metadata": {},
   "outputs": [],
   "source": []
  },
  {
   "cell_type": "code",
   "execution_count": null,
   "metadata": {},
   "outputs": [],
   "source": []
  },
  {
   "cell_type": "code",
   "execution_count": null,
   "metadata": {},
   "outputs": [],
   "source": []
  },
  {
   "cell_type": "code",
   "execution_count": null,
   "metadata": {},
   "outputs": [],
   "source": []
  },
  {
   "cell_type": "code",
   "execution_count": null,
   "metadata": {},
   "outputs": [],
   "source": []
  },
  {
   "cell_type": "code",
   "execution_count": null,
   "metadata": {},
   "outputs": [],
   "source": []
  },
  {
   "cell_type": "code",
   "execution_count": null,
   "metadata": {},
   "outputs": [],
   "source": []
  },
  {
   "cell_type": "code",
   "execution_count": null,
   "metadata": {},
   "outputs": [],
   "source": []
  },
  {
   "cell_type": "code",
   "execution_count": 16,
   "metadata": {},
   "outputs": [],
   "source": [
    "df = pd.DataFrame([1,2,3,4,5], columns=['test'])"
   ]
  },
  {
   "cell_type": "code",
   "execution_count": 17,
   "metadata": {},
   "outputs": [],
   "source": [
    "df.to_csv('test_table.csv', index=False)"
   ]
  },
  {
   "cell_type": "code",
   "execution_count": 26,
   "metadata": {},
   "outputs": [],
   "source": [
    "tb = bd.Table('c_test','a_proposal_test')"
   ]
  },
  {
   "cell_type": "code",
   "execution_count": 32,
   "metadata": {},
   "outputs": [
    {
     "name": "stdout",
     "output_type": "stream",
     "text": [
      "caged.ipynb\t      futebol.ipynb\t      __pycache__    test_table.csv\n",
      "censo_2010.ipynb      paths.py\t\t      sandbox.ipynb\n",
      "create_configs.ipynb  proposal_ambient.ipynb  test_data.csv\n"
     ]
    }
   ],
   "source": [
    "!ls"
   ]
  },
  {
   "cell_type": "code",
   "execution_count": 37,
   "metadata": {},
   "outputs": [
    {
     "name": "stderr",
     "output_type": "stream",
     "text": [
      "Uploading files: 100%|██████████| 1/1 [00:00<00:00,  1.19it/s]\n"
     ]
    }
   ],
   "source": [
    "tb.create(\n",
    "    path='test_data.csv',\n",
    "    if_table_exists='raise',\n",
    "    if_storage_data_exists='replace',\n",
    "    if_table_config_exists='raise'\n",
    ")"
   ]
  },
  {
   "cell_type": "code",
   "execution_count": 38,
   "metadata": {},
   "outputs": [],
   "source": [
    "tb.publish()"
   ]
  },
  {
   "cell_type": "code",
   "execution_count": null,
   "metadata": {},
   "outputs": [],
   "source": []
  },
  {
   "cell_type": "code",
   "execution_count": 40,
   "metadata": {},
   "outputs": [],
   "source": [
    "tb = bd.Table('bens_candidato','br_tse_eleicoes')"
   ]
  },
  {
   "cell_type": "code",
   "execution_count": 41,
   "metadata": {},
   "outputs": [],
   "source": [
    "# tb.create(\n",
    "#     partitioned=True,\n",
    "#     if_table_exists='replace',\n",
    "#     if_storage_data_exists='pass',\n",
    "#     if_table_config_exists='replace',\n",
    "# )"
   ]
  },
  {
   "cell_type": "code",
   "execution_count": 42,
   "metadata": {},
   "outputs": [],
   "source": [
    "tb.publish()"
   ]
  },
  {
   "cell_type": "code",
   "execution_count": null,
   "metadata": {},
   "outputs": [],
   "source": []
  },
  {
   "cell_type": "code",
   "execution_count": null,
   "metadata": {},
   "outputs": [],
   "source": []
  },
  {
   "cell_type": "code",
   "execution_count": null,
   "metadata": {},
   "outputs": [],
   "source": []
  },
  {
   "cell_type": "code",
   "execution_count": null,
   "metadata": {},
   "outputs": [],
   "source": []
  },
  {
   "cell_type": "code",
   "execution_count": null,
   "metadata": {},
   "outputs": [],
   "source": []
  },
  {
   "cell_type": "code",
   "execution_count": null,
   "metadata": {},
   "outputs": [],
   "source": []
  },
  {
   "cell_type": "code",
   "execution_count": 3,
   "metadata": {},
   "outputs": [],
   "source": [
    "tb = Table('despesas','br_sp_gov_orcamento')"
   ]
  },
  {
   "cell_type": "code",
   "execution_count": 4,
   "metadata": {},
   "outputs": [],
   "source": [
    "Dataset('br_sp_gov_orcamento').update()"
   ]
  },
  {
   "cell_type": "code",
   "execution_count": null,
   "metadata": {},
   "outputs": [],
   "source": []
  },
  {
   "cell_type": "code",
   "execution_count": 11,
   "metadata": {},
   "outputs": [],
   "source": [
    "import pandas as pd\n",
    "import plotly.express as px"
   ]
  },
  {
   "cell_type": "code",
   "execution_count": null,
   "metadata": {},
   "outputs": [],
   "source": []
  },
  {
   "cell_type": "code",
   "execution_count": null,
   "metadata": {},
   "outputs": [],
   "source": []
  },
  {
   "cell_type": "markdown",
   "metadata": {},
   "source": [
    "### Orcamento"
   ]
  },
  {
   "cell_type": "markdown",
   "metadata": {},
   "source": [
    "### Despesas"
   ]
  },
  {
   "cell_type": "code",
   "execution_count": 5,
   "metadata": {},
   "outputs": [],
   "source": [
    "raw_path = 'data/orcamento/raw/despesa/'\n",
    "clean_path = 'data/orcamento/clean/despesa/'\n",
    "files = os.listdir(raw_path)"
   ]
  },
  {
   "cell_type": "code",
   "execution_count": 13,
   "metadata": {
    "scrolled": true
   },
   "outputs": [],
   "source": [
    "n=0\n",
    "for file in files:\n",
    "    df = pd.read_csv(raw_path+file, encoding='iso-8859-9')\n",
    "    df.columns = manipulation.normalize_cols(df.columns)\n",
    "\n",
    "    mask = df['orgao'].notnull()\n",
    "    df = df[mask]\n",
    "\n",
    "    drop_cols = [col for col in df.columns.tolist() if 'unnamed' in col]\n",
    "\n",
    "    df = df.drop(drop_cols, 1)\n",
    "\n",
    "    numeric_cols = ['dotacao_inicial', 'dotacao_atual', 'empenhado', 'liquidado', 'pago','pago_restos']\n",
    "\n",
    "    for col in numeric_cols:\n",
    "        df[col] = pd.to_numeric(df[col].str.replace('.','').str.replace(',','.'), errors='coerce')\n",
    "    \n",
    "    df['ano'] = int(file[-8:-4])\n",
    "    \n",
    "#     print(file, df.columns.tolist())\n",
    "    df = df.rename(columns={'sub_funcao':'subfuncao'})\n",
    "    n+=df.shape[0]\n",
    "    \n",
    "    df.to_csv(clean_path+file, index=False, encoding='utf-8')"
   ]
  },
  {
   "cell_type": "code",
   "execution_count": null,
   "metadata": {},
   "outputs": [],
   "source": []
  },
  {
   "cell_type": "code",
   "execution_count": 70,
   "metadata": {
    "scrolled": true
   },
   "outputs": [],
   "source": [
    "## Cria objeto com table_id e dataset_id\n",
    "tb = Table('despesas','br_sp_gov_orcamento')"
   ]
  },
  {
   "cell_type": "code",
   "execution_count": 71,
   "metadata": {},
   "outputs": [],
   "source": [
    "## Faz upload para o bucket e cria arquivos de configuração na pasta bases/dataset_id/table_id\n",
    "tb.create('data/orcamento/clean/despesa/',if_exists=\"replace\")"
   ]
  },
  {
   "cell_type": "code",
   "execution_count": 72,
   "metadata": {},
   "outputs": [],
   "source": [
    "tb.publish('replace')\n"
   ]
  },
  {
   "cell_type": "code",
   "execution_count": 14,
   "metadata": {},
   "outputs": [],
   "source": [
    "# tb.update()"
   ]
  },
  {
   "cell_type": "code",
   "execution_count": null,
   "metadata": {},
   "outputs": [],
   "source": []
  },
  {
   "cell_type": "code",
   "execution_count": null,
   "metadata": {},
   "outputs": [],
   "source": []
  },
  {
   "cell_type": "code",
   "execution_count": null,
   "metadata": {},
   "outputs": [],
   "source": []
  },
  {
   "cell_type": "markdown",
   "metadata": {},
   "source": [
    "### Receita"
   ]
  },
  {
   "cell_type": "code",
   "execution_count": 2,
   "metadata": {},
   "outputs": [],
   "source": [
    "raw_path = 'data/orcamento/raw/receita/'\n",
    "clean_path = 'data/orcamento/clean/receita/'\n",
    "files = os.listdir(raw_path)"
   ]
  },
  {
   "cell_type": "code",
   "execution_count": 3,
   "metadata": {},
   "outputs": [],
   "source": [
    "for file in files:\n",
    "    df = pd.read_csv(raw_path+file, encoding='iso-8859-9')\n",
    "    df.columns = manipulation.normalize_cols(df.columns)\n",
    "\n",
    "    mask = df['orgao'].notnull()\n",
    "    df = df[mask]\n",
    "\n",
    "    drop_cols = [col for col in df.columns.tolist() if 'unna' in col]\n",
    "\n",
    "    df = df.drop(drop_cols, 1)\n",
    "    \n",
    "    rename_col = [col for col in df.columns.tolist() if 'arrecadado_ate' in col]\n",
    "    \n",
    "    if rename_col != []:\n",
    "        df = df.rename(columns = {rename_col[0]:'arrecadado'})\n",
    "    \n",
    "        numeric_cols = ['arrecadado']\n",
    "\n",
    "        for col in numeric_cols:\n",
    "            df[col] = pd.to_numeric(df[col].str.replace('.','').str.replace(',','.'), errors='coerce')\n",
    "            \n",
    "    else:\n",
    "        numeric_cols = ['previsto_do_ano']\n",
    "\n",
    "        for col in numeric_cols:\n",
    "            df[col] = pd.to_numeric(df[col].str.replace('.','').str.replace(',','.'), errors='coerce')\n",
    "    \n",
    "    df['ano'] = int(file[-8:-4])\n",
    "    \n",
    "    df.to_csv(clean_path+file, index=False, encoding='utf-8')"
   ]
  },
  {
   "cell_type": "code",
   "execution_count": 7,
   "metadata": {},
   "outputs": [],
   "source": [
    "# import glob, os    \n",
    "# df = pd.concat(map(pd.read_csv, glob.glob(os.path.join('', \"data/orcamento/clean/receita_arrecadada/*.csv\"))))"
   ]
  },
  {
   "cell_type": "markdown",
   "metadata": {},
   "source": [
    "### Receita Arrecadada"
   ]
  },
  {
   "cell_type": "code",
   "execution_count": null,
   "metadata": {},
   "outputs": [],
   "source": []
  },
  {
   "cell_type": "code",
   "execution_count": null,
   "metadata": {},
   "outputs": [],
   "source": []
  },
  {
   "cell_type": "code",
   "execution_count": 73,
   "metadata": {},
   "outputs": [],
   "source": [
    "#cria o objeto do schema e da tabela\n",
    "tb = Table('receita_arrecadada','br_sp_gov_orcamento')\n"
   ]
  },
  {
   "cell_type": "code",
   "execution_count": 74,
   "metadata": {},
   "outputs": [],
   "source": [
    "# cria aquivos de config na pasta bases (preencher antes de dar publish), cri bucket no storage e cria tabela no staging\n",
    "tb.create('data/orcamento/clean/receita_arrecadada//',if_exists=\"replace\")"
   ]
  },
  {
   "cell_type": "code",
   "execution_count": 75,
   "metadata": {},
   "outputs": [],
   "source": [
    "# publica a tabela no projeto basedosdados com as configs atuais, tabem serve para atualizar as configs\n",
    "tb.publish('replace')"
   ]
  },
  {
   "cell_type": "code",
   "execution_count": 48,
   "metadata": {},
   "outputs": [],
   "source": [
    "#update na descrição da tabela\n",
    "tb.update()"
   ]
  },
  {
   "cell_type": "code",
   "execution_count": null,
   "metadata": {},
   "outputs": [],
   "source": [
    "#update na descricao do dataset\n",
    "Dataset('br_sp_gov_orcamento').update()"
   ]
  },
  {
   "cell_type": "code",
   "execution_count": null,
   "metadata": {},
   "outputs": [],
   "source": []
  },
  {
   "cell_type": "markdown",
   "metadata": {},
   "source": [
    "### Receita Prevista"
   ]
  },
  {
   "cell_type": "code",
   "execution_count": 8,
   "metadata": {},
   "outputs": [],
   "source": [
    "import glob, os    \n",
    "\n",
    "df = pd.concat(map(pd.read_csv, glob.glob(os.path.join('', \"data/orcamento/clean/receita_prevista/*.csv\"))))\n"
   ]
  },
  {
   "cell_type": "code",
   "execution_count": 9,
   "metadata": {},
   "outputs": [],
   "source": [
    "tb = Table('receita_prevista','br_sp_gov_orcamento')\n"
   ]
  },
  {
   "cell_type": "code",
   "execution_count": 10,
   "metadata": {},
   "outputs": [
    {
     "name": "stderr",
     "output_type": "stream",
     "text": [
      "Uploading files: 100%|██████████| 10/10 [00:06<00:00,  1.51it/s]\n"
     ]
    }
   ],
   "source": [
    "tb.create('data/orcamento/clean/receita_prevista/',if_exists=\"replace\")"
   ]
  },
  {
   "cell_type": "code",
   "execution_count": 17,
   "metadata": {},
   "outputs": [],
   "source": [
    "tb.publish('replace')"
   ]
  },
  {
   "cell_type": "code",
   "execution_count": 50,
   "metadata": {},
   "outputs": [],
   "source": [
    "# tb.update()"
   ]
  },
  {
   "cell_type": "code",
   "execution_count": 13,
   "metadata": {},
   "outputs": [
    {
     "data": {
      "text/plain": [
       "0         121000.0\n",
       "1         273100.0\n",
       "2           3430.0\n",
       "3             10.0\n",
       "4             10.0\n",
       "           ...    \n",
       "1744      420000.0\n",
       "1745    15600000.0\n",
       "1746          10.0\n",
       "1747          10.0\n",
       "1748          10.0\n",
       "Name: previsto_do_ano, Length: 16297, dtype: float64"
      ]
     },
     "execution_count": 13,
     "metadata": {},
     "output_type": "execute_result"
    }
   ],
   "source": [
    "df['previsto_do_ano']"
   ]
  },
  {
   "cell_type": "code",
   "execution_count": 14,
   "metadata": {},
   "outputs": [
    {
     "data": {
      "text/plain": [
       "(16297, 7)"
      ]
     },
     "execution_count": 14,
     "metadata": {},
     "output_type": "execute_result"
    }
   ],
   "source": [
    "df.shape"
   ]
  },
  {
   "cell_type": "code",
   "execution_count": 15,
   "metadata": {},
   "outputs": [
    {
     "data": {
      "text/html": [
       "<div>\n",
       "<style scoped>\n",
       "    .dataframe tbody tr th:only-of-type {\n",
       "        vertical-align: middle;\n",
       "    }\n",
       "\n",
       "    .dataframe tbody tr th {\n",
       "        vertical-align: top;\n",
       "    }\n",
       "\n",
       "    .dataframe thead th {\n",
       "        text-align: right;\n",
       "    }\n",
       "</style>\n",
       "<table border=\"1\" class=\"dataframe\">\n",
       "  <thead>\n",
       "    <tr style=\"text-align: right;\">\n",
       "      <th></th>\n",
       "      <th>orgao</th>\n",
       "      <th>gestao</th>\n",
       "      <th>unidade_gestora</th>\n",
       "      <th>fonte_de_recursos</th>\n",
       "      <th>receita</th>\n",
       "      <th>previsto_do_ano</th>\n",
       "      <th>ano</th>\n",
       "    </tr>\n",
       "  </thead>\n",
       "  <tbody>\n",
       "    <tr>\n",
       "      <th>0</th>\n",
       "      <td>01000 - ASSEMBLEIA LEGISLATIVA</td>\n",
       "      <td>00001 - GOVERNO DO ESTADO DE SAO PAULO</td>\n",
       "      <td>010030 - FED-ASSEMBLEIA LEGISLATIVA EST.SP.</td>\n",
       "      <td>003 - RECURSOS VINCULADOS-FUNDO ESPECIAL DE DESPES</td>\n",
       "      <td>13119901 - OUTRAS RECEITAS DE ALUGUEIS DO ESTADO</td>\n",
       "      <td>121000.0</td>\n",
       "      <td>2010</td>\n",
       "    </tr>\n",
       "    <tr>\n",
       "      <th>1</th>\n",
       "      <td>01000 - ASSEMBLEIA LEGISLATIVA</td>\n",
       "      <td>00001 - GOVERNO DO ESTADO DE SAO PAULO</td>\n",
       "      <td>010030 - FED-ASSEMBLEIA LEGISLATIVA EST.SP.</td>\n",
       "      <td>003 - RECURSOS VINCULADOS-FUNDO ESPECIAL DE DESPES</td>\n",
       "      <td>13250101 - FUNDO DE INVESTIMENTO FINANCEIRO - FIF - TES</td>\n",
       "      <td>273100.0</td>\n",
       "      <td>2010</td>\n",
       "    </tr>\n",
       "    <tr>\n",
       "      <th>2</th>\n",
       "      <td>01000 - ASSEMBLEIA LEGISLATIVA</td>\n",
       "      <td>00001 - GOVERNO DO ESTADO DE SAO PAULO</td>\n",
       "      <td>010030 - FED-ASSEMBLEIA LEGISLATIVA EST.SP.</td>\n",
       "      <td>003 - RECURSOS VINCULADOS-FUNDO ESPECIAL DE DESPES</td>\n",
       "      <td>16009901 - OUTROS SERVICOS DO ESTADO</td>\n",
       "      <td>3430.0</td>\n",
       "      <td>2010</td>\n",
       "    </tr>\n",
       "    <tr>\n",
       "      <th>3</th>\n",
       "      <td>01000 - ASSEMBLEIA LEGISLATIVA</td>\n",
       "      <td>00001 - GOVERNO DO ESTADO DE SAO PAULO</td>\n",
       "      <td>010030 - FED-ASSEMBLEIA LEGISLATIVA EST.SP.</td>\n",
       "      <td>003 - RECURSOS VINCULADOS-FUNDO ESPECIAL DE DESPES</td>\n",
       "      <td>17219902 - DEMAIS TRANSFERENCIAS DA UNIAO</td>\n",
       "      <td>10.0</td>\n",
       "      <td>2010</td>\n",
       "    </tr>\n",
       "    <tr>\n",
       "      <th>4</th>\n",
       "      <td>01000 - ASSEMBLEIA LEGISLATIVA</td>\n",
       "      <td>00001 - GOVERNO DO ESTADO DE SAO PAULO</td>\n",
       "      <td>010030 - FED-ASSEMBLEIA LEGISLATIVA EST.SP.</td>\n",
       "      <td>003 - RECURSOS VINCULADOS-FUNDO ESPECIAL DE DESPES</td>\n",
       "      <td>17229901 - DOACOES DOS ESTADOS</td>\n",
       "      <td>10.0</td>\n",
       "      <td>2010</td>\n",
       "    </tr>\n",
       "  </tbody>\n",
       "</table>\n",
       "</div>"
      ],
      "text/plain": [
       "                            orgao  \\\n",
       "0  01000 - ASSEMBLEIA LEGISLATIVA   \n",
       "1  01000 - ASSEMBLEIA LEGISLATIVA   \n",
       "2  01000 - ASSEMBLEIA LEGISLATIVA   \n",
       "3  01000 - ASSEMBLEIA LEGISLATIVA   \n",
       "4  01000 - ASSEMBLEIA LEGISLATIVA   \n",
       "\n",
       "                                                  gestao  \\\n",
       "0  00001 - GOVERNO DO ESTADO DE SAO PAULO                  \n",
       "1  00001 - GOVERNO DO ESTADO DE SAO PAULO                  \n",
       "2  00001 - GOVERNO DO ESTADO DE SAO PAULO                  \n",
       "3  00001 - GOVERNO DO ESTADO DE SAO PAULO                  \n",
       "4  00001 - GOVERNO DO ESTADO DE SAO PAULO                  \n",
       "\n",
       "                               unidade_gestora  \\\n",
       "0  010030 - FED-ASSEMBLEIA LEGISLATIVA EST.SP.   \n",
       "1  010030 - FED-ASSEMBLEIA LEGISLATIVA EST.SP.   \n",
       "2  010030 - FED-ASSEMBLEIA LEGISLATIVA EST.SP.   \n",
       "3  010030 - FED-ASSEMBLEIA LEGISLATIVA EST.SP.   \n",
       "4  010030 - FED-ASSEMBLEIA LEGISLATIVA EST.SP.   \n",
       "\n",
       "                                    fonte_de_recursos  \\\n",
       "0  003 - RECURSOS VINCULADOS-FUNDO ESPECIAL DE DESPES   \n",
       "1  003 - RECURSOS VINCULADOS-FUNDO ESPECIAL DE DESPES   \n",
       "2  003 - RECURSOS VINCULADOS-FUNDO ESPECIAL DE DESPES   \n",
       "3  003 - RECURSOS VINCULADOS-FUNDO ESPECIAL DE DESPES   \n",
       "4  003 - RECURSOS VINCULADOS-FUNDO ESPECIAL DE DESPES   \n",
       "\n",
       "                                                   receita  previsto_do_ano  \\\n",
       "0         13119901 - OUTRAS RECEITAS DE ALUGUEIS DO ESTADO         121000.0   \n",
       "1  13250101 - FUNDO DE INVESTIMENTO FINANCEIRO - FIF - TES         273100.0   \n",
       "2                     16009901 - OUTROS SERVICOS DO ESTADO           3430.0   \n",
       "3                17219902 - DEMAIS TRANSFERENCIAS DA UNIAO             10.0   \n",
       "4                           17229901 - DOACOES DOS ESTADOS             10.0   \n",
       "\n",
       "    ano  \n",
       "0  2010  \n",
       "1  2010  \n",
       "2  2010  \n",
       "3  2010  \n",
       "4  2010  "
      ]
     },
     "execution_count": 15,
     "metadata": {},
     "output_type": "execute_result"
    }
   ],
   "source": [
    "df.head()"
   ]
  },
  {
   "cell_type": "code",
   "execution_count": null,
   "metadata": {},
   "outputs": [],
   "source": []
  },
  {
   "cell_type": "code",
   "execution_count": null,
   "metadata": {},
   "outputs": [],
   "source": []
  },
  {
   "cell_type": "code",
   "execution_count": null,
   "metadata": {},
   "outputs": [],
   "source": []
  },
  {
   "cell_type": "code",
   "execution_count": null,
   "metadata": {},
   "outputs": [],
   "source": []
  },
  {
   "cell_type": "code",
   "execution_count": null,
   "metadata": {},
   "outputs": [],
   "source": []
  },
  {
   "cell_type": "code",
   "execution_count": null,
   "metadata": {},
   "outputs": [],
   "source": []
  },
  {
   "cell_type": "code",
   "execution_count": null,
   "metadata": {},
   "outputs": [],
   "source": []
  },
  {
   "cell_type": "markdown",
   "metadata": {},
   "source": [
    "## Alesp"
   ]
  },
  {
   "cell_type": "markdown",
   "metadata": {},
   "source": [
    "#### Despesas"
   ]
  },
  {
   "cell_type": "code",
   "execution_count": 206,
   "metadata": {},
   "outputs": [],
   "source": [
    "raw_path = 'data/alesp/raw/gastos/'\n",
    "clean_path = 'data/alesp/clean/gastos/'\n",
    "files = os.listdir(raw_path)"
   ]
  },
  {
   "cell_type": "code",
   "execution_count": 207,
   "metadata": {},
   "outputs": [],
   "source": [
    "df = pd.read_csv(raw_path+files[0], dtype={'CNPJ':'str'})\n",
    "df = df.drop('Data',1)\n",
    "df.columns = manipulation.normalize_cols(df.columns)\n",
    "df['cnpj'] = df['cnpj'].str.replace('O','0')"
   ]
  },
  {
   "cell_type": "code",
   "execution_count": 58,
   "metadata": {},
   "outputs": [],
   "source": [
    "for ano in df['ano'].unique():\n",
    "    mask = df['ano']==ano\n",
    "    dd = df[mask]\n",
    "    \n",
    "    partitioned_path = clean_path + f'ano={ano}/'\n",
    "    if os.path.isdir(partitioned_path)==False:\n",
    "        os.makedirs(partitioned_path)\n",
    "    else:\n",
    "        pass\n",
    "    \n",
    "    dd = dd.drop('ano',1)\n",
    "    dd.to_csv(partitioned_path + 'gastos_gabinete.csv',index=False, encoding='utf-8')"
   ]
  },
  {
   "cell_type": "code",
   "execution_count": null,
   "metadata": {},
   "outputs": [],
   "source": []
  },
  {
   "cell_type": "code",
   "execution_count": 64,
   "metadata": {},
   "outputs": [],
   "source": [
    "tb = Table('despesas_gabinete','br_sp_alesp')"
   ]
  },
  {
   "cell_type": "code",
   "execution_count": 80,
   "metadata": {},
   "outputs": [],
   "source": [
    "tb.create('data/alesp/clean/gastos/',partitioned=True)"
   ]
  },
  {
   "cell_type": "code",
   "execution_count": 81,
   "metadata": {},
   "outputs": [],
   "source": [
    "# tb.append('data/alesp/clean/gastos/',partitions=True ,if_exists='replace')"
   ]
  },
  {
   "cell_type": "code",
   "execution_count": 79,
   "metadata": {},
   "outputs": [],
   "source": [
    "# tb.publish('replace')"
   ]
  },
  {
   "cell_type": "code",
   "execution_count": 68,
   "metadata": {},
   "outputs": [],
   "source": [
    "# Dataset('br_sp_alesp').update()"
   ]
  },
  {
   "cell_type": "code",
   "execution_count": null,
   "metadata": {},
   "outputs": [],
   "source": []
  },
  {
   "cell_type": "code",
   "execution_count": null,
   "metadata": {},
   "outputs": [],
   "source": []
  },
  {
   "cell_type": "code",
   "execution_count": null,
   "metadata": {},
   "outputs": [],
   "source": []
  },
  {
   "cell_type": "markdown",
   "metadata": {},
   "source": [
    "#### Servidores"
   ]
  },
  {
   "cell_type": "code",
   "execution_count": 209,
   "metadata": {},
   "outputs": [],
   "source": [
    "raw_path = 'data/alesp/raw/servidores/'\n",
    "clean_path = 'data/alesp/clean/servidores/'\n",
    "files = os.listdir(raw_path)"
   ]
  },
  {
   "cell_type": "markdown",
   "metadata": {},
   "source": [
    "#### Deputados"
   ]
  },
  {
   "cell_type": "code",
   "execution_count": 210,
   "metadata": {},
   "outputs": [],
   "source": [
    "file = 'deputados_alesp.csv'\n",
    "df = pd.read_csv(raw_path+file)"
   ]
  },
  {
   "cell_type": "code",
   "execution_count": 211,
   "metadata": {},
   "outputs": [],
   "source": [
    "file = 'deputados_alesp.csv'\n",
    "df = pd.read_csv(raw_path+file)\n",
    "\n",
    "rename_cols = {\n",
    "    'idDeputado':'id_deputado',\n",
    "    'nomeParlamentar':'nome_parlamentar',\n",
    "    'placaVeiculo':'placa_veiculo',\n",
    "    'homePage':'home_page',\n",
    "    'IdSPL':'id_spl',\n",
    "#     '':'',\n",
    "}\n",
    "\n",
    "df = df.rename(columns=rename_cols).drop('numero_deputados',1)\n",
    "\n",
    "cols = ['matricula', 'nome_parlamentar', 'aniversario', 'partido', 'situacao',\n",
    "       'email', 'sala', 'placa_veiculo', 'home_page', 'andar', 'id_deputado',\n",
    "       'id_spl']\n",
    "\n",
    "df = df[cols]\n",
    "\n",
    "df['aniversario'] = df['aniversario'].apply(lambda x: x if x!='null/null' else np.nan)\n",
    "\n",
    "situacao = {\n",
    "'REL':'Renunciou para assumir outro cargo eletivo',\n",
    "'OUT':'Outros',\n",
    "'FAL':'Falecido',\n",
    "'REN':'Renunciou',\n",
    "'LIC':'Licenciado',\n",
    "'EXE':'No exercício do mandato',\n",
    "'CAS':'Cassado',\n",
    "'   ':'Não categorizado',\n",
    "}\n",
    "df['situacao'] = df['situacao'].map(situacao)\n",
    "\n",
    "df['andar'] = df['andar'].str.replace('º','').str.replace(' andar','').str.replace('Téreo','Térreo').str.replace('Terreo','Térreo')\n",
    "\n",
    "df.to_csv(clean_path+'deputados.csv',index=False, encoding='utf-8')"
   ]
  },
  {
   "cell_type": "code",
   "execution_count": null,
   "metadata": {},
   "outputs": [],
   "source": []
  },
  {
   "cell_type": "code",
   "execution_count": null,
   "metadata": {},
   "outputs": [],
   "source": []
  },
  {
   "cell_type": "code",
   "execution_count": 221,
   "metadata": {},
   "outputs": [],
   "source": [
    "tb = Table('deputados','br_sp_alesp')"
   ]
  },
  {
   "cell_type": "code",
   "execution_count": 222,
   "metadata": {},
   "outputs": [],
   "source": [
    "# tb.create('data/alesp/clean/servidores/deputados.csv',if_exists='replace')"
   ]
  },
  {
   "cell_type": "code",
   "execution_count": 223,
   "metadata": {},
   "outputs": [],
   "source": [
    "tb.publish('replace')"
   ]
  },
  {
   "cell_type": "code",
   "execution_count": null,
   "metadata": {},
   "outputs": [],
   "source": []
  },
  {
   "cell_type": "code",
   "execution_count": null,
   "metadata": {},
   "outputs": [],
   "source": []
  },
  {
   "cell_type": "code",
   "execution_count": null,
   "metadata": {},
   "outputs": [],
   "source": []
  },
  {
   "cell_type": "markdown",
   "metadata": {},
   "source": [
    "#### Assessores Parlamentares e Lideranca"
   ]
  },
  {
   "cell_type": "code",
   "execution_count": 212,
   "metadata": {},
   "outputs": [],
   "source": [
    "deputados = pd.read_csv(clean_path + 'deputados.csv', dtype={'matricula':str})\n",
    "\n",
    "file = 'assessores_parlamentares.csv'\n",
    "df = pd.read_csv(raw_path+file)\n",
    "df['lotacao_tipo'] = 'GABINETE DO DEPUTADO'\n",
    "\n",
    "file = 'assessores_lideranca.csv'\n",
    "dd = pd.read_csv(raw_path+file)\n",
    "dd['lotacao_tipo'] = 'GABINETE DA LIDERANCA'\n",
    "dd = dd[df.columns]\n",
    "\n",
    "df = pd.concat([df,dd],0)\n",
    "\n",
    "df.columns = manipulation.normalize_cols(df.columns)\n"
   ]
  },
  {
   "cell_type": "code",
   "execution_count": 213,
   "metadata": {},
   "outputs": [],
   "source": [
    "cols = ['deputado', 'partido', 'servidor', 'cargo', 'lotacao','lotacao_tipo', 'regime']\n",
    "\n",
    "df = df[cols].rename(columns={'deputado':'nome_parlamentar'})\n",
    "\n",
    "df = deputados[['matricula','nome_parlamentar']].merge(df, on='nome_parlamentar', how='outer')\n",
    "\n",
    "df.to_csv(clean_path+'assessores.csv',index=False, encoding='utf-8')"
   ]
  },
  {
   "cell_type": "code",
   "execution_count": null,
   "metadata": {},
   "outputs": [],
   "source": []
  },
  {
   "cell_type": "code",
   "execution_count": 225,
   "metadata": {},
   "outputs": [],
   "source": [
    "tb = Table('assessores','br_sp_alesp')"
   ]
  },
  {
   "cell_type": "code",
   "execution_count": 224,
   "metadata": {},
   "outputs": [],
   "source": [
    "# tb.create('data/alesp/clean/servidores/assessores.csv',if_exists='replace')"
   ]
  },
  {
   "cell_type": "code",
   "execution_count": 226,
   "metadata": {},
   "outputs": [],
   "source": [
    "tb.publish('replace')"
   ]
  },
  {
   "cell_type": "code",
   "execution_count": null,
   "metadata": {},
   "outputs": [],
   "source": []
  },
  {
   "cell_type": "code",
   "execution_count": null,
   "metadata": {},
   "outputs": [],
   "source": []
  },
  {
   "cell_type": "code",
   "execution_count": null,
   "metadata": {},
   "outputs": [],
   "source": []
  },
  {
   "cell_type": "markdown",
   "metadata": {},
   "source": [
    "#### tramitacao"
   ]
  },
  {
   "cell_type": "code",
   "execution_count": 91,
   "metadata": {},
   "outputs": [],
   "source": [
    "raw_path = '../data/alesp/raw/tramitacao/'\n",
    "clean_path = '../data/alesp/clean/tramitacao/'\n",
    "files = os.listdir(raw_path)"
   ]
  },
  {
   "cell_type": "code",
   "execution_count": 92,
   "metadata": {},
   "outputs": [],
   "source": [
    "for file in files:\n",
    "    df = pd.read_csv(raw_path+file)\n",
    "    df.columns = manipulation.normalize_cols(df.columns)\n",
    "    df.to_csv(clean_path+file, index=False, encoding='utf-8')"
   ]
  },
  {
   "cell_type": "code",
   "execution_count": null,
   "metadata": {},
   "outputs": [],
   "source": []
  },
  {
   "cell_type": "code",
   "execution_count": null,
   "metadata": {},
   "outputs": [],
   "source": []
  },
  {
   "cell_type": "code",
   "execution_count": null,
   "metadata": {},
   "outputs": [],
   "source": []
  },
  {
   "cell_type": "code",
   "execution_count": null,
   "metadata": {},
   "outputs": [],
   "source": []
  },
  {
   "cell_type": "code",
   "execution_count": null,
   "metadata": {},
   "outputs": [],
   "source": []
  },
  {
   "cell_type": "code",
   "execution_count": null,
   "metadata": {},
   "outputs": [],
   "source": []
  },
  {
   "cell_type": "code",
   "execution_count": null,
   "metadata": {},
   "outputs": [],
   "source": []
  },
  {
   "cell_type": "code",
   "execution_count": null,
   "metadata": {},
   "outputs": [],
   "source": []
  },
  {
   "cell_type": "code",
   "execution_count": null,
   "metadata": {},
   "outputs": [],
   "source": []
  },
  {
   "cell_type": "code",
   "execution_count": null,
   "metadata": {},
   "outputs": [],
   "source": []
  },
  {
   "cell_type": "code",
   "execution_count": null,
   "metadata": {},
   "outputs": [],
   "source": []
  },
  {
   "cell_type": "code",
   "execution_count": null,
   "metadata": {},
   "outputs": [],
   "source": []
  },
  {
   "cell_type": "code",
   "execution_count": null,
   "metadata": {},
   "outputs": [],
   "source": []
  },
  {
   "cell_type": "code",
   "execution_count": null,
   "metadata": {},
   "outputs": [],
   "source": []
  },
  {
   "cell_type": "code",
   "execution_count": null,
   "metadata": {},
   "outputs": [],
   "source": []
  },
  {
   "cell_type": "code",
   "execution_count": null,
   "metadata": {},
   "outputs": [],
   "source": []
  },
  {
   "cell_type": "code",
   "execution_count": null,
   "metadata": {},
   "outputs": [],
   "source": []
  },
  {
   "cell_type": "code",
   "execution_count": null,
   "metadata": {},
   "outputs": [],
   "source": []
  },
  {
   "cell_type": "code",
   "execution_count": null,
   "metadata": {},
   "outputs": [],
   "source": []
  },
  {
   "cell_type": "code",
   "execution_count": null,
   "metadata": {},
   "outputs": [],
   "source": []
  },
  {
   "cell_type": "code",
   "execution_count": null,
   "metadata": {},
   "outputs": [],
   "source": []
  },
  {
   "cell_type": "code",
   "execution_count": null,
   "metadata": {},
   "outputs": [],
   "source": []
  },
  {
   "cell_type": "code",
   "execution_count": null,
   "metadata": {},
   "outputs": [],
   "source": []
  },
  {
   "cell_type": "code",
   "execution_count": null,
   "metadata": {},
   "outputs": [],
   "source": []
  },
  {
   "cell_type": "markdown",
   "metadata": {},
   "source": [
    "### Seguranca"
   ]
  },
  {
   "cell_type": "markdown",
   "metadata": {},
   "source": [
    "#### atividade"
   ]
  },
  {
   "cell_type": "code",
   "execution_count": 3,
   "metadata": {},
   "outputs": [],
   "source": [
    "raw_path = 'data/seguranca/raw/atividade/'\n",
    "clean_path = 'data/seguranca/clean/atividade/'\n",
    "files = os.listdir(raw_path)\n",
    "\n",
    "\n",
    "ibge_code = pd.read_csv('data/seguranca/raw/ssp_codigo_ibge.csv')\n",
    "mes_dict = {\n",
    "    'Jan':1,\n",
    "    'Fev':2,\n",
    "    'Mar':3,\n",
    "    'Abr':4,\n",
    "    'Mai':5,\n",
    "    'Jun':6,\n",
    "    'Jul':7,\n",
    "    'Ago':8,\n",
    "    'Set':9,\n",
    "    'Out':10,\n",
    "    'Nov':11,\n",
    "    'Dez':12,\n",
    "}"
   ]
  },
  {
   "cell_type": "code",
   "execution_count": 4,
   "metadata": {},
   "outputs": [],
   "source": [
    "for file in files:\n",
    "    df = pd.read_csv(raw_path+file)\n",
    "    df = df.merge(ibge_code,on='municipio', how='inner')\n",
    "\n",
    "    df.columns = manipulation.normalize_cols(df.columns).str.replace('__','_')\n",
    "\n",
    "\n",
    "    df = df.rename(columns = \n",
    "                   {'ocorrencias_de_apreensao_de_entorpecentes1':'ocorrencias_de_apreensao_de_entorpecentes',\n",
    "                    'geocodigo':'id_municipio',\n",
    "                    'regiao':'regiao_ssp'\n",
    "                   }\n",
    "                  )\n",
    "    \n",
    "    df['id_estado'] = 35\n",
    "    cols = ['id_municipio','id_estado','ano', 'mes','regiao_ssp',\n",
    "           'ocorrencias_de_porte_de_entorpecentes',\n",
    "           'ocorrencias_de_trafico_de_entorpecentes',\n",
    "           'ocorrencias_de_apreensao_de_entorpecentes',\n",
    "           'ocorrencias_de_porte_ilegal_de_arma',\n",
    "           'no_de_armas_de_fogo_apreendidas', 'no_de_flagrantes_lavrados',\n",
    "           'no_de_infratores_apreendidos_em_flagrante',\n",
    "           'no_de_infratores_apreendidos_por_mandado',\n",
    "           'no_de_pessoas_presas_em_flagrante', 'no_de_pessoas_presas_por_mandado',\n",
    "           'no_de_prisoes_efetuadas', 'no_de_veiculos_recuperados',\n",
    "           'tot_de_inqueritos_policiais_instaurados']\n",
    "\n",
    "    df = df[cols]\n",
    "    df['mes'] = df['mes'].map(mes_dict)\n",
    "    \n",
    "    df.to_csv(clean_path+file, index=False, encoding='utf-8')"
   ]
  },
  {
   "cell_type": "code",
   "execution_count": 2,
   "metadata": {},
   "outputs": [],
   "source": [
    "tb = Table('produtividade_policial','br_sp_gov_ssp')"
   ]
  },
  {
   "cell_type": "code",
   "execution_count": 3,
   "metadata": {},
   "outputs": [],
   "source": [
    "# tb.create('data/seguranca/clean/atividade/',if_exists=\"replace\")"
   ]
  },
  {
   "cell_type": "code",
   "execution_count": 4,
   "metadata": {},
   "outputs": [],
   "source": [
    "tb.publish('replace')"
   ]
  },
  {
   "cell_type": "code",
   "execution_count": 5,
   "metadata": {},
   "outputs": [],
   "source": [
    "tb.update()"
   ]
  },
  {
   "cell_type": "code",
   "execution_count": null,
   "metadata": {},
   "outputs": [],
   "source": []
  },
  {
   "cell_type": "code",
   "execution_count": null,
   "metadata": {},
   "outputs": [],
   "source": []
  },
  {
   "cell_type": "code",
   "execution_count": null,
   "metadata": {},
   "outputs": [],
   "source": []
  },
  {
   "cell_type": "markdown",
   "metadata": {},
   "source": [
    "#### ocorrencias"
   ]
  },
  {
   "cell_type": "code",
   "execution_count": 6,
   "metadata": {},
   "outputs": [],
   "source": [
    "raw_path = 'data/seguranca/raw/ocorrencias/'\n",
    "clean_path = 'data/seguranca/clean/ocorrencias/'\n",
    "files = os.listdir(raw_path)\n",
    "\n",
    "\n",
    "ibge_code = pd.read_csv('data/seguranca/raw/ssp_codigo_ibge.csv')\n",
    "mes_dict = {\n",
    "    'Jan':1,\n",
    "    'Fev':2,\n",
    "    'Mar':3,\n",
    "    'Abr':4,\n",
    "    'Mai':5,\n",
    "    'Jun':6,\n",
    "    'Jul':7,\n",
    "    'Ago':8,\n",
    "    'Set':9,\n",
    "    'Out':10,\n",
    "    'Nov':11,\n",
    "    'Dez':12,\n",
    "}"
   ]
  },
  {
   "cell_type": "code",
   "execution_count": 7,
   "metadata": {},
   "outputs": [],
   "source": [
    "for file in files:\n",
    "    df = pd.read_csv(raw_path+file)\n",
    "    \n",
    "    df = df.merge(ibge_code,on='municipio', how='inner')\n",
    "\n",
    "    df.columns = manipulation.normalize_cols(df.columns).str.replace('__','_')\n",
    "\n",
    "    df = df.rename(columns = \n",
    "                   {'geocodigo':'id_municipio',\n",
    "                    'regiao':'regiao_ssp',\n",
    "                    'homicidio_doloso_2':'homicidio_doloso',\n",
    "                    'no_de_vitimas_em_homicidio_doloso_3':'no_de_vitimas_em_homicidio_doloso',\n",
    "                    'total_de_estupro_4':'total_de_estupro',\n",
    "                    'total_de_roubo_outros_1':'total_de_roubo_outros',\n",
    "    #                 '':'',\n",
    "    #                 '':'',\n",
    "                   }\n",
    "                  )\n",
    "    df['id_estado'] = 35\n",
    "    df['mes'] = df['mes'].map(mes_dict)\n",
    "\n",
    "    cols = ['id_municipio', 'id_estado', 'ano', 'mes', 'regiao_ssp',\n",
    "           'homicidio_doloso', 'no_de_vitimas_em_homicidio_doloso',\n",
    "           'homicidio_doloso_por_acidente_de_transito',\n",
    "           'no_de_vitimas_em_homicidio_doloso_por_acidente_de_transito',\n",
    "           'homicidio_culposo_por_acidente_de_transito',\n",
    "           'homicidio_culposo_outros', 'tentativa_de_homicidio',\n",
    "           'lesao_corporal_seguida_de_morte', 'lesao_corporal_dolosa',\n",
    "           'lesao_corporal_culposa_por_acidente_de_transito',\n",
    "           'lesao_corporal_culposa_outras', 'latrocinio',\n",
    "           'no_de_vitimas_em_latrocinio', 'total_de_estupro', 'estupro',\n",
    "           'estupro_de_vulneravel', 'total_de_roubo_outros', 'roubo_outros',\n",
    "           'roubo_de_veiculo', 'roubo_a_banco', 'roubo_de_carga', 'furto_outros',\n",
    "           'furto_de_veiculo']\n",
    "\n",
    "    df = df[cols]\n",
    "    \n",
    "    df.to_csv(clean_path+file, index=False, encoding='utf-8')"
   ]
  },
  {
   "cell_type": "code",
   "execution_count": 8,
   "metadata": {},
   "outputs": [],
   "source": [
    "tb = Table('ocorrecencias_registradas','br_sp_gov_ssp')"
   ]
  },
  {
   "cell_type": "code",
   "execution_count": 9,
   "metadata": {},
   "outputs": [
    {
     "name": "stderr",
     "output_type": "stream",
     "text": [
      "Uploading files: 100%|██████████| 19/19 [00:11<00:00,  1.68it/s]\n"
     ]
    }
   ],
   "source": [
    "tb.create('data/seguranca/clean/ocorrencias/',if_exists=\"replace\")"
   ]
  },
  {
   "cell_type": "code",
   "execution_count": 10,
   "metadata": {},
   "outputs": [],
   "source": [
    "tb.publish('replace')"
   ]
  },
  {
   "cell_type": "code",
   "execution_count": 11,
   "metadata": {},
   "outputs": [],
   "source": [
    "tb.update()"
   ]
  },
  {
   "cell_type": "code",
   "execution_count": null,
   "metadata": {},
   "outputs": [],
   "source": []
  },
  {
   "cell_type": "code",
   "execution_count": 12,
   "metadata": {},
   "outputs": [],
   "source": [
    "Dataset('br_sp_gov_ssp').update()"
   ]
  },
  {
   "cell_type": "code",
   "execution_count": 14,
   "metadata": {},
   "outputs": [
    {
     "ename": "AttributeError",
     "evalue": "'NoneType' object has no attribute 'replace'",
     "output_type": "error",
     "traceback": [
      "\u001b[0;31m---------------------------------------------------------------------------\u001b[0m",
      "\u001b[0;31mAttributeError\u001b[0m                            Traceback (most recent call last)",
      "\u001b[0;32m<ipython-input-14-f758bdcc9614>\u001b[0m in \u001b[0;36m<module>\u001b[0;34m\u001b[0m\n\u001b[0;32m----> 1\u001b[0;31m \u001b[0ms\u001b[0m \u001b[0;34m=\u001b[0m \u001b[0mStorage\u001b[0m\u001b[0;34m(\u001b[0m\u001b[0;34m'br_sp_ssp_seguranca'\u001b[0m\u001b[0;34m)\u001b[0m\u001b[0;34m\u001b[0m\u001b[0;34m\u001b[0m\u001b[0m\n\u001b[0m",
      "\u001b[0;32m~/anaconda3/lib/python3.8/site-packages/basedosdados/storage.py\u001b[0m in \u001b[0;36m__init__\u001b[0;34m(self, dataset_id, table_id, **kwargs)\u001b[0m\n\u001b[1;32m     12\u001b[0m         \u001b[0mself\u001b[0m\u001b[0;34m.\u001b[0m\u001b[0mbucket\u001b[0m \u001b[0;34m=\u001b[0m \u001b[0mself\u001b[0m\u001b[0;34m.\u001b[0m\u001b[0mclient\u001b[0m\u001b[0;34m[\u001b[0m\u001b[0;34m\"storage_staging\"\u001b[0m\u001b[0;34m]\u001b[0m\u001b[0;34m.\u001b[0m\u001b[0mbucket\u001b[0m\u001b[0;34m(\u001b[0m\u001b[0mself\u001b[0m\u001b[0;34m.\u001b[0m\u001b[0mbucket_name\u001b[0m\u001b[0;34m)\u001b[0m\u001b[0;34m\u001b[0m\u001b[0;34m\u001b[0m\u001b[0m\n\u001b[1;32m     13\u001b[0m         \u001b[0mself\u001b[0m\u001b[0;34m.\u001b[0m\u001b[0mdataset_id\u001b[0m \u001b[0;34m=\u001b[0m \u001b[0mdataset_id\u001b[0m\u001b[0;34m.\u001b[0m\u001b[0mreplace\u001b[0m\u001b[0;34m(\u001b[0m\u001b[0;34m\"-\"\u001b[0m\u001b[0;34m,\u001b[0m \u001b[0;34m\"_\"\u001b[0m\u001b[0;34m)\u001b[0m\u001b[0;34m\u001b[0m\u001b[0;34m\u001b[0m\u001b[0m\n\u001b[0;32m---> 14\u001b[0;31m         \u001b[0mself\u001b[0m\u001b[0;34m.\u001b[0m\u001b[0mtable_id\u001b[0m \u001b[0;34m=\u001b[0m \u001b[0mtable_id\u001b[0m\u001b[0;34m.\u001b[0m\u001b[0mreplace\u001b[0m\u001b[0;34m(\u001b[0m\u001b[0;34m\"-\"\u001b[0m\u001b[0;34m,\u001b[0m \u001b[0;34m\"_\"\u001b[0m\u001b[0;34m)\u001b[0m\u001b[0;34m\u001b[0m\u001b[0;34m\u001b[0m\u001b[0m\n\u001b[0m\u001b[1;32m     15\u001b[0m \u001b[0;34m\u001b[0m\u001b[0m\n\u001b[1;32m     16\u001b[0m     \u001b[0;32mdef\u001b[0m \u001b[0m_resolve_partitions\u001b[0m\u001b[0;34m(\u001b[0m\u001b[0mself\u001b[0m\u001b[0;34m,\u001b[0m \u001b[0mpartitions\u001b[0m\u001b[0;34m)\u001b[0m\u001b[0;34m:\u001b[0m\u001b[0;34m\u001b[0m\u001b[0;34m\u001b[0m\u001b[0m\n",
      "\u001b[0;31mAttributeError\u001b[0m: 'NoneType' object has no attribute 'replace'"
     ]
    }
   ],
   "source": [
    "s = Storage('br_sp_ssp_seguranca')"
   ]
  },
  {
   "cell_type": "code",
   "execution_count": null,
   "metadata": {},
   "outputs": [],
   "source": []
  },
  {
   "cell_type": "code",
   "execution_count": null,
   "metadata": {},
   "outputs": [],
   "source": []
  },
  {
   "cell_type": "code",
   "execution_count": null,
   "metadata": {},
   "outputs": [],
   "source": []
  },
  {
   "cell_type": "markdown",
   "metadata": {},
   "source": [
    "### Universidades"
   ]
  },
  {
   "cell_type": "code",
   "execution_count": 227,
   "metadata": {},
   "outputs": [],
   "source": [
    "raw_path = 'data/universidades/raw/'\n",
    "clean_path = 'data/universidades/clean/'\n",
    "files = os.listdir(raw_path)"
   ]
  },
  {
   "cell_type": "code",
   "execution_count": null,
   "metadata": {},
   "outputs": [],
   "source": []
  },
  {
   "cell_type": "code",
   "execution_count": null,
   "metadata": {},
   "outputs": [],
   "source": []
  },
  {
   "cell_type": "code",
   "execution_count": null,
   "metadata": {},
   "outputs": [],
   "source": []
  },
  {
   "cell_type": "code",
   "execution_count": null,
   "metadata": {},
   "outputs": [],
   "source": []
  },
  {
   "cell_type": "code",
   "execution_count": null,
   "metadata": {},
   "outputs": [],
   "source": []
  },
  {
   "cell_type": "code",
   "execution_count": null,
   "metadata": {},
   "outputs": [],
   "source": []
  },
  {
   "cell_type": "code",
   "execution_count": null,
   "metadata": {},
   "outputs": [],
   "source": []
  },
  {
   "cell_type": "code",
   "execution_count": null,
   "metadata": {},
   "outputs": [],
   "source": []
  },
  {
   "cell_type": "code",
   "execution_count": null,
   "metadata": {},
   "outputs": [],
   "source": []
  },
  {
   "cell_type": "code",
   "execution_count": null,
   "metadata": {},
   "outputs": [],
   "source": []
  },
  {
   "cell_type": "code",
   "execution_count": null,
   "metadata": {},
   "outputs": [],
   "source": []
  },
  {
   "cell_type": "code",
   "execution_count": null,
   "metadata": {},
   "outputs": [],
   "source": []
  },
  {
   "cell_type": "code",
   "execution_count": null,
   "metadata": {},
   "outputs": [],
   "source": []
  },
  {
   "cell_type": "code",
   "execution_count": null,
   "metadata": {},
   "outputs": [],
   "source": []
  },
  {
   "cell_type": "code",
   "execution_count": null,
   "metadata": {},
   "outputs": [],
   "source": []
  },
  {
   "cell_type": "code",
   "execution_count": null,
   "metadata": {},
   "outputs": [],
   "source": []
  },
  {
   "cell_type": "code",
   "execution_count": null,
   "metadata": {},
   "outputs": [],
   "source": []
  },
  {
   "cell_type": "code",
   "execution_count": null,
   "metadata": {},
   "outputs": [],
   "source": []
  },
  {
   "cell_type": "code",
   "execution_count": null,
   "metadata": {},
   "outputs": [],
   "source": []
  },
  {
   "cell_type": "markdown",
   "metadata": {},
   "source": [
    "## Downloads"
   ]
  },
  {
   "cell_type": "code",
   "execution_count": 29,
   "metadata": {},
   "outputs": [],
   "source": [
    "import basedosdados as bd"
   ]
  },
  {
   "cell_type": "code",
   "execution_count": 30,
   "metadata": {},
   "outputs": [],
   "source": [
    "query = \"\"\"\n",
    "                    SELECT *\n",
    "                    FROM  `basedosdados.br_sp_alesp.despesas_gabinete` LIMIT 10\n",
    "                    \"\"\""
   ]
  },
  {
   "cell_type": "code",
   "execution_count": null,
   "metadata": {},
   "outputs": [],
   "source": [
    "bd.download()"
   ]
  },
  {
   "cell_type": "code",
   "execution_count": 229,
   "metadata": {},
   "outputs": [
    {
     "name": "stderr",
     "output_type": "stream",
     "text": [
      "Downloading: 100%|██████████| 10/10 [00:04<00:00,  2.46rows/s]\n"
     ]
    },
    {
     "data": {
      "text/html": [
       "<div>\n",
       "<style scoped>\n",
       "    .dataframe tbody tr th:only-of-type {\n",
       "        vertical-align: middle;\n",
       "    }\n",
       "\n",
       "    .dataframe tbody tr th {\n",
       "        vertical-align: top;\n",
       "    }\n",
       "\n",
       "    .dataframe thead th {\n",
       "        text-align: right;\n",
       "    }\n",
       "</style>\n",
       "<table border=\"1\" class=\"dataframe\">\n",
       "  <thead>\n",
       "    <tr style=\"text-align: right;\">\n",
       "      <th></th>\n",
       "      <th>id_estado</th>\n",
       "      <th>ano</th>\n",
       "      <th>mes</th>\n",
       "      <th>matricula</th>\n",
       "      <th>deputado</th>\n",
       "      <th>cnpj</th>\n",
       "      <th>fornecedor</th>\n",
       "      <th>tipo</th>\n",
       "      <th>valor</th>\n",
       "    </tr>\n",
       "  </thead>\n",
       "  <tbody>\n",
       "    <tr>\n",
       "      <th>0</th>\n",
       "      <td>35</td>\n",
       "      <td>2002</td>\n",
       "      <td>3</td>\n",
       "      <td>300249</td>\n",
       "      <td>NEWTON BRANDÃO</td>\n",
       "      <td>5973844127</td>\n",
       "      <td>POSTO JARDIM DO SHOPPING LTA.</td>\n",
       "      <td>A - COMBUSTÍVEIS E LUBRIFICANTES</td>\n",
       "      <td>10</td>\n",
       "    </tr>\n",
       "    <tr>\n",
       "      <th>1</th>\n",
       "      <td>35</td>\n",
       "      <td>2002</td>\n",
       "      <td>3</td>\n",
       "      <td>300278</td>\n",
       "      <td>CELSO TANAUI</td>\n",
       "      <td>61736115</td>\n",
       "      <td>AUTO PODTO 800 LTDA</td>\n",
       "      <td>A - COMBUSTÍVEIS E LUBRIFICANTES</td>\n",
       "      <td>20</td>\n",
       "    </tr>\n",
       "    <tr>\n",
       "      <th>2</th>\n",
       "      <td>35</td>\n",
       "      <td>2002</td>\n",
       "      <td>3</td>\n",
       "      <td>300278</td>\n",
       "      <td>CELSO TANAUI</td>\n",
       "      <td>5817877142</td>\n",
       "      <td>AUTO SERVIÇO MONTE SERRAT LTDA</td>\n",
       "      <td>A - COMBUSTÍVEIS E LUBRIFICANTES</td>\n",
       "      <td>20</td>\n",
       "    </tr>\n",
       "    <tr>\n",
       "      <th>3</th>\n",
       "      <td>35</td>\n",
       "      <td>2002</td>\n",
       "      <td>3</td>\n",
       "      <td>300278</td>\n",
       "      <td>CELSO TANAUI</td>\n",
       "      <td>5776444187</td>\n",
       "      <td>GAVA &amp; FILHO LTDA</td>\n",
       "      <td>A - COMBUSTÍVEIS E LUBRIFICANTES</td>\n",
       "      <td>77</td>\n",
       "    </tr>\n",
       "    <tr>\n",
       "      <th>4</th>\n",
       "      <td>35</td>\n",
       "      <td>2002</td>\n",
       "      <td>3</td>\n",
       "      <td>300278</td>\n",
       "      <td>CELSO TANAUI</td>\n",
       "      <td>56824129</td>\n",
       "      <td>POSTO DE SERVIÇO SANTA TEREZINHA LTDA</td>\n",
       "      <td>A - COMBUSTÍVEIS E LUBRIFICANTES</td>\n",
       "      <td>87</td>\n",
       "    </tr>\n",
       "    <tr>\n",
       "      <th>5</th>\n",
       "      <td>35</td>\n",
       "      <td>2002</td>\n",
       "      <td>3</td>\n",
       "      <td>300278</td>\n",
       "      <td>CELSO TANAUI</td>\n",
       "      <td>51552167</td>\n",
       "      <td>AUTO POSTO SANTANA</td>\n",
       "      <td>A - COMBUSTÍVEIS E LUBRIFICANTES</td>\n",
       "      <td>78</td>\n",
       "    </tr>\n",
       "    <tr>\n",
       "      <th>6</th>\n",
       "      <td>35</td>\n",
       "      <td>2002</td>\n",
       "      <td>3</td>\n",
       "      <td>300278</td>\n",
       "      <td>CELSO TANAUI</td>\n",
       "      <td>52464961</td>\n",
       "      <td>POSTO DE SERVIÇO PAUMAR LTDA</td>\n",
       "      <td>A - COMBUSTÍVEIS E LUBRIFICANTES</td>\n",
       "      <td>72</td>\n",
       "    </tr>\n",
       "    <tr>\n",
       "      <th>7</th>\n",
       "      <td>35</td>\n",
       "      <td>2002</td>\n",
       "      <td>3</td>\n",
       "      <td>300278</td>\n",
       "      <td>CELSO TANAUI</td>\n",
       "      <td>49557335</td>\n",
       "      <td>SUPER POSTO FLOR DE GOIÁS</td>\n",
       "      <td>A - COMBUSTÍVEIS E LUBRIFICANTES</td>\n",
       "      <td>122</td>\n",
       "    </tr>\n",
       "    <tr>\n",
       "      <th>8</th>\n",
       "      <td>35</td>\n",
       "      <td>2002</td>\n",
       "      <td>3</td>\n",
       "      <td>300278</td>\n",
       "      <td>CELSO TANAUI</td>\n",
       "      <td>482184</td>\n",
       "      <td>DI-FLORENÇA DERIVADOS PETROLEO LTDA</td>\n",
       "      <td>A - COMBUSTÍVEIS E LUBRIFICANTES</td>\n",
       "      <td>10</td>\n",
       "    </tr>\n",
       "    <tr>\n",
       "      <th>9</th>\n",
       "      <td>35</td>\n",
       "      <td>2002</td>\n",
       "      <td>3</td>\n",
       "      <td>300278</td>\n",
       "      <td>CELSO TANAUI</td>\n",
       "      <td>46886186</td>\n",
       "      <td>LANCHES MARISTELA LTDA.</td>\n",
       "      <td>A - COMBUSTÍVEIS E LUBRIFICANTES</td>\n",
       "      <td>30</td>\n",
       "    </tr>\n",
       "  </tbody>\n",
       "</table>\n",
       "</div>"
      ],
      "text/plain": [
       "   id_estado   ano  mes matricula        deputado        cnpj  \\\n",
       "0         35  2002    3    300249  NEWTON BRANDÃO  5973844127   \n",
       "1         35  2002    3    300278    CELSO TANAUI    61736115   \n",
       "2         35  2002    3    300278    CELSO TANAUI  5817877142   \n",
       "3         35  2002    3    300278    CELSO TANAUI  5776444187   \n",
       "4         35  2002    3    300278    CELSO TANAUI    56824129   \n",
       "5         35  2002    3    300278    CELSO TANAUI    51552167   \n",
       "6         35  2002    3    300278    CELSO TANAUI    52464961   \n",
       "7         35  2002    3    300278    CELSO TANAUI    49557335   \n",
       "8         35  2002    3    300278    CELSO TANAUI      482184   \n",
       "9         35  2002    3    300278    CELSO TANAUI    46886186   \n",
       "\n",
       "                              fornecedor                              tipo  \\\n",
       "0          POSTO JARDIM DO SHOPPING LTA.  A - COMBUSTÍVEIS E LUBRIFICANTES   \n",
       "1                    AUTO PODTO 800 LTDA  A - COMBUSTÍVEIS E LUBRIFICANTES   \n",
       "2         AUTO SERVIÇO MONTE SERRAT LTDA  A - COMBUSTÍVEIS E LUBRIFICANTES   \n",
       "3                      GAVA & FILHO LTDA  A - COMBUSTÍVEIS E LUBRIFICANTES   \n",
       "4  POSTO DE SERVIÇO SANTA TEREZINHA LTDA  A - COMBUSTÍVEIS E LUBRIFICANTES   \n",
       "5                     AUTO POSTO SANTANA  A - COMBUSTÍVEIS E LUBRIFICANTES   \n",
       "6           POSTO DE SERVIÇO PAUMAR LTDA  A - COMBUSTÍVEIS E LUBRIFICANTES   \n",
       "7              SUPER POSTO FLOR DE GOIÁS  A - COMBUSTÍVEIS E LUBRIFICANTES   \n",
       "8    DI-FLORENÇA DERIVADOS PETROLEO LTDA  A - COMBUSTÍVEIS E LUBRIFICANTES   \n",
       "9                LANCHES MARISTELA LTDA.  A - COMBUSTÍVEIS E LUBRIFICANTES   \n",
       "\n",
       "   valor  \n",
       "0     10  \n",
       "1     20  \n",
       "2     20  \n",
       "3     77  \n",
       "4     87  \n",
       "5     78  \n",
       "6     72  \n",
       "7    122  \n",
       "8     10  \n",
       "9     30  "
      ]
     },
     "execution_count": 229,
     "metadata": {},
     "output_type": "execute_result"
    }
   ],
   "source": [
    "bd.read_sql(query)"
   ]
  },
  {
   "cell_type": "code",
   "execution_count": null,
   "metadata": {},
   "outputs": [],
   "source": []
  },
  {
   "cell_type": "code",
   "execution_count": null,
   "metadata": {},
   "outputs": [],
   "source": []
  },
  {
   "cell_type": "code",
   "execution_count": null,
   "metadata": {},
   "outputs": [],
   "source": []
  },
  {
   "cell_type": "code",
   "execution_count": 4,
   "metadata": {},
   "outputs": [
    {
     "name": "stderr",
     "output_type": "stream",
     "text": [
      "Downloading: 100%|██████████| 10/10 [00:03<00:00,  2.94rows/s]\n"
     ]
    }
   ],
   "source": [
    "df = bd.read_table('br_sp_ssp_seguranca','produtividade_policial', limit=10)"
   ]
  },
  {
   "cell_type": "code",
   "execution_count": 5,
   "metadata": {},
   "outputs": [
    {
     "data": {
      "text/html": [
       "<div>\n",
       "<style scoped>\n",
       "    .dataframe tbody tr th:only-of-type {\n",
       "        vertical-align: middle;\n",
       "    }\n",
       "\n",
       "    .dataframe tbody tr th {\n",
       "        vertical-align: top;\n",
       "    }\n",
       "\n",
       "    .dataframe thead th {\n",
       "        text-align: right;\n",
       "    }\n",
       "</style>\n",
       "<table border=\"1\" class=\"dataframe\">\n",
       "  <thead>\n",
       "    <tr style=\"text-align: right;\">\n",
       "      <th></th>\n",
       "      <th>id_municipio</th>\n",
       "      <th>id_estado</th>\n",
       "      <th>ano</th>\n",
       "      <th>mes</th>\n",
       "      <th>regiao_ssp</th>\n",
       "      <th>ocorrencias_de_porte_de_entorpecentes</th>\n",
       "      <th>ocorrencias_de_trafico_de_entorpecentes</th>\n",
       "      <th>ocorrencias_de_apreensao_de_entorpecentes</th>\n",
       "      <th>ocorrencias_de_porte_ilegal_de_arma</th>\n",
       "      <th>no_de_armas_de_fogo_apreendidas</th>\n",
       "      <th>no_de_flagrantes_lavrados</th>\n",
       "      <th>no_de_infratores_apreendidos_em_flagrante</th>\n",
       "      <th>no_de_infratores_apreendidos_por_mandado</th>\n",
       "      <th>no_de_pessoas_presas_em_flagrante</th>\n",
       "      <th>no_de_pessoas_presas_por_mandado</th>\n",
       "      <th>no_de_prisoes_efetuadas</th>\n",
       "      <th>no_de_veiculos_recuperados</th>\n",
       "      <th>tot_de_inqueritos_policiais_instaurados</th>\n",
       "    </tr>\n",
       "  </thead>\n",
       "  <tbody>\n",
       "    <tr>\n",
       "      <th>0</th>\n",
       "      <td>3500105</td>\n",
       "      <td>35</td>\n",
       "      <td>2003</td>\n",
       "      <td>1</td>\n",
       "      <td>Presidente Prudente</td>\n",
       "      <td>3</td>\n",
       "      <td>1</td>\n",
       "      <td>1</td>\n",
       "      <td>1</td>\n",
       "      <td>NaN</td>\n",
       "      <td>NaN</td>\n",
       "      <td>0</td>\n",
       "      <td>0</td>\n",
       "      <td>NaN</td>\n",
       "      <td>2</td>\n",
       "      <td>NaN</td>\n",
       "      <td>NaN</td>\n",
       "      <td>NaN</td>\n",
       "    </tr>\n",
       "    <tr>\n",
       "      <th>1</th>\n",
       "      <td>3500105</td>\n",
       "      <td>35</td>\n",
       "      <td>2003</td>\n",
       "      <td>2</td>\n",
       "      <td>Presidente Prudente</td>\n",
       "      <td>2</td>\n",
       "      <td>0</td>\n",
       "      <td>1</td>\n",
       "      <td>1</td>\n",
       "      <td>NaN</td>\n",
       "      <td>NaN</td>\n",
       "      <td>0</td>\n",
       "      <td>0</td>\n",
       "      <td>NaN</td>\n",
       "      <td>4</td>\n",
       "      <td>NaN</td>\n",
       "      <td>NaN</td>\n",
       "      <td>NaN</td>\n",
       "    </tr>\n",
       "    <tr>\n",
       "      <th>2</th>\n",
       "      <td>3500105</td>\n",
       "      <td>35</td>\n",
       "      <td>2003</td>\n",
       "      <td>3</td>\n",
       "      <td>Presidente Prudente</td>\n",
       "      <td>4</td>\n",
       "      <td>0</td>\n",
       "      <td>0</td>\n",
       "      <td>0</td>\n",
       "      <td>NaN</td>\n",
       "      <td>NaN</td>\n",
       "      <td>3</td>\n",
       "      <td>0</td>\n",
       "      <td>NaN</td>\n",
       "      <td>0</td>\n",
       "      <td>NaN</td>\n",
       "      <td>NaN</td>\n",
       "      <td>NaN</td>\n",
       "    </tr>\n",
       "    <tr>\n",
       "      <th>3</th>\n",
       "      <td>3500105</td>\n",
       "      <td>35</td>\n",
       "      <td>2003</td>\n",
       "      <td>4</td>\n",
       "      <td>Presidente Prudente</td>\n",
       "      <td>4</td>\n",
       "      <td>1</td>\n",
       "      <td>0</td>\n",
       "      <td>2</td>\n",
       "      <td>NaN</td>\n",
       "      <td>NaN</td>\n",
       "      <td>0</td>\n",
       "      <td>0</td>\n",
       "      <td>NaN</td>\n",
       "      <td>3</td>\n",
       "      <td>NaN</td>\n",
       "      <td>NaN</td>\n",
       "      <td>NaN</td>\n",
       "    </tr>\n",
       "    <tr>\n",
       "      <th>4</th>\n",
       "      <td>3500105</td>\n",
       "      <td>35</td>\n",
       "      <td>2003</td>\n",
       "      <td>5</td>\n",
       "      <td>Presidente Prudente</td>\n",
       "      <td>4</td>\n",
       "      <td>2</td>\n",
       "      <td>2</td>\n",
       "      <td>1</td>\n",
       "      <td>NaN</td>\n",
       "      <td>NaN</td>\n",
       "      <td>1</td>\n",
       "      <td>0</td>\n",
       "      <td>NaN</td>\n",
       "      <td>1</td>\n",
       "      <td>NaN</td>\n",
       "      <td>NaN</td>\n",
       "      <td>NaN</td>\n",
       "    </tr>\n",
       "    <tr>\n",
       "      <th>5</th>\n",
       "      <td>3500105</td>\n",
       "      <td>35</td>\n",
       "      <td>2003</td>\n",
       "      <td>6</td>\n",
       "      <td>Presidente Prudente</td>\n",
       "      <td>2</td>\n",
       "      <td>0</td>\n",
       "      <td>0</td>\n",
       "      <td>0</td>\n",
       "      <td>NaN</td>\n",
       "      <td>NaN</td>\n",
       "      <td>0</td>\n",
       "      <td>0</td>\n",
       "      <td>NaN</td>\n",
       "      <td>9</td>\n",
       "      <td>NaN</td>\n",
       "      <td>NaN</td>\n",
       "      <td>NaN</td>\n",
       "    </tr>\n",
       "    <tr>\n",
       "      <th>6</th>\n",
       "      <td>3500105</td>\n",
       "      <td>35</td>\n",
       "      <td>2003</td>\n",
       "      <td>7</td>\n",
       "      <td>Presidente Prudente</td>\n",
       "      <td>0</td>\n",
       "      <td>1</td>\n",
       "      <td>1</td>\n",
       "      <td>1</td>\n",
       "      <td>NaN</td>\n",
       "      <td>NaN</td>\n",
       "      <td>0</td>\n",
       "      <td>0</td>\n",
       "      <td>NaN</td>\n",
       "      <td>1</td>\n",
       "      <td>NaN</td>\n",
       "      <td>NaN</td>\n",
       "      <td>NaN</td>\n",
       "    </tr>\n",
       "    <tr>\n",
       "      <th>7</th>\n",
       "      <td>3500105</td>\n",
       "      <td>35</td>\n",
       "      <td>2003</td>\n",
       "      <td>8</td>\n",
       "      <td>Presidente Prudente</td>\n",
       "      <td>0</td>\n",
       "      <td>1</td>\n",
       "      <td>0</td>\n",
       "      <td>0</td>\n",
       "      <td>NaN</td>\n",
       "      <td>NaN</td>\n",
       "      <td>0</td>\n",
       "      <td>0</td>\n",
       "      <td>NaN</td>\n",
       "      <td>0</td>\n",
       "      <td>NaN</td>\n",
       "      <td>NaN</td>\n",
       "      <td>NaN</td>\n",
       "    </tr>\n",
       "    <tr>\n",
       "      <th>8</th>\n",
       "      <td>3500105</td>\n",
       "      <td>35</td>\n",
       "      <td>2003</td>\n",
       "      <td>9</td>\n",
       "      <td>Presidente Prudente</td>\n",
       "      <td>2</td>\n",
       "      <td>3</td>\n",
       "      <td>1</td>\n",
       "      <td>0</td>\n",
       "      <td>NaN</td>\n",
       "      <td>NaN</td>\n",
       "      <td>3</td>\n",
       "      <td>0</td>\n",
       "      <td>NaN</td>\n",
       "      <td>1</td>\n",
       "      <td>NaN</td>\n",
       "      <td>NaN</td>\n",
       "      <td>NaN</td>\n",
       "    </tr>\n",
       "    <tr>\n",
       "      <th>9</th>\n",
       "      <td>3500105</td>\n",
       "      <td>35</td>\n",
       "      <td>2003</td>\n",
       "      <td>10</td>\n",
       "      <td>Presidente Prudente</td>\n",
       "      <td>3</td>\n",
       "      <td>1</td>\n",
       "      <td>0</td>\n",
       "      <td>0</td>\n",
       "      <td>NaN</td>\n",
       "      <td>NaN</td>\n",
       "      <td>2</td>\n",
       "      <td>0</td>\n",
       "      <td>NaN</td>\n",
       "      <td>1</td>\n",
       "      <td>NaN</td>\n",
       "      <td>NaN</td>\n",
       "      <td>NaN</td>\n",
       "    </tr>\n",
       "  </tbody>\n",
       "</table>\n",
       "</div>"
      ],
      "text/plain": [
       "   id_municipio  id_estado   ano  mes           regiao_ssp  \\\n",
       "0       3500105         35  2003    1  Presidente Prudente   \n",
       "1       3500105         35  2003    2  Presidente Prudente   \n",
       "2       3500105         35  2003    3  Presidente Prudente   \n",
       "3       3500105         35  2003    4  Presidente Prudente   \n",
       "4       3500105         35  2003    5  Presidente Prudente   \n",
       "5       3500105         35  2003    6  Presidente Prudente   \n",
       "6       3500105         35  2003    7  Presidente Prudente   \n",
       "7       3500105         35  2003    8  Presidente Prudente   \n",
       "8       3500105         35  2003    9  Presidente Prudente   \n",
       "9       3500105         35  2003   10  Presidente Prudente   \n",
       "\n",
       "   ocorrencias_de_porte_de_entorpecentes  \\\n",
       "0                                      3   \n",
       "1                                      2   \n",
       "2                                      4   \n",
       "3                                      4   \n",
       "4                                      4   \n",
       "5                                      2   \n",
       "6                                      0   \n",
       "7                                      0   \n",
       "8                                      2   \n",
       "9                                      3   \n",
       "\n",
       "   ocorrencias_de_trafico_de_entorpecentes  \\\n",
       "0                                        1   \n",
       "1                                        0   \n",
       "2                                        0   \n",
       "3                                        1   \n",
       "4                                        2   \n",
       "5                                        0   \n",
       "6                                        1   \n",
       "7                                        1   \n",
       "8                                        3   \n",
       "9                                        1   \n",
       "\n",
       "   ocorrencias_de_apreensao_de_entorpecentes  \\\n",
       "0                                          1   \n",
       "1                                          1   \n",
       "2                                          0   \n",
       "3                                          0   \n",
       "4                                          2   \n",
       "5                                          0   \n",
       "6                                          1   \n",
       "7                                          0   \n",
       "8                                          1   \n",
       "9                                          0   \n",
       "\n",
       "   ocorrencias_de_porte_ilegal_de_arma  no_de_armas_de_fogo_apreendidas  \\\n",
       "0                                    1                              NaN   \n",
       "1                                    1                              NaN   \n",
       "2                                    0                              NaN   \n",
       "3                                    2                              NaN   \n",
       "4                                    1                              NaN   \n",
       "5                                    0                              NaN   \n",
       "6                                    1                              NaN   \n",
       "7                                    0                              NaN   \n",
       "8                                    0                              NaN   \n",
       "9                                    0                              NaN   \n",
       "\n",
       "   no_de_flagrantes_lavrados  no_de_infratores_apreendidos_em_flagrante  \\\n",
       "0                        NaN                                          0   \n",
       "1                        NaN                                          0   \n",
       "2                        NaN                                          3   \n",
       "3                        NaN                                          0   \n",
       "4                        NaN                                          1   \n",
       "5                        NaN                                          0   \n",
       "6                        NaN                                          0   \n",
       "7                        NaN                                          0   \n",
       "8                        NaN                                          3   \n",
       "9                        NaN                                          2   \n",
       "\n",
       "   no_de_infratores_apreendidos_por_mandado  \\\n",
       "0                                         0   \n",
       "1                                         0   \n",
       "2                                         0   \n",
       "3                                         0   \n",
       "4                                         0   \n",
       "5                                         0   \n",
       "6                                         0   \n",
       "7                                         0   \n",
       "8                                         0   \n",
       "9                                         0   \n",
       "\n",
       "   no_de_pessoas_presas_em_flagrante  no_de_pessoas_presas_por_mandado  \\\n",
       "0                                NaN                                 2   \n",
       "1                                NaN                                 4   \n",
       "2                                NaN                                 0   \n",
       "3                                NaN                                 3   \n",
       "4                                NaN                                 1   \n",
       "5                                NaN                                 9   \n",
       "6                                NaN                                 1   \n",
       "7                                NaN                                 0   \n",
       "8                                NaN                                 1   \n",
       "9                                NaN                                 1   \n",
       "\n",
       "   no_de_prisoes_efetuadas  no_de_veiculos_recuperados  \\\n",
       "0                      NaN                         NaN   \n",
       "1                      NaN                         NaN   \n",
       "2                      NaN                         NaN   \n",
       "3                      NaN                         NaN   \n",
       "4                      NaN                         NaN   \n",
       "5                      NaN                         NaN   \n",
       "6                      NaN                         NaN   \n",
       "7                      NaN                         NaN   \n",
       "8                      NaN                         NaN   \n",
       "9                      NaN                         NaN   \n",
       "\n",
       "   tot_de_inqueritos_policiais_instaurados  \n",
       "0                                      NaN  \n",
       "1                                      NaN  \n",
       "2                                      NaN  \n",
       "3                                      NaN  \n",
       "4                                      NaN  \n",
       "5                                      NaN  \n",
       "6                                      NaN  \n",
       "7                                      NaN  \n",
       "8                                      NaN  \n",
       "9                                      NaN  "
      ]
     },
     "execution_count": 5,
     "metadata": {},
     "output_type": "execute_result"
    }
   ],
   "source": [
    "df"
   ]
  },
  {
   "cell_type": "code",
   "execution_count": null,
   "metadata": {},
   "outputs": [],
   "source": []
  },
  {
   "cell_type": "code",
   "execution_count": null,
   "metadata": {},
   "outputs": [],
   "source": [
    "bd.download()"
   ]
  },
  {
   "cell_type": "code",
   "execution_count": null,
   "metadata": {},
   "outputs": [],
   "source": []
  },
  {
   "cell_type": "code",
   "execution_count": null,
   "metadata": {},
   "outputs": [],
   "source": []
  },
  {
   "cell_type": "code",
   "execution_count": null,
   "metadata": {},
   "outputs": [],
   "source": []
  },
  {
   "cell_type": "code",
   "execution_count": null,
   "metadata": {},
   "outputs": [],
   "source": []
  },
  {
   "cell_type": "code",
   "execution_count": null,
   "metadata": {},
   "outputs": [],
   "source": []
  },
  {
   "cell_type": "code",
   "execution_count": null,
   "metadata": {},
   "outputs": [],
   "source": []
  },
  {
   "cell_type": "code",
   "execution_count": null,
   "metadata": {},
   "outputs": [],
   "source": []
  },
  {
   "cell_type": "code",
   "execution_count": 31,
   "metadata": {},
   "outputs": [],
   "source": [
    "import pandas as pd"
   ]
  },
  {
   "cell_type": "code",
   "execution_count": 32,
   "metadata": {},
   "outputs": [
    {
     "ename": "UnicodeDecodeError",
     "evalue": "'utf-8' codec can't decode byte 0xe7 in position 9: invalid continuation byte",
     "output_type": "error",
     "traceback": [
      "\u001b[0;31m---------------------------------------------------------------------------\u001b[0m",
      "\u001b[0;31mUnicodeDecodeError\u001b[0m                        Traceback (most recent call last)",
      "\u001b[0;32m<ipython-input-32-3e6d9eb1fe9c>\u001b[0m in \u001b[0;36m<module>\u001b[0;34m\u001b[0m\n\u001b[0;32m----> 1\u001b[0;31m \u001b[0mdf\u001b[0m \u001b[0;34m=\u001b[0m \u001b[0mpd\u001b[0m\u001b[0;34m.\u001b[0m\u001b[0mread_csv\u001b[0m\u001b[0;34m(\u001b[0m\u001b[0;34m'/home/m/Downloads/RAIS_VINC_PUB_SP.txt'\u001b[0m\u001b[0;34m,\u001b[0m\u001b[0msep\u001b[0m\u001b[0;34m=\u001b[0m\u001b[0;34m';'\u001b[0m\u001b[0;34m,\u001b[0m\u001b[0mnrows\u001b[0m\u001b[0;34m=\u001b[0m\u001b[0;36m20\u001b[0m\u001b[0;34m)\u001b[0m\u001b[0;34m\u001b[0m\u001b[0;34m\u001b[0m\u001b[0m\n\u001b[0m",
      "\u001b[0;32m~/.local/lib/python3.8/site-packages/pandas/io/parsers.py\u001b[0m in \u001b[0;36mread_csv\u001b[0;34m(filepath_or_buffer, sep, delimiter, header, names, index_col, usecols, squeeze, prefix, mangle_dupe_cols, dtype, engine, converters, true_values, false_values, skipinitialspace, skiprows, skipfooter, nrows, na_values, keep_default_na, na_filter, verbose, skip_blank_lines, parse_dates, infer_datetime_format, keep_date_col, date_parser, dayfirst, cache_dates, iterator, chunksize, compression, thousands, decimal, lineterminator, quotechar, quoting, doublequote, escapechar, comment, encoding, dialect, error_bad_lines, warn_bad_lines, delim_whitespace, low_memory, memory_map, float_precision)\u001b[0m\n\u001b[1;32m    684\u001b[0m     )\n\u001b[1;32m    685\u001b[0m \u001b[0;34m\u001b[0m\u001b[0m\n\u001b[0;32m--> 686\u001b[0;31m     \u001b[0;32mreturn\u001b[0m \u001b[0m_read\u001b[0m\u001b[0;34m(\u001b[0m\u001b[0mfilepath_or_buffer\u001b[0m\u001b[0;34m,\u001b[0m \u001b[0mkwds\u001b[0m\u001b[0;34m)\u001b[0m\u001b[0;34m\u001b[0m\u001b[0;34m\u001b[0m\u001b[0m\n\u001b[0m\u001b[1;32m    687\u001b[0m \u001b[0;34m\u001b[0m\u001b[0m\n\u001b[1;32m    688\u001b[0m \u001b[0;34m\u001b[0m\u001b[0m\n",
      "\u001b[0;32m~/.local/lib/python3.8/site-packages/pandas/io/parsers.py\u001b[0m in \u001b[0;36m_read\u001b[0;34m(filepath_or_buffer, kwds)\u001b[0m\n\u001b[1;32m    450\u001b[0m \u001b[0;34m\u001b[0m\u001b[0m\n\u001b[1;32m    451\u001b[0m     \u001b[0;31m# Create the parser.\u001b[0m\u001b[0;34m\u001b[0m\u001b[0;34m\u001b[0m\u001b[0;34m\u001b[0m\u001b[0m\n\u001b[0;32m--> 452\u001b[0;31m     \u001b[0mparser\u001b[0m \u001b[0;34m=\u001b[0m \u001b[0mTextFileReader\u001b[0m\u001b[0;34m(\u001b[0m\u001b[0mfp_or_buf\u001b[0m\u001b[0;34m,\u001b[0m \u001b[0;34m**\u001b[0m\u001b[0mkwds\u001b[0m\u001b[0;34m)\u001b[0m\u001b[0;34m\u001b[0m\u001b[0;34m\u001b[0m\u001b[0m\n\u001b[0m\u001b[1;32m    453\u001b[0m \u001b[0;34m\u001b[0m\u001b[0m\n\u001b[1;32m    454\u001b[0m     \u001b[0;32mif\u001b[0m \u001b[0mchunksize\u001b[0m \u001b[0;32mor\u001b[0m \u001b[0miterator\u001b[0m\u001b[0;34m:\u001b[0m\u001b[0;34m\u001b[0m\u001b[0;34m\u001b[0m\u001b[0m\n",
      "\u001b[0;32m~/.local/lib/python3.8/site-packages/pandas/io/parsers.py\u001b[0m in \u001b[0;36m__init__\u001b[0;34m(self, f, engine, **kwds)\u001b[0m\n\u001b[1;32m    944\u001b[0m             \u001b[0mself\u001b[0m\u001b[0;34m.\u001b[0m\u001b[0moptions\u001b[0m\u001b[0;34m[\u001b[0m\u001b[0;34m\"has_index_names\"\u001b[0m\u001b[0;34m]\u001b[0m \u001b[0;34m=\u001b[0m \u001b[0mkwds\u001b[0m\u001b[0;34m[\u001b[0m\u001b[0;34m\"has_index_names\"\u001b[0m\u001b[0;34m]\u001b[0m\u001b[0;34m\u001b[0m\u001b[0;34m\u001b[0m\u001b[0m\n\u001b[1;32m    945\u001b[0m \u001b[0;34m\u001b[0m\u001b[0m\n\u001b[0;32m--> 946\u001b[0;31m         \u001b[0mself\u001b[0m\u001b[0;34m.\u001b[0m\u001b[0m_make_engine\u001b[0m\u001b[0;34m(\u001b[0m\u001b[0mself\u001b[0m\u001b[0;34m.\u001b[0m\u001b[0mengine\u001b[0m\u001b[0;34m)\u001b[0m\u001b[0;34m\u001b[0m\u001b[0;34m\u001b[0m\u001b[0m\n\u001b[0m\u001b[1;32m    947\u001b[0m \u001b[0;34m\u001b[0m\u001b[0m\n\u001b[1;32m    948\u001b[0m     \u001b[0;32mdef\u001b[0m \u001b[0mclose\u001b[0m\u001b[0;34m(\u001b[0m\u001b[0mself\u001b[0m\u001b[0;34m)\u001b[0m\u001b[0;34m:\u001b[0m\u001b[0;34m\u001b[0m\u001b[0;34m\u001b[0m\u001b[0m\n",
      "\u001b[0;32m~/.local/lib/python3.8/site-packages/pandas/io/parsers.py\u001b[0m in \u001b[0;36m_make_engine\u001b[0;34m(self, engine)\u001b[0m\n\u001b[1;32m   1176\u001b[0m     \u001b[0;32mdef\u001b[0m \u001b[0m_make_engine\u001b[0m\u001b[0;34m(\u001b[0m\u001b[0mself\u001b[0m\u001b[0;34m,\u001b[0m \u001b[0mengine\u001b[0m\u001b[0;34m=\u001b[0m\u001b[0;34m\"c\"\u001b[0m\u001b[0;34m)\u001b[0m\u001b[0;34m:\u001b[0m\u001b[0;34m\u001b[0m\u001b[0;34m\u001b[0m\u001b[0m\n\u001b[1;32m   1177\u001b[0m         \u001b[0;32mif\u001b[0m \u001b[0mengine\u001b[0m \u001b[0;34m==\u001b[0m \u001b[0;34m\"c\"\u001b[0m\u001b[0;34m:\u001b[0m\u001b[0;34m\u001b[0m\u001b[0;34m\u001b[0m\u001b[0m\n\u001b[0;32m-> 1178\u001b[0;31m             \u001b[0mself\u001b[0m\u001b[0;34m.\u001b[0m\u001b[0m_engine\u001b[0m \u001b[0;34m=\u001b[0m \u001b[0mCParserWrapper\u001b[0m\u001b[0;34m(\u001b[0m\u001b[0mself\u001b[0m\u001b[0;34m.\u001b[0m\u001b[0mf\u001b[0m\u001b[0;34m,\u001b[0m \u001b[0;34m**\u001b[0m\u001b[0mself\u001b[0m\u001b[0;34m.\u001b[0m\u001b[0moptions\u001b[0m\u001b[0;34m)\u001b[0m\u001b[0;34m\u001b[0m\u001b[0;34m\u001b[0m\u001b[0m\n\u001b[0m\u001b[1;32m   1179\u001b[0m         \u001b[0;32melse\u001b[0m\u001b[0;34m:\u001b[0m\u001b[0;34m\u001b[0m\u001b[0;34m\u001b[0m\u001b[0m\n\u001b[1;32m   1180\u001b[0m             \u001b[0;32mif\u001b[0m \u001b[0mengine\u001b[0m \u001b[0;34m==\u001b[0m \u001b[0;34m\"python\"\u001b[0m\u001b[0;34m:\u001b[0m\u001b[0;34m\u001b[0m\u001b[0;34m\u001b[0m\u001b[0m\n",
      "\u001b[0;32m~/.local/lib/python3.8/site-packages/pandas/io/parsers.py\u001b[0m in \u001b[0;36m__init__\u001b[0;34m(self, src, **kwds)\u001b[0m\n\u001b[1;32m   2006\u001b[0m         \u001b[0mkwds\u001b[0m\u001b[0;34m[\u001b[0m\u001b[0;34m\"usecols\"\u001b[0m\u001b[0;34m]\u001b[0m \u001b[0;34m=\u001b[0m \u001b[0mself\u001b[0m\u001b[0;34m.\u001b[0m\u001b[0musecols\u001b[0m\u001b[0;34m\u001b[0m\u001b[0;34m\u001b[0m\u001b[0m\n\u001b[1;32m   2007\u001b[0m \u001b[0;34m\u001b[0m\u001b[0m\n\u001b[0;32m-> 2008\u001b[0;31m         \u001b[0mself\u001b[0m\u001b[0;34m.\u001b[0m\u001b[0m_reader\u001b[0m \u001b[0;34m=\u001b[0m \u001b[0mparsers\u001b[0m\u001b[0;34m.\u001b[0m\u001b[0mTextReader\u001b[0m\u001b[0;34m(\u001b[0m\u001b[0msrc\u001b[0m\u001b[0;34m,\u001b[0m \u001b[0;34m**\u001b[0m\u001b[0mkwds\u001b[0m\u001b[0;34m)\u001b[0m\u001b[0;34m\u001b[0m\u001b[0;34m\u001b[0m\u001b[0m\n\u001b[0m\u001b[1;32m   2009\u001b[0m         \u001b[0mself\u001b[0m\u001b[0;34m.\u001b[0m\u001b[0munnamed_cols\u001b[0m \u001b[0;34m=\u001b[0m \u001b[0mself\u001b[0m\u001b[0;34m.\u001b[0m\u001b[0m_reader\u001b[0m\u001b[0;34m.\u001b[0m\u001b[0munnamed_cols\u001b[0m\u001b[0;34m\u001b[0m\u001b[0;34m\u001b[0m\u001b[0m\n\u001b[1;32m   2010\u001b[0m \u001b[0;34m\u001b[0m\u001b[0m\n",
      "\u001b[0;32mpandas/_libs/parsers.pyx\u001b[0m in \u001b[0;36mpandas._libs.parsers.TextReader.__cinit__\u001b[0;34m()\u001b[0m\n",
      "\u001b[0;32mpandas/_libs/parsers.pyx\u001b[0m in \u001b[0;36mpandas._libs.parsers.TextReader._get_header\u001b[0;34m()\u001b[0m\n",
      "\u001b[0;31mUnicodeDecodeError\u001b[0m: 'utf-8' codec can't decode byte 0xe7 in position 9: invalid continuation byte"
     ]
    }
   ],
   "source": [
    "df = pd.read_csv('/home/m/Downloads/RAIS_VINC_PUB_SP.txt',sep=';',nrows=20kkkk)"
   ]
  },
  {
   "cell_type": "code",
   "execution_count": null,
   "metadata": {},
   "outputs": [],
   "source": []
  },
  {
   "cell_type": "code",
   "execution_count": null,
   "metadata": {},
   "outputs": [],
   "source": []
  },
  {
   "cell_type": "code",
   "execution_count": null,
   "metadata": {},
   "outputs": [],
   "source": []
  },
  {
   "cell_type": "code",
   "execution_count": null,
   "metadata": {},
   "outputs": [],
   "source": []
  },
  {
   "cell_type": "code",
   "execution_count": null,
   "metadata": {},
   "outputs": [],
   "source": []
  },
  {
   "cell_type": "code",
   "execution_count": null,
   "metadata": {},
   "outputs": [],
   "source": []
  },
  {
   "cell_type": "code",
   "execution_count": null,
   "metadata": {},
   "outputs": [],
   "source": []
  },
  {
   "cell_type": "code",
   "execution_count": null,
   "metadata": {},
   "outputs": [],
   "source": []
  },
  {
   "cell_type": "code",
   "execution_count": null,
   "metadata": {},
   "outputs": [],
   "source": []
  },
  {
   "cell_type": "code",
   "execution_count": null,
   "metadata": {},
   "outputs": [],
   "source": []
  },
  {
   "cell_type": "code",
   "execution_count": null,
   "metadata": {},
   "outputs": [],
   "source": []
  },
  {
   "cell_type": "code",
   "execution_count": null,
   "metadata": {},
   "outputs": [],
   "source": []
  },
  {
   "cell_type": "code",
   "execution_count": null,
   "metadata": {},
   "outputs": [],
   "source": []
  },
  {
   "cell_type": "code",
   "execution_count": null,
   "metadata": {},
   "outputs": [],
   "source": []
  },
  {
   "cell_type": "code",
   "execution_count": null,
   "metadata": {},
   "outputs": [],
   "source": []
  },
  {
   "cell_type": "code",
   "execution_count": null,
   "metadata": {},
   "outputs": [],
   "source": []
  },
  {
   "cell_type": "code",
   "execution_count": null,
   "metadata": {},
   "outputs": [],
   "source": []
  },
  {
   "cell_type": "code",
   "execution_count": null,
   "metadata": {},
   "outputs": [],
   "source": []
  }
 ],
 "metadata": {
  "kernelspec": {
   "display_name": "Python 3",
   "language": "python",
   "name": "python3"
  },
  "language_info": {
   "codemirror_mode": {
    "name": "ipython",
    "version": 3
   },
   "file_extension": ".py",
   "mimetype": "text/x-python",
   "name": "python",
   "nbconvert_exporter": "python",
   "pygments_lexer": "ipython3",
   "version": "3.8.3"
  }
 },
 "nbformat": 4,
 "nbformat_minor": 4
}
