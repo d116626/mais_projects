{
 "cells": [
  {
   "cell_type": "code",
   "execution_count": 10,
   "metadata": {},
   "outputs": [
    {
     "ename": "ModuleNotFoundError",
     "evalue": "No module named 'manipulation'",
     "output_type": "error",
     "traceback": [
      "\u001b[0;31m---------------------------------------------------------------------------\u001b[0m",
      "\u001b[0;31mModuleNotFoundError\u001b[0m                       Traceback (most recent call last)",
      "\u001b[0;32m<ipython-input-10-5b803567d3a8>\u001b[0m in \u001b[0;36m<module>\u001b[0;34m\u001b[0m\n\u001b[1;32m     14\u001b[0m \u001b[0;32mfrom\u001b[0m \u001b[0mpaths\u001b[0m \u001b[0;32mimport\u001b[0m \u001b[0;34m*\u001b[0m\u001b[0;34m\u001b[0m\u001b[0;34m\u001b[0m\u001b[0m\n\u001b[1;32m     15\u001b[0m \u001b[0;32mfrom\u001b[0m \u001b[0mscpts\u001b[0m \u001b[0;32mimport\u001b[0m \u001b[0mmanipulation\u001b[0m\u001b[0;34m\u001b[0m\u001b[0;34m\u001b[0m\u001b[0m\n\u001b[0;32m---> 16\u001b[0;31m \u001b[0;32mfrom\u001b[0m \u001b[0mscpts\u001b[0m \u001b[0;32mimport\u001b[0m \u001b[0mio\u001b[0m\u001b[0;34m\u001b[0m\u001b[0;34m\u001b[0m\u001b[0m\n\u001b[0m\u001b[1;32m     17\u001b[0m \u001b[0;32mfrom\u001b[0m \u001b[0mscpts\u001b[0m \u001b[0;32mimport\u001b[0m \u001b[0mcaged\u001b[0m\u001b[0;34m\u001b[0m\u001b[0;34m\u001b[0m\u001b[0m\n\u001b[1;32m     18\u001b[0m \u001b[0;34m\u001b[0m\u001b[0m\n",
      "\u001b[0;32m/mnt/AEB0CCA7B0CC777D/Jlab/gabinete_sv/bd+/mais_projects/scpts/io.py\u001b[0m in \u001b[0;36m<module>\u001b[0;34m\u001b[0m\n\u001b[1;32m     20\u001b[0m \u001b[0mtoday\u001b[0m \u001b[0;34m=\u001b[0m \u001b[0mdatetime\u001b[0m\u001b[0;34m.\u001b[0m\u001b[0mtoday\u001b[0m\u001b[0;34m(\u001b[0m\u001b[0;34m)\u001b[0m\u001b[0;34m.\u001b[0m\u001b[0mstrftime\u001b[0m\u001b[0;34m(\u001b[0m\u001b[0;34m'%Y-%m-%d'\u001b[0m\u001b[0;34m)\u001b[0m\u001b[0;34m\u001b[0m\u001b[0;34m\u001b[0m\u001b[0m\n\u001b[1;32m     21\u001b[0m \u001b[0;34m\u001b[0m\u001b[0m\n\u001b[0;32m---> 22\u001b[0;31m \u001b[0;32mimport\u001b[0m \u001b[0mmanipulation\u001b[0m\u001b[0;34m\u001b[0m\u001b[0;34m\u001b[0m\u001b[0m\n\u001b[0m\u001b[1;32m     23\u001b[0m \u001b[0;34m\u001b[0m\u001b[0m\n\u001b[1;32m     24\u001b[0m \u001b[0;34m\u001b[0m\u001b[0m\n",
      "\u001b[0;31mModuleNotFoundError\u001b[0m: No module named 'manipulation'"
     ]
    }
   ],
   "source": [
    "%reload_ext autoreload\n",
    "%autoreload 2\n",
    "\n",
    "import warnings\n",
    "warnings.filterwarnings('ignore')\n",
    "\n",
    "import pandas as pd\n",
    "import numpy as np\n",
    "\n",
    "pd.options.display.max_columns = 999\n",
    "pd.options.display.max_rows = 1999\n",
    "pd.options.display.max_colwidth = 200\n",
    "\n",
    "from paths import *\n",
    "from scpts import manipulation\n",
    "from scpts import io\n",
    "from scpts import caged\n",
    "\n",
    "from basedosdados import Storage, Table, Dataset\n",
    "import basedosdados as bd\n"
   ]
  },
  {
   "cell_type": "code",
   "execution_count": 3,
   "metadata": {},
   "outputs": [],
   "source": []
  },
  {
   "cell_type": "code",
   "execution_count": null,
   "metadata": {},
   "outputs": [],
   "source": []
  },
  {
   "cell_type": "markdown",
   "metadata": {},
   "source": [
    "### Download Dados\n",
    " - ftp://ftp.mtps.gov.br/pdet/microdados/CAGED/"
   ]
  },
  {
   "cell_type": "code",
   "execution_count": null,
   "metadata": {},
   "outputs": [],
   "source": [
    "raw_path = '../data/caged/raw/'\n",
    "clean_path = '../data/caged/clean/'"
   ]
  },
  {
   "cell_type": "code",
   "execution_count": 3,
   "metadata": {},
   "outputs": [],
   "source": [
    "anos = [i for i in range(2007,2020)]\n",
    "meses= ['01', '02', '03', '04', '05', '06', '07', '08', '09', '10', '11', '12']"
   ]
  },
  {
   "cell_type": "code",
   "execution_count": 7,
   "metadata": {
    "scrolled": true
   },
   "outputs": [
    {
     "name": "stdout",
     "output_type": "stream",
     "text": [
      "01/2007 ja existe\n",
      "02/2007 ja existe\n",
      "03/2007 ja existe\n",
      "04/2007 ja existe\n",
      "05/2007 ja existe\n",
      "06/2007 ja existe\n",
      "07/2007 ja existe\n",
      "08/2007 ja existe\n",
      "09/2007 ja existe\n",
      "10/2007 ja existe\n",
      "11/2007 ja existe\n",
      "12/2007 ja existe\n",
      "01/2008 ja existe\n",
      "02/2008 ja existe\n",
      "03/2008 ja existe\n",
      "04/2008 ja existe\n",
      "05/2008 ja existe\n",
      "06/2008 ja existe\n",
      "07/2008 ja existe\n",
      "08/2008 ja existe\n",
      "09/2008 ja existe\n",
      "10/2008 ja existe\n",
      "11/2008 ja existe\n",
      "12/2008 ja existe\n",
      "01/2009 ja existe\n",
      "02/2009 ja existe\n",
      "03/2009 ja existe\n",
      "04/2009 ja existe\n",
      "05/2009 ja existe\n",
      "06/2009 ja existe\n",
      "07/2009 ja existe\n",
      "08/2009 ja existe\n",
      "09/2009 ja existe\n",
      "10/2009 ja existe\n",
      "11/2009 ja existe\n",
      "12/2009 ja existe\n",
      "01/2010 ja existe\n",
      "02/2010 ja existe\n",
      "03/2010 ja existe\n",
      "04/2010 ja existe\n",
      "05/2010 ja existe\n",
      "06/2010 ja existe\n",
      "07/2010 ja existe\n",
      "08/2010 ja existe\n",
      "09/2010 ja existe\n",
      "10/2010 ja existe\n",
      "11/2010 ja existe\n",
      "12/2010 ja existe\n",
      "01/2011 ja existe\n",
      "02/2011 ja existe\n",
      "03/2011 ja existe\n",
      "04/2011 ja existe\n",
      "05/2011 ja existe\n",
      "06/2011 ja existe\n",
      "07/2011 ja existe\n",
      "08/2011 ja existe\n",
      "09/2011 ja existe\n",
      "10/2011 ja existe\n",
      "11/2011 ja existe\n",
      "12/2011 ja existe\n",
      "01/2012 ja existe\n",
      "02/2012 ja existe\n",
      "03/2012 ja existe\n",
      "04/2012 ja existe\n",
      "05/2012 ja existe\n",
      "06/2012 ja existe\n",
      "07/2012 ja existe\n",
      "08/2012 ja existe\n",
      "09/2012 ja existe\n",
      "10/2012 ja existe\n",
      "11/2012 ja existe\n",
      "12/2012 ja existe\n",
      "01/2013 ja existe\n",
      "02/2013 ja existe\n",
      "03/2013 ja existe\n",
      "04/2013 ja existe\n",
      "05/2013 ja existe\n",
      "06/2013 ja existe\n",
      "07/2013 ja existe\n",
      "08/2013 ja existe\n",
      "09/2013 ja existe\n",
      "10/2013 ja existe\n",
      "11/2013 ja existe\n",
      "12/2013 ja existe\n",
      "01/2014 ja existe\n",
      "02/2014 ja existe\n",
      "03/2014 ja existe\n",
      "04/2014 ja existe\n",
      "05/2014 ja existe\n",
      "06/2014 ja existe\n",
      "07/2014 ja existe\n",
      "08/2014 ja existe\n",
      "09/2014 ja existe\n",
      "10/2014 ja existe\n",
      "11/2014 ja existe\n",
      "12/2014 ja existe\n",
      "01/2015 ja existe\n",
      "02/2015 ja existe\n",
      "03/2015 ja existe\n",
      "04/2015 ja existe\n",
      "05/2015 criado em 07:32\n",
      "06/2015 criado em 06:30\n",
      "07/2015 criado em 05:26\n",
      "08/2015 criado em 05:24\n",
      "09/2015 criado em 05:22\n",
      "10/2015 criado em 04:59\n",
      "11/2015 criado em 01:57\n",
      "12/2015 criado em 00:02\n",
      "01/2016 criado em 00:03\n",
      "02/2016 criado em 00:03\n",
      "03/2016 criado em 00:07\n",
      "04/2016 criado em 00:03\n",
      "05/2016 criado em 00:03\n",
      "06/2016 criado em 00:03\n",
      "07/2016 criado em 00:03\n",
      "08/2016 criado em 00:03\n",
      "09/2016 criado em 00:03\n",
      "10/2016 criado em 00:02\n",
      "11/2016 criado em 00:03\n",
      "12/2016 criado em 00:02\n",
      "01/2017 criado em 00:02\n",
      "02/2017 criado em 00:03\n",
      "03/2017 criado em 00:03\n",
      "04/2017 criado em 00:02\n",
      "05/2017 criado em 00:03\n",
      "06/2017 criado em 00:02\n",
      "07/2017 criado em 00:02\n",
      "08/2017 criado em 00:03\n",
      "09/2017 criado em 00:03\n",
      "10/2017 criado em 00:02\n",
      "11/2017 criado em 00:02\n",
      "12/2017 criado em 00:05\n",
      "01/2018 criado em 00:03\n",
      "02/2018 criado em 00:02\n",
      "03/2018 criado em 00:02\n",
      "04/2018 criado em 00:02\n",
      "05/2018 criado em 00:03\n",
      "06/2018 criado em 00:03\n",
      "07/2018 criado em 00:03\n",
      "08/2018 criado em 00:04\n",
      "09/2018 criado em 00:02\n",
      "10/2018 criado em 00:02\n",
      "11/2018 criado em 00:02\n",
      "12/2018 criado em 00:02\n",
      "01/2019 criado em 00:03\n",
      "02/2019 criado em 00:03\n",
      "03/2019 criado em 00:02\n",
      "04/2019 criado em 00:02\n",
      "05/2019 criado em 00:03\n",
      "06/2019 criado em 00:02\n",
      "07/2019 criado em 00:03\n",
      "08/2019 criado em 00:03\n",
      "09/2019 criado em 00:02\n",
      "10/2019 criado em 00:03\n",
      "11/2019 ja existe\n",
      "12/2019 ja existe\n"
     ]
    }
   ],
   "source": [
    "for ano in anos:\n",
    "    for mes in meses:\n",
    "        download_caged_file(ano,mes,raw_path)"
   ]
  },
  {
   "cell_type": "code",
   "execution_count": null,
   "metadata": {},
   "outputs": [],
   "source": []
  },
  {
   "cell_type": "code",
   "execution_count": null,
   "metadata": {},
   "outputs": [],
   "source": []
  },
  {
   "cell_type": "code",
   "execution_count": 5,
   "metadata": {},
   "outputs": [],
   "source": []
  },
  {
   "cell_type": "code",
   "execution_count": null,
   "metadata": {},
   "outputs": [],
   "source": []
  },
  {
   "cell_type": "markdown",
   "metadata": {},
   "source": [
    "### Padronizacao"
   ]
  },
  {
   "cell_type": "code",
   "execution_count": 76,
   "metadata": {},
   "outputs": [],
   "source": [
    "df = pd.read_csv('data/caged/raw/2007/12/CAGEDEST_122007.txt',\n",
    "                 sep=';', \n",
    "                 encoding='latin-1',\n",
    "                 nrows=1000\n",
    "                )\n",
    "df.columns = manipulation.normalize_cols(df.columns)\n"
   ]
  },
  {
   "cell_type": "code",
   "execution_count": 77,
   "metadata": {},
   "outputs": [],
   "source": [
    "obj_cols = df.loc[:, df.dtypes == object].columns.tolist()\n",
    "for col in obj_cols: \n",
    "    df[col] = df[col].astype(str).str.replace(\"{ñ cla\",'n class').str.replace(\"{ñ c\",'n class')"
   ]
  },
  {
   "cell_type": "code",
   "execution_count": null,
   "metadata": {},
   "outputs": [],
   "source": []
  },
  {
   "cell_type": "code",
   "execution_count": null,
   "metadata": {},
   "outputs": [],
   "source": []
  },
  {
   "cell_type": "code",
   "execution_count": 81,
   "metadata": {},
   "outputs": [],
   "source": [
    "dd = pd.read_csv('data/caged/raw/2019/12/CAGEDEST_122019.txt',\n",
    "                 sep=';', \n",
    "                 encoding='latin-1',\n",
    "                 nrows=1000\n",
    "                )\n",
    "dd.columns = manipulation.normalize_cols(dd.columns)\n"
   ]
  },
  {
   "cell_type": "code",
   "execution_count": 91,
   "metadata": {},
   "outputs": [
    {
     "data": {
      "text/plain": [
       "['ind_trab_parcial', 'ind_trab_intermitente']"
      ]
     },
     "execution_count": 91,
     "metadata": {},
     "output_type": "execute_result"
    }
   ],
   "source": [
    "[i for i in dd.columns if i not in df.columns]"
   ]
  },
  {
   "cell_type": "code",
   "execution_count": null,
   "metadata": {},
   "outputs": [],
   "source": []
  },
  {
   "cell_type": "code",
   "execution_count": null,
   "metadata": {},
   "outputs": [],
   "source": []
  },
  {
   "cell_type": "code",
   "execution_count": null,
   "metadata": {},
   "outputs": [],
   "source": []
  },
  {
   "cell_type": "code",
   "execution_count": null,
   "metadata": {},
   "outputs": [],
   "source": []
  },
  {
   "cell_type": "code",
   "execution_count": null,
   "metadata": {},
   "outputs": [],
   "source": []
  },
  {
   "cell_type": "code",
   "execution_count": null,
   "metadata": {},
   "outputs": [],
   "source": []
  },
  {
   "cell_type": "code",
   "execution_count": null,
   "metadata": {},
   "outputs": [],
   "source": []
  },
  {
   "cell_type": "code",
   "execution_count": null,
   "metadata": {},
   "outputs": [],
   "source": []
  },
  {
   "cell_type": "code",
   "execution_count": null,
   "metadata": {},
   "outputs": [],
   "source": []
  },
  {
   "cell_type": "code",
   "execution_count": null,
   "metadata": {},
   "outputs": [],
   "source": []
  },
  {
   "cell_type": "code",
   "execution_count": null,
   "metadata": {},
   "outputs": [],
   "source": []
  },
  {
   "cell_type": "code",
   "execution_count": null,
   "metadata": {},
   "outputs": [],
   "source": []
  },
  {
   "cell_type": "code",
   "execution_count": null,
   "metadata": {},
   "outputs": [],
   "source": []
  }
 ],
 "metadata": {
  "kernelspec": {
   "display_name": "Python 3",
   "language": "python",
   "name": "python3"
  },
  "language_info": {
   "codemirror_mode": {
    "name": "ipython",
    "version": 3
   },
   "file_extension": ".py",
   "mimetype": "text/x-python",
   "name": "python",
   "nbconvert_exporter": "python",
   "pygments_lexer": "ipython3",
   "version": "3.8.3"
  }
 },
 "nbformat": 4,
 "nbformat_minor": 4
}
