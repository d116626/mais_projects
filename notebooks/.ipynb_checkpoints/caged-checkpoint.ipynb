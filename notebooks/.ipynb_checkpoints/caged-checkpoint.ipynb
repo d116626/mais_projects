{
 "cells": [
  {
   "cell_type": "code",
   "execution_count": 1,
   "metadata": {},
   "outputs": [],
   "source": [
    "%reload_ext autoreload\n",
    "%autoreload 2\n",
    "\n",
    "import warnings\n",
    "warnings.filterwarnings('ignore')\n",
    "\n",
    "import pandas as pd\n",
    "import numpy as np\n",
    "\n",
    "pd.options.display.max_columns = 999\n",
    "pd.options.display.max_rows = 1999\n",
    "pd.options.display.max_colwidth = 200\n",
    "\n",
    "from paths import *\n",
    "from scpts import manipulation\n",
    "from scpts import io\n",
    "from scpts import caged\n",
    "\n",
    "from basedosdados import Storage, Table, Dataset\n",
    "import basedosdados as bd\n",
    "\n",
    "\n"
   ]
  },
  {
   "cell_type": "markdown",
   "metadata": {},
   "source": [
    "### Padronizacao"
   ]
  },
  {
   "cell_type": "markdown",
   "metadata": {},
   "source": [
    "- o arquivo CAGED_062012 teve troca de nome quando foi descompactado\n",
    "&nbsp;\n",
    "- Particao | ano=XXXX/mex=XX/sigla_uf=XX"
   ]
  },
  {
   "cell_type": "code",
   "execution_count": 3,
   "metadata": {},
   "outputs": [],
   "source": [
    "\n",
    "# ##--------------Download basedosdados---------------###\n",
    "# q_municipios = \"\"\"\n",
    "# SELECT id_municipio,id_municipio_6,sigla_uf\n",
    "# FROM `basedosdados.br_bd_diretorios_brasil.municipio`\n",
    "# \"\"\"\n",
    "# municipios = bd.read_sql(q_municipios, billing_project_id='gabinete-sv')\n",
    "# municipios.to_parquet(f'../data/caged/raw/municipios.parquet')\n"
   ]
  },
  {
   "cell_type": "code",
   "execution_count": 2,
   "metadata": {
    "scrolled": true
   },
   "outputs": [
    {
     "name": "stdout",
     "output_type": "stream",
     "text": [
      "2019-1 - movimentacao --> ja tratado\n",
      "\n",
      "2019-2 - movimentacao --> ja tratado\n",
      "\n",
      "2019-3 - movimentacao --> ja tratado\n",
      "\n",
      "2019-4 - movimentacao --> ja tratado\n",
      "\n",
      "2019-5 - movimentacao --> ja tratado\n",
      "\n",
      "2019-6 - movimentacao --> ja tratado\n",
      "\n",
      "2019-7 - movimentacao --> ja tratado\n",
      "\n",
      "2019-8 - movimentacao --> ja tratado\n",
      "\n",
      "2019-9 - movimentacao --> ja tratado\n",
      "\n",
      "2019-10 - movimentacao --> ja tratado\n",
      "\n",
      "2019-11 - movimentacao --> ja tratado\n",
      "\n",
      "2019-12 - movimentacao --> ja tratado\n",
      "\n",
      "2020-1 - estabelecimentos --> ja tratado\n",
      "\n",
      "2020-2 - estabelecimentos --> ja tratado\n",
      "\n",
      "2020-3 - estabelecimentos --> ja tratado\n",
      "\n",
      "2020-4 - estabelecimentos --> ja tratado\n",
      "\n",
      "2020-5 - estabelecimentos --> ja tratado\n",
      "\n",
      "2020-6 - estabelecimentos --> ja tratado\n",
      "\n",
      "2020-7 - estabelecimentos --> ja tratado\n",
      "\n",
      "2020-8 - estabelecimentos --> ja tratado\n",
      "\n",
      "2020-9 - estabelecimentos --> ja tratado\n",
      "\n",
      "2020-10 - estabelecimentos --> ja tratado\n",
      "\n",
      "2020-11 - estabelecimentos --> ja tratado\n",
      "\n",
      "2020-12 - estabelecimentos --> ja tratado\n",
      "\n",
      "2020-1 - movimentacao --> ja tratado\n",
      "\n",
      "2020-2 - movimentacao --> ja tratado\n",
      "\n",
      "2020-3 - movimentacao --> ja tratado\n",
      "\n",
      "2020-4 - movimentacao --> ja tratado\n",
      "\n",
      "2020-5 - movimentacao --> ja tratado\n",
      "\n",
      "2020-6 - movimentacao --> ja tratado\n",
      "\n",
      "2020-7 - movimentacao --> ja tratado\n",
      "\n",
      "2020-8 - movimentacao --> ja tratado\n",
      "\n",
      "2020-9 - movimentacao --> ja tratado\n",
      "\n",
      "2020-10 - movimentacao --> ja tratado\n",
      "\n",
      "2020-11 - movimentacao --> ja tratado\n",
      "\n",
      "2020-12 - movimentacao --> ja tratado\n",
      "\n"
     ]
    }
   ],
   "source": [
    "raw_path = '../data/caged/raw/'\n",
    "clean_path = '../data/caged/clean/'\n",
    "\n",
    "municipios = pd.read_parquet(f'{raw_path}municipios.parquet')\n",
    "\n",
    "# anos = [ano for ano in os.listdir(raw_path) if len(ano)==4]\n",
    "anos = [i for i in range(2019,2021)]\n",
    "all_cols = pd.DataFrame()\n",
    "\n",
    "for ano in anos:\n",
    "    options = os.listdir(raw_path + f\"{ano}\")\n",
    "    for option in options:\n",
    "        meses = os.listdir(raw_path + f\"{ano}/\" + f\"{option}/\")\n",
    "        meses = [int(m) for m in meses]\n",
    "        meses.sort()\n",
    "        meses = [str(m) for m in meses]\n",
    "        for mes in meses:\n",
    "            path_month = raw_path + f\"{ano}/\"+ f\"{option}/\" + f\"{int(mes)}/\"\n",
    "            # limpa residuo de arquivos inacabados\n",
    "            filename_7z = caged.get_file_names_and_clean_residues(path_month)\n",
    "            if ano>=2020:\n",
    "                clean_save_path = f\"{clean_path}/novo_caged/{option}/\"\n",
    "            else:\n",
    "                clean_save_path = f\"{clean_path}/antigo_caged/{option}/\"\n",
    "\n",
    "            ## verifica se o arquivo ja foi tratado\n",
    "            if os.path.exists(f'{clean_save_path}/ano={ano}/mes={mes}') and \\\n",
    "               len(os.listdir(f'{clean_save_path}/ano={ano}/mes={mes}'))==27:\n",
    "                print(f'{ano}-{mes} - {option} --> ja tratado\\n')\n",
    "                pass\n",
    "            else:\n",
    "                ## extrai o arquivo zipado, cria um novo arquivo .csv e deleta o arquivo extraido (.txt)\n",
    "                caged.extract_file(path_month,filename_7z,save_rows=None)\n",
    "                print(f'{ano}-{mes} - {option} --> extraido')\n",
    "\n",
    "                ## le o arquivo \n",
    "                filename = [file for file in os.listdir(path_month) if '.csv' in file][0][:-4]\n",
    "                df = pd.read_csv(f'{path_month}{filename}.csv')\n",
    "\n",
    "                ## renomeia colunas do novo caged\n",
    "                if ano >= 2020:\n",
    "                    df = caged.rename_novo_caged(df, option)\n",
    "\n",
    "                ### padronizacao dos dados\n",
    "                df = caged.padroniza_novo_caged(df,municipios)\n",
    "                print(f'{ano}-{mes} - {option} --> padronizado')\n",
    "                print(f'{ano}-{mes} - {option} -->',df['ano'].unique())\n",
    "                print(f'{ano}-{mes} - {option} -->',df['mes'].unique())\n",
    "\n",
    "                for uf in df.sigla_uf.unique():\n",
    "                    ## filtra apenas o estado de interesse\n",
    "                    df_uf = df[df['sigla_uf']==uf]\n",
    "                    ## exclui colunas particionadas\n",
    "                    df_uf = df_uf.drop(['ano','mes','sigla_uf'],1)\n",
    "                    ## cria estrutura de pastas\n",
    "                    path_uf = caged.make_folder_tree(clean_save_path ,ano,mes,uf)\n",
    "                        \n",
    "                    df_uf.to_csv(f'{path_uf}caged.csv', index=False)\n",
    "\n",
    "                ##remove arquivo csv do raw files\n",
    "                os.remove(f'{path_month}{filename}.csv')\n",
    "                print(f'{ano}-{mes} - {option} --> finalizado\\n')\n",
    "\n",
    "                #checa nome de todas as colunas\n",
    "                dd = pd.DataFrame(df.columns.tolist(),columns=['cols'])\n",
    "                dd = dd.transpose().reset_index(drop=True)\n",
    "                cols = dd.columns.tolist()\n",
    "                dd['ano']=ano\n",
    "                dd['mes']=mes\n",
    "                dd['option']=option\n",
    "\n",
    "                dd = dd[['ano','mes','option'] + cols]\n",
    "\n",
    "                all_cols = pd.concat([all_cols,dd])            "
   ]
  },
  {
   "cell_type": "code",
   "execution_count": null,
   "metadata": {},
   "outputs": [],
   "source": []
  },
  {
   "cell_type": "code",
   "execution_count": null,
   "metadata": {},
   "outputs": [],
   "source": []
  },
  {
   "cell_type": "markdown",
   "metadata": {},
   "source": [
    "### TO BD NOVO CAGED"
   ]
  },
  {
   "cell_type": "code",
   "execution_count": 23,
   "metadata": {},
   "outputs": [],
   "source": [
    "# microdados_novo_caged_vinculos e microdados_novo_caged_estabelecimentos\n",
    "tb = Table('microdados_novo_caged_movimentacoes','br_me_caged')"
   ]
  },
  {
   "cell_type": "code",
   "execution_count": 24,
   "metadata": {},
   "outputs": [],
   "source": [
    "# tb.create(\n",
    "#     path='../data/caged/clean/novo_caged/movimentacao/2020/',\n",
    "#     partitioned=True,\n",
    "#     force_dataset=False,\n",
    "#     if_exists='replace'\n",
    "# )"
   ]
  },
  {
   "cell_type": "code",
   "execution_count": 25,
   "metadata": {
    "scrolled": true
   },
   "outputs": [],
   "source": [
    "# for ano in range(2020,2021):\n",
    "#     tb.append(\n",
    "#         filepath=f'../data/caged/clean/novo_caged/movimentacao/{ano}/',\n",
    "#         partitions='ano=value/mes=value/sigla_uf=value',\n",
    "#         if_exists='replace'\n",
    "#     )\n",
    "#     print(f'{ano} done!\\n')"
   ]
  },
  {
   "cell_type": "code",
   "execution_count": 27,
   "metadata": {},
   "outputs": [],
   "source": [
    "# tb.publish(if_exists='replace')"
   ]
  },
  {
   "cell_type": "code",
   "execution_count": null,
   "metadata": {},
   "outputs": [],
   "source": []
  },
  {
   "cell_type": "code",
   "execution_count": null,
   "metadata": {},
   "outputs": [],
   "source": []
  },
  {
   "cell_type": "code",
   "execution_count": 28,
   "metadata": {},
   "outputs": [],
   "source": [
    "# microdados_novo_caged_vinculos e microdados_novo_caged_estabelecimentos\n",
    "tb = Table('microdados_novo_caged_estabelecimentos','br_me_caged')"
   ]
  },
  {
   "cell_type": "code",
   "execution_count": 29,
   "metadata": {},
   "outputs": [],
   "source": [
    "# tb.create(\n",
    "#     path='../data/caged/clean/novo_caged/estabelecimentos/2020/',\n",
    "#     partitioned=True,\n",
    "#     force_dataset=False,\n",
    "#     if_exists='replace'\n",
    "# )"
   ]
  },
  {
   "cell_type": "code",
   "execution_count": 30,
   "metadata": {
    "scrolled": true
   },
   "outputs": [],
   "source": [
    "# for ano in range(2020,2021):\n",
    "#     tb.append(\n",
    "#         filepath=f'../data/caged/clean/novo_caged/estabelecimentos/{ano}/',\n",
    "#         partitions='ano=value/mes=value/sigla_uf=value',\n",
    "#         if_exists='replace'\n",
    "#     )\n",
    "#     print(f'{ano} done!\\n')"
   ]
  },
  {
   "cell_type": "code",
   "execution_count": 32,
   "metadata": {},
   "outputs": [],
   "source": [
    "# tb.publish(if_exists='replace')"
   ]
  },
  {
   "cell_type": "code",
   "execution_count": null,
   "metadata": {},
   "outputs": [],
   "source": []
  },
  {
   "cell_type": "code",
   "execution_count": null,
   "metadata": {},
   "outputs": [],
   "source": []
  },
  {
   "cell_type": "markdown",
   "metadata": {},
   "source": [
    "### TO BD ANTIGO CAGED"
   ]
  },
  {
   "cell_type": "code",
   "execution_count": 46,
   "metadata": {},
   "outputs": [],
   "source": [
    "# microdados_novo_caged_vinculos e microdados_novo_caged_estabelecimentos\n",
    "tb = Table('microdados_caged','br_me_caged')"
   ]
  },
  {
   "cell_type": "code",
   "execution_count": 49,
   "metadata": {},
   "outputs": [
    {
     "name": "stderr",
     "output_type": "stream",
     "text": [
      "Uploading files: 100%|██████████| 1/1 [00:00<00:00,  1.07it/s]\n"
     ]
    }
   ],
   "source": [
    "tb.create(\n",
    "    path='../data/caged/clean/antigo_caged/movimentacao/2007/',\n",
    "    partitioned=True,\n",
    "    force_dataset=False,\n",
    "    if_exists='replace'\n",
    ")"
   ]
  },
  {
   "cell_type": "code",
   "execution_count": 39,
   "metadata": {
    "scrolled": true
   },
   "outputs": [],
   "source": [
    "# for ano in range(2008,2020):\n",
    "#     tb.append(\n",
    "#         filepath=f'../data/caged/clean/antigo_caged/movimentacao/{ano}/',\n",
    "#         partitions='ano=value/mes=value/sigla_uf=value',\n",
    "#         if_exists='replace'\n",
    "#     )\n",
    "#     print(f'{ano} done!\\n')"
   ]
  },
  {
   "cell_type": "code",
   "execution_count": 51,
   "metadata": {},
   "outputs": [],
   "source": [
    "# tb.publish(if_exists='replace')"
   ]
  },
  {
   "cell_type": "code",
   "execution_count": null,
   "metadata": {},
   "outputs": [],
   "source": []
  },
  {
   "cell_type": "code",
   "execution_count": null,
   "metadata": {},
   "outputs": [],
   "source": []
  },
  {
   "cell_type": "code",
   "execution_count": null,
   "metadata": {},
   "outputs": [],
   "source": []
  },
  {
   "cell_type": "markdown",
   "metadata": {},
   "source": [
    "### Download Dados\n",
    " - ftp://ftp.mtps.gov.br/pdet/microdados/CAGED/"
   ]
  },
  {
   "cell_type": "code",
   "execution_count": 7,
   "metadata": {
    "scrolled": true
   },
   "outputs": [
    {
     "name": "stdout",
     "output_type": "stream",
     "text": [
      "01/2007 ja existe\n",
      "02/2007 ja existe\n",
      "03/2007 ja existe\n",
      "04/2007 ja existe\n",
      "05/2007 ja existe\n",
      "06/2007 ja existe\n",
      "07/2007 ja existe\n",
      "08/2007 ja existe\n",
      "09/2007 ja existe\n",
      "10/2007 ja existe\n",
      "11/2007 ja existe\n",
      "12/2007 ja existe\n",
      "01/2008 ja existe\n",
      "02/2008 ja existe\n",
      "03/2008 ja existe\n",
      "04/2008 ja existe\n",
      "05/2008 ja existe\n",
      "06/2008 ja existe\n",
      "07/2008 ja existe\n",
      "08/2008 ja existe\n",
      "09/2008 ja existe\n",
      "10/2008 ja existe\n",
      "11/2008 ja existe\n",
      "12/2008 ja existe\n",
      "01/2009 ja existe\n",
      "02/2009 ja existe\n",
      "03/2009 ja existe\n",
      "04/2009 ja existe\n",
      "05/2009 ja existe\n",
      "06/2009 ja existe\n",
      "07/2009 ja existe\n",
      "08/2009 ja existe\n",
      "09/2009 ja existe\n",
      "10/2009 ja existe\n",
      "11/2009 ja existe\n",
      "12/2009 ja existe\n",
      "01/2010 ja existe\n",
      "02/2010 ja existe\n",
      "03/2010 ja existe\n",
      "04/2010 ja existe\n",
      "05/2010 ja existe\n",
      "06/2010 ja existe\n",
      "07/2010 ja existe\n",
      "08/2010 ja existe\n",
      "09/2010 ja existe\n",
      "10/2010 ja existe\n",
      "11/2010 ja existe\n",
      "12/2010 ja existe\n",
      "01/2011 ja existe\n",
      "02/2011 ja existe\n",
      "03/2011 ja existe\n",
      "04/2011 ja existe\n",
      "05/2011 ja existe\n",
      "06/2011 ja existe\n",
      "07/2011 ja existe\n",
      "08/2011 ja existe\n",
      "09/2011 ja existe\n",
      "10/2011 ja existe\n",
      "11/2011 ja existe\n",
      "12/2011 ja existe\n",
      "01/2012 ja existe\n",
      "02/2012 ja existe\n",
      "03/2012 ja existe\n",
      "04/2012 ja existe\n",
      "05/2012 ja existe\n",
      "06/2012 ja existe\n",
      "07/2012 ja existe\n",
      "08/2012 ja existe\n",
      "09/2012 ja existe\n",
      "10/2012 ja existe\n",
      "11/2012 ja existe\n",
      "12/2012 ja existe\n",
      "01/2013 ja existe\n",
      "02/2013 ja existe\n",
      "03/2013 ja existe\n",
      "04/2013 ja existe\n",
      "05/2013 ja existe\n",
      "06/2013 ja existe\n",
      "07/2013 ja existe\n",
      "08/2013 ja existe\n",
      "09/2013 ja existe\n",
      "10/2013 ja existe\n",
      "11/2013 ja existe\n",
      "12/2013 ja existe\n",
      "01/2014 ja existe\n",
      "02/2014 ja existe\n",
      "03/2014 ja existe\n",
      "04/2014 ja existe\n",
      "05/2014 ja existe\n",
      "06/2014 ja existe\n",
      "07/2014 ja existe\n",
      "08/2014 ja existe\n",
      "09/2014 ja existe\n",
      "10/2014 ja existe\n",
      "11/2014 ja existe\n",
      "12/2014 ja existe\n",
      "01/2015 ja existe\n",
      "02/2015 ja existe\n",
      "03/2015 ja existe\n",
      "04/2015 ja existe\n",
      "05/2015 criado em 07:32\n",
      "06/2015 criado em 06:30\n",
      "07/2015 criado em 05:26\n",
      "08/2015 criado em 05:24\n",
      "09/2015 criado em 05:22\n",
      "10/2015 criado em 04:59\n",
      "11/2015 criado em 01:57\n",
      "12/2015 criado em 00:02\n",
      "01/2016 criado em 00:03\n",
      "02/2016 criado em 00:03\n",
      "03/2016 criado em 00:07\n",
      "04/2016 criado em 00:03\n",
      "05/2016 criado em 00:03\n",
      "06/2016 criado em 00:03\n",
      "07/2016 criado em 00:03\n",
      "08/2016 criado em 00:03\n",
      "09/2016 criado em 00:03\n",
      "10/2016 criado em 00:02\n",
      "11/2016 criado em 00:03\n",
      "12/2016 criado em 00:02\n",
      "01/2017 criado em 00:02\n",
      "02/2017 criado em 00:03\n",
      "03/2017 criado em 00:03\n",
      "04/2017 criado em 00:02\n",
      "05/2017 criado em 00:03\n",
      "06/2017 criado em 00:02\n",
      "07/2017 criado em 00:02\n",
      "08/2017 criado em 00:03\n",
      "09/2017 criado em 00:03\n",
      "10/2017 criado em 00:02\n",
      "11/2017 criado em 00:02\n",
      "12/2017 criado em 00:05\n",
      "01/2018 criado em 00:03\n",
      "02/2018 criado em 00:02\n",
      "03/2018 criado em 00:02\n",
      "04/2018 criado em 00:02\n",
      "05/2018 criado em 00:03\n",
      "06/2018 criado em 00:03\n",
      "07/2018 criado em 00:03\n",
      "08/2018 criado em 00:04\n",
      "09/2018 criado em 00:02\n",
      "10/2018 criado em 00:02\n",
      "11/2018 criado em 00:02\n",
      "12/2018 criado em 00:02\n",
      "01/2019 criado em 00:03\n",
      "02/2019 criado em 00:03\n",
      "03/2019 criado em 00:02\n",
      "04/2019 criado em 00:02\n",
      "05/2019 criado em 00:03\n",
      "06/2019 criado em 00:02\n",
      "07/2019 criado em 00:03\n",
      "08/2019 criado em 00:03\n",
      "09/2019 criado em 00:02\n",
      "10/2019 criado em 00:03\n",
      "11/2019 ja existe\n",
      "12/2019 ja existe\n"
     ]
    }
   ],
   "source": [
    "raw_path = '../data/caged/raw/'\n",
    "clean_path = '../data/caged/clean/'\n",
    "\n",
    "anos = [i for i in range(2009,2020)]\n",
    "meses= ['01', '02', '03', '04', '05', '06', '07', '08', '09', '10', '11', '12']\n",
    "\n",
    "for ano in anos:\n",
    "    for mes in meses:\n",
    "        caged.download_caged_file(ano,mes,raw_path)"
   ]
  },
  {
   "cell_type": "code",
   "execution_count": null,
   "metadata": {},
   "outputs": [],
   "source": []
  },
  {
   "cell_type": "code",
   "execution_count": null,
   "metadata": {},
   "outputs": [],
   "source": []
  },
  {
   "cell_type": "code",
   "execution_count": null,
   "metadata": {},
   "outputs": [],
   "source": []
  },
  {
   "cell_type": "code",
   "execution_count": null,
   "metadata": {},
   "outputs": [],
   "source": []
  },
  {
   "cell_type": "code",
   "execution_count": null,
   "metadata": {},
   "outputs": [],
   "source": []
  },
  {
   "cell_type": "code",
   "execution_count": null,
   "metadata": {},
   "outputs": [],
   "source": []
  },
  {
   "cell_type": "code",
   "execution_count": null,
   "metadata": {},
   "outputs": [],
   "source": []
  },
  {
   "cell_type": "code",
   "execution_count": null,
   "metadata": {},
   "outputs": [],
   "source": []
  },
  {
   "cell_type": "code",
   "execution_count": null,
   "metadata": {},
   "outputs": [],
   "source": []
  },
  {
   "cell_type": "code",
   "execution_count": null,
   "metadata": {},
   "outputs": [],
   "source": []
  },
  {
   "cell_type": "code",
   "execution_count": null,
   "metadata": {},
   "outputs": [],
   "source": []
  },
  {
   "cell_type": "code",
   "execution_count": null,
   "metadata": {},
   "outputs": [],
   "source": []
  },
  {
   "cell_type": "code",
   "execution_count": null,
   "metadata": {},
   "outputs": [],
   "source": []
  },
  {
   "cell_type": "code",
   "execution_count": null,
   "metadata": {},
   "outputs": [],
   "source": []
  },
  {
   "cell_type": "code",
   "execution_count": null,
   "metadata": {},
   "outputs": [],
   "source": []
  },
  {
   "cell_type": "code",
   "execution_count": null,
   "metadata": {},
   "outputs": [],
   "source": []
  },
  {
   "cell_type": "code",
   "execution_count": null,
   "metadata": {},
   "outputs": [],
   "source": []
  },
  {
   "cell_type": "code",
   "execution_count": null,
   "metadata": {},
   "outputs": [],
   "source": []
  },
  {
   "cell_type": "code",
   "execution_count": null,
   "metadata": {},
   "outputs": [],
   "source": []
  },
  {
   "cell_type": "code",
   "execution_count": null,
   "metadata": {},
   "outputs": [],
   "source": []
  },
  {
   "cell_type": "code",
   "execution_count": null,
   "metadata": {},
   "outputs": [],
   "source": []
  },
  {
   "cell_type": "code",
   "execution_count": null,
   "metadata": {},
   "outputs": [],
   "source": []
  },
  {
   "cell_type": "code",
   "execution_count": null,
   "metadata": {},
   "outputs": [],
   "source": []
  },
  {
   "cell_type": "code",
   "execution_count": null,
   "metadata": {},
   "outputs": [],
   "source": []
  },
  {
   "cell_type": "code",
   "execution_count": null,
   "metadata": {},
   "outputs": [],
   "source": []
  },
  {
   "cell_type": "code",
   "execution_count": null,
   "metadata": {},
   "outputs": [],
   "source": []
  },
  {
   "cell_type": "code",
   "execution_count": null,
   "metadata": {},
   "outputs": [],
   "source": []
  },
  {
   "cell_type": "code",
   "execution_count": null,
   "metadata": {},
   "outputs": [],
   "source": []
  },
  {
   "cell_type": "code",
   "execution_count": null,
   "metadata": {},
   "outputs": [],
   "source": []
  },
  {
   "cell_type": "code",
   "execution_count": null,
   "metadata": {},
   "outputs": [],
   "source": []
  },
  {
   "cell_type": "code",
   "execution_count": null,
   "metadata": {},
   "outputs": [],
   "source": []
  },
  {
   "cell_type": "code",
   "execution_count": null,
   "metadata": {},
   "outputs": [],
   "source": []
  },
  {
   "cell_type": "code",
   "execution_count": null,
   "metadata": {},
   "outputs": [],
   "source": []
  },
  {
   "cell_type": "code",
   "execution_count": null,
   "metadata": {},
   "outputs": [],
   "source": []
  }
 ],
 "metadata": {
  "kernelspec": {
   "display_name": "Python 3",
   "language": "python",
   "name": "python3"
  },
  "language_info": {
   "codemirror_mode": {
    "name": "ipython",
    "version": 3
   },
   "file_extension": ".py",
   "mimetype": "text/x-python",
   "name": "python",
   "nbconvert_exporter": "python",
   "pygments_lexer": "ipython3",
   "version": "3.8.3"
  }
 },
 "nbformat": 4,
 "nbformat_minor": 4
}
