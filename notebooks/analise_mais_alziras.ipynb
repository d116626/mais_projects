{
 "cells": [
  {
   "cell_type": "markdown",
   "metadata": {},
   "source": [
    "# Import modules"
   ]
  },
  {
   "cell_type": "code",
   "execution_count": 3,
   "metadata": {},
   "outputs": [],
   "source": [
    "%reload_ext autoreload\n",
    "%autoreload 2\n",
    "\n",
    "import pandas as pd\n",
    "import numpy as np\n",
    "\n",
    "pd.options.display.max_columns = 999\n",
    "pd.options.display.max_rows = 1999\n",
    "# pd.set_option('display.max_colwidth', -1)\n",
    "\n",
    "import warnings\n",
    "warnings.filterwarnings('ignore')\n",
    "\n",
    "import os\n",
    "import sys\n",
    "sys.path.insert(0, '../')\n",
    "from scpts import alziras\n",
    "\n",
    "import basedosdados as bd\n",
    "\n",
    "out_path = '../data/analise/mais/alziras/output/'\n",
    "in_path  = '../data/analise/mais/alziras/input/'"
   ]
  },
  {
   "cell_type": "markdown",
   "metadata": {},
   "source": [
    "### Download do basedosdados"
   ]
  },
  {
   "cell_type": "code",
   "execution_count": 4,
   "metadata": {},
   "outputs": [
    {
     "name": "stderr",
     "output_type": "stream",
     "text": [
      "Downloading: 100%|██████████| 965432/965432 [00:13<00:00, 69390.11rows/s] \n"
     ]
    }
   ],
   "source": [
    "# ##-----------------------------###\n",
    "# q_municipios = \"\"\"\n",
    "# SELECT id_municipio,id_municipio_tse,municipio,regiao\n",
    "# FROM `basedosdados.br_bd_diretorios_brasil.municipio`\n",
    "# \"\"\"\n",
    "# municipios = bd.read_sql(q_municipios, billing_project_id=\"basedosdados-dev\")\n",
    "# municipios.to_parquet(f\"{in_path}municipios.parquet\")\n",
    "\n",
    "# ## Descomentar para rodar\n",
    "\n",
    "q_resultado_candidatos = \"\"\"\n",
    "SELECT * FROM `basedosdados.br_tse_eleicoes.resultados_candidato` \n",
    "where (ano=2016 or ano=2020)\n",
    "\"\"\"\n",
    "re_secao = bd.read_sql(q_resultado_candidatos, billing_project_id=\"basedosdados-dev\")\n",
    "re_secao.to_parquet(f\"{in_path}resultado_candidatos.parquet\")\n",
    "\n",
    "# ###-----------------------------###\n",
    "# q_candidatos = \"\"\"\n",
    "# SELECT * FROM `basedosdados.br_tse_eleicoes.candidatos`\n",
    "# where (ano=2016 or ano=2020) \n",
    "# \"\"\"\n",
    "# candidatos_capitais = bd.read_sql(q_candidatos, billing_project_id=\"basedosdados-dev\")\n",
    "# candidatos_capitais.to_parquet(f\"{in_path}candidatos.parquet\")\n",
    "\n",
    "# ##-----------------------------###\n",
    "# q_municipios = \"\"\"\n",
    "# SELECT id_municipio,id_municipio_tse,municipio,regiao\n",
    "# FROM `basedosdados.br_bd_diretorios_brasil.municipio`\n",
    "# \"\"\"\n",
    "# municipios = bd.read_sql(q_municipios, billing_project_id=\"basedosdados-dev\")\n",
    "# municipios.to_parquet(f\"{in_path}municipios.parquet\")\n",
    "\n",
    "# ##-----------------------------###\n",
    "# q_municipios_pib = \"\"\"\n",
    "# with pib_municipios as (\n",
    "# select id_municipio,ano,PIB\n",
    "# from `basedosdados.br_ibge_pib.municipios`\n",
    "# where(ano=2016 or ano=2018)\n",
    "# ),\n",
    "\n",
    "# municipios_pop as (\n",
    "# select *\n",
    "# from `basedosdados.br_ibge_populacao.municipios`\n",
    "# where(ano=2016 or ano=2018)\n",
    "# )\n",
    "\n",
    "# select * from pib_municipios\n",
    "# join municipios_pop on (municipios_pop.id_municipio = pib_municipios.id_municipio) and (municipios_pop.ano = pib_municipios.ano)\n",
    "# \"\"\"\n",
    "# pib_municipios = bd.read_sql(q_municipios_pib, billing_project_id=\"basedosdados-dev\").drop([\"id_municipio_1\", \"ano_1\"], 1)\n",
    "# pib_municipios.to_parquet(f\"{in_path}municipios_pib.parquet\")\n",
    "\n",
    "# q_bens_candidato = \"\"\"\n",
    "# SELECT * FROM `basedosdados.br_tse_eleicoes.bens_candidato`\n",
    "# where (ano=2016 or ano=2020)\n",
    "# \"\"\"\n",
    "# besn = bd.read_sql(q_bens_candidato, billing_project_id=\"basedosdados-dev\")\n",
    "# besn.to_parquet(f\"{in_path}bens_candidato.parquet\")\n",
    "\n",
    "# q_receita_candidatos = \"\"\"\n",
    "# SELECT * FROM `basedosdados-dev.br_tse_eleicoes.receitas_candidato`\n",
    "# where (ano=2016 or ano=2020)\n",
    "# \"\"\"\n",
    "# receita = bd.read_sql(q_receita_candidatos, billing_project_id=\"basedosdados-dev\")\n",
    "# receita.to_parquet(f\"{in_path}receita_candidatos.parquet\")\n",
    "\n",
    "# q_despesa_candidatos = \"\"\"\n",
    "# SELECT * FROM `basedosdados-dev.br_tse_eleicoes.despesas_candidato`\n",
    "# where (ano=2016 or ano=2020)\n",
    "# \"\"\"\n",
    "# despesa = bd.read_sql(q_despesa_candidatos, billing_project_id=\"basedosdados-dev\")\n",
    "# despesa.to_parquet(f\"{in_path}despesa_candidatos.parquet\")\n"
   ]
  },
  {
   "cell_type": "code",
   "execution_count": null,
   "metadata": {},
   "outputs": [],
   "source": []
  },
  {
   "cell_type": "markdown",
   "metadata": {},
   "source": [
    "# Prefeitas e Vereadoras"
   ]
  },
  {
   "cell_type": "markdown",
   "metadata": {},
   "source": [
    "### Import Data"
   ]
  },
  {
   "cell_type": "code",
   "execution_count": 5,
   "metadata": {},
   "outputs": [],
   "source": [
    "cadidato_resultado = pd.read_parquet(f\"{in_path}resultado_candidatos.parquet\")\n",
    "candidatos = pd.read_parquet(f\"{in_path}candidatos.parquet\")\n",
    "municipios = pd.read_parquet(f\"{in_path}/municipios.parquet\")\n",
    "pib_municipios = pd.read_parquet(f\"{in_path}municipios_pib.parquet\")"
   ]
  },
  {
   "cell_type": "code",
   "execution_count": 6,
   "metadata": {},
   "outputs": [],
   "source": [
    "cadidato_resultado['id_municipio_tse'] = cadidato_resultado['id_municipio_tse'].astype('str')\n",
    "candidatos['id_municipio_tse'] = candidatos['id_municipio_tse'].astype('str')\n",
    "pib_municipios['id_municipio'] = pib_municipios['id_municipio'].astype('str')"
   ]
  },
  {
   "cell_type": "code",
   "execution_count": 7,
   "metadata": {},
   "outputs": [],
   "source": [
    "final_table = alziras.get_final_table(\n",
    "    cadidato_resultado, candidatos, municipios, pib_municipios\n",
    ")"
   ]
  },
  {
   "cell_type": "code",
   "execution_count": 8,
   "metadata": {},
   "outputs": [],
   "source": [
    "# mask = final_table['municipio']=='Manaus'\n",
    "# final_table[mask]"
   ]
  },
  {
   "cell_type": "markdown",
   "metadata": {},
   "source": [
    "### Gera Tabelas\n",
    "-- --\n",
    "\n",
    "**Definições**\n",
    " * Utilizei o PIB de 2018 como a versão mais recente para o calculo do PIB percapita de 2020\n",
    " * Utilizei Negros como sendo pretos + pardos\n",
    "-- --\n",
    "**Duvidas**\n",
    " * 0 a 20 mil - 20 a 30mil ?? não seria 0 a 20 mil - 21 a 30 mil para não repitir o 20 mil. Mesmo vale para faixa etaria\n",
    " * Mulheres são todas as mulheres ou todas menos mulheres negras?\n",
    " * Proporção de negros em relção ao total de negros daquele atributo ou proporção de negros em relação ao total do genero?\n",
    " -- --\n",
    "\n",
    "**Sugestões**\n",
    " * Quebrar por resuldado??\n",
    " * Possibilidade de gerar mais atributos de agregação utilizando id_municipio\n",
    "-- --\n"
   ]
  },
  {
   "cell_type": "markdown",
   "metadata": {},
   "source": [
    "### Geral"
   ]
  },
  {
   "cell_type": "code",
   "execution_count": 9,
   "metadata": {},
   "outputs": [],
   "source": [
    "## padroniza eleitos\n",
    "final_table[\"resultado\"] = (\n",
    "    final_table[\"resultado\"]\n",
    "    .str.replace(\"eleito por qp\", \"eleito\")\n",
    "    .str.replace(\"eleito por media\", \"eleito\")\n",
    ")\n",
    "\n",
    "## somente eleitos\n",
    "mask = final_table[\"resultado\"].isin([\"eleito\"])\n",
    "final_table = final_table[mask]\n",
    "\n",
    "## genero declarado\n",
    "mask = final_table[\"genero\"].notnull()\n",
    "final_table = final_table[mask]\n",
    "\n",
    "## raca declarada\n",
    "mask = final_table[\"raca\"].notnull()\n",
    "final_table = final_table[mask]"
   ]
  },
  {
   "cell_type": "code",
   "execution_count": 10,
   "metadata": {
    "scrolled": true
   },
   "outputs": [],
   "source": [
    "### Genero\n",
    "group_cols = [\"ano\", \"cargo\", \"genero\", \"raca\"]  # + ['sigla_uf']\n",
    "select_cols = [\"contagem\", \"votos\"]\n",
    "atributo = None\n",
    "\n",
    "df_atributo, df_total = alziras.group_genero_raca(\n",
    "    final_table, group_cols, select_cols, atributo\n",
    ")\n",
    "\n",
    "# df_atributo.to_csv(f\"{out_path}contagem_e_votos.csv\", index=False)"
   ]
  },
  {
   "cell_type": "code",
   "execution_count": null,
   "metadata": {},
   "outputs": [],
   "source": []
  },
  {
   "cell_type": "markdown",
   "metadata": {},
   "source": [
    "### Atributos"
   ]
  },
  {
   "cell_type": "code",
   "execution_count": 11,
   "metadata": {
    "scrolled": true
   },
   "outputs": [
    {
     "name": "stdout",
     "output_type": "stream",
     "text": [
      "instrucao\n",
      "quantidade de linhas =  280\n",
      "quantidade de instrucao =  7 \n",
      "\n",
      "faixa_etaria\n",
      "quantidade de linhas =  200\n",
      "quantidade de faixa_etaria =  5 \n",
      "\n",
      "ocupacao\n",
      "quantidade de linhas =  9240\n",
      "quantidade de ocupacao =  231 \n",
      "\n",
      "estado_civil\n",
      "quantidade de linhas =  160\n",
      "quantidade de estado_civil =  4 \n",
      "\n",
      "sigla_uf\n",
      "quantidade de linhas =  1040\n",
      "quantidade de sigla_uf =  26 \n",
      "\n",
      "regiao\n",
      "quantidade de linhas =  200\n",
      "quantidade de regiao =  5 \n",
      "\n",
      "porte_municipal\n",
      "quantidade de linhas =  200\n",
      "quantidade de porte_municipal =  5 \n",
      "\n",
      "decil\n",
      "quantidade de linhas =  400\n",
      "quantidade de decil =  10 \n",
      "\n",
      "sigla_partido\n",
      "quantidade de linhas =  1320\n",
      "quantidade de sigla_partido =  33 \n",
      "\n"
     ]
    }
   ],
   "source": [
    "### Genero\n",
    "group_cols = [\"ano\", \"cargo\", \"genero\", \"raca\"]  # + ['sigla_uf']\n",
    "select_cols = [\"contagem\", \"votos\"]\n",
    "atributos = [\n",
    "    \"instrucao\",\n",
    "    \"faixa_etaria\",\n",
    "    \"ocupacao\",\n",
    "    \"estado_civil\",\n",
    "    \"sigla_uf\",\n",
    "    \"regiao\",\n",
    "    \"porte_municipal\",\n",
    "    \"decil\",\n",
    "    \"sigla_partido\",\n",
    "]\n",
    "\n",
    "for atributo in atributos:\n",
    "\n",
    "    df_atributo, df_total = alziras.group_genero_raca(\n",
    "        final_table, group_cols, select_cols, atributo, out_path, save=True\n",
    "    )\n",
    "    print(atributo)\n",
    "    print(\"quantidade de linhas = \", df_atributo.shape[0])\n",
    "    print(f\"quantidade de {atributo} = \", len(df_atributo[atributo].unique()), \"\\n\")\n"
   ]
  },
  {
   "cell_type": "code",
   "execution_count": null,
   "metadata": {},
   "outputs": [],
   "source": []
  },
  {
   "cell_type": "markdown",
   "metadata": {},
   "source": [
    "# Financeiro"
   ]
  },
  {
   "cell_type": "markdown",
   "metadata": {},
   "source": [
    "### Import Data"
   ]
  },
  {
   "cell_type": "code",
   "execution_count": 12,
   "metadata": {},
   "outputs": [],
   "source": [
    "##### load despesa\n",
    "load_cols_despesa = [\"ano\", \"sequencial_candidato\", \"valor_despesa\"]\n",
    "\n",
    "despesa = pd.read_parquet(\n",
    "    f\"{in_path}despesa_candidatos.parquet\", columns=load_cols_despesa\n",
    ")\n",
    "\n",
    "##### load receita\n",
    "load_cols_receita = [\n",
    "    \"ano\",\n",
    "    \"sequencial_candidato\",\n",
    "    \"sigla_uf\",\n",
    "    \"origem_receita\",\n",
    "    \"fonte_receita\",\n",
    "    \"valor_receita\",\n",
    "]\n",
    "\n",
    "receita = pd.read_parquet(\n",
    "    f\"{in_path}receita_candidatos.parquet\", columns=load_cols_receita\n",
    ")\n",
    "\n",
    "### remove valores preenchidos errado\n",
    "mask = (receita[\"sigla_uf\"] == \"AM\") & (receita[\"valor_receita\"] > 10000000)\n",
    "receita = receita[np.logical_not(mask)]\n",
    "\n",
    "\n",
    "##### load bens\n",
    "load_cols_bens = [\"ano\", \"sequencial_candidato\", \"valor_item\"]\n",
    "\n",
    "bens = pd.read_parquet(f\"{in_path}bens_candidato.parquet\", columns=load_cols_bens)"
   ]
  },
  {
   "cell_type": "code",
   "execution_count": 13,
   "metadata": {},
   "outputs": [],
   "source": [
    "cadidato_resultado = pd.read_parquet(f\"{in_path}resultado_candidatos.parquet\")\n",
    "candidatos = pd.read_parquet(f\"{in_path}candidatos.parquet\")\n",
    "\n",
    "municipios = pd.read_parquet(f\"{in_path}/municipios.parquet\")\n",
    "pib_municipios = pd.read_parquet(f\"{in_path}municipios_pib.parquet\")\n",
    "\n",
    "cadidato_resultado['id_municipio_tse'] = cadidato_resultado['id_municipio_tse'].astype('str')\n",
    "candidatos['id_municipio_tse'] = candidatos['id_municipio_tse'].astype('str')\n",
    "pib_municipios['id_municipio'] = pib_municipios['id_municipio'].astype('str')"
   ]
  },
  {
   "cell_type": "code",
   "execution_count": 14,
   "metadata": {},
   "outputs": [],
   "source": [
    "final_table = alziras.get_final_table(\n",
    "    cadidato_resultado, candidatos, municipios, pib_municipios\n",
    ")\n",
    "\n",
    "## padroniza eleitos\n",
    "final_table[\"resultado\"] = (\n",
    "    final_table[\"resultado\"]\n",
    "    .str.replace(\"eleito por media\", \"eleito\")\n",
    "    .str.replace(\"eleito por qp\", \"eleito\")\n",
    ")\n",
    "## raca declarada\n",
    "mask = final_table[\"raca\"].notnull()\n",
    "final_table = final_table[mask]"
   ]
  },
  {
   "cell_type": "code",
   "execution_count": null,
   "metadata": {},
   "outputs": [],
   "source": []
  },
  {
   "cell_type": "markdown",
   "metadata": {},
   "source": [
    "### Manipulate Tables"
   ]
  },
  {
   "cell_type": "code",
   "execution_count": 15,
   "metadata": {},
   "outputs": [],
   "source": [
    "from scpts import alziras\n",
    "\n",
    "receita_final, despesa_final, bens_final = alziras.get_financeiro_bens(\n",
    "    final_table, bens, receita, despesa\n",
    ")"
   ]
  },
  {
   "cell_type": "markdown",
   "metadata": {},
   "source": [
    "### Gera Tabelas\n",
    "-- --\n",
    "\n",
    "**Definições**\n",
    " * Utilizei Negros como sendo pretos + pardos\n",
    " * Eleitos = eleito por media + eleito por qp\n",
    "-- --\n",
    "**Duvidas**\n",
    " * Gasto?\n",
    " * O que fazer com suplentes?\n",
    " -- --"
   ]
  },
  {
   "cell_type": "markdown",
   "metadata": {},
   "source": [
    "### Receita total"
   ]
  },
  {
   "cell_type": "code",
   "execution_count": 16,
   "metadata": {},
   "outputs": [],
   "source": [
    "group_cols = [\"ano\", \"cargo\", \"genero\", \"raca\", \"resultado\"]  # + ['sigla_uf']\n",
    "select_cols = [\"contagem\", \"valor_receita\"]\n",
    "atributo = None\n",
    "\n",
    "receita_total, df_total = alziras.group_receita(\n",
    "    receita_final, group_cols, select_cols, atributo\n",
    ")\n",
    "receita_total = receita_total[receita_total[\"resultado\"] != \"suplente\"]\n",
    "\n",
    "receita_total.to_csv(f\"{out_path}receita_total.csv\", index=False)\n"
   ]
  },
  {
   "cell_type": "code",
   "execution_count": null,
   "metadata": {},
   "outputs": [],
   "source": []
  },
  {
   "cell_type": "markdown",
   "metadata": {},
   "source": [
    "### Receita por atributo"
   ]
  },
  {
   "cell_type": "code",
   "execution_count": 17,
   "metadata": {},
   "outputs": [],
   "source": [
    "group_cols = [\"ano\", \"cargo\", \"genero\", \"raca\", \"resultado\"]  # + ['sigla_uf']\n",
    "select_cols = [\"contagem\", \"valor_receita\"]\n",
    "atributo = \"origem_receita\"\n",
    "\n",
    "receita_origem, df_total = alziras.group_receita(\n",
    "    receita_final, group_cols, select_cols, atributo\n",
    ")\n",
    "receita_origem = receita_origem[receita_origem[\"resultado\"] != \"suplente\"]\n",
    "receita_origem.to_csv(f\"{out_path}receita_por_origem.csv\", index=False)\n",
    "\n",
    "mask_proprio = receita_origem[\"origem_receita\"] == \"recursos proprios\"\n",
    "receita_origem[mask_proprio].to_csv(\n",
    "    f\"{out_path}receita_por_origem_proprio.csv\", index=False\n",
    ")\n",
    "\n",
    "mask_pf = receita_origem[\"origem_receita\"] == \"recursos de pessoas fisicas\"\n",
    "receita_origem[mask_pf].to_csv(f\"{out_path}receita_por_origem_pf.csv\", index=False)\n",
    "\n",
    "mask_crowdfunding = (\n",
    "    receita_origem[\"origem_receita\"] == \"recursos de financiamento coletivo\"\n",
    ")\n",
    "receita_origem[mask_crowdfunding].to_csv(\n",
    "    f\"{out_path}receita_por_origem_crowdfunding.csv\", index=False\n",
    ")"
   ]
  },
  {
   "cell_type": "code",
   "execution_count": null,
   "metadata": {},
   "outputs": [],
   "source": []
  },
  {
   "cell_type": "code",
   "execution_count": 18,
   "metadata": {},
   "outputs": [],
   "source": [
    "### Receita por fonte\n",
    "group_cols = [\"ano\", \"cargo\", \"genero\", \"raca\", \"resultado\"]  # + ['sigla_uf']\n",
    "select_cols = [\"contagem\", \"valor_receita\"]\n",
    "atributo = \"fonte_receita\"\n",
    "\n",
    "receita_fonte, df_total = alziras.group_receita(\n",
    "    receita_final, group_cols, select_cols, atributo\n",
    ")\n",
    "receita_fonte = receita_fonte[receita_fonte[\"resultado\"] != \"suplente\"]\n",
    "\n",
    "receita_fonte.to_csv(f\"{out_path}receita_por_fonte.csv\", index=False)"
   ]
  },
  {
   "cell_type": "code",
   "execution_count": null,
   "metadata": {},
   "outputs": [],
   "source": []
  },
  {
   "cell_type": "markdown",
   "metadata": {},
   "source": [
    "### Patrimonio Total"
   ]
  },
  {
   "cell_type": "code",
   "execution_count": 19,
   "metadata": {},
   "outputs": [],
   "source": [
    "group_cols = [\"ano\", \"cargo\", \"genero\", \"raca\", \"resultado\"]  # + ['sigla_uf']\n",
    "select_cols = [\"contagem\", \"patrimonio\"]\n",
    "atributo = None\n",
    "\n",
    "patrimonio, df_total = alziras.group_receita(\n",
    "    bens_final, group_cols, select_cols, atributo\n",
    ")\n",
    "patrimonio = patrimonio[patrimonio[\"resultado\"] != \"suplente\"]\n",
    "\n",
    "rename_cols = {\n",
    "    \"valor_receita\": \"patrimonio\",\n",
    "    \"valor_receita_total\": \"patrimonio_total\",\n",
    "    \"valor_receita_proporcional\": \"patrimonio_proporcional\",\n",
    "}\n",
    "patrimonio = patrimonio.rename(columns=rename_cols)\n",
    "patrimonio = patrimonio.drop([\"valor_receita_per_capta\"], 1)\n",
    "\n",
    "patrimonio.to_csv(f\"{out_path}patrimonio_total.csv\", index=False)"
   ]
  },
  {
   "cell_type": "code",
   "execution_count": null,
   "metadata": {},
   "outputs": [],
   "source": []
  },
  {
   "cell_type": "markdown",
   "metadata": {},
   "source": [
    "### Despesa Total"
   ]
  },
  {
   "cell_type": "code",
   "execution_count": 20,
   "metadata": {},
   "outputs": [],
   "source": [
    "group_cols = [\"ano\", \"cargo\", \"genero\", \"raca\", \"resultado\"]  # + ['sigla_uf']\n",
    "select_cols = [\"contagem\", \"valor_despesa\"]\n",
    "atributo = None\n",
    "\n",
    "despesa_total, df_total = alziras.group_receita(\n",
    "    despesa_final, group_cols, select_cols, atributo\n",
    ")\n",
    "despesa_total = despesa_total[despesa_total[\"resultado\"] != \"suplente\"]\n",
    "\n",
    "rename_cols = {\n",
    "    \"valor_receita\": \"valor_despesa\",\n",
    "    \"valor_receita_total\": \"valor_despesa_total\",\n",
    "    \"valor_receita_proporcional\": \"valor_despesa_proporcional\",\n",
    "    \"valor_receita_per_capta\": \"valor_despesa_per_capta\",\n",
    "}\n",
    "despesa_total = despesa_total.rename(columns=rename_cols)\n",
    "\n",
    "despesa_total.to_csv(f\"{out_path}despesa_total.csv\", index=False)"
   ]
  },
  {
   "cell_type": "code",
   "execution_count": null,
   "metadata": {},
   "outputs": [],
   "source": []
  },
  {
   "cell_type": "code",
   "execution_count": null,
   "metadata": {},
   "outputs": [],
   "source": []
  },
  {
   "cell_type": "markdown",
   "metadata": {},
   "source": [
    "# Demanda Adicional"
   ]
  },
  {
   "cell_type": "code",
   "execution_count": 21,
   "metadata": {},
   "outputs": [],
   "source": [
    "cadidato_resultado = pd.read_parquet(f\"{in_path}resultado_candidatos.parquet\")\n",
    "\n",
    "candidatos = pd.read_parquet(f\"{in_path}candidatos.parquet\")\n",
    "\n",
    "municipios = pd.read_parquet(f\"{in_path}/municipios.parquet\")\n",
    "pib_municipios = pd.read_parquet(f\"{in_path}municipios_pib.parquet\")\n",
    "\n",
    "### load receita\n",
    "load_cols = [\n",
    "    \"ano\",\n",
    "    \"sigla_uf\",\n",
    "    \"id_municipio_tse\",\n",
    "    \"turno\",\n",
    "    \"sequencial_candidato\",\n",
    "    \"numero_candidato\",\n",
    "    \"sigla_partido\",\n",
    "    \"cargo\",\n",
    "    \"origem_receita\",\n",
    "    \"fonte_receita\",\n",
    "    \"valor_receita\",\n",
    "]\n",
    "\n",
    "receita = pd.read_parquet(f\"{in_path}receita_candidatos.parquet\", columns=load_cols)\n",
    "mask = (receita[\"sigla_uf\"] == \"AM\") & (receita[\"valor_receita\"] > 10000000)\n",
    "receita = receita[np.logical_not(mask)]"
   ]
  },
  {
   "cell_type": "code",
   "execution_count": 22,
   "metadata": {},
   "outputs": [],
   "source": [
    "receita['id_municipio_tse'] = receita['id_municipio_tse'].astype(str)\n",
    "cadidato_resultado['id_municipio_tse'] = cadidato_resultado['id_municipio_tse'].astype('str')\n",
    "candidatos['id_municipio_tse'] = candidatos['id_municipio_tse'].astype('str')\n",
    "pib_municipios['id_municipio'] = pib_municipios['id_municipio'].astype('str')"
   ]
  },
  {
   "cell_type": "code",
   "execution_count": 23,
   "metadata": {},
   "outputs": [],
   "source": [
    "tabela_final = alziras.demanda_adicional(\n",
    "    cadidato_resultado, \n",
    "    candidatos, \n",
    "    municipios, \n",
    "    pib_municipios, \n",
    "    receita\n",
    ")"
   ]
  },
  {
   "cell_type": "code",
   "execution_count": 24,
   "metadata": {},
   "outputs": [
    {
     "data": {
      "text/html": [
       "<div>\n",
       "<style scoped>\n",
       "    .dataframe tbody tr th:only-of-type {\n",
       "        vertical-align: middle;\n",
       "    }\n",
       "\n",
       "    .dataframe tbody tr th {\n",
       "        vertical-align: top;\n",
       "    }\n",
       "\n",
       "    .dataframe thead th {\n",
       "        text-align: right;\n",
       "    }\n",
       "</style>\n",
       "<table border=\"1\" class=\"dataframe\">\n",
       "  <thead>\n",
       "    <tr style=\"text-align: right;\">\n",
       "      <th></th>\n",
       "      <th>valor_receita</th>\n",
       "    </tr>\n",
       "    <tr>\n",
       "      <th>ano</th>\n",
       "      <th></th>\n",
       "    </tr>\n",
       "  </thead>\n",
       "  <tbody>\n",
       "    <tr>\n",
       "      <th>2016</th>\n",
       "      <td>2.995349e+09</td>\n",
       "    </tr>\n",
       "    <tr>\n",
       "      <th>2020</th>\n",
       "      <td>3.185731e+09</td>\n",
       "    </tr>\n",
       "  </tbody>\n",
       "</table>\n",
       "</div>"
      ],
      "text/plain": [
       "      valor_receita\n",
       "ano                \n",
       "2016   2.995349e+09\n",
       "2020   3.185731e+09"
      ]
     },
     "execution_count": 24,
     "metadata": {},
     "output_type": "execute_result"
    }
   ],
   "source": [
    "tabela_final[['ano','valor_receita']].groupby(by='ano').sum()"
   ]
  },
  {
   "cell_type": "code",
   "execution_count": 25,
   "metadata": {},
   "outputs": [
    {
     "data": {
      "text/html": [
       "<div>\n",
       "<style scoped>\n",
       "    .dataframe tbody tr th:only-of-type {\n",
       "        vertical-align: middle;\n",
       "    }\n",
       "\n",
       "    .dataframe tbody tr th {\n",
       "        vertical-align: top;\n",
       "    }\n",
       "\n",
       "    .dataframe thead th {\n",
       "        text-align: right;\n",
       "    }\n",
       "</style>\n",
       "<table border=\"1\" class=\"dataframe\">\n",
       "  <thead>\n",
       "    <tr style=\"text-align: right;\">\n",
       "      <th></th>\n",
       "      <th>valor_receita</th>\n",
       "    </tr>\n",
       "    <tr>\n",
       "      <th>ano</th>\n",
       "      <th></th>\n",
       "    </tr>\n",
       "  </thead>\n",
       "  <tbody>\n",
       "    <tr>\n",
       "      <th>2016</th>\n",
       "      <td>3.030411e+09</td>\n",
       "    </tr>\n",
       "    <tr>\n",
       "      <th>2020</th>\n",
       "      <td>3.405879e+09</td>\n",
       "    </tr>\n",
       "  </tbody>\n",
       "</table>\n",
       "</div>"
      ],
      "text/plain": [
       "      valor_receita\n",
       "ano                \n",
       "2016   3.030411e+09\n",
       "2020   3.405879e+09"
      ]
     },
     "execution_count": 25,
     "metadata": {},
     "output_type": "execute_result"
    }
   ],
   "source": [
    "receita[['ano','valor_receita']].groupby(by='ano').sum()"
   ]
  },
  {
   "cell_type": "code",
   "execution_count": 26,
   "metadata": {},
   "outputs": [],
   "source": [
    "mask_prefeito = tabela_final['cargo']=='prefeito'\n",
    "tabela_final[mask_prefeito].to_csv(f'{out_path}prefeitos_completo.csv', index=False)\n",
    "tabela_final[np.logical_not(mask_prefeito)].to_csv(f'{out_path}vereadores_completo.csv', index=False)"
   ]
  },
  {
   "cell_type": "code",
   "execution_count": null,
   "metadata": {},
   "outputs": [],
   "source": []
  },
  {
   "cell_type": "code",
   "execution_count": null,
   "metadata": {},
   "outputs": [],
   "source": []
  },
  {
   "cell_type": "markdown",
   "metadata": {},
   "source": [
    "### Bug"
   ]
  },
  {
   "cell_type": "code",
   "execution_count": 27,
   "metadata": {},
   "outputs": [],
   "source": [
    "vereadoras = pd.read_csv('../data/analise/mais/alziras/output/vereadores_completo.csv')\n",
    "entrega_vereadores = pd.read_csv('../data/analise/mais/alziras/output/vereadores_completo_entrega.csv')\n",
    "municipios = pd.read_parquet('../data/analise/mais/alziras/input/municipios.parquet')\n",
    "\n",
    "vereadoras['id_municipio'] = vereadoras['id_municipio'].astype('str')\n",
    "municipios['id_municipio'] = municipios['id_municipio'].astype('str')\n",
    "entrega_vereadores['id_municipio'] = entrega_vereadores['id_municipio'].astype('str')\n",
    "\n"
   ]
  },
  {
   "cell_type": "code",
   "execution_count": 28,
   "metadata": {},
   "outputs": [],
   "source": [
    "entrega_vereadores_2020 = vereadoras[vereadoras['ano']==2020]"
   ]
  },
  {
   "cell_type": "code",
   "execution_count": 34,
   "metadata": {
    "scrolled": true,
    "tags": []
   },
   "outputs": [
    {
     "data": {
      "text/plain": [
       "53"
      ]
     },
     "execution_count": 34,
     "metadata": {},
     "output_type": "execute_result"
    }
   ],
   "source": [
    "mask = ~municipios['id_municipio'].isin(entrega_vereadores_2020['id_municipio'].unique())\n",
    "\n",
    "len(municipios[mask])"
   ]
  },
  {
   "cell_type": "code",
   "execution_count": 30,
   "metadata": {},
   "outputs": [],
   "source": [
    "mask = ~municipios['id_municipio'].isin(entrega_vereadores_2020['id_municipio'].unique())\n"
   ]
  },
  {
   "cell_type": "code",
   "execution_count": 31,
   "metadata": {},
   "outputs": [],
   "source": [
    "def get_bug(df):\n",
    "    mask = (df['id_municipio_tse']=='2550') & (df['ano']==2020)\n",
    "    return df[mask]"
   ]
  },
  {
   "cell_type": "code",
   "execution_count": 32,
   "metadata": {},
   "outputs": [],
   "source": [
    "# cadidato_resultado = pd.read_parquet(f\"{in_path}resultado_candidatos.parquet\")\n",
    "# candidatos = pd.read_parquet(f\"{in_path}candidatos.parquet\")\n",
    "# municipios = pd.read_parquet(f\"{in_path}/municipios.parquet\")\n",
    "# pib_municipios = pd.read_parquet(f\"{in_path}municipios_pib.parquet\")"
   ]
  },
  {
   "cell_type": "code",
   "execution_count": 33,
   "metadata": {},
   "outputs": [
    {
     "data": {
      "text/html": [
       "<div>\n",
       "<style scoped>\n",
       "    .dataframe tbody tr th:only-of-type {\n",
       "        vertical-align: middle;\n",
       "    }\n",
       "\n",
       "    .dataframe tbody tr th {\n",
       "        vertical-align: top;\n",
       "    }\n",
       "\n",
       "    .dataframe thead th {\n",
       "        text-align: right;\n",
       "    }\n",
       "</style>\n",
       "<table border=\"1\" class=\"dataframe\">\n",
       "  <thead>\n",
       "    <tr style=\"text-align: right;\">\n",
       "      <th></th>\n",
       "      <th>ano</th>\n",
       "      <th>tipo_eleicao</th>\n",
       "      <th>turno</th>\n",
       "      <th>sigla_uf</th>\n",
       "      <th>id_municipio_tse</th>\n",
       "      <th>numero_candidato</th>\n",
       "      <th>id_candidato_bd</th>\n",
       "      <th>cargo</th>\n",
       "      <th>sigla_partido</th>\n",
       "      <th>resultado</th>\n",
       "      <th>votos</th>\n",
       "    </tr>\n",
       "  </thead>\n",
       "  <tbody>\n",
       "    <tr>\n",
       "      <th>964826</th>\n",
       "      <td>2020</td>\n",
       "      <td>eleicao ordinaria</td>\n",
       "      <td>2</td>\n",
       "      <td>AM</td>\n",
       "      <td>2550</td>\n",
       "      <td>19</td>\n",
       "      <td>12051.0</td>\n",
       "      <td>prefeito</td>\n",
       "      <td>PODE</td>\n",
       "      <td>nao eleito</td>\n",
       "      <td>443747</td>\n",
       "    </tr>\n",
       "    <tr>\n",
       "      <th>964827</th>\n",
       "      <td>2020</td>\n",
       "      <td>eleicao ordinaria</td>\n",
       "      <td>2</td>\n",
       "      <td>AM</td>\n",
       "      <td>2550</td>\n",
       "      <td>70</td>\n",
       "      <td>1124558.0</td>\n",
       "      <td>prefeito</td>\n",
       "      <td>AVANTE</td>\n",
       "      <td>eleito</td>\n",
       "      <td>466970</td>\n",
       "    </tr>\n",
       "  </tbody>\n",
       "</table>\n",
       "</div>"
      ],
      "text/plain": [
       "         ano       tipo_eleicao  turno sigla_uf id_municipio_tse  \\\n",
       "964826  2020  eleicao ordinaria      2       AM             2550   \n",
       "964827  2020  eleicao ordinaria      2       AM             2550   \n",
       "\n",
       "        numero_candidato  id_candidato_bd     cargo sigla_partido   resultado  \\\n",
       "964826                19          12051.0  prefeito          PODE  nao eleito   \n",
       "964827                70        1124558.0  prefeito        AVANTE      eleito   \n",
       "\n",
       "         votos  \n",
       "964826  443747  \n",
       "964827  466970  "
      ]
     },
     "execution_count": 33,
     "metadata": {},
     "output_type": "execute_result"
    }
   ],
   "source": [
    "get_bug(cadidato_resultado)"
   ]
  },
  {
   "cell_type": "code",
   "execution_count": null,
   "metadata": {},
   "outputs": [],
   "source": []
  },
  {
   "cell_type": "code",
   "execution_count": null,
   "metadata": {},
   "outputs": [],
   "source": []
  },
  {
   "cell_type": "code",
   "execution_count": null,
   "metadata": {},
   "outputs": [],
   "source": []
  },
  {
   "cell_type": "code",
   "execution_count": null,
   "metadata": {},
   "outputs": [],
   "source": []
  },
  {
   "cell_type": "code",
   "execution_count": null,
   "metadata": {},
   "outputs": [],
   "source": []
  },
  {
   "cell_type": "code",
   "execution_count": null,
   "metadata": {},
   "outputs": [],
   "source": []
  },
  {
   "cell_type": "code",
   "execution_count": null,
   "metadata": {},
   "outputs": [],
   "source": []
  },
  {
   "cell_type": "code",
   "execution_count": null,
   "metadata": {},
   "outputs": [],
   "source": []
  },
  {
   "cell_type": "code",
   "execution_count": null,
   "metadata": {},
   "outputs": [],
   "source": []
  },
  {
   "cell_type": "code",
   "execution_count": null,
   "metadata": {},
   "outputs": [],
   "source": []
  },
  {
   "cell_type": "code",
   "execution_count": null,
   "metadata": {},
   "outputs": [],
   "source": [
    "len(vereadoras['id_municipio'].unique().tolist())"
   ]
  },
  {
   "cell_type": "code",
   "execution_count": null,
   "metadata": {},
   "outputs": [],
   "source": []
  },
  {
   "cell_type": "code",
   "execution_count": null,
   "metadata": {},
   "outputs": [],
   "source": []
  },
  {
   "cell_type": "code",
   "execution_count": null,
   "metadata": {},
   "outputs": [],
   "source": []
  },
  {
   "cell_type": "code",
   "execution_count": null,
   "metadata": {},
   "outputs": [],
   "source": []
  },
  {
   "cell_type": "code",
   "execution_count": null,
   "metadata": {},
   "outputs": [],
   "source": []
  },
  {
   "cell_type": "code",
   "execution_count": null,
   "metadata": {},
   "outputs": [],
   "source": []
  }
 ],
 "metadata": {
  "kernelspec": {
   "display_name": "Python 3",
   "language": "python",
   "name": "python3"
  },
  "language_info": {
   "codemirror_mode": {
    "name": "ipython",
    "version": 3
   },
   "file_extension": ".py",
   "mimetype": "text/x-python",
   "name": "python",
   "nbconvert_exporter": "python",
   "pygments_lexer": "ipython3",
   "version": "3.8.5"
  }
 },
 "nbformat": 4,
 "nbformat_minor": 4
}
