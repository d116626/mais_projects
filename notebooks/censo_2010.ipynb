{
 "cells": [
  {
   "cell_type": "code",
   "execution_count": 2,
   "metadata": {},
   "outputs": [],
   "source": [
    "%reload_ext autoreload\n",
    "%autoreload 2\n",
    "\n",
    "import pandas as pd\n",
    "import numpy as np\n",
    "\n",
    "\n",
    "pd.options.display.max_columns = 999\n",
    "pd.options.display.max_rows = 1999\n",
    "pd.options.display.max_colwidth = 100\n",
    "\n",
    "import warnings\n",
    "warnings.filterwarnings('ignore')\n",
    "\n",
    "from tabula import read_pdf\n",
    "\n",
    "import camelot\n",
    "\n",
    "from camelot import utils\n",
    "\n",
    "import os\n",
    "import glob\n",
    "\n",
    "from paths import *\n",
    "from scpts import manipulation\n",
    "from scpts import io\n",
    "from scpts import censo2010\n",
    "\n",
    "\n",
    "from basedosdados import Storage, Table, Dataset\n",
    "\n",
    "import yaml\n",
    "\n",
    "import sys\n",
    "import ruamel.yaml\n",
    "\n",
    "import shutil\n",
    "import re\n",
    "import urllib.request as request\n",
    "from contextlib import closing\n",
    "\n",
    "\n",
    "from pathlib import Path\n",
    "\n",
    "from io import BytesIO\n",
    "from zipfile import ZipFile"
   ]
  },
  {
   "cell_type": "code",
   "execution_count": null,
   "metadata": {},
   "outputs": [],
   "source": []
  },
  {
   "cell_type": "code",
   "execution_count": null,
   "metadata": {},
   "outputs": [],
   "source": []
  },
  {
   "cell_type": "code",
   "execution_count": null,
   "metadata": {},
   "outputs": [],
   "source": []
  },
  {
   "cell_type": "code",
   "execution_count": 3,
   "metadata": {},
   "outputs": [],
   "source": [
    "datasets_path = \"../data/censo/bases/tratado/organized\"\n",
    "original_data_path = \"../data/censo/bases/original/fonte/\"\n",
    "\n",
    "file_table_reference = censo2010.file_table_reference()\n",
    "censo2010.create_dataset_folders(file_table_reference,datasets_path)\n"
   ]
  },
  {
   "cell_type": "code",
   "execution_count": 3,
   "metadata": {},
   "outputs": [],
   "source": [
    "def rename_and_move_files(xls_files):\n",
    "    for xls_file in xls_files:\n",
    "        try:\n",
    "            tipo = uf_folder = xls_file.split('/')[-1].split('_')[1][2:]\n",
    "            uf_folder = xls_file.split('/')[-1].split('_')[1][-6:][:2]\n",
    "            filename = xls_file.split('/')[-1].split('_')[0]\n",
    "        except:\n",
    "            tipo = uf_folder = xls_file.split('/')[-1].split('-')[1][2:]\n",
    "            uf_folder = xls_file.split('/')[-1].split('-')[1][:2]\n",
    "            filename = xls_file.split('/')[-1].split('-')[0]\n",
    "\n",
    "        if uf_folder == 'P1':\n",
    "            uf_folder='SP1'\n",
    "        if uf_folder == 'P2':\n",
    "            uf_folder='SP2'\n",
    "        \n",
    "        save_folder = file_table_reference[filename.lower()]\n",
    "\n",
    "        file_path = '/'.join(xls_file.split('/')[:-1])\n",
    "        rename_file = f'{file_path}/{filename.lower()}_{uf_folder.lower()}.xls'\n",
    "        \n",
    "        os.rename(xls_file,rename_file)\n",
    "        xls_file = rename_file        \n",
    "\n",
    "        delete_file = f'{datasets_path}/{save_folder.lower()}/{filename.lower()}_{uf_folder.lower()}.xls'\n",
    "        if os.path.exists(delete_file):\n",
    "            os.remove(delete_file)\n",
    "\n",
    "\n",
    "        shutil.move(xls_file, f'{datasets_path}/{save_folder}')"
   ]
  },
  {
   "cell_type": "code",
   "execution_count": 4,
   "metadata": {
    "scrolled": true
   },
   "outputs": [
    {
     "name": "stdout",
     "output_type": "stream",
     "text": [
      "../data/censo/bases/original/fonte/AC\n",
      "../data/censo/bases/original/fonte/AL\n",
      "../data/censo/bases/original/fonte/AM\n",
      "../data/censo/bases/original/fonte/AP\n",
      "../data/censo/bases/original/fonte/BA\n",
      "../data/censo/bases/original/fonte/CE\n",
      "../data/censo/bases/original/fonte/DF\n",
      "../data/censo/bases/original/fonte/Base informaçoes setores2010 universo ES\n",
      "../data/censo/bases/original/fonte/GO\n",
      "../data/censo/bases/original/fonte/MA\n",
      "../data/censo/bases/original/fonte/MG\n",
      "../data/censo/bases/original/fonte/MS\n",
      "../data/censo/bases/original/fonte/MT\n",
      "../data/censo/bases/original/fonte/PA\n",
      "../data/censo/bases/original/fonte/PB\n",
      "../data/censo/bases/original/fonte/PE_20171016\n",
      "../data/censo/bases/original/fonte/PI\n",
      "../data/censo/bases/original/fonte/PR\n",
      "../data/censo/bases/original/fonte/RJ\n",
      "../data/censo/bases/original/fonte/RN\n",
      "../data/censo/bases/original/fonte/RO\n",
      "../data/censo/bases/original/fonte/RR\n",
      "../data/censo/bases/original/fonte/RS_20150527\n",
      "../data/censo/bases/original/fonte/SC\n",
      "../data/censo/bases/original/fonte/SE\n",
      "../data/censo/bases/original/fonte/Base informaçoes setores2010 universo SP_Capital\n",
      "../data/censo/bases/original/fonte/SP Exceto a Capital\n",
      "../data/censo/bases/original/fonte/Base informacoes setores2010 universo TO\n"
     ]
    },
    {
     "data": {
      "text/plain": [
       "'../data/censo/bases/tratado/organized/basico_diretorio'"
      ]
     },
     "execution_count": 4,
     "metadata": {},
     "output_type": "execute_result"
    }
   ],
   "source": [
    "pp = Path(original_data_path).glob('*.zip')\n",
    "zip_files = [str(p) for p in pp]\n",
    "\n",
    "for zip_file in zip_files:\n",
    "    f = ZipFile(zip_file)\n",
    "    f.extractall(path=original_data_path)\n",
    "\n",
    "    xls_files = [str(p) \\\n",
    "                 for p in Path(original_data_path).glob('**/*') \\\n",
    "                 if '.xls' in str(p)]\n",
    "\n",
    "    XLS_files = [str(p) \\\n",
    "                 for p in Path(original_data_path).glob('**/*') \\\n",
    "                 if '.XLS' in str(p)]\n",
    "    \n",
    "    xls_files = xls_files + XLS_files\n",
    "    \n",
    "    rename_and_move_files(xls_files)\n",
    "\n",
    "    folder = [str(p) \\\n",
    "              for p in Path(original_data_path).glob('*') \\\n",
    "              if 'zip' not in str(p)][0]\n",
    "    shutil.rmtree(folder)\n",
    "    print(folder)\n",
    "    \n",
    "shutil.copytree(f'{datasets_path}/basico', f'{datasets_path}/basico_diretorio')"
   ]
  },
  {
   "cell_type": "code",
   "execution_count": null,
   "metadata": {},
   "outputs": [],
   "source": []
  },
  {
   "cell_type": "code",
   "execution_count": 2,
   "metadata": {},
   "outputs": [],
   "source": [
    "### padronize "
   ]
  },
  {
   "cell_type": "code",
   "execution_count": 3,
   "metadata": {},
   "outputs": [],
   "source": [
    "folders = glob.glob(\"../data/censo/bases/tratado/organized/*/\")"
   ]
  },
  {
   "cell_type": "code",
   "execution_count": 4,
   "metadata": {
    "scrolled": true
   },
   "outputs": [
    {
     "name": "stdout",
     "output_type": "stream",
     "text": [
      "../data/censo/bases/tratado/organized/raca_alfabetizacao_idade_genero/\n",
      "AC :  (874, 156)\n",
      "AL :  (3724, 156)\n",
      "AM :  (5641, 156)\n",
      "AP :  (810, 156)\n",
      "BA :  (23782, 156)\n",
      "CE :  (13276, 156)\n",
      "DF :  (4349, 156)\n",
      "ES :  (6380, 156)\n",
      "GO :  (9434, 156)\n",
      "MA :  (8802, 156)\n",
      "MG :  (32564, 156)\n",
      "MS :  (4207, 156)\n",
      "MT :  (5929, 156)\n",
      "PA :  (8769, 156)\n",
      "PB :  (5548, 156)\n",
      "PE :  (12379, 156)\n",
      "PI :  (5251, 156)\n",
      "PR :  (17465, 156)\n",
      "RJ :  (27769, 156)\n",
      "RN :  (4289, 156)\n",
      "RO :  (2346, 156)\n",
      "RR :  (803, 156)\n",
      "RS :  (22332, 156)\n",
      "SC :  (11882, 156)\n",
      "SE :  (3297, 156)\n",
      "SP1 :  (18363, 156)\n",
      "SP2 :  (47733, 156)\n",
      "TO :  (2101, 156)\n",
      " \n",
      "../data/censo/bases/tratado/organized/raca_idade_0_4_genero/\n",
      "AC :  (874, 11)\n",
      "AL :  (3724, 11)\n",
      "AM :  (5641, 11)\n",
      "AP :  (810, 11)\n",
      "BA :  (23782, 11)\n",
      "CE :  (13276, 11)\n",
      "DF :  (4349, 11)\n",
      "ES :  (6380, 11)\n",
      "GO :  (9434, 11)\n",
      "MA :  (8802, 11)\n",
      "MG :  (32564, 11)\n",
      "MS :  (4207, 11)\n",
      "MT :  (5929, 11)\n",
      "PA :  (8769, 11)\n",
      "PB :  (5548, 11)\n",
      "PE :  (12379, 11)\n",
      "PI :  (5251, 11)\n",
      "PR :  (17465, 11)\n",
      "RJ :  (27769, 11)\n",
      "RN :  (4289, 11)\n",
      "RO :  (2346, 11)\n",
      "RR :  (824, 11)\n",
      "RS :  (22332, 11)\n",
      "SC :  (11882, 11)\n",
      "SE :  (3297, 11)\n",
      "SP1 :  (18363, 11)\n",
      "SP2 :  (47733, 11)\n",
      "TO :  (2101, 11)\n",
      " \n",
      "../data/censo/bases/tratado/organized/raca_idade_genero/\n",
      "AC :  (874, 252)\n",
      "AL :  (3724, 252)\n",
      "AM :  (5641, 252)\n",
      "AP :  (810, 252)\n",
      "BA :  (23782, 252)\n",
      "CE :  (13276, 252)\n",
      "DF :  (4349, 252)\n",
      "ES :  (6380, 252)\n",
      "GO :  (9434, 252)\n",
      "MA :  (8802, 252)\n",
      "MG :  (32564, 252)\n",
      "MS :  (4207, 252)\n",
      "MT :  (5929, 252)\n",
      "PA :  (8769, 252)\n",
      "PB :  (5548, 252)\n",
      "PE :  (12379, 252)\n",
      "PI :  (5251, 252)\n",
      "PR :  (17465, 252)\n",
      "RJ :  (27769, 252)\n",
      "RN :  (4289, 252)\n",
      "RO :  (2346, 252)\n",
      "RR :  (824, 252)\n",
      "RS :  (22332, 252)\n",
      "SC :  (11882, 252)\n",
      "SE :  (3297, 252)\n",
      "SP1 :  (18363, 252)\n",
      "SP2 :  (47733, 252)\n",
      "TO :  (2101, 252)\n",
      " \n",
      "../data/censo/bases/tratado/organized/registro_civil/\n",
      "AC :  (874, 4)\n",
      "AL :  (3724, 4)\n",
      "AM :  (5641, 4)\n",
      "AP :  (810, 4)\n",
      "BA :  (23782, 4)\n",
      "CE :  (13276, 4)\n",
      "DF :  (4349, 4)\n",
      "ES :  (6380, 4)\n",
      "GO :  (9434, 4)\n",
      "MA :  (8802, 4)\n",
      "MG :  (32564, 4)\n",
      "MS :  (4207, 4)\n",
      "MT :  (5929, 4)\n",
      "PA :  (8769, 4)\n",
      "PB :  (5548, 4)\n",
      "PE :  (12379, 4)\n",
      "PI :  (5251, 4)\n",
      "PR :  (17465, 4)\n",
      "RJ :  (27769, 4)\n",
      "RN :  (4289, 4)\n",
      "RO :  (2346, 4)\n",
      "RR :  (824, 4)\n",
      "RS :  (22332, 4)\n",
      "SC :  (11882, 4)\n",
      "SE :  (3297, 4)\n",
      "SP1 :  (18363, 4)\n",
      "SP2 :  (47733, 4)\n",
      "TO :  (2101, 4)\n",
      " \n",
      "../data/censo/bases/tratado/organized/relacao_parentesco_conjuges/\n",
      "AC :  (874, 214)\n",
      "AL :  (3724, 214)\n",
      "AM :  (5641, 214)\n",
      "AP :  (810, 214)\n",
      "BA :  (23782, 214)\n",
      "CE :  (13276, 214)\n",
      "DF :  (4349, 214)\n",
      "ES :  (6380, 214)\n",
      "GO :  (9434, 214)\n",
      "MA :  (8802, 214)\n",
      "MG :  (32564, 214)\n",
      "MS :  (4207, 214)\n",
      "MT :  (5929, 214)\n",
      "PA :  (8769, 214)\n",
      "PB :  (5548, 214)\n",
      "PE :  (12379, 214)\n",
      "PI :  (5251, 214)\n",
      "PR :  (17465, 214)\n",
      "RJ :  (27769, 214)\n",
      "RN :  (4289, 214)\n",
      "RO :  (2346, 214)\n",
      "RR :  (824, 214)\n",
      "RS :  (22332, 214)\n",
      "SC :  (11882, 214)\n",
      "SE :  (3297, 214)\n",
      "SP1 :  (18363, 214)\n",
      "SP2 :  (47733, 214)\n",
      "TO :  (2101, 214)\n",
      " \n",
      "../data/censo/bases/tratado/organized/relacao_parentesco_filhos/\n",
      "AC :  (874, 205)\n",
      "AL :  (3724, 205)\n",
      "AM :  (5641, 205)\n",
      "AP :  (810, 205)\n",
      "BA :  (23782, 205)\n",
      "CE :  (13233, 205)\n",
      "DF :  (4349, 205)\n",
      "ES :  (6380, 205)\n",
      "GO :  (9434, 205)\n",
      "MA :  (8802, 205)\n",
      "MG :  (32564, 205)\n",
      "MS :  (4207, 205)\n",
      "MT :  (5929, 205)\n",
      "PA :  (8769, 205)\n",
      "PB :  (5548, 205)\n",
      "PE :  (12379, 205)\n",
      "PI :  (5251, 205)\n",
      "PR :  (17465, 205)\n",
      "RJ :  (27769, 205)\n",
      "RN :  (4289, 205)\n",
      "RO :  (2346, 205)\n",
      "RR :  (824, 205)\n",
      "RS :  (22332, 205)\n",
      "SC :  (11882, 205)\n",
      "SE :  (3297, 205)\n",
      "SP1 :  (18363, 205)\n",
      "SP2 :  (47733, 205)\n",
      "TO :  (2101, 205)\n",
      " \n",
      "../data/censo/bases/tratado/organized/relacao_parentesco_filhos_enteados/\n",
      "AC :  (874, 255)\n",
      "AL :  (3724, 255)\n",
      "AM :  (5641, 255)\n",
      "AP :  (810, 255)\n",
      "BA :  (23782, 255)\n",
      "CE :  (13276, 255)\n",
      "DF :  (4349, 255)\n",
      "ES :  (6380, 255)\n",
      "GO :  (9434, 255)\n",
      "MA :  (8802, 255)\n",
      "MG :  (32564, 255)\n",
      "MS :  (4207, 255)\n",
      "MT :  (5929, 255)\n",
      "PA :  (8769, 255)\n",
      "PB :  (5548, 255)\n",
      "PE :  (12379, 255)\n",
      "PI :  (5251, 255)\n",
      "PR :  (17465, 255)\n",
      "RJ :  (27769, 255)\n",
      "RN :  (4289, 255)\n",
      "RO :  (2346, 255)\n",
      "RR :  (824, 255)\n",
      "RS :  (22332, 255)\n",
      "SC :  (11882, 255)\n",
      "SE :  (3297, 255)\n",
      "SP1 :  (18363, 255)\n",
      "SP2 :  (47733, 255)\n",
      "TO :  (2101, 255)\n",
      " \n",
      "../data/censo/bases/tratado/organized/relacao_parentesco_outros/\n",
      "AC :  (874, 241)\n",
      "AL :  (3724, 241)\n",
      "AM :  (5641, 241)\n",
      "AP :  (810, 241)\n",
      "BA :  (23782, 241)\n",
      "CE :  (13276, 241)\n",
      "DF :  (4349, 241)\n",
      "ES :  (6380, 241)\n",
      "GO :  (9434, 241)\n",
      "MA :  (8802, 241)\n",
      "MG :  (32564, 241)\n",
      "MS :  (4207, 241)\n",
      "MT :  (5929, 241)\n",
      "PA :  (8769, 241)\n",
      "PB :  (5548, 241)\n",
      "PE :  (12379, 241)\n",
      "PI :  (5251, 241)\n",
      "PR :  (17465, 241)\n",
      "RJ :  (27769, 241)\n",
      "RN :  (4289, 241)\n",
      "RO :  (2346, 241)\n",
      "RR :  (824, 241)\n",
      "RS :  (22332, 241)\n",
      "SC :  (11882, 241)\n",
      "SE :  (3297, 241)\n",
      "SP1 :  (18363, 241)\n",
      "SP2 :  (47733, 241)\n",
      "TO :  (2101, 241)\n",
      " \n",
      "../data/censo/bases/tratado/organized/responsavel_domicilios_homens_total/\n",
      "AC :  (874, 217)\n",
      "AL :  (3724, 217)\n",
      "AM :  (5640, 217)\n",
      "AP :  (810, 217)\n",
      "BA :  (23782, 217)\n",
      "CE :  (13273, 217)\n",
      "DF :  (4349, 217)\n",
      "ES :  (6380, 217)\n",
      "GO :  (9434, 217)\n",
      "MA :  (8802, 217)\n",
      "MG :  (32564, 217)\n",
      "MS :  (4207, 217)\n",
      "MT :  (5929, 217)\n",
      "PA :  (8769, 217)\n",
      "PB :  (5548, 217)\n",
      "PE :  (12379, 217)\n",
      "PI :  (5251, 217)\n",
      "PR :  (17463, 217)\n",
      "RJ :  (27769, 217)\n",
      "RN :  (4289, 217)\n",
      "RO :  (2346, 217)\n",
      "RR :  (824, 217)\n",
      "RS :  (22332, 217)\n",
      "SC :  (11882, 217)\n",
      "SE :  (3297, 217)\n",
      "SP1 :  (18363, 217)\n",
      "SP2 :  (47733, 217)\n",
      "TO :  (2101, 217)\n",
      " \n",
      "../data/censo/bases/tratado/organized/responsavel_domicilios_mulheres/\n",
      "AC :  (874, 109)\n",
      "AL :  (3724, 109)\n",
      "AM :  (5640, 109)\n",
      "AP :  (810, 109)\n",
      "BA :  (23782, 109)\n",
      "CE :  (13273, 109)\n",
      "DF :  (4349, 109)\n",
      "ES :  (6380, 109)\n",
      "GO :  (9434, 109)\n",
      "MA :  (8802, 109)\n",
      "MG :  (32564, 109)\n",
      "MS :  (4207, 109)\n",
      "MT :  (5929, 109)\n",
      "PA :  (8769, 109)\n",
      "PB :  (5548, 109)\n",
      "PE :  (12379, 109)\n",
      "PI :  (5251, 109)\n",
      "PR :  (17463, 109)\n",
      "RJ :  (27769, 109)\n",
      "RN :  (4289, 109)\n",
      "RO :  (2346, 109)\n",
      "RR :  (824, 109)\n",
      "RS :  (22332, 109)\n",
      "SC :  (11882, 109)\n",
      "SE :  (3297, 109)\n",
      "SP1 :  (18363, 109)\n",
      "SP2 :  (47733, 109)\n",
      "TO :  (2101, 109)\n",
      " \n",
      "../data/censo/bases/tratado/organized/responsavel_renda/\n",
      "AC :  (874, 133)\n",
      "AL :  (3724, 133)\n",
      "AM :  (5641, 133)\n",
      "AP :  (810, 133)\n",
      "BA :  (23782, 133)\n",
      "CE :  (13276, 133)\n",
      "DF :  (4349, 133)\n",
      "ES :  (6380, 133)\n",
      "GO :  (9434, 133)\n",
      "MA :  (8802, 133)\n",
      "MG :  (32564, 133)\n",
      "MS :  (4207, 133)\n",
      "MT :  (5929, 133)\n",
      "PA :  (8769, 133)\n",
      "PB :  (5548, 133)\n",
      "PE :  (12379, 133)\n",
      "PI :  (5251, 133)\n",
      "PR :  (17465, 133)\n",
      "RJ :  (27769, 133)\n",
      "RN :  (4289, 133)\n",
      "RO :  (2346, 133)\n",
      "RR :  (824, 133)\n",
      "RS :  (22332, 133)\n",
      "SC :  (11882, 133)\n",
      "SE :  (3297, 133)\n",
      "SP1 :  (18363, 133)\n",
      "SP2 :  (47733, 133)\n",
      "TO :  (2101, 133)\n",
      " \n"
     ]
    }
   ],
   "source": [
    "for folder in folders:\n",
    "    files = glob.glob(f'{folder}*.xls')\n",
    "    print(folder)\n",
    "    for file in files:\n",
    "\n",
    "        uf = file[-6:][:2].upper()\n",
    "        if uf == 'P1':\n",
    "            uf='SP1'\n",
    "        if uf == 'P2':\n",
    "            uf='SP2'\n",
    "        \n",
    "        treated_path = f'{folder}sigla_uf={uf}'\n",
    "        if os.path.isdir(treated_path) == False:\n",
    "            df = pd.read_excel(file)\n",
    "            df.columns = manipulation.normalize_cols(df.columns)\n",
    "            os.mkdir(treated_path)\n",
    "                    \n",
    "            file_name = file.split('/')[-1].split('_')[0].lower() + '.xls'\n",
    "            \n",
    "            \n",
    "            drop_col = [i for i in df.columns.tolist() if i.startswith('unnamed')]\n",
    "#             drop_col = drop_col\n",
    "            df = df.drop(columns=drop_col)\n",
    "            \n",
    "#             cols = df.columns.tolist()[:1] + ['uf_sigla'] + df.columns.tolist()[1:]\n",
    "#             df['uf_sigla']=uf\n",
    "            cols_rename = [col  for col in df.columns.tolist() if  col[-1]=='_']\n",
    "            rename_dict = ref_dict = dict(zip(cols_rename, [col[:-1] for col in cols_rename]))\n",
    "            df = df.rename(columns=rename_dict)\n",
    "            \n",
    "            for col in df.columns.tolist():\n",
    "                df[col] = df[col].astype(str).str.replace(',','.')\n",
    "#             display(df.head(2))\n",
    "            df = df.rename(columns = {'cod_setor':'id_setor_censitario'})    \n",
    "            if folder == '../data/censo/bases/tratado/organized/basico/':\n",
    "                df = df.rename(columns = {'cod_setor':'id_setor_censitario'})\n",
    "                cols = ['id_setor_censitario',\n",
    "                        'v001','v002','v003','v004','v005','v006',\n",
    "                        'v007','v008','v009','v010','v011','v012',\n",
    "                       ]\n",
    "                df = df[cols]\n",
    "\n",
    "            elif  folder == '../data/censo/bases/tratado/organized/basico_diretorio/':\n",
    "                df = df.rename(columns = {'cod_setor':'id_setor_censitario'})\n",
    "                df = df.rename(columns = {\n",
    "                    'cod_rm':'id_rm',\n",
    "                    'cod_municipio':'id_municipio',\n",
    "                    'cod_distrito':'id_distrito',\n",
    "                    'cod_subdistrito':'id_subdistrito',\n",
    "                    'cod_bairro':'id_bairro',\n",
    "                    'nome_da_rm':'nome_rm',\n",
    "                    'nome_do_distrito':'nome_distrito',\n",
    "                    'nome_do_subdistrito':'nome_subdistrito',\n",
    "                    'nome_do_bairro':'nome_bairro',\n",
    "                })\n",
    "                \n",
    "                cols = ['id_setor_censitario','id_municipio',\n",
    "                        'id_rm','nome_rm','id_distrito','nome_distrito',\n",
    "                        'id_subdistrito','nome_subdistrito','id_bairro',\n",
    "                        'nome_bairro','situacao_setor','tipo_setor']\n",
    "                df = df[cols]\n",
    "                df['nome_bairro'] = df['nome_bairro'].str.replace('todos os setores','')\\\n",
    "                                                     .str.replace(r\"\\(.*\\)\",'').str.strip()\n",
    "                \n",
    "            else:\n",
    "                cols = [col for col in df.columns.tolist() if re.match('v\\d\\d\\d', col)]\n",
    "                df = df[['id_setor_censitario'] + cols]\n",
    "    \n",
    "        else:\n",
    "            pass\n",
    "        f_name = file_name.split('.')[0]\n",
    "        print(uf,': ',df.shape)\n",
    "        df.to_csv(f'{treated_path}/{f_name}.csv', index=False, encoding='utf-8')\n",
    "        os.remove(file)\n",
    "\n",
    "    print(' ')"
   ]
  },
  {
   "cell_type": "code",
   "execution_count": 22,
   "metadata": {},
   "outputs": [],
   "source": [
    "# ../data/censo/bases/tratado/organized/alfabetizacao_homens_mulheres/\n",
    "# CE :  (13276, 171)\n",
    "# DF :  (4349, 171)\n",
    "# ES :  (6380, 171)\n",
    "# GO :  (9434, 171)\n",
    "# MA :  (8802, 171)\n",
    "# MG :  (32564, 171)\n",
    "# MS :  (4207, 171)\n",
    "# MT :  (5929, 171)\n",
    "# PA :  (8769, 171)\n",
    "# PB :  (5548, 171)\n",
    "# PE :  (12379, 171)\n",
    "# PI :  (5251, 171)\n",
    "# PR :  (17465, 171)\n",
    "# RJ :  (27769, 171)\n",
    "# RN :  (4289, 171)\n",
    "# RO :  (2346, 171)\n",
    "# RR :  (824, 171)\n",
    "# RS :  (22332, 171)\n",
    "# SC :  (11882, 171)\n",
    "# SE :  (3297, 171)\n",
    "# SP1 :  (18363, 171)\n",
    "# SP2 :  (47733, 171)\n",
    "# TO :  (2101, 171)"
   ]
  },
  {
   "cell_type": "code",
   "execution_count": null,
   "metadata": {},
   "outputs": [],
   "source": []
  },
  {
   "cell_type": "code",
   "execution_count": 49,
   "metadata": {},
   "outputs": [],
   "source": [
    "## merge entorno"
   ]
  },
  {
   "cell_type": "code",
   "execution_count": null,
   "metadata": {},
   "outputs": [],
   "source": [
    "partitions = [partition.split('/')[-1] for partition \\\n",
    "              in glob.glob(\"../data/censo/bases/tratado/organized/entorno01/*\")]\n",
    "\n",
    "from functools import reduce\n",
    "\n",
    "partitions_done = [partition.split('/')[-1] for partition \\\n",
    "              in glob.glob(\"../data/censo/bases/tratado/organized/entorno/*\")]\n",
    "partitions_f = [pt for pt in partitions if pt not in partitions_done]"
   ]
  },
  {
   "cell_type": "code",
   "execution_count": null,
   "metadata": {
    "scrolled": true
   },
   "outputs": [],
   "source": [
    "entorno_path = '../data/censo/bases/tratado/organized/entorno'\n",
    "for partition in partitions_f:\n",
    "    print(partition)\n",
    "    e1 = pd.read_csv(f'{entorno_path}01/{partition}/entorno01.csv',dtype={'id_setor_censitario':int}).sort_values(by='id_setor_censitario')\n",
    "    e2 = pd.read_csv(f'{entorno_path}02/{partition}/entorno02.csv',dtype={'id_setor_censitario':int}).sort_values(by='id_setor_censitario')\n",
    "    e3 = pd.read_csv(f'{entorno_path}03/{partition}/entorno03.csv',dtype={'id_setor_censitario':int}).sort_values(by='id_setor_censitario')\n",
    "    e4 = pd.read_csv(f'{entorno_path}04/{partition}/entorno04.csv',dtype={'id_setor_censitario':int}).sort_values(by='id_setor_censitario')\n",
    "    e5 = pd.read_csv(f'{entorno_path}05/{partition}/entorno05.csv',dtype={'id_setor_censitario':int}).sort_values(by='id_setor_censitario')\n",
    "    \n",
    "    dfs = [e1,e2,e3,e4,e5]\n",
    "    ef = reduce(lambda left,right: pd.merge(left,right,\n",
    "                                            on='id_setor_censitario',\n",
    "                                            how='outer'), dfs)\n",
    "    \n",
    "    \n",
    "    print('e1:', e1.shape)\n",
    "    print('e2:', e2.shape)\n",
    "    print('e3:', e3.shape)\n",
    "    print('e4:', e4.shape)\n",
    "    print('e5:', e5.shape)\n",
    "    print('ef:', ef.shape)\n",
    "    print(' ')\n",
    "    os.mkdir(f'{entorno_path}/{partition}')\n",
    "    ef.to_csv(f'{entorno_path}/{partition}/entorno.csv', index=False)\n",
    "    \n",
    "    del dfs, e1, e2, e3, e4, e5, ef"
   ]
  },
  {
   "cell_type": "code",
   "execution_count": null,
   "metadata": {},
   "outputs": [],
   "source": []
  },
  {
   "cell_type": "code",
   "execution_count": null,
   "metadata": {},
   "outputs": [],
   "source": []
  },
  {
   "cell_type": "code",
   "execution_count": null,
   "metadata": {},
   "outputs": [],
   "source": []
  },
  {
   "cell_type": "markdown",
   "metadata": {},
   "source": [
    "## Generate and fill configs"
   ]
  },
  {
   "cell_type": "code",
   "execution_count": 18,
   "metadata": {},
   "outputs": [],
   "source": [
    "# tb = Table('domicilio_renda_setor_censitario','br_ibge_censo2010')"
   ]
  },
  {
   "cell_type": "code",
   "execution_count": 19,
   "metadata": {},
   "outputs": [],
   "source": [
    "# tb.create('../dados/censo/bases/tratado/organized/domicilio_renda/',if_exists=\"replace\")"
   ]
  },
  {
   "cell_type": "code",
   "execution_count": 20,
   "metadata": {},
   "outputs": [],
   "source": [
    "reference_table_path = '../data/censo/bases/tratado/reference_tables/'\n",
    "folders = glob.glob(\"../data/censo/bases/tratado/organized/*/\")\n"
   ]
  },
  {
   "cell_type": "code",
   "execution_count": 28,
   "metadata": {
    "scrolled": true
   },
   "outputs": [
    {
     "name": "stderr",
     "output_type": "stream",
     "text": [
      "Uploading files:   0%|          | 0/28 [00:00<?, ?it/s]"
     ]
    },
    {
     "name": "stdout",
     "output_type": "stream",
     "text": [
      "0  -  ../data/censo/bases/tratado/organized/basico/\n"
     ]
    },
    {
     "name": "stderr",
     "output_type": "stream",
     "text": [
      "Uploading files: 100%|██████████| 28/28 [00:38<00:00,  1.36s/it]\n"
     ]
    },
    {
     "name": "stdout",
     "output_type": "stream",
     "text": [
      " \n"
     ]
    }
   ],
   "source": [
    "# i=2\n",
    "i=0\n",
    "for folder in folders:\n",
    "    print(i,' - ',folder)\n",
    "    i+=1\n",
    "    folder_name = folder.split('/')[-2]\n",
    "#     reference_table_file = reference_table_path + folder_name + '.xlsx'\n",
    "#     ref = pd.read_excel(reference_table_file)\n",
    "\n",
    "#     bd_base_path = '/mnt/AEB0CCA7B0CC777D/Jlab/gabinete_sv/mais/bases/br_ibge_censo2010/' + f'{folder_name}_setor_censitario/table_config.yaml'\n",
    "    \n",
    "    \n",
    "    \n",
    "#     ref.columns = manipulation.normalize_cols(ref.columns)\n",
    "    \n",
    "#     if 'codigo_da_variavel' in ref.columns.tolist():\n",
    "#         ref['codigo_da_variavel'] = manipulation.normalize_cols(ref['codigo_da_variavel'])\n",
    "\n",
    "#         var_name = ref['codigo_da_variavel'].tolist()\n",
    "#         var_desc = ref['descricao_do_setor'].tolist()\n",
    "        \n",
    "#     elif 'nome_da_variavel' in ref.columns.tolist():\n",
    "#         ref['nome_da_variavel'] = manipulation.normalize_cols(ref['nome_da_variavel'])\n",
    "\n",
    "#         var_name = ref['nome_da_variavel'].tolist()\n",
    "#         var_desc = ref['descricao_da_variavel'].tolist()\n",
    "\n",
    "#     ref_dict = dict(zip(var_name, var_desc))\n",
    "#     ref_dict['uf_sigla'] = 'Sigla do Estado'\n",
    "#     ref_dict['sigla_uf'] = 'Sigla do Estado'\n",
    "#     ref_dict['situacao_setor'] = 'Código de situação do setor - Situação urbana - Códigos: 1, 2 e 3    - 1 - Área urbanizada de cidade ou vila    - 2 - Área não urbanizada de cidade ou vila    - 3 - Área urbana isolada - Situação rural – códigos: 4, 5, 6, 7 e 8    - 4 - Aglomerado rural de extensão urbana     - 5 - Aglomerado rural isolado – povoado    - 6 - Aglomerado rural isolado – núcleo    - 7 - Aglomerado rural isolado - outros aglomerados    - 8 - Zona rural, exclusive aglomerado rural'\n",
    "    \n",
    "    \n",
    "    tb = Table(f'{folder_name}_setor_censitario','br_ibge_censo2010')\n",
    "    tb.create(f'../data/censo/bases/tratado/organized/{folder_name}/',\n",
    "              if_exists=\"replace\",\n",
    "              partitioned=True,\n",
    "              force_dataset=False\n",
    "             )\n",
    "\n",
    "\n",
    "#     yaml =ml ruamel.yaml.YAML()\n",
    "#     # yaml.preserve_quotes = Truehttps://basedosdados.org/api/3/action/tag_list\n",
    "#     with open(bd_base_path) as fp:\n",
    "#         config_yaml = yaml.load(fp)\n",
    "\n",
    "\n",
    "#     for var_dict in config_yaml['columns']:\n",
    "#             var_dict['description'] = ref_dict[var_dict['name']]\n",
    "            \n",
    "#     config_yaml['treated_by']['nome'] = 'Diego Oliveira'\n",
    "#     config_yaml['treated_by']['website'] = 'https://www.al.sp.gov.br/servidor/lista/?todos=true'\n",
    "#     config_yaml['treated_by']['email'] = 'ds.oliveira404@gmail.com'\n",
    "\n",
    "#     config_yaml['published_by']['name'] = 'Diego Oliveira'\n",
    "#     config_yaml['published_by']['website'] = 'github.com/d116626'\n",
    "#     config_yaml['published_by']['email'] =  'ds.oliveira404@gmail.com'\n",
    "\n",
    "#     config_yaml['treatment_description'] = 'Padronização do nome das colunas, remoção de textos e logos, unificação das bases'\n",
    "\n",
    "#     config_yaml['data_update_frequency'] = '10 anos'\n",
    "\n",
    "#     config_yaml['observation_level'] = ['cod_setor','sigla_uf' ]\n",
    "\n",
    "#     config_yaml['coverage_geo'] = ['BR']\n",
    "\n",
    "\n",
    "#     config_yaml['coverage_time'] = ['2010']\n",
    "\n",
    "#     config_yaml['columns'] = [i for i in config_yaml['columns'][:1]] + [config_yaml['columns'][-1]] + [i for i in config_yaml['columns'][1:-1]]\n",
    "    \n",
    "#     with open(bd_base_path, 'w') as fp:\n",
    "#         yaml.dump(config_yaml, fp)\n",
    "        \n",
    "\n",
    "    print(' ')\n"
   ]
  },
  {
   "cell_type": "code",
   "execution_count": null,
   "metadata": {},
   "outputs": [],
   "source": []
  },
  {
   "cell_type": "code",
   "execution_count": 6,
   "metadata": {},
   "outputs": [],
   "source": [
    "reference_table_path = '../data/censo/bases/tratado/reference_tables/'\n",
    "folders = glob.glob(\"../data/censo/bases/tratado/organized/*/\")"
   ]
  },
  {
   "cell_type": "code",
   "execution_count": 11,
   "metadata": {},
   "outputs": [
    {
     "name": "stdout",
     "output_type": "stream",
     "text": [
      "0  -  ../data/censo/bases/tratado/organized/alfabetizacao_homens_mulheres/\n",
      "1  -  ../data/censo/bases/tratado/organized/alfabetizacao_total/\n",
      "2  -  ../data/censo/bases/tratado/organized/basico/\n",
      "3  -  ../data/censo/bases/tratado/organized/domicilio_caracteristicas_gerais/\n",
      "4  -  ../data/censo/bases/tratado/organized/domicilio_moradores/\n",
      "5  -  ../data/censo/bases/tratado/organized/domicilio_renda/\n",
      "6  -  ../data/censo/bases/tratado/organized/entorno01/\n",
      "7  -  ../data/censo/bases/tratado/organized/entorno02/\n",
      "8  -  ../data/censo/bases/tratado/organized/entorno03/\n",
      "9  -  ../data/censo/bases/tratado/organized/entorno04/\n",
      "10  -  ../data/censo/bases/tratado/organized/entorno05/\n",
      "11  -  ../data/censo/bases/tratado/organized/idade_homens/\n",
      "12  -  ../data/censo/bases/tratado/organized/idade_mulheres/\n",
      "13  -  ../data/censo/bases/tratado/organized/idade_total/\n",
      "14  -  ../data/censo/bases/tratado/organized/pessoa_renda/\n",
      "15  -  ../data/censo/bases/tratado/organized/raca_alfabetizacao_idade_genero/\n",
      "16  -  ../data/censo/bases/tratado/organized/raca_idade_0_4_genero/\n",
      "17  -  ../data/censo/bases/tratado/organized/raca_idade_genero/\n",
      "18  -  ../data/censo/bases/tratado/organized/registro_civil/\n",
      "19  -  ../data/censo/bases/tratado/organized/relacao_parentesco_conjuges/\n",
      "20  -  ../data/censo/bases/tratado/organized/relacao_parentesco_filhos/\n",
      "21  -  ../data/censo/bases/tratado/organized/relacao_parentesco_filhos_enteados/\n",
      "22  -  ../data/censo/bases/tratado/organized/relacao_parentesco_outros/\n",
      "23  -  ../data/censo/bases/tratado/organized/responsavel_domicilios_homens_total/\n",
      "24  -  ../data/censo/bases/tratado/organized/responsavel_domicilios_mulheres/\n",
      "25  -  ../data/censo/bases/tratado/organized/responsavel_renda/\n"
     ]
    }
   ],
   "source": [
    "i=0\n",
    "for folder in folders:\n",
    "    print(i,' - ',folder)\n",
    "    i+=1\n",
    "    folder_name = folder.split('/')[-2]\n",
    "    \n",
    "    tb = Table(f'{folder_name}_setor_censitario','br_ibge_censo2010')\n",
    "    tb.publish(if_exists='replace')"
   ]
  },
  {
   "cell_type": "code",
   "execution_count": null,
   "metadata": {},
   "outputs": [],
   "source": []
  },
  {
   "cell_type": "code",
   "execution_count": null,
   "metadata": {},
   "outputs": [],
   "source": []
  },
  {
   "cell_type": "code",
   "execution_count": null,
   "metadata": {},
   "outputs": [],
   "source": []
  },
  {
   "cell_type": "code",
   "execution_count": null,
   "metadata": {},
   "outputs": [],
   "source": []
  },
  {
   "cell_type": "code",
   "execution_count": null,
   "metadata": {},
   "outputs": [],
   "source": []
  },
  {
   "cell_type": "code",
   "execution_count": 15,
   "metadata": {},
   "outputs": [],
   "source": [
    "tb = Table(f'setor_censitario','br_bd_diretorios_brasil')"
   ]
  },
  {
   "cell_type": "code",
   "execution_count": 13,
   "metadata": {},
   "outputs": [
    {
     "name": "stderr",
     "output_type": "stream",
     "text": [
      "Uploading files: 100%|██████████| 28/28 [00:39<00:00,  1.42s/it]\n"
     ]
    }
   ],
   "source": [
    "tb.create(f'../data/censo/bases/tratado/basico_diretorio/',\n",
    "          if_exists=\"replace\",\n",
    "          partitioned=True,\n",
    "          force_dataset=False\n",
    "         )"
   ]
  },
  {
   "cell_type": "code",
   "execution_count": 16,
   "metadata": {},
   "outputs": [],
   "source": [
    "tb.publish(if_exists='replace')"
   ]
  },
  {
   "cell_type": "code",
   "execution_count": null,
   "metadata": {},
   "outputs": [],
   "source": []
  },
  {
   "cell_type": "code",
   "execution_count": null,
   "metadata": {},
   "outputs": [],
   "source": []
  },
  {
   "cell_type": "code",
   "execution_count": null,
   "metadata": {},
   "outputs": [],
   "source": []
  },
  {
   "cell_type": "code",
   "execution_count": null,
   "metadata": {},
   "outputs": [],
   "source": []
  },
  {
   "cell_type": "code",
   "execution_count": null,
   "metadata": {},
   "outputs": [],
   "source": []
  },
  {
   "cell_type": "code",
   "execution_count": null,
   "metadata": {},
   "outputs": [],
   "source": []
  },
  {
   "cell_type": "code",
   "execution_count": null,
   "metadata": {},
   "outputs": [],
   "source": []
  },
  {
   "cell_type": "code",
   "execution_count": null,
   "metadata": {},
   "outputs": [],
   "source": []
  },
  {
   "cell_type": "code",
   "execution_count": null,
   "metadata": {},
   "outputs": [],
   "source": []
  },
  {
   "cell_type": "code",
   "execution_count": 8,
   "metadata": {},
   "outputs": [],
   "source": [
    "erro = []\n",
    "\n",
    "while erro!=[]:\n",
    "    for i in erro:\n",
    "        folder = folders[i]\n",
    "        try:\n",
    "            print(i,' - ',folder)\n",
    "            folder_name = folder.split('/')[-2]\n",
    "\n",
    "            tb = Table(f'{folder_name}_setor_censitario','br_ibge_censo2010')\n",
    "            tb.publish(if_exists='replace')\n",
    "#             tb.delete('prod')\n",
    "#             tb.publish()\n",
    "            \n",
    "            erro.remove(i)\n",
    "            \n",
    "        except Exception as e:\n",
    "            print(i, ' - ', e.message)\n",
    "#     tb.update()"
   ]
  },
  {
   "cell_type": "code",
   "execution_count": null,
   "metadata": {},
   "outputs": [],
   "source": []
  },
  {
   "cell_type": "code",
   "execution_count": null,
   "metadata": {},
   "outputs": [],
   "source": []
  },
  {
   "cell_type": "code",
   "execution_count": null,
   "metadata": {},
   "outputs": [],
   "source": []
  },
  {
   "cell_type": "code",
   "execution_count": null,
   "metadata": {},
   "outputs": [],
   "source": []
  },
  {
   "cell_type": "code",
   "execution_count": null,
   "metadata": {},
   "outputs": [],
   "source": []
  },
  {
   "cell_type": "code",
   "execution_count": 9,
   "metadata": {},
   "outputs": [
    {
     "name": "stderr",
     "output_type": "stream",
     "text": [
      "Uploading files: 100%|██████████| 28/28 [01:27<00:00,  3.14s/it]\n"
     ]
    }
   ],
   "source": [
    "folder_name = 'alfabetizacao_homens_mulheres'\n",
    "tb = Table(f'{folder_name}_setor_censitario','br_ibge_censo2010')\n",
    "tb.create(f'../data/censo/bases/tratado/organized/{folder_name}/',\n",
    "          if_exists=\"replace\",\n",
    "          partitioned=True,\n",
    "          force_dataset=False\n",
    "         )"
   ]
  },
  {
   "cell_type": "code",
   "execution_count": 13,
   "metadata": {},
   "outputs": [],
   "source": [
    "tb.publish(if_exists='replace')"
   ]
  },
  {
   "cell_type": "code",
   "execution_count": null,
   "metadata": {},
   "outputs": [],
   "source": []
  },
  {
   "cell_type": "code",
   "execution_count": null,
   "metadata": {},
   "outputs": [],
   "source": [
    "tb.create()"
   ]
  },
  {
   "cell_type": "code",
   "execution_count": null,
   "metadata": {},
   "outputs": [],
   "source": []
  },
  {
   "cell_type": "code",
   "execution_count": null,
   "metadata": {},
   "outputs": [],
   "source": []
  },
  {
   "cell_type": "code",
   "execution_count": 23,
   "metadata": {},
   "outputs": [
    {
     "ename": "Exception",
     "evalue": "Column {'name': 'id_setor_censitario', 'description': 'Código do setor censitário', 'is_in_staging': True, 'is_partition': False} was not found in schema. Are you sure that all your column names between table_config.yaml and publish.sql are the same?",
     "output_type": "error",
     "traceback": [
      "\u001b[0;31m---------------------------------------------------------------------------\u001b[0m",
      "\u001b[0;31mException\u001b[0m                                 Traceback (most recent call last)",
      "\u001b[0;32m<ipython-input-23-7f5cfda32671>\u001b[0m in \u001b[0;36m<module>\u001b[0;34m\u001b[0m\n\u001b[0;32m----> 1\u001b[0;31m \u001b[0mtb\u001b[0m\u001b[0;34m.\u001b[0m\u001b[0mupdate\u001b[0m\u001b[0;34m(\u001b[0m\u001b[0mmode\u001b[0m\u001b[0;34m=\u001b[0m\u001b[0;34m'all'\u001b[0m\u001b[0;34m)\u001b[0m\u001b[0;34m\u001b[0m\u001b[0;34m\u001b[0m\u001b[0m\n\u001b[0m",
      "\u001b[0;32m/mnt/AEB0CCA7B0CC777D/Jlab/gabinete_sv/bd+/mais/basedosdados/table.py\u001b[0m in \u001b[0;36mupdate\u001b[0;34m(self, mode, not_found_ok)\u001b[0m\n\u001b[1;32m    324\u001b[0m \u001b[0;34m\u001b[0m\u001b[0m\n\u001b[1;32m    325\u001b[0m             \u001b[0;31m# if m == \"prod\":/\u001b[0m\u001b[0;34m\u001b[0m\u001b[0;34m\u001b[0m\u001b[0;34m\u001b[0m\u001b[0m\n\u001b[0;32m--> 326\u001b[0;31m             \u001b[0mtable\u001b[0m\u001b[0;34m.\u001b[0m\u001b[0mschema\u001b[0m \u001b[0;34m=\u001b[0m \u001b[0mself\u001b[0m\u001b[0;34m.\u001b[0m\u001b[0m_load_schema\u001b[0m\u001b[0;34m(\u001b[0m\u001b[0mm\u001b[0m\u001b[0;34m)\u001b[0m\u001b[0;34m\u001b[0m\u001b[0;34m\u001b[0m\u001b[0m\n\u001b[0m\u001b[1;32m    327\u001b[0m \u001b[0;34m\u001b[0m\u001b[0m\n\u001b[1;32m    328\u001b[0m             self.client[f\"bigquery_{m}\"].update_table(\n",
      "\u001b[0;32m/mnt/AEB0CCA7B0CC777D/Jlab/gabinete_sv/bd+/mais/basedosdados/table.py\u001b[0m in \u001b[0;36m_load_schema\u001b[0;34m(self, mode)\u001b[0m\n\u001b[1;32m     73\u001b[0m                         \u001b[0;32mbreak\u001b[0m\u001b[0;34m\u001b[0m\u001b[0;34m\u001b[0m\u001b[0m\n\u001b[1;32m     74\u001b[0m                 \u001b[0;32melse\u001b[0m\u001b[0;34m:\u001b[0m\u001b[0;34m\u001b[0m\u001b[0;34m\u001b[0m\u001b[0m\n\u001b[0;32m---> 75\u001b[0;31m                     raise Exception(\n\u001b[0m\u001b[1;32m     76\u001b[0m                         \u001b[0;34mf\"Column {c} was not found in schema. Are you sure that \"\u001b[0m\u001b[0;34m\u001b[0m\u001b[0;34m\u001b[0m\u001b[0m\n\u001b[1;32m     77\u001b[0m                         \u001b[0;34m\"all your column names between table_config.yaml and \"\u001b[0m\u001b[0;34m\u001b[0m\u001b[0;34m\u001b[0m\u001b[0m\n",
      "\u001b[0;31mException\u001b[0m: Column {'name': 'id_setor_censitario', 'description': 'Código do setor censitário', 'is_in_staging': True, 'is_partition': False} was not found in schema. Are you sure that all your column names between table_config.yaml and publish.sql are the same?"
     ]
    }
   ],
   "source": [
    "tb.update(mode='all')"
   ]
  },
  {
   "cell_type": "code",
   "execution_count": null,
   "metadata": {},
   "outputs": [],
   "source": []
  },
  {
   "cell_type": "code",
   "execution_count": null,
   "metadata": {},
   "outputs": [],
   "source": []
  },
  {
   "cell_type": "code",
   "execution_count": null,
   "metadata": {},
   "outputs": [],
   "source": []
  },
  {
   "cell_type": "code",
   "execution_count": null,
   "metadata": {},
   "outputs": [],
   "source": []
  },
  {
   "cell_type": "code",
   "execution_count": 8,
   "metadata": {},
   "outputs": [],
   "source": [
    "tb.update()"
   ]
  },
  {
   "cell_type": "code",
   "execution_count": null,
   "metadata": {},
   "outputs": [],
   "source": []
  },
  {
   "cell_type": "code",
   "execution_count": null,
   "metadata": {},
   "outputs": [],
   "source": []
  },
  {
   "cell_type": "code",
   "execution_count": 27,
   "metadata": {},
   "outputs": [],
   "source": [
    "Dataset('br_ibge_censo2010').update()"
   ]
  },
  {
   "cell_type": "code",
   "execution_count": 196,
   "metadata": {},
   "outputs": [],
   "source": []
  },
  {
   "cell_type": "code",
   "execution_count": null,
   "metadata": {},
   "outputs": [],
   "source": []
  },
  {
   "cell_type": "code",
   "execution_count": null,
   "metadata": {},
   "outputs": [],
   "source": []
  },
  {
   "cell_type": "code",
   "execution_count": 165,
   "metadata": {},
   "outputs": [],
   "source": []
  },
  {
   "cell_type": "code",
   "execution_count": null,
   "metadata": {},
   "outputs": [],
   "source": []
  },
  {
   "cell_type": "code",
   "execution_count": null,
   "metadata": {},
   "outputs": [],
   "source": []
  },
  {
   "cell_type": "code",
   "execution_count": null,
   "metadata": {},
   "outputs": [],
   "source": []
  },
  {
   "cell_type": "code",
   "execution_count": null,
   "metadata": {},
   "outputs": [],
   "source": []
  },
  {
   "cell_type": "code",
   "execution_count": null,
   "metadata": {},
   "outputs": [],
   "source": []
  },
  {
   "cell_type": "code",
   "execution_count": null,
   "metadata": {},
   "outputs": [],
   "source": []
  },
  {
   "cell_type": "code",
   "execution_count": null,
   "metadata": {},
   "outputs": [],
   "source": []
  },
  {
   "cell_type": "code",
   "execution_count": null,
   "metadata": {},
   "outputs": [],
   "source": []
  },
  {
   "cell_type": "code",
   "execution_count": 20,
   "metadata": {},
   "outputs": [
    {
     "data": {
      "text/plain": [
       "['../dados/censo/bases/tratado/reference_tables/alfabetizacao_homens_mulheres.xlsx',\n",
       " '../dados/censo/bases/tratado/reference_tables/alfabetizacao_total.xlsx',\n",
       " '../dados/censo/bases/tratado/reference_tables/BASE DE INFORMAАхES POR SETOR CENSIT╡RIO Censo 2010 - Universo.doc',\n",
       " '../dados/censo/bases/tratado/reference_tables/BASE DE INFORMAАхES POR SETOR CENSIT╡RIO Censo 2010 - Universo.pdf',\n",
       " '../dados/censo/bases/tratado/reference_tables/basico.xlsx',\n",
       " '../dados/censo/bases/tratado/reference_tables/domicilio_caracteristicas_gerais.xlsx',\n",
       " '../dados/censo/bases/tratado/reference_tables/domicilio_moradores.xlsx',\n",
       " '../dados/censo/bases/tratado/reference_tables/domicilio_renda.xlsx',\n",
       " '../dados/censo/bases/tratado/reference_tables/Entorno01_UF.xlsx',\n",
       " '../dados/censo/bases/tratado/reference_tables/Entorno02_UF.xlsx',\n",
       " '../dados/censo/bases/tratado/reference_tables/Entorno03_UF.xlsx',\n",
       " '../dados/censo/bases/tratado/reference_tables/Entorno04_UF.xlsx',\n",
       " '../dados/censo/bases/tratado/reference_tables/Entorno05_UF.xlsx',\n",
       " '../dados/censo/bases/tratado/reference_tables/idade_homens.xlsx',\n",
       " '../dados/censo/bases/tratado/reference_tables/idade_mulheres.xlsx',\n",
       " '../dados/censo/bases/tratado/reference_tables/idade_total.xlsx',\n",
       " '../dados/censo/bases/tratado/reference_tables/pessoa_renda.xlsx',\n",
       " '../dados/censo/bases/tratado/reference_tables/raca_alfabetizacao_idade_genero.xlsx',\n",
       " '../dados/censo/bases/tratado/reference_tables/raca_idade_0_4_genero.xlsx',\n",
       " '../dados/censo/bases/tratado/reference_tables/raca_idade_genero.xlsx',\n",
       " '../dados/censo/bases/tratado/reference_tables/registro_civil.xlsx',\n",
       " '../dados/censo/bases/tratado/reference_tables/relacao_parentesco_conjuges.xlsx',\n",
       " '../dados/censo/bases/tratado/reference_tables/relacao_parentesco_filhos.xlsx',\n",
       " '../dados/censo/bases/tratado/reference_tables/relacao_parentesco_filhos_enteados.xlsx',\n",
       " '../dados/censo/bases/tratado/reference_tables/relacao_parentesco_outros.xlsx',\n",
       " '../dados/censo/bases/tratado/reference_tables/responsavel_domicilios_homens_total.xlsx',\n",
       " '../dados/censo/bases/tratado/reference_tables/responsavel_domicilios_mulheres.xlsx',\n",
       " '../dados/censo/bases/tratado/reference_tables/responsavel_renda.xlsx']"
      ]
     },
     "execution_count": 20,
     "metadata": {},
     "output_type": "execute_result"
    }
   ],
   "source": [
    "reference_tables"
   ]
  },
  {
   "cell_type": "code",
   "execution_count": null,
   "metadata": {},
   "outputs": [],
   "source": []
  },
  {
   "cell_type": "code",
   "execution_count": null,
   "metadata": {},
   "outputs": [],
   "source": []
  },
  {
   "cell_type": "code",
   "execution_count": null,
   "metadata": {},
   "outputs": [],
   "source": []
  },
  {
   "cell_type": "code",
   "execution_count": null,
   "metadata": {},
   "outputs": [],
   "source": []
  },
  {
   "cell_type": "code",
   "execution_count": null,
   "metadata": {},
   "outputs": [],
   "source": []
  },
  {
   "cell_type": "code",
   "execution_count": null,
   "metadata": {},
   "outputs": [],
   "source": []
  },
  {
   "cell_type": "code",
   "execution_count": null,
   "metadata": {},
   "outputs": [],
   "source": []
  },
  {
   "cell_type": "code",
   "execution_count": null,
   "metadata": {},
   "outputs": [],
   "source": []
  },
  {
   "cell_type": "code",
   "execution_count": null,
   "metadata": {},
   "outputs": [],
   "source": []
  },
  {
   "cell_type": "code",
   "execution_count": null,
   "metadata": {},
   "outputs": [],
   "source": []
  },
  {
   "cell_type": "code",
   "execution_count": null,
   "metadata": {},
   "outputs": [],
   "source": []
  },
  {
   "cell_type": "code",
   "execution_count": null,
   "metadata": {},
   "outputs": [],
   "source": []
  },
  {
   "cell_type": "code",
   "execution_count": null,
   "metadata": {},
   "outputs": [],
   "source": []
  },
  {
   "cell_type": "code",
   "execution_count": null,
   "metadata": {},
   "outputs": [],
   "source": []
  },
  {
   "cell_type": "code",
   "execution_count": null,
   "metadata": {},
   "outputs": [],
   "source": []
  },
  {
   "cell_type": "code",
   "execution_count": null,
   "metadata": {},
   "outputs": [],
   "source": []
  },
  {
   "cell_type": "code",
   "execution_count": null,
   "metadata": {},
   "outputs": [],
   "source": []
  },
  {
   "cell_type": "code",
   "execution_count": null,
   "metadata": {},
   "outputs": [],
   "source": []
  },
  {
   "cell_type": "code",
   "execution_count": 16,
   "metadata": {},
   "outputs": [
    {
     "data": {
      "text/plain": [
       "\"\\n\\nuf_sigla, uf_sigla with eleitos as (\\nSELECT \\ncargo,\\nresultado,\\nano,\\nid_candidato_bd,\\nFROM `basedosdados.br_tse_eleicoes.resultados_candidato`\\nwhere resultado!='nao eleito' and cargo='vereador'\\n)\\n\\nselect ano, count(distinct id_candidato_bd) as number\\nfrom eleitos\\ngroup by ano\\n\\n\""
      ]
     },
     "execution_count": 16,
     "metadata": {},
     "output_type": "execute_result"
    }
   ],
   "source": [
    "\"\"\"\n",
    "\n",
    "with eleitos as (\n",
    "SELECT \n",
    "cargo,\n",
    "resultado,\n",
    "ano,\n",
    "id_candidato_bd,\n",
    "FROM `basedosdados.br_tse_eleicoes.resultados_candidato`\n",
    "where \n",
    "  resultado='eleito' or\n",
    "  resultado='eleito por media' or\n",
    "  resultado='eleito por qp'\n",
    "),\n",
    "\n",
    "eleitos_vereadores as (\n",
    "select *\n",
    "from eleitos\n",
    "where\n",
    " cargo='vereador' and ano=2020\n",
    ")\n",
    "\n",
    "select ano, count(distinct id_candidato_bd) as number\n",
    "from eleitos\n",
    "group by ano\n",
    "order by ano\n",
    "\n",
    "\"\"\""
   ]
  },
  {
   "cell_type": "code",
   "execution_count": null,
   "metadata": {},
   "outputs": [],
   "source": []
  },
  {
   "cell_type": "code",
   "execution_count": null,
   "metadata": {},
   "outputs": [],
   "source": []
  },
  {
   "cell_type": "code",
   "execution_count": null,
   "metadata": {},
   "outputs": [],
   "source": []
  },
  {
   "cell_type": "code",
   "execution_count": null,
   "metadata": {},
   "outputs": [],
   "source": []
  },
  {
   "cell_type": "code",
   "execution_count": null,
   "metadata": {},
   "outputs": [],
   "source": []
  },
  {
   "cell_type": "code",
   "execution_count": null,
   "metadata": {},
   "outputs": [],
   "source": []
  },
  {
   "cell_type": "code",
   "execution_count": null,
   "metadata": {},
   "outputs": [],
   "source": []
  },
  {
   "cell_type": "code",
   "execution_count": null,
   "metadata": {},
   "outputs": [],
   "source": []
  },
  {
   "cell_type": "code",
   "execution_count": null,
   "metadata": {},
   "outputs": [],
   "source": []
  },
  {
   "cell_type": "code",
   "execution_count": null,
   "metadata": {},
   "outputs": [],
   "source": []
  },
  {
   "cell_type": "code",
   "execution_count": null,
   "metadata": {},
   "outputs": [],
   "source": []
  },
  {
   "cell_type": "code",
   "execution_count": null,
   "metadata": {},
   "outputs": [],
   "source": []
  },
  {
   "cell_type": "code",
   "execution_count": null,
   "metadata": {},
   "outputs": [],
   "source": []
  },
  {
   "cell_type": "code",
   "execution_count": null,
   "metadata": {},
   "outputs": [],
   "source": []
  },
  {
   "cell_type": "code",
   "execution_count": null,
   "metadata": {},
   "outputs": [],
   "source": []
  },
  {
   "cell_type": "code",
   "execution_count": null,
   "metadata": {},
   "outputs": [],
   "source": []
  },
  {
   "cell_type": "code",
   "execution_count": null,
   "metadata": {},
   "outputs": [],
   "source": []
  },
  {
   "cell_type": "code",
   "execution_count": null,
   "metadata": {},
   "outputs": [],
   "source": []
  },
  {
   "cell_type": "markdown",
   "metadata": {},
   "source": [
    "# CONVERT MAP TABLES"
   ]
  },
  {
   "cell_type": "markdown",
   "metadata": {},
   "source": [
    "### Básico_UF.csv"
   ]
  },
  {
   "cell_type": "code",
   "execution_count": 247,
   "metadata": {},
   "outputs": [],
   "source": [
    "var = 'Básico_UF'\n",
    "pages='45-46'\n",
    "df = extract_df(var,pages)"
   ]
  },
  {
   "cell_type": "code",
   "execution_count": 155,
   "metadata": {},
   "outputs": [],
   "source": [
    "df.to_excel(f'../dados/censo/map_tables/{var}.xlsx', index=False)"
   ]
  },
  {
   "cell_type": "code",
   "execution_count": null,
   "metadata": {},
   "outputs": [],
   "source": []
  },
  {
   "cell_type": "markdown",
   "metadata": {},
   "source": [
    "### Domicilio01_UF.csv"
   ]
  },
  {
   "cell_type": "code",
   "execution_count": 153,
   "metadata": {},
   "outputs": [],
   "source": [
    "var = 'Domicilio01_UF'\n",
    "pages = '47-58'\n",
    "df = extract_df(var,pages)"
   ]
  },
  {
   "cell_type": "code",
   "execution_count": 155,
   "metadata": {},
   "outputs": [],
   "source": [
    "df.to_excel(f'../dados/censo/map_tables/{var}.xlsx', index=False)"
   ]
  },
  {
   "cell_type": "code",
   "execution_count": null,
   "metadata": {},
   "outputs": [],
   "source": []
  },
  {
   "cell_type": "markdown",
   "metadata": {},
   "source": [
    "### Domicilio02_UF.csv"
   ]
  },
  {
   "cell_type": "code",
   "execution_count": 156,
   "metadata": {},
   "outputs": [],
   "source": [
    "var = 'Domicilio02_UF'\n",
    "pages = '59-65'\n",
    "df = extract_df(var,pages)"
   ]
  },
  {
   "cell_type": "code",
   "execution_count": 158,
   "metadata": {},
   "outputs": [],
   "source": [
    "df.to_excel(f'../dados/censo/map_tables/{var}.xlsx', index=False)"
   ]
  },
  {
   "cell_type": "code",
   "execution_count": null,
   "metadata": {},
   "outputs": [],
   "source": []
  },
  {
   "cell_type": "markdown",
   "metadata": {},
   "source": [
    "### Responsável01_UF.xls"
   ]
  },
  {
   "cell_type": "code",
   "execution_count": 159,
   "metadata": {},
   "outputs": [],
   "source": [
    "var = 'Responsável01_UF'\n",
    "pages = '66-70'\n",
    "df = extract_df(var,pages)"
   ]
  },
  {
   "cell_type": "code",
   "execution_count": 161,
   "metadata": {},
   "outputs": [],
   "source": [
    "df.to_excel(f'../dados/censo/map_tables/{var}.xlsx', index=False)"
   ]
  },
  {
   "cell_type": "code",
   "execution_count": null,
   "metadata": {},
   "outputs": [],
   "source": []
  },
  {
   "cell_type": "markdown",
   "metadata": {},
   "source": [
    "### Responsável02_UF.csv"
   ]
  },
  {
   "cell_type": "code",
   "execution_count": 162,
   "metadata": {},
   "outputs": [],
   "source": [
    "var = 'Responsável02_UF'\n",
    "pages = '71-78'\n",
    "df = extract_df(var,pages)"
   ]
  },
  {
   "cell_type": "code",
   "execution_count": 163,
   "metadata": {},
   "outputs": [],
   "source": [
    "df.to_excel(f'../dados/censo/map_tables/{var}.xlsx', index=False)"
   ]
  },
  {
   "cell_type": "code",
   "execution_count": null,
   "metadata": {},
   "outputs": [],
   "source": []
  },
  {
   "cell_type": "markdown",
   "metadata": {},
   "source": [
    "### Pessoa01_UF.csv"
   ]
  },
  {
   "cell_type": "code",
   "execution_count": 165,
   "metadata": {},
   "outputs": [],
   "source": [
    "var = 'Pessoa01_UF'\n",
    "pages = '79-81'\n",
    "df = extract_df(var,pages)"
   ]
  },
  {
   "cell_type": "code",
   "execution_count": 167,
   "metadata": {},
   "outputs": [],
   "source": [
    "df.to_excel(f'../dados/censo/map_tables/{var}.xlsx', index=False)"
   ]
  },
  {
   "cell_type": "code",
   "execution_count": null,
   "metadata": {},
   "outputs": [],
   "source": []
  },
  {
   "cell_type": "markdown",
   "metadata": {},
   "source": [
    "### Pessoa02_UF.csv"
   ]
  },
  {
   "cell_type": "code",
   "execution_count": 168,
   "metadata": {},
   "outputs": [],
   "source": [
    "var = 'Pessoa02_UF'\n",
    "pages = '82-87'\n",
    "df = extract_df(var,pages)"
   ]
  },
  {
   "cell_type": "code",
   "execution_count": 170,
   "metadata": {},
   "outputs": [],
   "source": [
    "df.to_excel(f'../dados/censo/map_tables/{var}.xlsx', index=False)"
   ]
  },
  {
   "cell_type": "code",
   "execution_count": null,
   "metadata": {},
   "outputs": [],
   "source": []
  },
  {
   "cell_type": "markdown",
   "metadata": {},
   "source": [
    "### Pessoa03_UF.csv"
   ]
  },
  {
   "cell_type": "code",
   "execution_count": 177,
   "metadata": {},
   "outputs": [],
   "source": [
    "var = 'Pessoa03_UF'\n",
    "pages='88-98'\n",
    "df = extract_df(var,pages)"
   ]
  },
  {
   "cell_type": "code",
   "execution_count": 178,
   "metadata": {},
   "outputs": [],
   "source": [
    "df.to_excel(f'../dados/censo/map_tables/{var}.xlsx', index=False)"
   ]
  },
  {
   "cell_type": "code",
   "execution_count": null,
   "metadata": {},
   "outputs": [],
   "source": []
  },
  {
   "cell_type": "markdown",
   "metadata": {},
   "source": [
    "### Pessoa04_UF.xls"
   ]
  },
  {
   "cell_type": "code",
   "execution_count": 241,
   "metadata": {},
   "outputs": [],
   "source": [
    "var = 'Pessoa04_UF'\n",
    "pages = '99-105'\n",
    "df = extract_df(var,pages)"
   ]
  },
  {
   "cell_type": "code",
   "execution_count": 242,
   "metadata": {},
   "outputs": [],
   "source": [
    "df.to_excel(f'../dados/censo/map_tables/{var}.xlsx', index=False)"
   ]
  },
  {
   "cell_type": "code",
   "execution_count": null,
   "metadata": {},
   "outputs": [],
   "source": []
  },
  {
   "cell_type": "markdown",
   "metadata": {},
   "source": [
    "### Pessoa05_UF.xls"
   ]
  },
  {
   "cell_type": "code",
   "execution_count": 237,
   "metadata": {},
   "outputs": [],
   "source": [
    "var = 'Pessoa05_UF'\n",
    "pages = '106'\n",
    "df = extract_df(var,pages)"
   ]
  },
  {
   "cell_type": "code",
   "execution_count": 238,
   "metadata": {},
   "outputs": [],
   "source": [
    "df.to_excel(f'../dados/censo/map_tables/{var}.xlsx', index=False)"
   ]
  },
  {
   "cell_type": "code",
   "execution_count": null,
   "metadata": {},
   "outputs": [],
   "source": []
  },
  {
   "cell_type": "markdown",
   "metadata": {},
   "source": [
    "### Pessoa06_UF.xls"
   ]
  },
  {
   "cell_type": "code",
   "execution_count": 239,
   "metadata": {},
   "outputs": [],
   "source": [
    "var = 'Pessoa06_UF'\n",
    "pages = '107-116'\n",
    "df = extract_df(var,pages)"
   ]
  },
  {
   "cell_type": "code",
   "execution_count": 240,
   "metadata": {},
   "outputs": [],
   "source": [
    "df.to_excel(f'../dados/censo/map_tables/{var}.xlsx', index=False)"
   ]
  },
  {
   "cell_type": "code",
   "execution_count": null,
   "metadata": {},
   "outputs": [],
   "source": []
  },
  {
   "cell_type": "code",
   "execution_count": null,
   "metadata": {},
   "outputs": [],
   "source": []
  },
  {
   "cell_type": "markdown",
   "metadata": {},
   "source": [
    "### Pessoa07_UF.xls"
   ]
  },
  {
   "cell_type": "code",
   "execution_count": 182,
   "metadata": {},
   "outputs": [],
   "source": [
    "var = 'Pessoa07_UF'\n",
    "pages = '117-123'\n",
    "df = extract_df(var,pages)"
   ]
  },
  {
   "cell_type": "code",
   "execution_count": 183,
   "metadata": {},
   "outputs": [],
   "source": [
    "df.to_excel(f'../dados/censo/map_tables/{var}.xlsx', index=False)"
   ]
  },
  {
   "cell_type": "code",
   "execution_count": null,
   "metadata": {},
   "outputs": [],
   "source": []
  },
  {
   "cell_type": "markdown",
   "metadata": {},
   "source": [
    "### Pessoa08_UF.xls"
   ]
  },
  {
   "cell_type": "code",
   "execution_count": 243,
   "metadata": {},
   "outputs": [],
   "source": [
    "var = 'Pessoa08_UF'\n",
    "pages = '124-131'\n",
    "df = extract_df(var,pages)"
   ]
  },
  {
   "cell_type": "code",
   "execution_count": 244,
   "metadata": {},
   "outputs": [],
   "source": [
    "df.to_excel(f'../dados/censo/map_tables/{var}.xlsx', index=False)"
   ]
  },
  {
   "cell_type": "code",
   "execution_count": null,
   "metadata": {},
   "outputs": [],
   "source": []
  },
  {
   "cell_type": "markdown",
   "metadata": {},
   "source": [
    "### Pessoa09_UF.xls"
   ]
  },
  {
   "cell_type": "code",
   "execution_count": 245,
   "metadata": {},
   "outputs": [],
   "source": [
    "var = 'Pessoa09_UF'\n",
    "pages = '132-138'\n",
    "df = extract_df(var,pages)"
   ]
  },
  {
   "cell_type": "code",
   "execution_count": 246,
   "metadata": {},
   "outputs": [],
   "source": [
    "df.to_excel(f'../dados/censo/map_tables/{var}.xlsx', index=False)"
   ]
  },
  {
   "cell_type": "code",
   "execution_count": null,
   "metadata": {},
   "outputs": [],
   "source": []
  },
  {
   "cell_type": "code",
   "execution_count": null,
   "metadata": {},
   "outputs": [],
   "source": []
  },
  {
   "cell_type": "markdown",
   "metadata": {},
   "source": [
    "### Pessoa10_UF.xls"
   ]
  },
  {
   "cell_type": "code",
   "execution_count": 189,
   "metadata": {},
   "outputs": [],
   "source": [
    "var = 'Pessoa10_UF'\n",
    "pages = '139'\n",
    "df = extract_df(var,pages)"
   ]
  },
  {
   "cell_type": "code",
   "execution_count": 191,
   "metadata": {},
   "outputs": [],
   "source": [
    "df.to_excel(f'../dados/censo/map_tables/{var}.xlsx', index=False)"
   ]
  },
  {
   "cell_type": "code",
   "execution_count": null,
   "metadata": {},
   "outputs": [],
   "source": []
  },
  {
   "cell_type": "markdown",
   "metadata": {},
   "source": [
    "### Pessoa13_UF.xls"
   ]
  },
  {
   "cell_type": "code",
   "execution_count": 192,
   "metadata": {},
   "outputs": [],
   "source": [
    "var = 'Pessoa13_UF'\n",
    "pages = '140-143'\n",
    "df = extract_df(var,pages)"
   ]
  },
  {
   "cell_type": "code",
   "execution_count": 194,
   "metadata": {},
   "outputs": [],
   "source": [
    "df.to_excel(f'../dados/censo/map_tables/{var}.xlsx', index=False)"
   ]
  },
  {
   "cell_type": "code",
   "execution_count": null,
   "metadata": {},
   "outputs": [],
   "source": []
  },
  {
   "cell_type": "markdown",
   "metadata": {},
   "source": [
    "### Pessoa11_UF.xls"
   ]
  },
  {
   "cell_type": "code",
   "execution_count": 195,
   "metadata": {},
   "outputs": [],
   "source": [
    "var = 'Pessoa11_UF'\n",
    "pages = '144-147'\n",
    "df = extract_df(var,pages)"
   ]
  },
  {
   "cell_type": "code",
   "execution_count": 197,
   "metadata": {},
   "outputs": [],
   "source": [
    "df.to_excel(f'../dados/censo/map_tables/{var}.xlsx', index=False)"
   ]
  },
  {
   "cell_type": "code",
   "execution_count": null,
   "metadata": {},
   "outputs": [],
   "source": []
  },
  {
   "cell_type": "code",
   "execution_count": null,
   "metadata": {},
   "outputs": [],
   "source": []
  },
  {
   "cell_type": "markdown",
   "metadata": {},
   "source": [
    "### Pessoa12_UF.xls"
   ]
  },
  {
   "cell_type": "code",
   "execution_count": 198,
   "metadata": {},
   "outputs": [],
   "source": [
    "var = 'Pessoa12_UF'\n",
    "pages = '148-152'\n",
    "df = extract_df(var,pages)"
   ]
  },
  {
   "cell_type": "code",
   "execution_count": 199,
   "metadata": {},
   "outputs": [],
   "source": [
    "df.to_excel(f'../dados/censo/map_tables/{var}.xlsx', index=False)"
   ]
  },
  {
   "cell_type": "code",
   "execution_count": null,
   "metadata": {},
   "outputs": [],
   "source": []
  },
  {
   "cell_type": "code",
   "execution_count": null,
   "metadata": {},
   "outputs": [],
   "source": []
  },
  {
   "cell_type": "markdown",
   "metadata": {},
   "source": [
    "### DomicílioRenda _UF.xls"
   ]
  },
  {
   "cell_type": "code",
   "execution_count": 200,
   "metadata": {},
   "outputs": [],
   "source": [
    "var = 'DomicilioRenda _UF'\n",
    "pages = '153'\n",
    "df = extract_df(var,pages)"
   ]
  },
  {
   "cell_type": "code",
   "execution_count": 202,
   "metadata": {},
   "outputs": [],
   "source": [
    "df.to_excel(f'../dados/censo/map_tables/{var}.xlsx', index=False)"
   ]
  },
  {
   "cell_type": "code",
   "execution_count": null,
   "metadata": {},
   "outputs": [],
   "source": []
  },
  {
   "cell_type": "code",
   "execution_count": null,
   "metadata": {},
   "outputs": [],
   "source": []
  },
  {
   "cell_type": "markdown",
   "metadata": {},
   "source": [
    "### ResponsavelRenda_UF"
   ]
  },
  {
   "cell_type": "code",
   "execution_count": 203,
   "metadata": {},
   "outputs": [],
   "source": [
    "var = 'ResponsavelRenda_UF'\n",
    "pages = '154-162'\n",
    "df = extract_df(var,pages)"
   ]
  },
  {
   "cell_type": "code",
   "execution_count": 205,
   "metadata": {},
   "outputs": [],
   "source": [
    "df.to_excel(f'../dados/censo/map_tables/{var}.xlsx', index=False)"
   ]
  },
  {
   "cell_type": "code",
   "execution_count": null,
   "metadata": {},
   "outputs": [],
   "source": []
  },
  {
   "cell_type": "code",
   "execution_count": null,
   "metadata": {},
   "outputs": [],
   "source": []
  },
  {
   "cell_type": "markdown",
   "metadata": {},
   "source": [
    "### PessoaRenda_UF.xls"
   ]
  },
  {
   "cell_type": "code",
   "execution_count": 206,
   "metadata": {},
   "outputs": [],
   "source": [
    "var = 'PessoaRenda_UF'\n",
    "pages = '163-171'\n",
    "df = extract_df(var,pages)"
   ]
  },
  {
   "cell_type": "code",
   "execution_count": 209,
   "metadata": {},
   "outputs": [],
   "source": [
    "df.to_excel(f'../dados/censo/map_tables/{var}.xlsx', index=False)"
   ]
  },
  {
   "cell_type": "code",
   "execution_count": null,
   "metadata": {},
   "outputs": [],
   "source": []
  },
  {
   "cell_type": "code",
   "execution_count": null,
   "metadata": {},
   "outputs": [],
   "source": []
  },
  {
   "cell_type": "markdown",
   "metadata": {},
   "source": [
    "### Entorno01_UF.xls"
   ]
  },
  {
   "cell_type": "code",
   "execution_count": 235,
   "metadata": {},
   "outputs": [],
   "source": [
    "var = 'Entorno01_UF'\n",
    "pages = '172-183'\n",
    "df = extract_df(var,pages)"
   ]
  },
  {
   "cell_type": "code",
   "execution_count": 236,
   "metadata": {},
   "outputs": [],
   "source": [
    "df.to_excel(f'../dados/censo/map_tables/{var}.xlsx', index=False)"
   ]
  },
  {
   "cell_type": "code",
   "execution_count": null,
   "metadata": {},
   "outputs": [],
   "source": []
  },
  {
   "cell_type": "code",
   "execution_count": null,
   "metadata": {},
   "outputs": [],
   "source": []
  },
  {
   "cell_type": "markdown",
   "metadata": {},
   "source": [
    "### Entorno02_UF.xls"
   ]
  },
  {
   "cell_type": "code",
   "execution_count": 214,
   "metadata": {},
   "outputs": [],
   "source": [
    "var = 'Entorno02_UF'\n",
    "pages = '184-196'\n",
    "df = extract_df(var,pages)"
   ]
  },
  {
   "cell_type": "code",
   "execution_count": 216,
   "metadata": {},
   "outputs": [],
   "source": [
    "df.to_excel(f'../dados/censo/map_tables/{var}.xlsx', index=False)"
   ]
  },
  {
   "cell_type": "code",
   "execution_count": null,
   "metadata": {},
   "outputs": [],
   "source": []
  },
  {
   "cell_type": "code",
   "execution_count": null,
   "metadata": {},
   "outputs": [],
   "source": []
  },
  {
   "cell_type": "markdown",
   "metadata": {},
   "source": [
    "### Entorno03_UF.xls"
   ]
  },
  {
   "cell_type": "code",
   "execution_count": 225,
   "metadata": {},
   "outputs": [],
   "source": [
    "var = 'Entorno03_UF'\n",
    "pages = '197-210'\n",
    "df = extract_df(var,pages)"
   ]
  },
  {
   "cell_type": "code",
   "execution_count": 226,
   "metadata": {},
   "outputs": [],
   "source": [
    "df.to_excel(f'../dados/censo/map_tables/{var}.xlsx', index=False)"
   ]
  },
  {
   "cell_type": "code",
   "execution_count": null,
   "metadata": {},
   "outputs": [],
   "source": []
  },
  {
   "cell_type": "code",
   "execution_count": null,
   "metadata": {},
   "outputs": [],
   "source": []
  },
  {
   "cell_type": "code",
   "execution_count": null,
   "metadata": {},
   "outputs": [],
   "source": []
  },
  {
   "cell_type": "markdown",
   "metadata": {},
   "source": [
    "### Entorno04_UF.xls"
   ]
  },
  {
   "cell_type": "code",
   "execution_count": 229,
   "metadata": {},
   "outputs": [],
   "source": [
    "var = 'Entorno04_UF'\n",
    "pages = '211-223'\n",
    "df = extract_df(var,pages)"
   ]
  },
  {
   "cell_type": "code",
   "execution_count": 231,
   "metadata": {},
   "outputs": [],
   "source": [
    "df.to_excel(f'../dados/censo/map_tables/{var}.xlsx', index=False)"
   ]
  },
  {
   "cell_type": "code",
   "execution_count": null,
   "metadata": {},
   "outputs": [],
   "source": []
  },
  {
   "cell_type": "code",
   "execution_count": null,
   "metadata": {},
   "outputs": [],
   "source": []
  },
  {
   "cell_type": "markdown",
   "metadata": {},
   "source": [
    "### Entorno05_UF.xls"
   ]
  },
  {
   "cell_type": "code",
   "execution_count": 232,
   "metadata": {},
   "outputs": [],
   "source": [
    "var = 'Entorno05_UF'\n",
    "pages = '224-234'\n",
    "df = extract_df(var,pages)"
   ]
  },
  {
   "cell_type": "code",
   "execution_count": 234,
   "metadata": {},
   "outputs": [],
   "source": [
    "df.to_excel(f'../dados/censo/map_tables/{var}.xlsx', index=False)"
   ]
  },
  {
   "cell_type": "code",
   "execution_count": null,
   "metadata": {},
   "outputs": [],
   "source": []
  },
  {
   "cell_type": "code",
   "execution_count": null,
   "metadata": {},
   "outputs": [],
   "source": []
  },
  {
   "cell_type": "code",
   "execution_count": null,
   "metadata": {},
   "outputs": [],
   "source": []
  },
  {
   "cell_type": "code",
   "execution_count": null,
   "metadata": {},
   "outputs": [],
   "source": []
  },
  {
   "cell_type": "code",
   "execution_count": 221,
   "metadata": {},
   "outputs": [],
   "source": [
    "def extract_df(var,pages):\n",
    "    dd = camelot.read_pdf('../dados/censo/map_tables/BASE DE INFORMAАхES POR SETOR CENSIT╡RIO Censo 2010 - Universo.pdf', pages=pages)\n",
    "    df = pd.DataFrame()\n",
    "\n",
    "    for i in range(len(dd)):\n",
    "        df = pd.concat([df,dd[i].df], axis=0)\n",
    "\n",
    "    df = df.reset_index(drop=True)\n",
    "    for col in df.columns.to_list():\n",
    "        df[col] = df[col].str.replace('\\r',' ').str.replace('\\n',' ')\n",
    "    # df.columns = df.columns.str.replace('\\r',' ')\n",
    "    df.columns = ['Nome da variável','Descrição da variável']\n",
    "\n",
    "    mask = df['Descrição da variável']!=df['Descrição da variável'][0]\n",
    "    df = df[mask]\n",
    "    \n",
    "    mask = df['Descrição da variável']!='Descrição da variável'\n",
    "    df = df[mask]\n",
    "    \n",
    "    return df"
   ]
  },
  {
   "cell_type": "code",
   "execution_count": null,
   "metadata": {},
   "outputs": [],
   "source": []
  }
 ],
 "metadata": {
  "kernelspec": {
   "display_name": "Python 3",
   "language": "python",
   "name": "python3"
  },
  "language_info": {
   "codemirror_mode": {
    "name": "ipython",
    "version": 3
   },
   "file_extension": ".py",
   "mimetype": "text/x-python",
   "name": "python",
   "nbconvert_exporter": "python",
   "pygments_lexer": "ipython3",
   "version": "3.8.3"
  }
 },
 "nbformat": 4,
 "nbformat_minor": 4
}
