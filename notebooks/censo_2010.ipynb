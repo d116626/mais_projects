{
 "cells": [
  {
   "cell_type": "code",
   "execution_count": 79,
   "metadata": {},
   "outputs": [],
   "source": [
    "import pandas as pd\n",
    "import numpy as np\n",
    "\n",
    "\n",
    "pd.options.display.max_columns = 999\n",
    "pd.options.display.max_rows = 1999\n",
    "pd.options.display.max_colwidth = 100\n",
    "pd.set_option('display.max_colwidth', -1)\n",
    "\n",
    "import warnings\n",
    "warnings.filterwarnings('ignore')\n",
    "\n",
    "from tabula import read_pdf\n",
    "\n",
    "import camelot\n",
    "\n",
    "from camelot import utils\n",
    "\n",
    "import os\n",
    "import glob\n",
    "\n",
    "from paths import *\n",
    "from scripts import manipulation\n",
    "from scripts import io\n",
    "\n",
    "\n",
    "from basedosdados import Storage, Table, Dataset\n",
    "\n",
    "import yaml\n",
    "\n",
    "import sys\n",
    "import ruamel.yaml"
   ]
  },
  {
   "cell_type": "code",
   "execution_count": 80,
   "metadata": {},
   "outputs": [],
   "source": [
    "folders = glob.glob(\"../dados/censo/bases/tratado/organized/*/\")"
   ]
  },
  {
   "cell_type": "code",
   "execution_count": 82,
   "metadata": {},
   "outputs": [],
   "source": [
    "for folder in folders:\n",
    "    files = glob.glob(f'{folder}*.csv')\n",
    "    print(folder)\n",
    "\n",
    "    for file in files:\n",
    "\n",
    "        uf = file[-6:][:2]\n",
    "        if uf == 'P1':\n",
    "            uf='SP1'\n",
    "        if uf == 'P2':\n",
    "            uf='SP2'\n",
    "            \n",
    "        treated_path = f'{folder}sigla_uf={uf}'\n",
    "        \n",
    "        if os.path.isdir(treated_path) == False:\n",
    "            df = pd.read_csv(file,sep=';', encoding='latin1')\n",
    "            df.columns = manipulation.normalize_cols(df.columns)\n",
    "            os.mkdir(treated_path)\n",
    "                    \n",
    "            file_name = file.split('/')[-1].split('_')[0].lower() + '.csv'\n",
    "            \n",
    "            \n",
    "            drop_col = [i for i in df.columns.tolist() if i.startswith('unnamed')]\n",
    "#             drop_col = drop_col\n",
    "            df = df.drop(columns=drop_col)\n",
    "            \n",
    "#             cols = df.columns.tolist()[:1] + ['uf_sigla'] + df.columns.tolist()[1:]\n",
    "#             df['uf_sigla']=uf\n",
    "            cols_rename = [col  for col in df.columns.tolist() if  col[-1]=='_']\n",
    "            rename_dict = ref_dict = dict(zip(cols_rename, [col[:-1] for col in cols_rename]))\n",
    "            df = df.rename(columns=rename_dict)\n",
    "            \n",
    "            for col in df.columns.tolist():\n",
    "                df[col] = df[col].astype(str).str.replace(',','.')\n",
    "#             display(df.head(2))\n",
    "                \n",
    "        else:\n",
    "            pass\n",
    "        df.to_csv(f'{treated_path}/{file_name}', index=False, encoding='utf-8')\n",
    "        os.remove(file)\n",
    "\n",
    "    print(' ')"
   ]
  },
  {
   "cell_type": "code",
   "execution_count": null,
   "metadata": {},
   "outputs": [],
   "source": []
  },
  {
   "cell_type": "code",
   "execution_count": null,
   "metadata": {},
   "outputs": [],
   "source": []
  },
  {
   "cell_type": "markdown",
   "metadata": {},
   "source": [
    "## Base dos Dados"
   ]
  },
  {
   "cell_type": "code",
   "execution_count": 46,
   "metadata": {},
   "outputs": [],
   "source": [
    "# tb = Table('domicilio_renda_setor_censitario','br_ibge_censo2010')"
   ]
  },
  {
   "cell_type": "code",
   "execution_count": 47,
   "metadata": {},
   "outputs": [],
   "source": [
    "# tb.create('../dados/censo/bases/tratado/organized/domicilio_renda/',if_exists=\"replace\")"
   ]
  },
  {
   "cell_type": "code",
   "execution_count": 48,
   "metadata": {},
   "outputs": [],
   "source": [
    "reference_table_path = '../dados/censo/bases/tratado/reference_tables/'\n",
    "folders = glob.glob(\"../dados/censo/bases/tratado/organized/*/\")\n"
   ]
  },
  {
   "cell_type": "code",
   "execution_count": null,
   "metadata": {},
   "outputs": [],
   "source": []
  },
  {
   "cell_type": "code",
   "execution_count": 83,
   "metadata": {},
   "outputs": [
    {
     "name": "stderr",
     "output_type": "stream",
     "text": [
      "Uploading files:   0%|          | 0/28 [00:00<?, ?it/s]"
     ]
    },
    {
     "name": "stdout",
     "output_type": "stream",
     "text": [
      "2  -  ../dados/censo/bases/tratado/organized/basico/\n"
     ]
    },
    {
     "name": "stderr",
     "output_type": "stream",
     "text": [
      "Uploading files: 100%|██████████| 28/28 [00:44<00:00,  1.59s/it]\n"
     ]
    },
    {
     "name": "stdout",
     "output_type": "stream",
     "text": [
      " \n"
     ]
    }
   ],
   "source": [
    "i=2\n",
    "for folder in folders[i:i+1]:\n",
    "    print(i,' - ',folder)\n",
    "    i+=1\n",
    "    folder_name = folder.split('/')[-2]\n",
    "#     reference_table_file = reference_table_path + folder_name + '.xlsx'\n",
    "#     ref = pd.read_excel(reference_table_file)\n",
    "\n",
    "#     bd_base_path = '/mnt/AEB0CCA7B0CC777D/Jlab/gabinete_sv/mais/bases/br_ibge_censo2010/' + f'{folder_name}_setor_censitario/table_config.yaml'\n",
    "    \n",
    "    \n",
    "    \n",
    "#     ref.columns = manipulation.normalize_cols(ref.columns)\n",
    "    \n",
    "#     if 'codigo_da_variavel' in ref.columns.tolist():\n",
    "#         ref['codigo_da_variavel'] = manipulation.normalize_cols(ref['codigo_da_variavel'])\n",
    "\n",
    "#         var_name = ref['codigo_da_variavel'].tolist()\n",
    "#         var_desc = ref['descricao_do_setor'].tolist()\n",
    "        \n",
    "#     elif 'nome_da_variavel' in ref.columns.tolist():\n",
    "#         ref['nome_da_variavel'] = manipulation.normalize_cols(ref['nome_da_variavel'])\n",
    "\n",
    "#         var_name = ref['nome_da_variavel'].tolist()\n",
    "#         var_desc = ref['descricao_da_variavel'].tolist()\n",
    "\n",
    "#     ref_dict = dict(zip(var_name, var_desc))\n",
    "#     ref_dict['uf_sigla'] = 'Sigla do Estado'\n",
    "#     ref_dict['sigla_uf'] = 'Sigla do Estado'\n",
    "#     ref_dict['situacao_setor'] = 'Código de situação do setor - Situação urbana - Códigos: 1, 2 e 3    - 1 - Área urbanizada de cidade ou vila    - 2 - Área não urbanizada de cidade ou vila    - 3 - Área urbana isolada - Situação rural – códigos: 4, 5, 6, 7 e 8    - 4 - Aglomerado rural de extensão urbana     - 5 - Aglomerado rural isolado – povoado    - 6 - Aglomerado rural isolado – núcleo    - 7 - Aglomerado rural isolado - outros aglomerados    - 8 - Zona rural, exclusive aglomerado rural'\n",
    "    \n",
    "    \n",
    "    tb = Table(f'{folder_name}_setor_censitario','br_ibge_censo2010')\n",
    "    tb.create(f'../dados/censo/bases/tratado/organized/{folder_name}/',if_exists=\"replace\",partitioned=True)\n",
    "\n",
    "\n",
    "#     yaml = ruamel.yaml.YAML()\n",
    "#     # yaml.preserve_quotes = Truehttps://basedosdados.org/api/3/action/tag_list\n",
    "#     with open(bd_base_path) as fp:\n",
    "#         config_yaml = yaml.load(fp)\n",
    "\n",
    "\n",
    "#     for var_dict in config_yaml['columns']:\n",
    "#             var_dict['description'] = ref_dict[var_dict['name']]\n",
    "            \n",
    "#     config_yaml['treated_by']['nome'] = 'Diego Oliveira'\n",
    "#     config_yaml['treated_by']['website'] = 'https://www.al.sp.gov.br/servidor/lista/?todos=true'\n",
    "#     config_yaml['treated_by']['email'] = 'ds.oliveira404@gmail.com'\n",
    "\n",
    "#     config_yaml['published_by']['name'] = 'Diego Oliveira'\n",
    "#     config_yaml['published_by']['website'] = 'github.com/d116626'\n",
    "#     config_yaml['published_by']['email'] =  'ds.oliveira404@gmail.com'\n",
    "\n",
    "#     config_yaml['treatment_description'] = 'Padronização do nome das colunas, remoção de textos e logos, unificação das bases'\n",
    "\n",
    "#     config_yaml['data_update_frequency'] = '10 anos'\n",
    "\n",
    "#     config_yaml['observation_level'] = ['cod_setor','sigla_uf' ]\n",
    "\n",
    "#     config_yaml['coverage_geo'] = ['BR']\n",
    "\n",
    "\n",
    "#     config_yaml['coverage_time'] = ['2010']\n",
    "\n",
    "#     config_yaml['columns'] = [i for i in config_yaml['columns'][:1]] + [config_yaml['columns'][-1]] + [i for i in config_yaml['columns'][1:-1]]\n",
    "    \n",
    "#     with open(bd_base_path, 'w') as fp:\n",
    "#         yaml.dump(config_yaml, fp)\n",
    "        \n",
    "\n",
    "    print(' ')\n"
   ]
  },
  {
   "cell_type": "code",
   "execution_count": null,
   "metadata": {},
   "outputs": [],
   "source": []
  },
  {
   "cell_type": "code",
   "execution_count": 84,
   "metadata": {},
   "outputs": [],
   "source": [
    "reference_table_path = '../dados/censo/bases/tratado/reference_tables/'\n",
    "folders = glob.glob(\"../dados/censo/bases/tratado/organized/*/\")"
   ]
  },
  {
   "cell_type": "code",
   "execution_count": 86,
   "metadata": {},
   "outputs": [
    {
     "name": "stdout",
     "output_type": "stream",
     "text": [
      "2  -  ../dados/censo/bases/tratado/organized/basico/\n"
     ]
    }
   ],
   "source": [
    "erro = []\n",
    "\n",
    "while erro!=[]:\n",
    "    for i in erro:\n",
    "        folder = folders[i]\n",
    "        try:\n",
    "            print(i,' - ',folder)\n",
    "            folder_name = folder.split('/')[-2]\n",
    "\n",
    "            tb = Table(f'{folder_name}_setor_censitario','br_ibge_censo2010')\n",
    "\n",
    "            tb.delete('prod')\n",
    "            tb.publish()\n",
    "            \n",
    "            erro.remove(i)\n",
    "            \n",
    "        except Exception as e:\n",
    "            print(i, ' - ', e.message)\n",
    "#     tb.update()"
   ]
  },
  {
   "cell_type": "code",
   "execution_count": 73,
   "metadata": {},
   "outputs": [
    {
     "data": {
      "text/plain": [
       "[20]"
      ]
     },
     "execution_count": 73,
     "metadata": {},
     "output_type": "execute_result"
    }
   ],
   "source": [
    "erro"
   ]
  },
  {
   "cell_type": "code",
   "execution_count": null,
   "metadata": {},
   "outputs": [],
   "source": []
  },
  {
   "cell_type": "code",
   "execution_count": null,
   "metadata": {},
   "outputs": [],
   "source": []
  },
  {
   "cell_type": "code",
   "execution_count": null,
   "metadata": {},
   "outputs": [],
   "source": []
  },
  {
   "cell_type": "code",
   "execution_count": null,
   "metadata": {},
   "outputs": [],
   "source": []
  },
  {
   "cell_type": "code",
   "execution_count": 8,
   "metadata": {},
   "outputs": [],
   "source": [
    "tb.update()"
   ]
  },
  {
   "cell_type": "code",
   "execution_count": null,
   "metadata": {},
   "outputs": [],
   "source": []
  },
  {
   "cell_type": "code",
   "execution_count": null,
   "metadata": {},
   "outputs": [],
   "source": []
  },
  {
   "cell_type": "code",
   "execution_count": 27,
   "metadata": {},
   "outputs": [],
   "source": [
    "Dataset('br_ibge_censo2010').update()"
   ]
  },
  {
   "cell_type": "code",
   "execution_count": 196,
   "metadata": {},
   "outputs": [],
   "source": []
  },
  {
   "cell_type": "code",
   "execution_count": null,
   "metadata": {},
   "outputs": [],
   "source": []
  },
  {
   "cell_type": "code",
   "execution_count": null,
   "metadata": {},
   "outputs": [],
   "source": []
  },
  {
   "cell_type": "code",
   "execution_count": 165,
   "metadata": {},
   "outputs": [],
   "source": []
  },
  {
   "cell_type": "code",
   "execution_count": null,
   "metadata": {},
   "outputs": [],
   "source": []
  },
  {
   "cell_type": "code",
   "execution_count": null,
   "metadata": {},
   "outputs": [],
   "source": []
  },
  {
   "cell_type": "code",
   "execution_count": null,
   "metadata": {},
   "outputs": [],
   "source": []
  },
  {
   "cell_type": "code",
   "execution_count": null,
   "metadata": {},
   "outputs": [],
   "source": []
  },
  {
   "cell_type": "code",
   "execution_count": null,
   "metadata": {},
   "outputs": [],
   "source": []
  },
  {
   "cell_type": "code",
   "execution_count": null,
   "metadata": {},
   "outputs": [],
   "source": []
  },
  {
   "cell_type": "code",
   "execution_count": null,
   "metadata": {},
   "outputs": [],
   "source": []
  },
  {
   "cell_type": "code",
   "execution_count": null,
   "metadata": {},
   "outputs": [],
   "source": []
  },
  {
   "cell_type": "code",
   "execution_count": 20,
   "metadata": {},
   "outputs": [
    {
     "data": {
      "text/plain": [
       "['../dados/censo/bases/tratado/reference_tables/alfabetizacao_homens_mulheres.xlsx',\n",
       " '../dados/censo/bases/tratado/reference_tables/alfabetizacao_total.xlsx',\n",
       " '../dados/censo/bases/tratado/reference_tables/BASE DE INFORMAАхES POR SETOR CENSIT╡RIO Censo 2010 - Universo.doc',\n",
       " '../dados/censo/bases/tratado/reference_tables/BASE DE INFORMAАхES POR SETOR CENSIT╡RIO Censo 2010 - Universo.pdf',\n",
       " '../dados/censo/bases/tratado/reference_tables/basico.xlsx',\n",
       " '../dados/censo/bases/tratado/reference_tables/domicilio_caracteristicas_gerais.xlsx',\n",
       " '../dados/censo/bases/tratado/reference_tables/domicilio_moradores.xlsx',\n",
       " '../dados/censo/bases/tratado/reference_tables/domicilio_renda.xlsx',\n",
       " '../dados/censo/bases/tratado/reference_tables/Entorno01_UF.xlsx',\n",
       " '../dados/censo/bases/tratado/reference_tables/Entorno02_UF.xlsx',\n",
       " '../dados/censo/bases/tratado/reference_tables/Entorno03_UF.xlsx',\n",
       " '../dados/censo/bases/tratado/reference_tables/Entorno04_UF.xlsx',\n",
       " '../dados/censo/bases/tratado/reference_tables/Entorno05_UF.xlsx',\n",
       " '../dados/censo/bases/tratado/reference_tables/idade_homens.xlsx',\n",
       " '../dados/censo/bases/tratado/reference_tables/idade_mulheres.xlsx',\n",
       " '../dados/censo/bases/tratado/reference_tables/idade_total.xlsx',\n",
       " '../dados/censo/bases/tratado/reference_tables/pessoa_renda.xlsx',\n",
       " '../dados/censo/bases/tratado/reference_tables/raca_alfabetizacao_idade_genero.xlsx',\n",
       " '../dados/censo/bases/tratado/reference_tables/raca_idade_0_4_genero.xlsx',\n",
       " '../dados/censo/bases/tratado/reference_tables/raca_idade_genero.xlsx',\n",
       " '../dados/censo/bases/tratado/reference_tables/registro_civil.xlsx',\n",
       " '../dados/censo/bases/tratado/reference_tables/relacao_parentesco_conjuges.xlsx',\n",
       " '../dados/censo/bases/tratado/reference_tables/relacao_parentesco_filhos.xlsx',\n",
       " '../dados/censo/bases/tratado/reference_tables/relacao_parentesco_filhos_enteados.xlsx',\n",
       " '../dados/censo/bases/tratado/reference_tables/relacao_parentesco_outros.xlsx',\n",
       " '../dados/censo/bases/tratado/reference_tables/responsavel_domicilios_homens_total.xlsx',\n",
       " '../dados/censo/bases/tratado/reference_tables/responsavel_domicilios_mulheres.xlsx',\n",
       " '../dados/censo/bases/tratado/reference_tables/responsavel_renda.xlsx']"
      ]
     },
     "execution_count": 20,
     "metadata": {},
     "output_type": "execute_result"
    }
   ],
   "source": [
    "reference_tables"
   ]
  },
  {
   "cell_type": "code",
   "execution_count": null,
   "metadata": {},
   "outputs": [],
   "source": []
  },
  {
   "cell_type": "code",
   "execution_count": null,
   "metadata": {},
   "outputs": [],
   "source": []
  },
  {
   "cell_type": "code",
   "execution_count": null,
   "metadata": {},
   "outputs": [],
   "source": []
  },
  {
   "cell_type": "code",
   "execution_count": null,
   "metadata": {},
   "outputs": [],
   "source": []
  },
  {
   "cell_type": "code",
   "execution_count": null,
   "metadata": {},
   "outputs": [],
   "source": []
  },
  {
   "cell_type": "code",
   "execution_count": null,
   "metadata": {},
   "outputs": [],
   "source": []
  },
  {
   "cell_type": "code",
   "execution_count": null,
   "metadata": {},
   "outputs": [],
   "source": []
  },
  {
   "cell_type": "code",
   "execution_count": null,
   "metadata": {},
   "outputs": [],
   "source": []
  },
  {
   "cell_type": "code",
   "execution_count": null,
   "metadata": {},
   "outputs": [],
   "source": []
  },
  {
   "cell_type": "code",
   "execution_count": null,
   "metadata": {},
   "outputs": [],
   "source": []
  },
  {
   "cell_type": "code",
   "execution_count": null,
   "metadata": {},
   "outputs": [],
   "source": []
  },
  {
   "cell_type": "code",
   "execution_count": null,
   "metadata": {},
   "outputs": [],
   "source": []
  },
  {
   "cell_type": "code",
   "execution_count": null,
   "metadata": {},
   "outputs": [],
   "source": []
  },
  {
   "cell_type": "code",
   "execution_count": null,
   "metadata": {},
   "outputs": [],
   "source": []
  },
  {
   "cell_type": "code",
   "execution_count": null,
   "metadata": {},
   "outputs": [],
   "source": []
  },
  {
   "cell_type": "code",
   "execution_count": null,
   "metadata": {},
   "outputs": [],
   "source": []
  },
  {
   "cell_type": "code",
   "execution_count": null,
   "metadata": {},
   "outputs": [],
   "source": []
  },
  {
   "cell_type": "code",
   "execution_count": null,
   "metadata": {},
   "outputs": [],
   "source": []
  },
  {
   "cell_type": "code",
   "execution_count": 16,
   "metadata": {},
   "outputs": [
    {
     "data": {
      "text/plain": [
       "\"\\n\\nuf_sigla, uf_sigla with eleitos as (\\nSELECT \\ncargo,\\nresultado,\\nano,\\nid_candidato_bd,\\nFROM `basedosdados.br_tse_eleicoes.resultados_candidato`\\nwhere resultado!='nao eleito' and cargo='vereador'\\n)\\n\\nselect ano, count(distinct id_candidato_bd) as number\\nfrom eleitos\\ngroup by ano\\n\\n\""
      ]
     },
     "execution_count": 16,
     "metadata": {},
     "output_type": "execute_result"
    }
   ],
   "source": [
    "\"\"\"\n",
    "\n",
    "with eleitos as (\n",
    "SELECT \n",
    "cargo,\n",
    "resultado,\n",
    "ano,\n",
    "id_candidato_bd,\n",
    "FROM `basedosdados.br_tse_eleicoes.resultados_candidato`\n",
    "where \n",
    "  resultado='eleito' or\n",
    "  resultado='eleito por media' or\n",
    "  resultado='eleito por qp'\n",
    "),\n",
    "\n",
    "eleitos_vereadores as (\n",
    "select *\n",
    "from eleitos\n",
    "where\n",
    " cargo='vereador' and ano=2020\n",
    ")\n",
    "\n",
    "select ano, count(distinct id_candidato_bd) as number\n",
    "from eleitos\n",
    "group by ano\n",
    "order by ano\n",
    "\n",
    "\"\"\""
   ]
  },
  {
   "cell_type": "code",
   "execution_count": null,
   "metadata": {},
   "outputs": [],
   "source": []
  },
  {
   "cell_type": "code",
   "execution_count": null,
   "metadata": {},
   "outputs": [],
   "source": []
  },
  {
   "cell_type": "code",
   "execution_count": null,
   "metadata": {},
   "outputs": [],
   "source": []
  },
  {
   "cell_type": "code",
   "execution_count": null,
   "metadata": {},
   "outputs": [],
   "source": []
  },
  {
   "cell_type": "code",
   "execution_count": null,
   "metadata": {},
   "outputs": [],
   "source": []
  },
  {
   "cell_type": "code",
   "execution_count": null,
   "metadata": {},
   "outputs": [],
   "source": []
  },
  {
   "cell_type": "code",
   "execution_count": null,
   "metadata": {},
   "outputs": [],
   "source": []
  },
  {
   "cell_type": "code",
   "execution_count": null,
   "metadata": {},
   "outputs": [],
   "source": []
  },
  {
   "cell_type": "code",
   "execution_count": null,
   "metadata": {},
   "outputs": [],
   "source": []
  },
  {
   "cell_type": "code",
   "execution_count": null,
   "metadata": {},
   "outputs": [],
   "source": []
  },
  {
   "cell_type": "code",
   "execution_count": null,
   "metadata": {},
   "outputs": [],
   "source": []
  },
  {
   "cell_type": "code",
   "execution_count": null,
   "metadata": {},
   "outputs": [],
   "source": []
  },
  {
   "cell_type": "code",
   "execution_count": null,
   "metadata": {},
   "outputs": [],
   "source": []
  },
  {
   "cell_type": "code",
   "execution_count": null,
   "metadata": {},
   "outputs": [],
   "source": []
  },
  {
   "cell_type": "code",
   "execution_count": null,
   "metadata": {},
   "outputs": [],
   "source": []
  },
  {
   "cell_type": "code",
   "execution_count": null,
   "metadata": {},
   "outputs": [],
   "source": []
  },
  {
   "cell_type": "code",
   "execution_count": null,
   "metadata": {},
   "outputs": [],
   "source": []
  },
  {
   "cell_type": "code",
   "execution_count": null,
   "metadata": {},
   "outputs": [],
   "source": []
  },
  {
   "cell_type": "markdown",
   "metadata": {},
   "source": [
    "# CONVERT MAP TABLES"
   ]
  },
  {
   "cell_type": "markdown",
   "metadata": {},
   "source": [
    "### Básico_UF.csv"
   ]
  },
  {
   "cell_type": "code",
   "execution_count": 247,
   "metadata": {},
   "outputs": [],
   "source": [
    "var = 'Básico_UF'\n",
    "pages='45-46'\n",
    "df = extract_df(var,pages)"
   ]
  },
  {
   "cell_type": "code",
   "execution_count": 155,
   "metadata": {},
   "outputs": [],
   "source": [
    "df.to_excel(f'../dados/censo/map_tables/{var}.xlsx', index=False)"
   ]
  },
  {
   "cell_type": "code",
   "execution_count": null,
   "metadata": {},
   "outputs": [],
   "source": []
  },
  {
   "cell_type": "markdown",
   "metadata": {},
   "source": [
    "### Domicilio01_UF.csv"
   ]
  },
  {
   "cell_type": "code",
   "execution_count": 153,
   "metadata": {},
   "outputs": [],
   "source": [
    "var = 'Domicilio01_UF'\n",
    "pages = '47-58'\n",
    "df = extract_df(var,pages)"
   ]
  },
  {
   "cell_type": "code",
   "execution_count": 155,
   "metadata": {},
   "outputs": [],
   "source": [
    "df.to_excel(f'../dados/censo/map_tables/{var}.xlsx', index=False)"
   ]
  },
  {
   "cell_type": "code",
   "execution_count": null,
   "metadata": {},
   "outputs": [],
   "source": []
  },
  {
   "cell_type": "markdown",
   "metadata": {},
   "source": [
    "### Domicilio02_UF.csv"
   ]
  },
  {
   "cell_type": "code",
   "execution_count": 156,
   "metadata": {},
   "outputs": [],
   "source": [
    "var = 'Domicilio02_UF'\n",
    "pages = '59-65'\n",
    "df = extract_df(var,pages)"
   ]
  },
  {
   "cell_type": "code",
   "execution_count": 158,
   "metadata": {},
   "outputs": [],
   "source": [
    "df.to_excel(f'../dados/censo/map_tables/{var}.xlsx', index=False)"
   ]
  },
  {
   "cell_type": "code",
   "execution_count": null,
   "metadata": {},
   "outputs": [],
   "source": []
  },
  {
   "cell_type": "markdown",
   "metadata": {},
   "source": [
    "### Responsável01_UF.xls"
   ]
  },
  {
   "cell_type": "code",
   "execution_count": 159,
   "metadata": {},
   "outputs": [],
   "source": [
    "var = 'Responsável01_UF'\n",
    "pages = '66-70'\n",
    "df = extract_df(var,pages)"
   ]
  },
  {
   "cell_type": "code",
   "execution_count": 161,
   "metadata": {},
   "outputs": [],
   "source": [
    "df.to_excel(f'../dados/censo/map_tables/{var}.xlsx', index=False)"
   ]
  },
  {
   "cell_type": "code",
   "execution_count": null,
   "metadata": {},
   "outputs": [],
   "source": []
  },
  {
   "cell_type": "markdown",
   "metadata": {},
   "source": [
    "### Responsável02_UF.csv"
   ]
  },
  {
   "cell_type": "code",
   "execution_count": 162,
   "metadata": {},
   "outputs": [],
   "source": [
    "var = 'Responsável02_UF'\n",
    "pages = '71-78'\n",
    "df = extract_df(var,pages)"
   ]
  },
  {
   "cell_type": "code",
   "execution_count": 163,
   "metadata": {},
   "outputs": [],
   "source": [
    "df.to_excel(f'../dados/censo/map_tables/{var}.xlsx', index=False)"
   ]
  },
  {
   "cell_type": "code",
   "execution_count": null,
   "metadata": {},
   "outputs": [],
   "source": []
  },
  {
   "cell_type": "markdown",
   "metadata": {},
   "source": [
    "### Pessoa01_UF.csv"
   ]
  },
  {
   "cell_type": "code",
   "execution_count": 165,
   "metadata": {},
   "outputs": [],
   "source": [
    "var = 'Pessoa01_UF'\n",
    "pages = '79-81'\n",
    "df = extract_df(var,pages)"
   ]
  },
  {
   "cell_type": "code",
   "execution_count": 167,
   "metadata": {},
   "outputs": [],
   "source": [
    "df.to_excel(f'../dados/censo/map_tables/{var}.xlsx', index=False)"
   ]
  },
  {
   "cell_type": "code",
   "execution_count": null,
   "metadata": {},
   "outputs": [],
   "source": []
  },
  {
   "cell_type": "markdown",
   "metadata": {},
   "source": [
    "### Pessoa02_UF.csv"
   ]
  },
  {
   "cell_type": "code",
   "execution_count": 168,
   "metadata": {},
   "outputs": [],
   "source": [
    "var = 'Pessoa02_UF'\n",
    "pages = '82-87'\n",
    "df = extract_df(var,pages)"
   ]
  },
  {
   "cell_type": "code",
   "execution_count": 170,
   "metadata": {},
   "outputs": [],
   "source": [
    "df.to_excel(f'../dados/censo/map_tables/{var}.xlsx', index=False)"
   ]
  },
  {
   "cell_type": "code",
   "execution_count": null,
   "metadata": {},
   "outputs": [],
   "source": []
  },
  {
   "cell_type": "markdown",
   "metadata": {},
   "source": [
    "### Pessoa03_UF.csv"
   ]
  },
  {
   "cell_type": "code",
   "execution_count": 177,
   "metadata": {},
   "outputs": [],
   "source": [
    "var = 'Pessoa03_UF'\n",
    "pages='88-98'\n",
    "df = extract_df(var,pages)"
   ]
  },
  {
   "cell_type": "code",
   "execution_count": 178,
   "metadata": {},
   "outputs": [],
   "source": [
    "df.to_excel(f'../dados/censo/map_tables/{var}.xlsx', index=False)"
   ]
  },
  {
   "cell_type": "code",
   "execution_count": null,
   "metadata": {},
   "outputs": [],
   "source": []
  },
  {
   "cell_type": "markdown",
   "metadata": {},
   "source": [
    "### Pessoa04_UF.xls"
   ]
  },
  {
   "cell_type": "code",
   "execution_count": 241,
   "metadata": {},
   "outputs": [],
   "source": [
    "var = 'Pessoa04_UF'\n",
    "pages = '99-105'\n",
    "df = extract_df(var,pages)"
   ]
  },
  {
   "cell_type": "code",
   "execution_count": 242,
   "metadata": {},
   "outputs": [],
   "source": [
    "df.to_excel(f'../dados/censo/map_tables/{var}.xlsx', index=False)"
   ]
  },
  {
   "cell_type": "code",
   "execution_count": null,
   "metadata": {},
   "outputs": [],
   "source": []
  },
  {
   "cell_type": "markdown",
   "metadata": {},
   "source": [
    "### Pessoa05_UF.xls"
   ]
  },
  {
   "cell_type": "code",
   "execution_count": 237,
   "metadata": {},
   "outputs": [],
   "source": [
    "var = 'Pessoa05_UF'\n",
    "pages = '106'\n",
    "df = extract_df(var,pages)"
   ]
  },
  {
   "cell_type": "code",
   "execution_count": 238,
   "metadata": {},
   "outputs": [],
   "source": [
    "df.to_excel(f'../dados/censo/map_tables/{var}.xlsx', index=False)"
   ]
  },
  {
   "cell_type": "code",
   "execution_count": null,
   "metadata": {},
   "outputs": [],
   "source": []
  },
  {
   "cell_type": "markdown",
   "metadata": {},
   "source": [
    "### Pessoa06_UF.xls"
   ]
  },
  {
   "cell_type": "code",
   "execution_count": 239,
   "metadata": {},
   "outputs": [],
   "source": [
    "var = 'Pessoa06_UF'\n",
    "pages = '107-116'\n",
    "df = extract_df(var,pages)"
   ]
  },
  {
   "cell_type": "code",
   "execution_count": 240,
   "metadata": {},
   "outputs": [],
   "source": [
    "df.to_excel(f'../dados/censo/map_tables/{var}.xlsx', index=False)"
   ]
  },
  {
   "cell_type": "code",
   "execution_count": null,
   "metadata": {},
   "outputs": [],
   "source": []
  },
  {
   "cell_type": "code",
   "execution_count": null,
   "metadata": {},
   "outputs": [],
   "source": []
  },
  {
   "cell_type": "markdown",
   "metadata": {},
   "source": [
    "### Pessoa07_UF.xls"
   ]
  },
  {
   "cell_type": "code",
   "execution_count": 182,
   "metadata": {},
   "outputs": [],
   "source": [
    "var = 'Pessoa07_UF'\n",
    "pages = '117-123'\n",
    "df = extract_df(var,pages)"
   ]
  },
  {
   "cell_type": "code",
   "execution_count": 183,
   "metadata": {},
   "outputs": [],
   "source": [
    "df.to_excel(f'../dados/censo/map_tables/{var}.xlsx', index=False)"
   ]
  },
  {
   "cell_type": "code",
   "execution_count": null,
   "metadata": {},
   "outputs": [],
   "source": []
  },
  {
   "cell_type": "markdown",
   "metadata": {},
   "source": [
    "### Pessoa08_UF.xls"
   ]
  },
  {
   "cell_type": "code",
   "execution_count": 243,
   "metadata": {},
   "outputs": [],
   "source": [
    "var = 'Pessoa08_UF'\n",
    "pages = '124-131'\n",
    "df = extract_df(var,pages)"
   ]
  },
  {
   "cell_type": "code",
   "execution_count": 244,
   "metadata": {},
   "outputs": [],
   "source": [
    "df.to_excel(f'../dados/censo/map_tables/{var}.xlsx', index=False)"
   ]
  },
  {
   "cell_type": "code",
   "execution_count": null,
   "metadata": {},
   "outputs": [],
   "source": []
  },
  {
   "cell_type": "markdown",
   "metadata": {},
   "source": [
    "### Pessoa09_UF.xls"
   ]
  },
  {
   "cell_type": "code",
   "execution_count": 245,
   "metadata": {},
   "outputs": [],
   "source": [
    "var = 'Pessoa09_UF'\n",
    "pages = '132-138'\n",
    "df = extract_df(var,pages)"
   ]
  },
  {
   "cell_type": "code",
   "execution_count": 246,
   "metadata": {},
   "outputs": [],
   "source": [
    "df.to_excel(f'../dados/censo/map_tables/{var}.xlsx', index=False)"
   ]
  },
  {
   "cell_type": "code",
   "execution_count": null,
   "metadata": {},
   "outputs": [],
   "source": []
  },
  {
   "cell_type": "code",
   "execution_count": null,
   "metadata": {},
   "outputs": [],
   "source": []
  },
  {
   "cell_type": "markdown",
   "metadata": {},
   "source": [
    "### Pessoa10_UF.xls"
   ]
  },
  {
   "cell_type": "code",
   "execution_count": 189,
   "metadata": {},
   "outputs": [],
   "source": [
    "var = 'Pessoa10_UF'\n",
    "pages = '139'\n",
    "df = extract_df(var,pages)"
   ]
  },
  {
   "cell_type": "code",
   "execution_count": 191,
   "metadata": {},
   "outputs": [],
   "source": [
    "df.to_excel(f'../dados/censo/map_tables/{var}.xlsx', index=False)"
   ]
  },
  {
   "cell_type": "code",
   "execution_count": null,
   "metadata": {},
   "outputs": [],
   "source": []
  },
  {
   "cell_type": "markdown",
   "metadata": {},
   "source": [
    "### Pessoa13_UF.xls"
   ]
  },
  {
   "cell_type": "code",
   "execution_count": 192,
   "metadata": {},
   "outputs": [],
   "source": [
    "var = 'Pessoa13_UF'\n",
    "pages = '140-143'\n",
    "df = extract_df(var,pages)"
   ]
  },
  {
   "cell_type": "code",
   "execution_count": 194,
   "metadata": {},
   "outputs": [],
   "source": [
    "df.to_excel(f'../dados/censo/map_tables/{var}.xlsx', index=False)"
   ]
  },
  {
   "cell_type": "code",
   "execution_count": null,
   "metadata": {},
   "outputs": [],
   "source": []
  },
  {
   "cell_type": "markdown",
   "metadata": {},
   "source": [
    "### Pessoa11_UF.xls"
   ]
  },
  {
   "cell_type": "code",
   "execution_count": 195,
   "metadata": {},
   "outputs": [],
   "source": [
    "var = 'Pessoa11_UF'\n",
    "pages = '144-147'\n",
    "df = extract_df(var,pages)"
   ]
  },
  {
   "cell_type": "code",
   "execution_count": 197,
   "metadata": {},
   "outputs": [],
   "source": [
    "df.to_excel(f'../dados/censo/map_tables/{var}.xlsx', index=False)"
   ]
  },
  {
   "cell_type": "code",
   "execution_count": null,
   "metadata": {},
   "outputs": [],
   "source": []
  },
  {
   "cell_type": "code",
   "execution_count": null,
   "metadata": {},
   "outputs": [],
   "source": []
  },
  {
   "cell_type": "markdown",
   "metadata": {},
   "source": [
    "### Pessoa12_UF.xls"
   ]
  },
  {
   "cell_type": "code",
   "execution_count": 198,
   "metadata": {},
   "outputs": [],
   "source": [
    "var = 'Pessoa12_UF'\n",
    "pages = '148-152'\n",
    "df = extract_df(var,pages)"
   ]
  },
  {
   "cell_type": "code",
   "execution_count": 199,
   "metadata": {},
   "outputs": [],
   "source": [
    "df.to_excel(f'../dados/censo/map_tables/{var}.xlsx', index=False)"
   ]
  },
  {
   "cell_type": "code",
   "execution_count": null,
   "metadata": {},
   "outputs": [],
   "source": []
  },
  {
   "cell_type": "code",
   "execution_count": null,
   "metadata": {},
   "outputs": [],
   "source": []
  },
  {
   "cell_type": "markdown",
   "metadata": {},
   "source": [
    "### DomicílioRenda _UF.xls"
   ]
  },
  {
   "cell_type": "code",
   "execution_count": 200,
   "metadata": {},
   "outputs": [],
   "source": [
    "var = 'DomicilioRenda _UF'\n",
    "pages = '153'\n",
    "df = extract_df(var,pages)"
   ]
  },
  {
   "cell_type": "code",
   "execution_count": 202,
   "metadata": {},
   "outputs": [],
   "source": [
    "df.to_excel(f'../dados/censo/map_tables/{var}.xlsx', index=False)"
   ]
  },
  {
   "cell_type": "code",
   "execution_count": null,
   "metadata": {},
   "outputs": [],
   "source": []
  },
  {
   "cell_type": "code",
   "execution_count": null,
   "metadata": {},
   "outputs": [],
   "source": []
  },
  {
   "cell_type": "markdown",
   "metadata": {},
   "source": [
    "### ResponsavelRenda_UF"
   ]
  },
  {
   "cell_type": "code",
   "execution_count": 203,
   "metadata": {},
   "outputs": [],
   "source": [
    "var = 'ResponsavelRenda_UF'\n",
    "pages = '154-162'\n",
    "df = extract_df(var,pages)"
   ]
  },
  {
   "cell_type": "code",
   "execution_count": 205,
   "metadata": {},
   "outputs": [],
   "source": [
    "df.to_excel(f'../dados/censo/map_tables/{var}.xlsx', index=False)"
   ]
  },
  {
   "cell_type": "code",
   "execution_count": null,
   "metadata": {},
   "outputs": [],
   "source": []
  },
  {
   "cell_type": "code",
   "execution_count": null,
   "metadata": {},
   "outputs": [],
   "source": []
  },
  {
   "cell_type": "markdown",
   "metadata": {},
   "source": [
    "### PessoaRenda_UF.xls"
   ]
  },
  {
   "cell_type": "code",
   "execution_count": 206,
   "metadata": {},
   "outputs": [],
   "source": [
    "var = 'PessoaRenda_UF'\n",
    "pages = '163-171'\n",
    "df = extract_df(var,pages)"
   ]
  },
  {
   "cell_type": "code",
   "execution_count": 209,
   "metadata": {},
   "outputs": [],
   "source": [
    "df.to_excel(f'../dados/censo/map_tables/{var}.xlsx', index=False)"
   ]
  },
  {
   "cell_type": "code",
   "execution_count": null,
   "metadata": {},
   "outputs": [],
   "source": []
  },
  {
   "cell_type": "code",
   "execution_count": null,
   "metadata": {},
   "outputs": [],
   "source": []
  },
  {
   "cell_type": "markdown",
   "metadata": {},
   "source": [
    "### Entorno01_UF.xls"
   ]
  },
  {
   "cell_type": "code",
   "execution_count": 235,
   "metadata": {},
   "outputs": [],
   "source": [
    "var = 'Entorno01_UF'\n",
    "pages = '172-183'\n",
    "df = extract_df(var,pages)"
   ]
  },
  {
   "cell_type": "code",
   "execution_count": 236,
   "metadata": {},
   "outputs": [],
   "source": [
    "df.to_excel(f'../dados/censo/map_tables/{var}.xlsx', index=False)"
   ]
  },
  {
   "cell_type": "code",
   "execution_count": null,
   "metadata": {},
   "outputs": [],
   "source": []
  },
  {
   "cell_type": "code",
   "execution_count": null,
   "metadata": {},
   "outputs": [],
   "source": []
  },
  {
   "cell_type": "markdown",
   "metadata": {},
   "source": [
    "### Entorno02_UF.xls"
   ]
  },
  {
   "cell_type": "code",
   "execution_count": 214,
   "metadata": {},
   "outputs": [],
   "source": [
    "var = 'Entorno02_UF'\n",
    "pages = '184-196'\n",
    "df = extract_df(var,pages)"
   ]
  },
  {
   "cell_type": "code",
   "execution_count": 216,
   "metadata": {},
   "outputs": [],
   "source": [
    "df.to_excel(f'../dados/censo/map_tables/{var}.xlsx', index=False)"
   ]
  },
  {
   "cell_type": "code",
   "execution_count": null,
   "metadata": {},
   "outputs": [],
   "source": []
  },
  {
   "cell_type": "code",
   "execution_count": null,
   "metadata": {},
   "outputs": [],
   "source": []
  },
  {
   "cell_type": "markdown",
   "metadata": {},
   "source": [
    "### Entorno03_UF.xls"
   ]
  },
  {
   "cell_type": "code",
   "execution_count": 225,
   "metadata": {},
   "outputs": [],
   "source": [
    "var = 'Entorno03_UF'\n",
    "pages = '197-210'\n",
    "df = extract_df(var,pages)"
   ]
  },
  {
   "cell_type": "code",
   "execution_count": 226,
   "metadata": {},
   "outputs": [],
   "source": [
    "df.to_excel(f'../dados/censo/map_tables/{var}.xlsx', index=False)"
   ]
  },
  {
   "cell_type": "code",
   "execution_count": null,
   "metadata": {},
   "outputs": [],
   "source": []
  },
  {
   "cell_type": "code",
   "execution_count": null,
   "metadata": {},
   "outputs": [],
   "source": []
  },
  {
   "cell_type": "code",
   "execution_count": null,
   "metadata": {},
   "outputs": [],
   "source": []
  },
  {
   "cell_type": "markdown",
   "metadata": {},
   "source": [
    "### Entorno04_UF.xls"
   ]
  },
  {
   "cell_type": "code",
   "execution_count": 229,
   "metadata": {},
   "outputs": [],
   "source": [
    "var = 'Entorno04_UF'\n",
    "pages = '211-223'\n",
    "df = extract_df(var,pages)"
   ]
  },
  {
   "cell_type": "code",
   "execution_count": 231,
   "metadata": {},
   "outputs": [],
   "source": [
    "df.to_excel(f'../dados/censo/map_tables/{var}.xlsx', index=False)"
   ]
  },
  {
   "cell_type": "code",
   "execution_count": null,
   "metadata": {},
   "outputs": [],
   "source": []
  },
  {
   "cell_type": "code",
   "execution_count": null,
   "metadata": {},
   "outputs": [],
   "source": []
  },
  {
   "cell_type": "markdown",
   "metadata": {},
   "source": [
    "### Entorno05_UF.xls"
   ]
  },
  {
   "cell_type": "code",
   "execution_count": 232,
   "metadata": {},
   "outputs": [],
   "source": [
    "var = 'Entorno05_UF'\n",
    "pages = '224-234'\n",
    "df = extract_df(var,pages)"
   ]
  },
  {
   "cell_type": "code",
   "execution_count": 234,
   "metadata": {},
   "outputs": [],
   "source": [
    "df.to_excel(f'../dados/censo/map_tables/{var}.xlsx', index=False)"
   ]
  },
  {
   "cell_type": "code",
   "execution_count": null,
   "metadata": {},
   "outputs": [],
   "source": []
  },
  {
   "cell_type": "code",
   "execution_count": null,
   "metadata": {},
   "outputs": [],
   "source": []
  },
  {
   "cell_type": "code",
   "execution_count": null,
   "metadata": {},
   "outputs": [],
   "source": []
  },
  {
   "cell_type": "code",
   "execution_count": null,
   "metadata": {},
   "outputs": [],
   "source": []
  },
  {
   "cell_type": "code",
   "execution_count": 221,
   "metadata": {},
   "outputs": [],
   "source": [
    "def extract_df(var,pages):\n",
    "    dd = camelot.read_pdf('../dados/censo/map_tables/BASE DE INFORMAАхES POR SETOR CENSIT╡RIO Censo 2010 - Universo.pdf', pages=pages)\n",
    "    df = pd.DataFrame()\n",
    "\n",
    "    for i in range(len(dd)):\n",
    "        df = pd.concat([df,dd[i].df], axis=0)\n",
    "\n",
    "    df = df.reset_index(drop=True)\n",
    "    for col in df.columns.to_list():\n",
    "        df[col] = df[col].str.replace('\\r',' ').str.replace('\\n',' ')\n",
    "    # df.columns = df.columns.str.replace('\\r',' ')\n",
    "    df.columns = ['Nome da variável','Descrição da variável']\n",
    "\n",
    "    mask = df['Descrição da variável']!=df['Descrição da variável'][0]\n",
    "    df = df[mask]\n",
    "    \n",
    "    mask = df['Descrição da variável']!='Descrição da variável'\n",
    "    df = df[mask]\n",
    "    \n",
    "    return df"
   ]
  },
  {
   "cell_type": "code",
   "execution_count": null,
   "metadata": {},
   "outputs": [],
   "source": []
  }
 ],
 "metadata": {
  "kernelspec": {
   "display_name": "Python 3",
   "language": "python",
   "name": "python3"
  },
  "language_info": {
   "codemirror_mode": {
    "name": "ipython",
    "version": 3
   },
   "file_extension": ".py",
   "mimetype": "text/x-python",
   "name": "python",
   "nbconvert_exporter": "python",
   "pygments_lexer": "ipython3",
   "version": "3.8.3"
  }
 },
 "nbformat": 4,
 "nbformat_minor": 4
}
