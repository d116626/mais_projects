{
 "cells": [
  {
   "cell_type": "code",
   "execution_count": 1,
   "id": "ed41bd01-2e36-430b-98d4-cd2e452c136e",
   "metadata": {},
   "outputs": [],
   "source": [
    "## caged_brach\n",
    "%reload_ext autoreload\n",
    "%autoreload 2\n",
    "\n",
    "import pandas as pd\n",
    "import numpy as np\n",
    "\n",
    "pd.options.display.max_columns = 999\n",
    "pd.options.display.max_rows = 1999\n",
    "pd.options.display.max_colwidth = 200\n",
    "\n",
    "\n",
    "from basedosdados.upload.base import Base\n",
    "from basedosdados.upload.table import Table\n",
    "import basedosdados as bd\n",
    "import requests\n",
    "\n",
    "from pathlib import Path\n",
    "from copy import deepcopy\n"
   ]
  },
  {
   "cell_type": "code",
   "execution_count": 42,
   "id": "27e3b1db-617b-44d5-8fdd-d740cc139f34",
   "metadata": {},
   "outputs": [],
   "source": [
    "st = bd.Storage(dataset_id='test_data',table_id='test_table')\n",
    "st.delete_table(mode = 'staging')"
   ]
  },
  {
   "cell_type": "code",
   "execution_count": 44,
   "id": "6b1e3f33-ffbe-4268-aabd-401dd4ebcb03",
   "metadata": {},
   "outputs": [],
   "source": []
  },
  {
   "cell_type": "code",
   "execution_count": 191,
   "id": "cb91bde3-b2ff-4bda-8362-5752f50e0461",
   "metadata": {},
   "outputs": [],
   "source": [
    "tb = bd.Table(dataset_id='test_dataset',table_id='test_table')\n",
    "tb.create(path='partitions/', \n",
    "          if_storage_data_exists='pass',\n",
    "          if_table_config_exists='replace',\n",
    "          if_table_exists='replace'\n",
    "         )\n",
    "tb.publish('replace')"
   ]
  },
  {
   "cell_type": "code",
   "execution_count": 10,
   "id": "e00d2c25-9dbc-42c3-ab39-d8350ee85a0e",
   "metadata": {},
   "outputs": [],
   "source": [
    "dataset_id='test_dataset'\n",
    "table_id='test_table'\n",
    "\n",
    "md = bd.Metadata(dataset_id=dataset_id, table_id=table_id)\n"
   ]
  },
  {
   "cell_type": "code",
   "execution_count": 11,
   "id": "e32d813f-852b-49a6-8979-1875c2c18ef2",
   "metadata": {},
   "outputs": [
    {
     "data": {
      "text/plain": [
       "{'id': '5c8d6d39-d923-4fe0-8173-b4256044471d',\n",
       " 'name': 'test-dataset',\n",
       " 'type': 'dataset',\n",
       " 'title': None,\n",
       " 'private': False,\n",
       " 'owner_org': '3626e93d-165f-42b8-bde1-2e0972079694',\n",
       " 'resources': [{'id': 'ca922014-6aee-4fe2-8f45-ca1761001634',\n",
       "   'description': 'table-approve passou por aqui',\n",
       "   'name': 'test_table',\n",
       "   'resource_type': 'bdm_table',\n",
       "   'version': None,\n",
       "   'dataset_id': 'test_dataset',\n",
       "   'table_id': 'test_table',\n",
       "   'spatial_coverage': None,\n",
       "   'temporal_coverage': None,\n",
       "   'update_frequency': None,\n",
       "   'entity': None,\n",
       "   'time_unit': None,\n",
       "   'identifying_columns': None,\n",
       "   'last_updated': {'metadata': None, 'data': None, 'release': None},\n",
       "   'published_by': {'name': None,\n",
       "    'email': None,\n",
       "    'github_user': None,\n",
       "    'website': None,\n",
       "    'ckan_user': None},\n",
       "   'data_cleaned_by': {'name': None,\n",
       "    'email': None,\n",
       "    'github_user': None,\n",
       "    'ckan_user': None,\n",
       "    'website': None,\n",
       "    'code_url': None},\n",
       "   'data_cleaning_description': None,\n",
       "   'raw_files_url': None,\n",
       "   'auxiliary_files_url': None,\n",
       "   'architecture_url': None,\n",
       "   'covered_by_dictionary': None,\n",
       "   'source_bucket_name': 'basedosdados-dev',\n",
       "   'project_id_prod': 'basedosdados-dev',\n",
       "   'project_id_staging': 'basedosdados-dev',\n",
       "   'partitions': 'ano, sigla_uf, mes',\n",
       "   'bdm_file_size': None,\n",
       "   'columns': [{'name': 'ano',\n",
       "     'bigquery_type': None,\n",
       "     'description': 'testenado table-approve',\n",
       "     'temporal_coverage': None,\n",
       "     'covered_by_dictionary': None,\n",
       "     'directory_column': {'dataset_id': None,\n",
       "      'table_id': None,\n",
       "      'column_name': None},\n",
       "     'measurement_unit': None,\n",
       "     'has_sensitive_data': None,\n",
       "     'is_in_staging': None,\n",
       "     'is_partition': True},\n",
       "    {'name': 'sigla_uf',\n",
       "     'bigquery_type': None,\n",
       "     'description': 'testenado testando table-approve',\n",
       "     'temporal_coverage': None,\n",
       "     'covered_by_dictionary': None,\n",
       "     'directory_column': {'dataset_id': None,\n",
       "      'table_id': None,\n",
       "      'column_name': None},\n",
       "     'measurement_unit': None,\n",
       "     'has_sensitive_data': None,\n",
       "     'is_in_staging': None,\n",
       "     'is_partition': True},\n",
       "    {'name': 'mes',\n",
       "     'bigquery_type': None,\n",
       "     'description': None,\n",
       "     'temporal_coverage': None,\n",
       "     'covered_by_dictionary': None,\n",
       "     'directory_column': {'dataset_id': None,\n",
       "      'table_id': None,\n",
       "      'column_name': None},\n",
       "     'measurement_unit': None,\n",
       "     'has_sensitive_data': None,\n",
       "     'is_in_staging': None,\n",
       "     'is_partition': True},\n",
       "    {'name': 'dado',\n",
       "     'bigquery_type': None,\n",
       "     'description': None,\n",
       "     'temporal_coverage': None,\n",
       "     'covered_by_dictionary': None,\n",
       "     'directory_column': {'dataset_id': None,\n",
       "      'table_id': None,\n",
       "      'column_name': None},\n",
       "     'measurement_unit': None,\n",
       "     'has_sensitive_data': None,\n",
       "     'is_in_staging': None,\n",
       "     'is_partition': None}],\n",
       "   'metadata_modified': '2021-11-02T01:29:28.809644',\n",
       "   'package_id': '5c8d6d39-d923-4fe0-8173-b4256044471d'}],\n",
       " 'groups': [],\n",
       " 'tags': [],\n",
       " 'organization': {'name': None},\n",
       " 'extras': [{'key': 'dataset_args',\n",
       "   'value': {'description': 'table-approve passou por aqui',\n",
       "    'ckan_url': None,\n",
       "    'github_url': None}}]}"
      ]
     },
     "execution_count": 11,
     "metadata": {},
     "output_type": "execute_result"
    }
   ],
   "source": [
    "md.ckan_data_dict"
   ]
  },
  {
   "cell_type": "code",
   "execution_count": null,
   "id": "a9d3fe79-23bb-4bf9-854a-7a437ce1b4c6",
   "metadata": {},
   "outputs": [],
   "source": [
    "md.create()"
   ]
  },
  {
   "cell_type": "code",
   "execution_count": null,
   "id": "156851ee-1a29-4557-bb37-79644158c08b",
   "metadata": {},
   "outputs": [],
   "source": []
  }
 ],
 "metadata": {
  "kernelspec": {
   "display_name": "Python 3.9.1 64-bit ('base': conda)",
   "language": "python",
   "name": "python391jvsc74a57bd09265c6d278ff067d4da8b5e0a1d20cb7aab3603d0caea247effcbced8f1ecd4c"
  },
  "language_info": {
   "codemirror_mode": {
    "name": "ipython",
    "version": 3
   },
   "file_extension": ".py",
   "mimetype": "text/x-python",
   "name": "python",
   "nbconvert_exporter": "python",
   "pygments_lexer": "ipython3",
   "version": "3.9.1"
  }
 },
 "nbformat": 4,
 "nbformat_minor": 5
}
