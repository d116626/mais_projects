{
 "cells": [
  {
   "cell_type": "code",
   "execution_count": 1,
   "id": "ed41bd01-2e36-430b-98d4-cd2e452c136e",
   "metadata": {},
   "outputs": [],
   "source": [
    "## caged_brach\n",
    "%reload_ext autoreload\n",
    "%autoreload 2\n",
    "\n",
    "import pandas as pd\n",
    "import numpy as np\n",
    "\n",
    "pd.options.display.max_columns = 999\n",
    "pd.options.display.max_rows = 1999\n",
    "pd.options.display.max_colwidth = 200\n",
    "\n",
    "\n",
    "from basedosdados.upload.base import Base\n",
    "from basedosdados.upload.table import Table\n",
    "import basedosdados as bd\n",
    "import requests\n",
    "\n",
    "from pathlib import Path\n",
    "from copy import deepcopy\n"
   ]
  },
  {
   "cell_type": "code",
   "execution_count": 43,
   "id": "a8ba9daf-515e-4f67-b29d-f6c520ee3388",
   "metadata": {},
   "outputs": [],
   "source": [
    "dataset_id='test_data'\n",
    "table_id='test_table'\n",
    "\n",
    "md_tb = bd.Metadata(dataset_id=dataset_id, table_id=table_id)\n",
    "md_ds = bd.Metadata(dataset_id=dataset_id)"
   ]
  },
  {
   "cell_type": "code",
   "execution_count": 44,
   "id": "cc0a86e3-7479-4dd7-934c-a1b3616aa497",
   "metadata": {},
   "outputs": [],
   "source": []
  },
  {
   "cell_type": "code",
   "execution_count": 42,
   "id": "27e3b1db-617b-44d5-8fdd-d740cc139f34",
   "metadata": {},
   "outputs": [],
   "source": [
    "st = bd.Storage(dataset_id=dataset_id, table_id=table_id)\n",
    "# st.delete_table(mode = 'staging')"
   ]
  },
  {
   "cell_type": "code",
   "execution_count": 44,
   "id": "6b1e3f33-ffbe-4268-aabd-401dd4ebcb03",
   "metadata": {},
   "outputs": [],
   "source": []
  },
  {
   "cell_type": "code",
   "execution_count": 191,
   "id": "cb91bde3-b2ff-4bda-8362-5752f50e0461",
   "metadata": {},
   "outputs": [],
   "source": [
    "tb = bd.Table(dataset_id='test_dataset',table_id='test_table')\n",
    "tb.create(path='partitions/', \n",
    "          if_storage_data_exists='pass',\n",
    "          if_table_config_exists='replace',\n",
    "          if_table_exists='replace'\n",
    "         )\n",
    "tb.publish('replace')"
   ]
  },
  {
   "cell_type": "code",
   "execution_count": null,
   "id": "a1dfb451-3111-42ba-a63a-1d72fa8ac68e",
   "metadata": {},
   "outputs": [],
   "source": []
  },
  {
   "cell_type": "code",
   "execution_count": 55,
   "id": "62c85954-08a5-4f75-a6b9-069d1b4998fd",
   "metadata": {},
   "outputs": [],
   "source": [
    "dataset_id='br_me_rais'\n",
    "table_id='microdados_estabelecimentos'\n",
    "\n",
    "st = bd.Storage(dataset_id=dataset_id, table_id=table_id)\n"
   ]
  },
  {
   "cell_type": "code",
   "execution_count": 56,
   "id": "156851ee-1a29-4557-bb37-79644158c08b",
   "metadata": {},
   "outputs": [],
   "source": [
    "# st.delete_table(mode='staging', bucket_name=\"basedosdados-dev-backup\")"
   ]
  },
  {
   "cell_type": "code",
   "execution_count": null,
   "id": "2c167729-6351-4476-b4e5-f749e3968441",
   "metadata": {
    "scrolled": true,
    "tags": []
   },
   "outputs": [
    {
     "name": "stderr",
     "output_type": "stream",
     "text": [
      "Copy Table Chunk:   0%|                                  | 0/91 [00:00<?, ?it/s]"
     ]
    },
    {
     "name": "stdout",
     "output_type": "stream",
     "text": [
      "Copy Table Chunk 0 | Attempt 0: copy operation starts again in 5 seconds...\n"
     ]
    },
    {
     "name": "stderr",
     "output_type": "stream",
     "text": [
      "Traceback (most recent call last):\n",
      "  File \"/Users/m/gabinite_sv/bd+/mais/python-package/basedosdados/upload/storage.py\", line 469, in copy_table\n",
      "    blob,\n",
      "  File \"/Users/m/miniconda3/lib/python3.9/site-packages/google/cloud/storage/batch.py\", line 299, in __exit__\n",
      "    self.finish()\n",
      "  File \"/Users/m/miniconda3/lib/python3.9/site-packages/google/cloud/storage/batch.py\", line 269, in finish\n",
      "    headers, body, timeout = self._prepare_batch_request()\n",
      "  File \"/Users/m/miniconda3/lib/python3.9/site-packages/google/cloud/storage/batch.py\", line 211, in _prepare_batch_request\n",
      "    raise ValueError(\"No deferred requests\")\n",
      "ValueError: No deferred requests\n"
     ]
    }
   ],
   "source": [
    "st.copy_table(        \n",
    "    source_bucket_name=\"basedosdados-dev\",\n",
    "    destination_bucket_name=\"basedosdados-dev-backup\",        \n",
    "    mode=\"staging\",\n",
    ")"
   ]
  },
  {
   "cell_type": "code",
   "execution_count": null,
   "id": "24ac0db6-0a7a-418b-bf67-d736d1424c12",
   "metadata": {},
   "outputs": [],
   "source": []
  },
  {
   "cell_type": "code",
   "execution_count": null,
   "id": "e376f014-afc3-4421-b06e-dc10c4b6621a",
   "metadata": {},
   "outputs": [],
   "source": []
  },
  {
   "cell_type": "code",
   "execution_count": null,
   "id": "311e2190-2dbc-4856-9c1c-c8943d21cb0c",
   "metadata": {},
   "outputs": [],
   "source": []
  },
  {
   "cell_type": "code",
   "execution_count": null,
   "id": "7060c8c7-4b41-4d86-8392-00a432706d93",
   "metadata": {},
   "outputs": [],
   "source": []
  },
  {
   "cell_type": "code",
   "execution_count": null,
   "id": "cf6f4ec6-86d0-4628-9f08-5185584ab090",
   "metadata": {},
   "outputs": [],
   "source": []
  },
  {
   "cell_type": "code",
   "execution_count": null,
   "id": "a1d9f71a-28f7-40ed-94bc-8cc4f3b3718a",
   "metadata": {},
   "outputs": [],
   "source": []
  }
 ],
 "metadata": {
  "kernelspec": {
   "display_name": "Python 3 (ipykernel)",
   "language": "python",
   "name": "python3"
  },
  "language_info": {
   "codemirror_mode": {
    "name": "ipython",
    "version": 3
   },
   "file_extension": ".py",
   "mimetype": "text/x-python",
   "name": "python",
   "nbconvert_exporter": "python",
   "pygments_lexer": "ipython3",
   "version": "3.9.1"
  }
 },
 "nbformat": 4,
 "nbformat_minor": 5
}
