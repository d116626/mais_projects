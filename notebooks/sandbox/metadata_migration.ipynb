{
 "cells": [
  {
   "cell_type": "code",
   "execution_count": 93,
   "id": "175d40c6-2ea6-4458-9e71-26650df414c2",
   "metadata": {},
   "outputs": [],
   "source": [
    "## caged_brach\n",
    "%reload_ext autoreload\n",
    "%autoreload 2\n",
    "\n",
    "import pandas as pd\n",
    "import numpy as np\n",
    "\n",
    "pd.options.display.max_columns = 999\n",
    "pd.options.display.max_rows = 1999\n",
    "pd.options.display.max_colwidth = 200\n",
    "\n",
    "\n",
    "import basedosdados as bd\n",
    "from pathlib import Path\n",
    "\n",
    "import requests"
   ]
  },
  {
   "cell_type": "code",
   "execution_count": 94,
   "id": "dee3be32-929d-4e6a-a59f-cf245b417b24",
   "metadata": {},
   "outputs": [],
   "source": [
    "import basedosdados as bd\n",
    "\n",
    "tb = bd.Table(dataset_id='br_ans', table_id='id_tabela')\n",
    "tb.create(\n",
    "    path='path_para_os_dados',\n",
    "    if_table_exists='replace',\n",
    "    if_storage_data_exists='replace',\n",
    "    if_table_config_exists='replace',\n",
    ")"
   ]
  },
  {
   "cell_type": "code",
   "execution_count": null,
   "id": "2305e680-58bf-423c-a551-f7cbf7967d70",
   "metadata": {},
   "outputs": [],
   "source": []
  },
  {
   "cell_type": "code",
   "execution_count": 95,
   "id": "521ddcf3-60d4-48f3-ac6f-ea62e9f8329d",
   "metadata": {},
   "outputs": [
    {
     "data": {
      "text/plain": [
       "\u001b[0;31mType:\u001b[0m        Table\n",
       "\u001b[0;31mString form:\u001b[0m <basedosdados.upload.table.Table object at 0x7f95e9ab1640>\n",
       "\u001b[0;31mFile:\u001b[0m        ~/miniconda3/lib/python3.9/site-packages/basedosdados/upload/table.py\n",
       "\u001b[0;31mDocstring:\u001b[0m   Manage tables in Google Cloud Storage and BigQuery.\n"
      ]
     },
     "metadata": {},
     "output_type": "display_data"
    }
   ],
   "source": []
  },
  {
   "cell_type": "code",
   "execution_count": null,
   "id": "74f44663-1ba5-4770-9f22-ea23c05f99a7",
   "metadata": {},
   "outputs": [],
   "source": []
  },
  {
   "cell_type": "code",
   "execution_count": null,
   "id": "8fb883bb-6754-4ab0-9585-443563e54442",
   "metadata": {},
   "outputs": [],
   "source": []
  },
  {
   "cell_type": "code",
   "execution_count": 90,
   "id": "bc34d941-54e0-41e1-a6de-3301a5f6d553",
   "metadata": {},
   "outputs": [],
   "source": [
    "url = 'http://0.0.0.0:5000/api/3/action/bd_dataset_search?q='''\n",
    "response = requests.get(url).json().get('result')"
   ]
  },
  {
   "cell_type": "code",
   "execution_count": 86,
   "id": "4249d130-b277-4c34-8883-6190a7610120",
   "metadata": {},
   "outputs": [],
   "source": []
  },
  {
   "cell_type": "code",
   "execution_count": 87,
   "id": "f8cb5c79-c86a-4e48-a181-ae7e820020ac",
   "metadata": {},
   "outputs": [
    {
     "name": "stdout",
     "output_type": "stream",
     "text": [
      "groups\n",
      "groups_display_names\n",
      "tags\n",
      "organizations\n",
      "organizations_display_names\n",
      "entities\n",
      "update_frequencies\n",
      "spatial_coverage_continent\n",
      "spatial_coverage_country\n",
      "resource_bdm_table_count\n",
      "Error:  'int' object has no attribute 'items'\n",
      "resource_external_link_count\n",
      "Error:  'int' object has no attribute 'items'\n"
     ]
    }
   ],
   "source": [
    "sort_dict = lambda dictioanry: dict(\n",
    "    sorted(dictioanry.items(), key=lambda x: x[1], reverse=True)\n",
    ")\n",
    "\n",
    "for key in response.keys():\n",
    "    if (key =='count' or key=='datasets'):\n",
    "        pass\n",
    "    else:\n",
    "        try:\n",
    "            response[key] = sort_dict(response[key])\n",
    "        except Exception as e:\n",
    "            print('Error: ',e)\n"
   ]
  },
  {
   "cell_type": "code",
   "execution_count": 92,
   "id": "5a4998fa-0d8d-478b-9ccd-f5872ff23e36",
   "metadata": {},
   "outputs": [],
   "source": [
    "# for key in response.keys():\n",
    "#     if (key =='count' or key=='datasets'):\n",
    "#         pass\n",
    "#     else:\n",
    "#         print(response[key])"
   ]
  },
  {
   "cell_type": "code",
   "execution_count": null,
   "id": "0d0a6cb9-ac3c-4eae-be70-c6da2e647f35",
   "metadata": {},
   "outputs": [],
   "source": []
  },
  {
   "cell_type": "code",
   "execution_count": null,
   "id": "9a72182b-78d0-435d-950d-6ff9c8823853",
   "metadata": {},
   "outputs": [],
   "source": []
  },
  {
   "cell_type": "markdown",
   "id": "71cbf5d1-d588-45d4-913b-b90ffdb3cb30",
   "metadata": {},
   "source": [
    "### observation_level | entities"
   ]
  },
  {
   "cell_type": "code",
   "execution_count": null,
   "id": "ce4699ff-1598-4013-958f-094d4958b1ba",
   "metadata": {},
   "outputs": [],
   "source": []
  },
  {
   "cell_type": "code",
   "execution_count": null,
   "id": "3b85e222-f47f-48cf-a609-2176bf9f1e3d",
   "metadata": {},
   "outputs": [],
   "source": []
  },
  {
   "cell_type": "code",
   "execution_count": null,
   "id": "b5de8a99-16d9-4086-9097-684dc816f464",
   "metadata": {},
   "outputs": [],
   "source": []
  },
  {
   "cell_type": "code",
   "execution_count": null,
   "id": "6a662fad-b10a-4bdc-83cf-7a9f14a0514a",
   "metadata": {},
   "outputs": [],
   "source": []
  },
  {
   "cell_type": "code",
   "execution_count": null,
   "id": "ccba8a53-5dd1-4799-a17d-ff4299ffb643",
   "metadata": {},
   "outputs": [],
   "source": []
  },
  {
   "cell_type": "code",
   "execution_count": null,
   "id": "fbcd8ec1-b454-4d64-826d-469aa42cdb1b",
   "metadata": {},
   "outputs": [],
   "source": []
  },
  {
   "cell_type": "code",
   "execution_count": null,
   "id": "a83f44e6-83db-4fed-9768-5449bd3d92f4",
   "metadata": {},
   "outputs": [],
   "source": []
  },
  {
   "cell_type": "code",
   "execution_count": null,
   "id": "4a363740-95df-4c0f-9576-f4090ea7200b",
   "metadata": {},
   "outputs": [],
   "source": []
  },
  {
   "cell_type": "code",
   "execution_count": null,
   "id": "278cc712-f6d5-4e27-985e-beee06621037",
   "metadata": {},
   "outputs": [],
   "source": []
  },
  {
   "cell_type": "code",
   "execution_count": null,
   "id": "7b6dd5d5-d045-45f9-b4d6-794f4a801d8c",
   "metadata": {},
   "outputs": [],
   "source": []
  },
  {
   "cell_type": "code",
   "execution_count": null,
   "id": "57cb1416-659c-47ab-b528-6e4eb9da7097",
   "metadata": {},
   "outputs": [],
   "source": []
  },
  {
   "cell_type": "code",
   "execution_count": null,
   "id": "e64735d0-8f10-4905-a2d7-3c5831e82392",
   "metadata": {},
   "outputs": [],
   "source": []
  },
  {
   "cell_type": "code",
   "execution_count": null,
   "id": "b0ad308c-b536-4c35-a959-953c70bbc241",
   "metadata": {},
   "outputs": [],
   "source": []
  },
  {
   "cell_type": "code",
   "execution_count": null,
   "id": "86c6d059-4d37-438a-9ec9-47650e30d285",
   "metadata": {},
   "outputs": [],
   "source": []
  },
  {
   "cell_type": "code",
   "execution_count": null,
   "id": "8c29c073-c0d6-47ce-891f-c2648d00324b",
   "metadata": {},
   "outputs": [],
   "source": []
  },
  {
   "cell_type": "code",
   "execution_count": null,
   "id": "3d7151b1-f1b2-4f0a-8d02-4cffa8d169ed",
   "metadata": {},
   "outputs": [],
   "source": []
  },
  {
   "cell_type": "code",
   "execution_count": null,
   "id": "1d4143c1-a0d4-40ff-b4a1-938caa1e3c3b",
   "metadata": {},
   "outputs": [],
   "source": []
  },
  {
   "cell_type": "code",
   "execution_count": null,
   "id": "9cc0820f-8b15-487c-ae3f-f45176d73159",
   "metadata": {},
   "outputs": [],
   "source": []
  },
  {
   "cell_type": "code",
   "execution_count": null,
   "id": "e4e14d22-e935-4620-99dd-7506baf18e90",
   "metadata": {},
   "outputs": [],
   "source": []
  }
 ],
 "metadata": {
  "kernelspec": {
   "display_name": "Python 3 (ipykernel)",
   "language": "python",
   "name": "python3"
  },
  "language_info": {
   "codemirror_mode": {
    "name": "ipython",
    "version": 3
   },
   "file_extension": ".py",
   "mimetype": "text/x-python",
   "name": "python",
   "nbconvert_exporter": "python",
   "pygments_lexer": "ipython3",
   "version": "3.9.1"
  }
 },
 "nbformat": 4,
 "nbformat_minor": 5
}
