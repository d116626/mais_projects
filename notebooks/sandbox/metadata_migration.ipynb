{
 "cells": [
  {
   "cell_type": "code",
   "execution_count": 9,
   "id": "175d40c6-2ea6-4458-9e71-26650df414c2",
   "metadata": {},
   "outputs": [],
   "source": [
    "## caged_brach\n",
    "%reload_ext autoreload\n",
    "%autoreload 2\n",
    "\n",
    "import pandas as pd\n",
    "import numpy as np\n",
    "\n",
    "pd.options.display.max_columns = 999\n",
    "pd.options.display.max_rows = 1999\n",
    "pd.options.display.max_colwidth = 200\n",
    "\n",
    "\n",
    "import basedosdados as bd\n",
    "from pathlib import Path\n",
    "\n",
    "import requests"
   ]
  },
  {
   "cell_type": "code",
   "execution_count": 90,
   "id": "bc34d941-54e0-41e1-a6de-3301a5f6d553",
   "metadata": {},
   "outputs": [],
   "source": [
    "url = 'http://0.0.0.0:5000/api/3/action/bd_dataset_search?q='''\n",
    "response = requests.get(url).json().get('result')"
   ]
  },
  {
   "cell_type": "code",
   "execution_count": 86,
   "id": "4249d130-b277-4c34-8883-6190a7610120",
   "metadata": {},
   "outputs": [],
   "source": []
  },
  {
   "cell_type": "code",
   "execution_count": 87,
   "id": "f8cb5c79-c86a-4e48-a181-ae7e820020ac",
   "metadata": {},
   "outputs": [
    {
     "name": "stdout",
     "output_type": "stream",
     "text": [
      "groups\n",
      "groups_display_names\n",
      "tags\n",
      "organizations\n",
      "organizations_display_names\n",
      "entities\n",
      "update_frequencies\n",
      "spatial_coverage_continent\n",
      "spatial_coverage_country\n",
      "resource_bdm_table_count\n",
      "Error:  'int' object has no attribute 'items'\n",
      "resource_external_link_count\n",
      "Error:  'int' object has no attribute 'items'\n"
     ]
    }
   ],
   "source": [
    "sort_dict = lambda dictioanry: dict(\n",
    "    sorted(dictioanry.items(), key=lambda x: x[1], reverse=True)\n",
    ")\n",
    "\n",
    "for key in response.keys():\n",
    "    if (key =='count' or key=='datasets'):\n",
    "        pass\n",
    "    else:\n",
    "        try:\n",
    "            response[key] = sort_dict(response[key])\n",
    "        except Exception as e:\n",
    "            print('Error: ',e)\n"
   ]
  },
  {
   "cell_type": "code",
   "execution_count": 91,
   "id": "5a4998fa-0d8d-478b-9ccd-f5872ff23e36",
   "metadata": {},
   "outputs": [
    {
     "name": "stdout",
     "output_type": "stream",
     "text": [
      "{'economia': 16, 'gov-fin-pub': 16, 'saude': 14, 'cultura-arte': 14, 'ciencia-tec-inov': 13, 'politica': 13, 'seguranca': 13, 'meio-ambiente': 12, 'populacao': 11, 'educacao': 10, 'agropecuaria': 8, 'infra-transp': 6, 'comunicacao': 6, 'territorio': 5, 'urbanizacao': 3, 'religiao': 2, 'diversidade': 1, 'historia': 1, 'justica': 1, 'esportes': 1}\n",
      "{'urbanizacao': 'Urbanização', 'seguranca': 'Segurança, Crime, Violência, e Conflito', 'saude': 'Saúde', 'religiao': 'Religião', 'populacao': 'População', 'politica': 'Política', 'territorio': 'Organização Territorial', 'meio-ambiente': 'Meio Ambiente', 'justica': 'Justiça', 'comunicacao': 'Jornalismo e Comunicação', 'infra-transp': 'Infraestrutura e Transportes', 'historia': 'História', 'gov-fin-pub': 'Governo e Finanças Públicas', 'esportes': 'Esportes', 'educacao': 'Educação', 'economia': 'Economia', 'diversidade': 'Diversidade e Inclusão', 'cultura-arte': 'Cultura e Arte', 'ciencia-tec-inov': 'Ciência, Tecnologia e Inovação', 'agropecuaria': 'Agropecuária'}\n",
      "{'diretorio': 6, 'eleicao': 6, 'opiniao': 6, 'inflacao': 4, 'preco': 4, 'COVID19': 4, 'coronavirus': 4, 'barometro': 4, 'preferencias': 4, 'mudancas climaticas': 4, 'mortalidade': 4, 'trabalho': 3, 'pandemia': 3, 'transparencia': 3, 'desmatamento': 3, 'atitudes': 3, 'assassinato': 3, 'aposentadoria': 3, 'literatura': 3, 'autoritarismo': 3, 'partido': 2, 'emprego': 2, 'empresa': 2, 'firma': 2, 'presidencia': 2, 'demografia': 2, 'despesa': 2, 'distanciamento social': 2, 'acidente de transito': 2, 'agrotoxico': 2, 'area protegida': 2, 'burocracia': 2, 'internet': 2, 'estupro': 2, 'homicidio': 2, 'previdencia social': 2, 'arma': 2, 'atlas': 2, 'lei': 2, 'politica publica': 2, 'comercio': 2, 'exportacao': 2, 'importacao': 2, 'CO2': 2, 'ar': 2, 'emissao': 2, 'mapa': 2, 'temperatura': 2, 'escola': 2, 'poluicao': 2, 'escolas': 1, 'municipios': 1, 'vizinhanca': 1, 'congresso': 1, 'voto': 1, 'gas natural': 1, 'oleo': 1, 'petroleo': 1, 'producao': 1, 'gasto': 1, 'orcamento': 1, 'receita': 1, 'fertilidade': 1, 'confinamento': 1, 'doenca': 1, 'epidemiologia': 1, 'telefone': 1, 'televisao': 1, 'LAI': 1, 'cinema': 1, 'filme': 1, 'corrupcao': 1, 'governanca': 1, 'integridade': 1, 'idade': 1, 'ajuda internacional': 1, 'credito': 1, 'emprestimo': 1, 'ajuda': 1, 'aldeia': 1, 'alistamento': 1, 'conscricao': 1, 'exercito': 1, 'forcas armadas': 1, 'servico militar': 1, 'polarizacao': 1, 'vies': 1, 'mineracao': 1, 'unidade de conservacao': 1, 'gabinete': 1, 'alimento': 1, 'comida': 1, 'consumo': 1, 'lazer': 1, 'uso do tempo': 1, 'GPS': 1, 'mobilidade': 1, 'trafego': 1, 'iceberg': 1, 'letalidade': 1, 'patrimonio': 1, 'carga': 1, 'frete': 1, 'hidrovia': 1, 'acidente de trabalho': 1, 'HBO': 1, 'game of thrones': 1, 'george r r martin': 1, 'delegacia': 1, 'municao': 1, 'eventos': 1, 'escritor': 1, 'AI': 1, 'inteligencia artificial': 1, 'ameaca': 1, 'sequestro': 1, 'tortura': 1, 'academia': 1, 'artigo': 1, 'publicacao': 1, 'biodiversidade': 1, 'concha': 1, 'jornalismo': 1, 'cancer': 1, 'governo': 1, 'aglomeracao': 1, 'era victoriana': 1, 'livro': 1, 'embargo': 1, 'multa': 1, 'alfabetizacao': 1, 'educacao basica': 1, 'analise de texto': 1, 'felicidade': 1, 'rede social': 1, 'sentimento': 1, 'twitter': 1, 'wikipedia': 1, 'fogo': 1, 'queimada': 1, 'chuva': 1, 'meteorologia': 1, 'precipitacao': 1, 'prisao': 1, 'punicao': 1, 'legislacao': 1, 'moeda': 1, 'NBA': 1, 'basquete': 1, 'portal': 1, 'renda': 1, 'hip hop': 1, 'musica': 1, 'ranking': 1, 'biblia': 1, 'cristianismo': 1, 'entreterimento': 1, 'tabuleiro': 1, 'indio': 1, 'terra indigena': 1, 'CCT': 1, 'pobreza': 1, 'redistribuicao': 1, 'PhD': 1, 'bolsa': 1, 'doutorado': 1, 'pos-doutorado': 1, 'uso da terra': 1, 'campanha': 1, 'intencao de voto': 1, 'hacker': 1, 'seguranca cibernetica': 1, 'software': 1, 'amazonia': 1, 'desastre natural': 1, 'hospital': 1, 'nome': 1}\n",
      "{'br-me': 8, 'br-ibge': 8, 'br-bd': 5, 'sem-organizacao': 5, 'br-inep': 3, 'br-ms': 3, 'br-ipea': 3, 'br-tse': 2, 'br-anatel': 2, 'uc-berkeley': 2, 'br-anp': 1, 'acaps': 1, 'transparencia-brasil': 1, 'ministerio-da-justica-e-seguranca-publica-mj': 1, 'fivethirtyeight': 1, 'global-integrity': 1, 'afrobarometer': 1, 'ageguess': 1, 'ministerio-da-agricultura-pecuaria-e-abastecimento-mapa': 1, 'agrolink': 1, 'william-mary': 1, 'usaid': 1, 'fundacao-nacional-do-indio-funai': 1, 'comando-do-exercito-brasileiro-cex': 1, 'allsides': 1, 'infoamazonia': 1, 'american-national-elections-studies-anes': 1, 'bureau-of-labor-statistics-bls': 1, 'vanderbilt-university': 1, 'mundo-onu': 1, 'usa-gov': 1, 'brigham-young-university': 1, 'forum-brasileiro-de-seguranca-publica-fbsp': 1, 'agencia-nacional-de-transportes-aquaviarios-antaq': 1, 'arab-barometer': 1, 'instituto-de-seguranca-publica-isp': 1, 'departamento-de-policia-federal-dpf': 1, 'armed-conflict-location-event-data-project-acled': 1, 'university-of-texas-at-austin-ut-austin': 1, 'stanford-university': 1, 'artigo-19': 1, 'cornell-university': 1, 'nature': 1, 'asian-barometer': 1, 'instituto-para-o-desenvolvimento-do-jornalismo-projor': 1, 'instituto-nacional-do-cancer-inca': 1, 'newberry-library': 1, 'uniao-europeia': 1, 'university-of-oxford': 1, 'purdue-university': 1, 'ibama': 1, 'hedonometer': 1, 'centre-d-etudes-prospectives-et-d-informations-internationales-cepii': 1, 'wikimedia': 1, 'br-inpe': 1, 'instituto-nacional-de-meteorologia-inmet': 1, 'unicamp': 1, 'conselho-nacional-de-justica-cnj': 1, 'instituto-igarape': 1, 'banco-central-do-brasil': 1, 'basketball-reference': 1, 'banco-do-brasil-bb': 1, 'british-broadcasting-corporation-bbc': 1, 'boardgamegeek': 1, 'ministerio-da-cidadania': 1, 'conselho-nacional-de-desenvolvimento-cientifico-e-tecnologico-cnpq': 1, 'ministerio-do-meio-ambiente': 1, 'inter-american-development-bank-idb': 1, 'atlantic-council': 1}\n",
      "{'usa-gov': 'usa.gov', 'william-mary': 'William & Mary', 'wikimedia': 'Wikimedia', 'vanderbilt-university': 'Vanderbilt University', 'uniao-europeia': 'União Europeia', 'university-of-texas-at-austin-ut-austin': 'University of Texas at Austin (UT-Austin)', 'university-of-oxford': 'University of Oxford', 'unicamp': 'Universidade Estadual de Campinas (UNICAMP)', 'usaid': 'USAID', 'uc-berkeley': 'UC Berkeley', 'br-tse': 'Tribunal Superior Eleitoral (TSE)', 'transparencia-brasil': 'Transparência Brasil', 'stanford-university': 'Stanford University', 'sem-organizacao': 'Sem Organização', 'purdue-university': 'Purdue University', 'mundo-onu': 'Organização das Nações Unidas (ONU)', 'newberry-library': 'Newberry Library', 'nature': 'Nature', 'ministerio-do-meio-ambiente': 'Ministério do Meio Ambiente (MMA)', 'br-ms': 'Ministério da Saúde (MS)', 'ministerio-da-justica-e-seguranca-publica-mj': 'Ministério da Justiça e Segurança Pública (MJ)', 'br-me': 'Ministério da Economia (ME)', 'ministerio-da-cidadania': 'Ministério da Cidadania', 'ministerio-da-agricultura-pecuaria-e-abastecimento-mapa': 'Ministério da Agricultura, Pecuária e Abastecimento (MAPA)', 'inter-american-development-bank-idb': 'Inter-American Development Bank (IDB)', 'instituto-para-o-desenvolvimento-do-jornalismo-projor': 'Instituto para o Desenvolvimento do Jornalismo (Projor)', 'instituto-de-seguranca-publica-isp': 'Instituto de Segurança Pública (ISP)', 'br-ipea': 'Instituto de Pesquisa Econômica Aplicada (ipea)', 'instituto-nacional-do-cancer-inca': 'Instituto Nacional do Câncer (Inca)', 'br-inpe': 'Instituto Nacional de Pesquisas Espaciais (INPE)', 'instituto-nacional-de-meteorologia-inmet': 'Instituto Nacional de Meteorologia (INMET)', 'br-inep': 'Instituto Nacional de Estudos e Pesquisas Educacionais (Inep)', 'instituto-igarape': 'Instituto Igarapé', 'br-ibge': 'Instituto Brasileiro de Geografia e Estatística (IBGE)', 'ibama': 'Ibama', 'infoamazonia': 'INFOAMAZONIA', 'hedonometer': 'Hedonometer', 'global-integrity': 'Global Integrity', 'forum-brasileiro-de-seguranca-publica-fbsp': 'Fórum Brasileiro de Segurança Pública (FBSP)', 'fundacao-nacional-do-indio-funai': 'Fundação Nacional do Índio (FUNAI)', 'fivethirtyeight': 'FiveThirtyEight', 'departamento-de-policia-federal-dpf': 'Departamento de Polícia Federal (DPF)', 'cornell-university': 'Cornell University', 'conselho-nacional-de-justica-cnj': 'Conselho Nacional de Justiça (CNJ)', 'conselho-nacional-de-desenvolvimento-cientifico-e-tecnologico-cnpq': 'Conselho Nacional de Desenvolvimento Científico e Tecnológico (CNPq)', 'comando-do-exercito-brasileiro-cex': 'Comando do Exército Brasileiro (CEX)', 'centre-d-etudes-prospectives-et-d-informations-internationales-cepii': \"Centre d'Etudes Prospectives et d'Informations Internationales (CEPII)\", 'bureau-of-labor-statistics-bls': 'Bureau of Labor Statistics (BLS)', 'british-broadcasting-corporation-bbc': 'British Broadcasting Corporation (BBC)', 'brigham-young-university': 'Brigham Young University', 'boardgamegeek': 'BoardGameGeek', 'basketball-reference': 'Basketball Reference', 'br-bd': 'Base dos Dados', 'banco-do-brasil-bb': 'Banco do Brasil (BB)', 'banco-central-do-brasil': 'Banco Central do Brasil (BCB)', 'atlantic-council': 'Atlantic Council', 'asian-barometer': 'Asian Barometer', 'artigo-19': 'Artigo 19', 'armed-conflict-location-event-data-project-acled': 'Armed Conflict Location & Event Data Project (ACLED)', 'arab-barometer': 'Arab Barometer', 'american-national-elections-studies-anes': 'American National Elections Studies (ANES)', 'allsides': 'Allsides', 'br-anp': 'Agência Nacional do Petróleo, Gás Natural e Biocombustíveis (ANP)', 'agencia-nacional-de-transportes-aquaviarios-antaq': 'Agência Nacional de Transportes Aquaviários (ANTAQ)', 'br-anatel': 'Agência Nacional de Telecomunicações (Anatel)', 'ageguess': 'AgeGuess', 'afrobarometer': 'Afrobarometer', 'agrolink': 'AGROLINK', 'acaps': 'ACAPS'}\n",
      "{}\n",
      "{'one_year': 30, 'recurring': 23, 'unique': 14, 'month': 14, 'day': 8, 'ten_years': 3, 'two_years': 3, 'other': 2, 'week': 1, 'three_years': 1, 'four_years': 1, 'five_years': 1}\n",
      "{'south_america': 43, 'all': 16, 'north_america': 8, 'asia': 2, 'africa': 1, 'europe': 1}\n",
      "{'bra': 40, 'usa': 8, 'chn': 1, 'col': 1, 'gbr': 1}\n",
      "20\n",
      "95\n"
     ]
    }
   ],
   "source": [
    "for key in response.keys():\n",
    "    if (key =='count' or key=='datasets'):\n",
    "        pass\n",
    "    else:\n",
    "        print(response[key])"
   ]
  },
  {
   "cell_type": "code",
   "execution_count": null,
   "id": "0d0a6cb9-ac3c-4eae-be70-c6da2e647f35",
   "metadata": {},
   "outputs": [],
   "source": []
  },
  {
   "cell_type": "code",
   "execution_count": null,
   "id": "9a72182b-78d0-435d-950d-6ff9c8823853",
   "metadata": {},
   "outputs": [],
   "source": []
  },
  {
   "cell_type": "code",
   "execution_count": null,
   "id": "c454715e-18b8-4210-98bd-ab4eeb72e357",
   "metadata": {},
   "outputs": [],
   "source": []
  },
  {
   "cell_type": "code",
   "execution_count": null,
   "id": "ce4699ff-1598-4013-958f-094d4958b1ba",
   "metadata": {},
   "outputs": [],
   "source": []
  },
  {
   "cell_type": "code",
   "execution_count": null,
   "id": "3b85e222-f47f-48cf-a609-2176bf9f1e3d",
   "metadata": {},
   "outputs": [],
   "source": []
  },
  {
   "cell_type": "code",
   "execution_count": null,
   "id": "b5de8a99-16d9-4086-9097-684dc816f464",
   "metadata": {},
   "outputs": [],
   "source": []
  },
  {
   "cell_type": "code",
   "execution_count": null,
   "id": "ef230632-22c8-4fab-bb69-bc64f3937e22",
   "metadata": {},
   "outputs": [],
   "source": []
  },
  {
   "cell_type": "code",
   "execution_count": null,
   "id": "9ea859cb-9c84-454d-a5e6-2222bedf3e1f",
   "metadata": {},
   "outputs": [],
   "source": []
  },
  {
   "cell_type": "code",
   "execution_count": null,
   "id": "68d9b0b2-6f08-4072-a15a-e95611d1f2dc",
   "metadata": {},
   "outputs": [],
   "source": []
  },
  {
   "cell_type": "code",
   "execution_count": 37,
   "id": "ab692f18-3eac-401a-b647-873056335211",
   "metadata": {},
   "outputs": [
    {
     "data": {
      "text/plain": [
       "{'other': 1, 'unique': 1, 'recurring': 3, 'two_years': 1}"
      ]
     },
     "execution_count": 37,
     "metadata": {},
     "output_type": "execute_result"
    }
   ],
   "source": [
    "response[\"update_frequencies\"]"
   ]
  },
  {
   "cell_type": "code",
   "execution_count": 39,
   "id": "1ca55f88-72d4-400a-8650-0aa825011bac",
   "metadata": {},
   "outputs": [
    {
     "data": {
      "text/plain": [
       "{}"
      ]
     },
     "execution_count": 39,
     "metadata": {},
     "output_type": "execute_result"
    }
   ],
   "source": [
    "sort_dict({})"
   ]
  },
  {
   "cell_type": "code",
   "execution_count": null,
   "id": "8a94ffff-83af-44f4-8a2f-26fb2b8b5318",
   "metadata": {},
   "outputs": [],
   "source": []
  },
  {
   "cell_type": "code",
   "execution_count": null,
   "id": "ff4eb94c-6e0d-4cf5-811b-250c42efb554",
   "metadata": {},
   "outputs": [],
   "source": []
  },
  {
   "cell_type": "code",
   "execution_count": 27,
   "id": "7e85e81b-c3c5-4af5-af7e-ded4bd319ab1",
   "metadata": {},
   "outputs": [],
   "source": [
    "\n",
    "response[\"update_frequencies\"] = {}\n",
    "\n",
    "for dataset in response[\"datasets\"]:\n",
    "    update_frequencies = []\n",
    "    for resource in dataset[\"resources\"]:\n",
    "        res_update_frequencies = resource.get(\"update_frequency\", None)\n",
    "\n",
    "        if res_update_frequencies is None:\n",
    "            continue\n",
    "\n",
    "        update_frequencies.append(res_update_frequencies)\n",
    "    update_frequencies = list(set(update_frequencies))\n",
    "\n",
    "    for key in update_frequencies:\n",
    "        value = response[\"update_frequencies\"].get(key, 0) + 1\n",
    "        response[\"update_frequencies\"][key] = value"
   ]
  },
  {
   "cell_type": "code",
   "execution_count": 28,
   "id": "29e0699b-675a-4e3d-92ae-a1e3220992c4",
   "metadata": {},
   "outputs": [
    {
     "data": {
      "text/plain": [
       "{'recurring': 3, 'two_years': 1, 'other': 1, 'unique': 1}"
      ]
     },
     "execution_count": 28,
     "metadata": {},
     "output_type": "execute_result"
    }
   ],
   "source": [
    "response[\"update_frequencies\"]"
   ]
  },
  {
   "cell_type": "code",
   "execution_count": null,
   "id": "e512a3f6-699e-4af5-a747-6281a8d41e80",
   "metadata": {},
   "outputs": [],
   "source": []
  },
  {
   "cell_type": "code",
   "execution_count": null,
   "id": "6257980e-6345-434f-923e-f792f40997c4",
   "metadata": {},
   "outputs": [],
   "source": []
  },
  {
   "cell_type": "code",
   "execution_count": null,
   "id": "143e3416-9d0e-4b50-be1a-3a33e1eb4ee9",
   "metadata": {},
   "outputs": [],
   "source": []
  },
  {
   "cell_type": "code",
   "execution_count": null,
   "id": "86c6d059-4d37-438a-9ec9-47650e30d285",
   "metadata": {},
   "outputs": [],
   "source": []
  },
  {
   "cell_type": "code",
   "execution_count": null,
   "id": "8c29c073-c0d6-47ce-891f-c2648d00324b",
   "metadata": {},
   "outputs": [],
   "source": []
  },
  {
   "cell_type": "code",
   "execution_count": null,
   "id": "3d7151b1-f1b2-4f0a-8d02-4cffa8d169ed",
   "metadata": {},
   "outputs": [],
   "source": []
  },
  {
   "cell_type": "code",
   "execution_count": null,
   "id": "1d4143c1-a0d4-40ff-b4a1-938caa1e3c3b",
   "metadata": {},
   "outputs": [],
   "source": []
  },
  {
   "cell_type": "code",
   "execution_count": null,
   "id": "9cc0820f-8b15-487c-ae3f-f45176d73159",
   "metadata": {},
   "outputs": [],
   "source": []
  },
  {
   "cell_type": "code",
   "execution_count": null,
   "id": "e4e14d22-e935-4620-99dd-7506baf18e90",
   "metadata": {},
   "outputs": [],
   "source": []
  }
 ],
 "metadata": {
  "kernelspec": {
   "display_name": "Python 3 (ipykernel)",
   "language": "python",
   "name": "python3"
  },
  "language_info": {
   "codemirror_mode": {
    "name": "ipython",
    "version": 3
   },
   "file_extension": ".py",
   "mimetype": "text/x-python",
   "name": "python",
   "nbconvert_exporter": "python",
   "pygments_lexer": "ipython3",
   "version": "3.9.1"
  }
 },
 "nbformat": 4,
 "nbformat_minor": 5
}
