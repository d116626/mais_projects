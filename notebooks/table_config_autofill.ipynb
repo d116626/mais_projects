{
 "cells": [
  {
   "cell_type": "markdown",
   "metadata": {},
   "source": [
    "```\n",
    "basedosdados table create \"autofill_test\" \"test\" --path=\"autofill_test_data.csv\" --if_storage_data_exists='replace' --if_table_config_exists='replace' --if_table_exists='replace' --columns_config_url='https://docs.google.com/spreadsheets/d/1YOnMXBpvyJtXQMkAVVLF56Ri8f71YkHlorbcclaEm0g/edit#gid=0'\n",
    "\n",
    "```\n",
    "\n",
    "```\n",
    "basedosdados table update_columns \"autofill_test\" \"test\" --columns_config_url='https://docs.google.com/spreadsheets/d/1YOnMXBpvyJtXQMkAVVLF56Ri8f71YkHlorbcclaEm0g/edit\\#gid\\=0'\n",
    "```"
   ]
  },
  {
   "cell_type": "code",
   "execution_count": null,
   "metadata": {},
   "outputs": [],
   "source": []
  },
  {
   "cell_type": "code",
   "execution_count": null,
   "metadata": {},
   "outputs": [],
   "source": [
    "## caged_brach\n",
    "%reload_ext autoreload\n",
    "%autoreload 2\n",
    "\n",
    "import pandas as pd\n",
    "import numpy as np\n",
    "\n",
    "pd.options.display.max_columns = 999\n",
    "pd.options.display.max_rows = 1999\n",
    "pd.options.display.max_colwidth = 200\n",
    "\n",
    "from io import StringIO\n",
    "\n",
    "from paths import *\n",
    "from scpts import manipulation\n",
    "import basedosdados as bd\n",
    "\n",
    "# import ruamel_yaml\n",
    "\n",
    "import requests\n",
    "from io import StringIO\n",
    "\n",
    "import ruamel.yaml as ruamel"
   ]
  },
  {
   "cell_type": "code",
   "execution_count": 47,
   "metadata": {},
   "outputs": [],
   "source": [
    "tb = bd.Table('test','autofill_test')"
   ]
  },
  {
   "cell_type": "code",
   "execution_count": 48,
   "metadata": {},
   "outputs": [
    {
     "name": "stderr",
     "output_type": "stream",
     "text": [
      "Uploading files: 100%|██████████| 1/1 [00:00<00:00,  1.24it/s]\n"
     ]
    }
   ],
   "source": [
    "tb.create('autofill_test_data.csv', \n",
    "          if_table_exists='replace', \n",
    "          if_storage_data_exists='replace',\n",
    "          if_table_config_exists='replace',\n",
    "#           columns_config_url='https://docs.google.com/spreadsheets/d/1YOnMXBpvyJtXQMkAVVLF56Ri8f71YkHlorbcclaEm0g/edit#gid=0'\n",
    "         )"
   ]
  },
  {
   "cell_type": "code",
   "execution_count": 49,
   "metadata": {},
   "outputs": [],
   "source": [
    "tb.update_columns(\n",
    "    columns_config_url='https://docs.google.com/spreadsheets/d/1YOnMXBpvyJtXQMkAVVLF56Ri8f71YkHlorbcclaEm0g/edit#gid=0'\n",
    ")"
   ]
  },
  {
   "cell_type": "code",
   "execution_count": 55,
   "metadata": {},
   "outputs": [
    {
     "name": "stdout",
     "output_type": "stream",
     "text": [
      "https://docs.google.com/spreadsheets/d/10T3zVCBIa15iJw9o68wgf2ACXyHxqs9GWrNa9iiI9AU/export?format=csv&gid=0\n"
     ]
    }
   ],
   "source": [
    "df = tb._sheet_to_df(columns_config_url='https://docs.google.com/spreadsheets/d/10T3zVCBIa15iJw9o68wgf2ACXyHxqs9GWrNa9iiI9AU/edit#gid=0')"
   ]
  },
  {
   "cell_type": "code",
   "execution_count": 57,
   "metadata": {},
   "outputs": [
    {
     "name": "stderr",
     "output_type": "stream",
     "text": [
      "Downloading: 100%|██████████| 10/10 [00:03<00:00,  2.91rows/s]\n"
     ]
    },
    {
     "data": {
      "text/html": [
       "<div>\n",
       "<style scoped>\n",
       "    .dataframe tbody tr th:only-of-type {\n",
       "        vertical-align: middle;\n",
       "    }\n",
       "\n",
       "    .dataframe tbody tr th {\n",
       "        vertical-align: top;\n",
       "    }\n",
       "\n",
       "    .dataframe thead th {\n",
       "        text-align: right;\n",
       "    }\n",
       "</style>\n",
       "<table border=\"1\" class=\"dataframe\">\n",
       "  <thead>\n",
       "    <tr style=\"text-align: right;\">\n",
       "      <th></th>\n",
       "      <th>codigo</th>\n",
       "      <th>placa</th>\n",
       "      <th>linha</th>\n",
       "      <th>latitude</th>\n",
       "      <th>longitude</th>\n",
       "      <th>timestamp_gps</th>\n",
       "      <th>velocidade</th>\n",
       "      <th>id_migracao_trajeto</th>\n",
       "      <th>sentido</th>\n",
       "      <th>trajeto</th>\n",
       "      <th>timestamp_captura</th>\n",
       "      <th>data</th>\n",
       "      <th>hora</th>\n",
       "    </tr>\n",
       "  </thead>\n",
       "  <tbody>\n",
       "    <tr>\n",
       "      <th>0</th>\n",
       "      <td>86804</td>\n",
       "      <td>LQG3863</td>\n",
       "      <td>12</td>\n",
       "      <td>-23.000903</td>\n",
       "      <td>-43.367207</td>\n",
       "      <td>2021-03-01 10:58:45</td>\n",
       "      <td>0</td>\n",
       "      <td>121</td>\n",
       "      <td>volta</td>\n",
       "      <td>12 - ALVORADA X PINGO D'AGUA ( EXPRESSO )</td>\n",
       "      <td>2021-03-01 11:18:47.384062</td>\n",
       "      <td>2021-03-01</td>\n",
       "      <td>14</td>\n",
       "    </tr>\n",
       "    <tr>\n",
       "      <th>1</th>\n",
       "      <td>50304</td>\n",
       "      <td>KRN8J05</td>\n",
       "      <td>5807A1</td>\n",
       "      <td>-22.919897</td>\n",
       "      <td>-43.607778</td>\n",
       "      <td>2020-07-16 13:55:11</td>\n",
       "      <td>0</td>\n",
       "      <td>124</td>\n",
       "      <td>ida</td>\n",
       "      <td>19 - PINGO D'AGUA X SALVADOR ALLENDE ( EXPRESSO )</td>\n",
       "      <td>2021-03-01 11:18:47.384062</td>\n",
       "      <td>2021-03-01</td>\n",
       "      <td>14</td>\n",
       "    </tr>\n",
       "    <tr>\n",
       "      <th>2</th>\n",
       "      <td>13426</td>\n",
       "      <td>LSI5977</td>\n",
       "      <td>50</td>\n",
       "      <td>-23.006682</td>\n",
       "      <td>-43.313600</td>\n",
       "      <td>2021-03-01 10:57:16</td>\n",
       "      <td>0</td>\n",
       "      <td>3310</td>\n",
       "      <td>ida</td>\n",
       "      <td>50 - J.OCEÂNICO x TERMINAL OLIMPICO (PARADOR)</td>\n",
       "      <td>2021-03-01 11:18:47.384062</td>\n",
       "      <td>2021-03-01</td>\n",
       "      <td>14</td>\n",
       "    </tr>\n",
       "    <tr>\n",
       "      <th>3</th>\n",
       "      <td>47013</td>\n",
       "      <td>LMB3786</td>\n",
       "      <td>51</td>\n",
       "      <td>-22.965455</td>\n",
       "      <td>-43.391977</td>\n",
       "      <td>2021-02-17 21:13:59</td>\n",
       "      <td>0</td>\n",
       "      <td>3551</td>\n",
       "      <td>ida</td>\n",
       "      <td>51 - T. RECREIO X VILA MILITAR (PARADOR)</td>\n",
       "      <td>2021-03-01 11:18:47.384062</td>\n",
       "      <td>2021-03-01</td>\n",
       "      <td>14</td>\n",
       "    </tr>\n",
       "    <tr>\n",
       "      <th>4</th>\n",
       "      <td>47031</td>\n",
       "      <td>KYW5240</td>\n",
       "      <td>42A</td>\n",
       "      <td>-22.841667</td>\n",
       "      <td>-43.279113</td>\n",
       "      <td>2021-03-01 11:16:32</td>\n",
       "      <td>12</td>\n",
       "      <td>9447</td>\n",
       "      <td>ida</td>\n",
       "      <td>42A - GALEÃO X MADUREIRA (PARADOR)</td>\n",
       "      <td>2021-03-01 11:18:47.384062</td>\n",
       "      <td>2021-03-01</td>\n",
       "      <td>14</td>\n",
       "    </tr>\n",
       "    <tr>\n",
       "      <th>5</th>\n",
       "      <td>30533</td>\n",
       "      <td>KWO8120</td>\n",
       "      <td>38A</td>\n",
       "      <td>-23.002083</td>\n",
       "      <td>-43.365765</td>\n",
       "      <td>2021-03-01 11:17:00</td>\n",
       "      <td>0</td>\n",
       "      <td>7028</td>\n",
       "      <td>ida</td>\n",
       "      <td>38A - ALVORADA X GALEÃO (PARADOR)</td>\n",
       "      <td>2021-03-01 11:18:47.384062</td>\n",
       "      <td>2021-03-01</td>\n",
       "      <td>14</td>\n",
       "    </tr>\n",
       "    <tr>\n",
       "      <th>6</th>\n",
       "      <td>86821</td>\n",
       "      <td>LQG3866</td>\n",
       "      <td>0</td>\n",
       "      <td>-22.920008</td>\n",
       "      <td>-43.607767</td>\n",
       "      <td>2020-06-16 17:26:29</td>\n",
       "      <td>0</td>\n",
       "      <td>None</td>\n",
       "      <td>None</td>\n",
       "      <td>None</td>\n",
       "      <td>2021-03-01 11:18:47.384062</td>\n",
       "      <td>2021-03-01</td>\n",
       "      <td>14</td>\n",
       "    </tr>\n",
       "    <tr>\n",
       "      <th>7</th>\n",
       "      <td>47002</td>\n",
       "      <td>LRH8941</td>\n",
       "      <td>10</td>\n",
       "      <td>-22.965142</td>\n",
       "      <td>-43.647190</td>\n",
       "      <td>2021-03-01 11:18:30</td>\n",
       "      <td>0</td>\n",
       "      <td>107</td>\n",
       "      <td>volta</td>\n",
       "      <td>10 - ALVORADA X SANTA CRUZ ( EXPRESSO )</td>\n",
       "      <td>2021-03-01 11:18:47.384062</td>\n",
       "      <td>2021-03-01</td>\n",
       "      <td>14</td>\n",
       "    </tr>\n",
       "    <tr>\n",
       "      <th>8</th>\n",
       "      <td>LUH4150 PKP / T. I</td>\n",
       "      <td>LUH4150</td>\n",
       "      <td>0</td>\n",
       "      <td>-22.971032</td>\n",
       "      <td>-43.400479</td>\n",
       "      <td>2021-02-10 18:39:47</td>\n",
       "      <td>0</td>\n",
       "      <td>None</td>\n",
       "      <td>None</td>\n",
       "      <td>None</td>\n",
       "      <td>2021-03-01 11:18:47.384062</td>\n",
       "      <td>2021-03-01</td>\n",
       "      <td>14</td>\n",
       "    </tr>\n",
       "    <tr>\n",
       "      <th>9</th>\n",
       "      <td>47027</td>\n",
       "      <td>KRR2119</td>\n",
       "      <td>51</td>\n",
       "      <td>-22.862103</td>\n",
       "      <td>-43.400335</td>\n",
       "      <td>2021-03-01 11:18:26</td>\n",
       "      <td>0</td>\n",
       "      <td>3552</td>\n",
       "      <td>volta</td>\n",
       "      <td>51 - VILA MILITAR X T. RECREIO (PARADOR)</td>\n",
       "      <td>2021-03-01 11:18:47.384062</td>\n",
       "      <td>2021-03-01</td>\n",
       "      <td>14</td>\n",
       "    </tr>\n",
       "  </tbody>\n",
       "</table>\n",
       "</div>"
      ],
      "text/plain": [
       "               codigo    placa   linha   latitude  longitude  \\\n",
       "0               86804  LQG3863      12 -23.000903 -43.367207   \n",
       "1               50304  KRN8J05  5807A1 -22.919897 -43.607778   \n",
       "2               13426  LSI5977      50 -23.006682 -43.313600   \n",
       "3               47013  LMB3786      51 -22.965455 -43.391977   \n",
       "4               47031  KYW5240     42A -22.841667 -43.279113   \n",
       "5               30533  KWO8120     38A -23.002083 -43.365765   \n",
       "6               86821  LQG3866       0 -22.920008 -43.607767   \n",
       "7               47002  LRH8941      10 -22.965142 -43.647190   \n",
       "8  LUH4150 PKP / T. I  LUH4150       0 -22.971032 -43.400479   \n",
       "9               47027  KRR2119      51 -22.862103 -43.400335   \n",
       "\n",
       "        timestamp_gps  velocidade id_migracao_trajeto sentido  \\\n",
       "0 2021-03-01 10:58:45           0                 121   volta   \n",
       "1 2020-07-16 13:55:11           0                 124     ida   \n",
       "2 2021-03-01 10:57:16           0                3310     ida   \n",
       "3 2021-02-17 21:13:59           0                3551     ida   \n",
       "4 2021-03-01 11:16:32          12                9447     ida   \n",
       "5 2021-03-01 11:17:00           0                7028     ida   \n",
       "6 2020-06-16 17:26:29           0                None    None   \n",
       "7 2021-03-01 11:18:30           0                 107   volta   \n",
       "8 2021-02-10 18:39:47           0                None    None   \n",
       "9 2021-03-01 11:18:26           0                3552   volta   \n",
       "\n",
       "                                             trajeto  \\\n",
       "0          12 - ALVORADA X PINGO D'AGUA ( EXPRESSO )   \n",
       "1  19 - PINGO D'AGUA X SALVADOR ALLENDE ( EXPRESSO )   \n",
       "2      50 - J.OCEÂNICO x TERMINAL OLIMPICO (PARADOR)   \n",
       "3           51 - T. RECREIO X VILA MILITAR (PARADOR)   \n",
       "4                 42A - GALEÃO X MADUREIRA (PARADOR)   \n",
       "5                  38A - ALVORADA X GALEÃO (PARADOR)   \n",
       "6                                               None   \n",
       "7            10 - ALVORADA X SANTA CRUZ ( EXPRESSO )   \n",
       "8                                               None   \n",
       "9           51 - VILA MILITAR X T. RECREIO (PARADOR)   \n",
       "\n",
       "           timestamp_captura       data  hora  \n",
       "0 2021-03-01 11:18:47.384062 2021-03-01    14  \n",
       "1 2021-03-01 11:18:47.384062 2021-03-01    14  \n",
       "2 2021-03-01 11:18:47.384062 2021-03-01    14  \n",
       "3 2021-03-01 11:18:47.384062 2021-03-01    14  \n",
       "4 2021-03-01 11:18:47.384062 2021-03-01    14  \n",
       "5 2021-03-01 11:18:47.384062 2021-03-01    14  \n",
       "6 2021-03-01 11:18:47.384062 2021-03-01    14  \n",
       "7 2021-03-01 11:18:47.384062 2021-03-01    14  \n",
       "8 2021-03-01 11:18:47.384062 2021-03-01    14  \n",
       "9 2021-03-01 11:18:47.384062 2021-03-01    14  "
      ]
     },
     "execution_count": 57,
     "metadata": {},
     "output_type": "execute_result"
    }
   ],
   "source": [
    "bd.read_sql('SELECT * FROM rj-smtr.br_rj_riodejaneiro_brt_gps.registros LIMIT 10', billing_project_id='basedosdados-dev')"
   ]
  },
  {
   "cell_type": "code",
   "execution_count": null,
   "metadata": {},
   "outputs": [],
   "source": []
  },
  {
   "cell_type": "code",
   "execution_count": null,
   "metadata": {},
   "outputs": [],
   "source": []
  },
  {
   "cell_type": "code",
   "execution_count": null,
   "metadata": {},
   "outputs": [],
   "source": []
  },
  {
   "cell_type": "code",
   "execution_count": 45,
   "metadata": {},
   "outputs": [],
   "source": [
    "import ruamel.yaml as ryaml\n"
   ]
  },
  {
   "cell_type": "code",
   "execution_count": 50,
   "metadata": {},
   "outputs": [],
   "source": [
    "ruamel = ryaml.YAML()\n",
    "ruamel.preserve_quotes = True\n",
    "ruamel.indent(mapping=4, sequence=6, offset=4)\n",
    "table_config_yaml = ruamel.load(\n",
    "    (tb.table_folder / \"table_config.yaml\").open(encoding=\"utf-8\")\n",
    ")"
   ]
  },
  {
   "cell_type": "code",
   "execution_count": 51,
   "metadata": {},
   "outputs": [
    {
     "data": {
      "text/plain": [
       "ordereddict([('source_bucket_name', 'basedosdados-dev'), ('project_id_staging', 'basedosdados-dev'), ('project_id_prod', 'basedosdados-dev'), ('table_id', 'test'), ('dataset_id', 'autofill_test'), ('url_ckan', 'https://basedosdados.org/dataset/autofill-test'), ('url_github', 'https://github.com/basedosdados/mais/tree/master/bases/autofill_test'), ('version', '<vA.B>'), ('last_updated', datetime.date(2021, 5, 20)), ('description', '<descrição>\\n'), ('published_by', ordereddict([('name', '<nome [você]>'), ('code_url', 'https://github.com/basedosdados/mais/tree/master/bases/autofill_test/code'), ('website', '<website>'), ('email', '<email>')])), ('treated_by', ordereddict([('name', '<nome>'), ('code_url', '<onde encontrar código de tratamento>'), ('website', '<onde encontrar os dados tratados>'), ('email', '<email>')])), ('treatment_description', '<CEPESP fez X. Eu fiz K>\\n'), ('data_update_frequency', '<frequência>'), ('observation_level', ['<primeira coluna>', '<segunda coluna>']), ('primary_keys', ['<primeira coluna>', '<segunda coluna>']), ('coverage_geo', ['<admin0 - pais>', '<admin1 - estados/regioes/etc>', '<admin2 - municipios/counties/etc>', '<admin3 - distritos/subdistritos/etc>']), ('coverage_time', ['<ano 1>', '<ano 2>']), ('partitions', None), ('columns', [ordereddict([('name', 'a'), ('description', '<descrição da coluna>'), ('is_in_staging', True), ('is_partition', False)]), ordereddict([('name', 'b'), ('description', '<descrição da coluna>'), ('is_in_staging', True), ('is_partition', False)]), ordereddict([('name', 'c'), ('description', '<descrição da coluna>'), ('is_in_staging', True), ('is_partition', False)]), ordereddict([('name', 'd'), ('description', '<descrição da coluna>'), ('is_in_staging', True), ('is_partition', False)])])])"
      ]
     },
     "execution_count": 51,
     "metadata": {},
     "output_type": "execute_result"
    }
   ],
   "source": [
    "pd.read_csv()"
   ]
  },
  {
   "cell_type": "code",
   "execution_count": null,
   "metadata": {},
   "outputs": [],
   "source": []
  },
  {
   "cell_type": "code",
   "execution_count": null,
   "metadata": {},
   "outputs": [],
   "source": []
  },
  {
   "cell_type": "code",
   "execution_count": null,
   "metadata": {},
   "outputs": [],
   "source": []
  },
  {
   "cell_type": "code",
   "execution_count": null,
   "metadata": {},
   "outputs": [],
   "source": []
  },
  {
   "cell_type": "code",
   "execution_count": null,
   "metadata": {},
   "outputs": [],
   "source": []
  },
  {
   "cell_type": "code",
   "execution_count": null,
   "metadata": {},
   "outputs": [],
   "source": []
  },
  {
   "cell_type": "code",
   "execution_count": null,
   "metadata": {},
   "outputs": [],
   "source": []
  },
  {
   "cell_type": "code",
   "execution_count": null,
   "metadata": {},
   "outputs": [],
   "source": []
  },
  {
   "cell_type": "code",
   "execution_count": null,
   "metadata": {},
   "outputs": [],
   "source": []
  },
  {
   "cell_type": "code",
   "execution_count": null,
   "metadata": {},
   "outputs": [],
   "source": []
  },
  {
   "cell_type": "code",
   "execution_count": null,
   "metadata": {},
   "outputs": [],
   "source": []
  },
  {
   "cell_type": "code",
   "execution_count": null,
   "metadata": {},
   "outputs": [],
   "source": []
  },
  {
   "cell_type": "code",
   "execution_count": null,
   "metadata": {},
   "outputs": [],
   "source": []
  },
  {
   "cell_type": "code",
   "execution_count": 23,
   "metadata": {},
   "outputs": [],
   "source": [
    "columns_config_url='https://docs.google.com/spreadsheets/d/1YOnMXBpvyJtXQMkAVVLF56Ri8f71YkHlorbcclaEm0g/edit#gid=0a'"
   ]
  },
  {
   "cell_type": "code",
   "execution_count": 24,
   "metadata": {},
   "outputs": [
    {
     "data": {
      "text/plain": [
       "False"
      ]
     },
     "execution_count": 24,
     "metadata": {},
     "output_type": "execute_result"
    }
   ],
   "source": [
    "columns_config_url.split('=')[1].isdigit()"
   ]
  },
  {
   "cell_type": "code",
   "execution_count": null,
   "metadata": {},
   "outputs": [],
   "source": []
  },
  {
   "cell_type": "code",
   "execution_count": null,
   "metadata": {},
   "outputs": [],
   "source": []
  },
  {
   "cell_type": "code",
   "execution_count": null,
   "metadata": {},
   "outputs": [],
   "source": []
  },
  {
   "cell_type": "code",
   "execution_count": null,
   "metadata": {},
   "outputs": [],
   "source": []
  },
  {
   "cell_type": "code",
   "execution_count": null,
   "metadata": {},
   "outputs": [],
   "source": []
  },
  {
   "cell_type": "code",
   "execution_count": null,
   "metadata": {},
   "outputs": [],
   "source": []
  },
  {
   "cell_type": "code",
   "execution_count": null,
   "metadata": {},
   "outputs": [],
   "source": []
  },
  {
   "cell_type": "code",
   "execution_count": null,
   "metadata": {},
   "outputs": [],
   "source": []
  },
  {
   "cell_type": "code",
   "execution_count": null,
   "metadata": {},
   "outputs": [],
   "source": []
  },
  {
   "cell_type": "code",
   "execution_count": null,
   "metadata": {},
   "outputs": [],
   "source": []
  },
  {
   "cell_type": "code",
   "execution_count": null,
   "metadata": {},
   "outputs": [],
   "source": []
  },
  {
   "cell_type": "code",
   "execution_count": null,
   "metadata": {},
   "outputs": [],
   "source": []
  },
  {
   "cell_type": "code",
   "execution_count": null,
   "metadata": {},
   "outputs": [],
   "source": []
  },
  {
   "cell_type": "code",
   "execution_count": null,
   "metadata": {},
   "outputs": [],
   "source": []
  },
  {
   "cell_type": "code",
   "execution_count": null,
   "metadata": {},
   "outputs": [],
   "source": []
  },
  {
   "cell_type": "code",
   "execution_count": null,
   "metadata": {},
   "outputs": [],
   "source": []
  },
  {
   "cell_type": "code",
   "execution_count": null,
   "metadata": {},
   "outputs": [],
   "source": []
  },
  {
   "cell_type": "code",
   "execution_count": null,
   "metadata": {},
   "outputs": [],
   "source": []
  },
  {
   "cell_type": "code",
   "execution_count": null,
   "metadata": {},
   "outputs": [],
   "source": []
  },
  {
   "cell_type": "code",
   "execution_count": null,
   "metadata": {},
   "outputs": [],
   "source": []
  },
  {
   "cell_type": "code",
   "execution_count": null,
   "metadata": {},
   "outputs": [],
   "source": []
  },
  {
   "cell_type": "code",
   "execution_count": null,
   "metadata": {},
   "outputs": [],
   "source": []
  },
  {
   "cell_type": "code",
   "execution_count": null,
   "metadata": {},
   "outputs": [],
   "source": []
  },
  {
   "cell_type": "code",
   "execution_count": null,
   "metadata": {},
   "outputs": [],
   "source": []
  },
  {
   "cell_type": "code",
   "execution_count": null,
   "metadata": {},
   "outputs": [],
   "source": []
  },
  {
   "cell_type": "code",
   "execution_count": null,
   "metadata": {},
   "outputs": [],
   "source": []
  },
  {
   "cell_type": "code",
   "execution_count": null,
   "metadata": {},
   "outputs": [],
   "source": []
  },
  {
   "cell_type": "code",
   "execution_count": null,
   "metadata": {},
   "outputs": [],
   "source": []
  },
  {
   "cell_type": "code",
   "execution_count": null,
   "metadata": {},
   "outputs": [],
   "source": []
  },
  {
   "cell_type": "code",
   "execution_count": null,
   "metadata": {},
   "outputs": [],
   "source": []
  },
  {
   "cell_type": "code",
   "execution_count": null,
   "metadata": {},
   "outputs": [],
   "source": []
  },
  {
   "cell_type": "code",
   "execution_count": null,
   "metadata": {},
   "outputs": [],
   "source": []
  }
 ],
 "metadata": {
  "kernelspec": {
   "display_name": "Python 3",
   "language": "python",
   "name": "python3"
  },
  "language_info": {
   "codemirror_mode": {
    "name": "ipython",
    "version": 3
   },
   "file_extension": ".py",
   "mimetype": "text/x-python",
   "name": "python",
   "nbconvert_exporter": "python",
   "pygments_lexer": "ipython3",
   "version": "3.8.5"
  }
 },
 "nbformat": 4,
 "nbformat_minor": 4
}
