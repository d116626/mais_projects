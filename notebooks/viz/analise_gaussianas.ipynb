{
 "cells": [
  {
   "cell_type": "markdown",
   "id": "7017879a-0a57-402c-a437-af617c609b51",
   "metadata": {},
   "source": [
    "### Como as gaussianas aparecem nos dados da bd+\n",
    "\n"
   ]
  },
  {
   "cell_type": "code",
   "execution_count": null,
   "id": "f99b3db5-eb53-4806-ba1e-f7bc49302dbc",
   "metadata": {},
   "outputs": [],
   "source": []
  }
 ],
 "metadata": {
  "kernelspec": {
   "display_name": "Python 3 (ipykernel)",
   "language": "python",
   "name": "python3"
  },
  "language_info": {
   "codemirror_mode": {
    "name": "ipython",
    "version": 3
   },
   "file_extension": ".py",
   "mimetype": "text/x-python",
   "name": "python",
   "nbconvert_exporter": "python",
   "pygments_lexer": "ipython3",
   "version": "3.9.1"
  }
 },
 "nbformat": 4,
 "nbformat_minor": 5
}
