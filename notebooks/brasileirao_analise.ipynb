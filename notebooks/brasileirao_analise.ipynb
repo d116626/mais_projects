{
 "cells": [
  {
   "cell_type": "code",
   "execution_count": 48,
   "metadata": {},
   "outputs": [],
   "source": [
    "import basedosdados as bd\n",
    "import numpy as np\n",
    "import pandas as pd\n",
    "import plotly.express as px\n",
    "\n",
    "import matplotlib.pyplot as plt\n",
    "plt.rcParams['svg.fonttype'] = 'none'\n",
    "\n",
    "import seaborn as sns\n",
    "pd.options.display.max_columns = 999\n",
    "pd.options.display.max_rows = 1999"
   ]
  },
  {
   "cell_type": "code",
   "execution_count": 2,
   "metadata": {},
   "outputs": [
    {
     "name": "stderr",
     "output_type": "stream",
     "text": [
      "Downloading: 100%|██████████| 7030/7030 [00:04<00:00, 1689.24rows/s]\n"
     ]
    }
   ],
   "source": [
    "query = \"\"\"\n",
    "SELECT * FROM `basedosdados.mundo_transfermarkt_competicoes.brasileirao_serie_a`\n",
    "\"\"\"\n",
    "df = bd.read_sql(query, billing_project_id='basedosdados')"
   ]
  },
  {
   "cell_type": "code",
   "execution_count": 3,
   "metadata": {},
   "outputs": [],
   "source": [
    "# # def co\n",
    "# def plt_hist(df,col,man_vis=False):\n",
    "#     ddf = pd.DataFrame()\n",
    "#     cols=[col]\n",
    "#     if man_vis:\n",
    "#         value = col\n",
    "#         cols = [f'{value}_vis',f'{value}_man']\n",
    "#     for col in cols:\n",
    "#         dd = df[[col]].copy()\n",
    "#         dd=dd.rename(columns={col:value})\n",
    "#         dd['tipo'] = col\n",
    "#         ddf = pd.concat([ddf,dd],0)\n",
    "    \n",
    "\n",
    "#     return ddf"
   ]
  },
  {
   "cell_type": "code",
   "execution_count": 119,
   "metadata": {},
   "outputs": [],
   "source": [
    "def get_min_max(df,col):\n",
    "    vmin = 0\n",
    "    vmax = 0\n",
    "    years=[]\n",
    "    for ano in df['ano_campeonato'].unique().tolist():\n",
    "        mask = df['ano_campeonato']==ano\n",
    "        dd = df[mask].copy()\n",
    "        if (dd[f\"{col}_vis\"].sum()!=0) & (dd[f\"{col}_man\"].sum()!=0):\n",
    "            print(ano)\n",
    "            df_heatmap = (pd.crosstab(dd[f\"{col}_vis\"], dd[f\"{col}_man\"]))\n",
    "            df_heatmap = df_heatmap[df_heatmap.columns[:5]].head(5)\n",
    "\n",
    "            max_now = df_heatmap.to_numpy().max()\n",
    "            min_now = df_heatmap.to_numpy().min()\n",
    "\n",
    "            vmax = max_now if max_now > vmax else vmax\n",
    "            vmin = min_now if min_now < vmin else vmin\n",
    "#         print(vmin)\n",
    "            years.append(ano)\n",
    "    return vmin, vmax, years"
   ]
  },
  {
   "cell_type": "code",
   "execution_count": 120,
   "metadata": {},
   "outputs": [
    {
     "name": "stdout",
     "output_type": "stream",
     "text": [
      "2018\n",
      "2019\n",
      "2020\n"
     ]
    }
   ],
   "source": [
    "col = 'chutes'\n",
    "vmin, vmax, years = get_min_max(df,col)\n"
   ]
  },
  {
   "cell_type": "code",
   "execution_count": 121,
   "metadata": {},
   "outputs": [
    {
     "data": {
      "image/png": "[encoded data removed]",
      "text/plain": [
       "<Figure size 720x576 with 5 Axes>"
      ]
     },
     "metadata": {
      "needs_background": "light"
     },
     "output_type": "display_data"
    }
   ],
   "source": [
    "d=2\n",
    "fig = plt.figure(figsize=(5*d,4*d))  \n",
    "axn = fig.subplots(2, 2, sharex=True, sharey=True)\n",
    "cbar_ax = fig.add_axes([0.95, 0.007, 0.05, 0.95])\n",
    "i=0\n",
    "for ax,ano in zip(axn.flat,years):\n",
    "    mask = df['ano_campeonato']==ano\n",
    "    df_heatmap = round(pd.crosstab(df[mask][f\"{col}_vis\"], df[mask][f\"{col}_man\"]).div(len(df[mask].index))*100,2)\n",
    "    df_heatmap = df_heatmap[df_heatmap.columns[:5]].head(5)\n",
    "    sns.heatmap(df_heatmap,\n",
    "                ax=ax,\n",
    "                cbar=i == 0,\n",
    "                cbar_ax=None if i else cbar_ax,\n",
    "                vmin=vmin,\n",
    "                vmax=vmax,\n",
    "                linewidths=.5,\n",
    "                cmap=cmap,\n",
    "                annot=True,\n",
    "                annot_kws={\"fontsize\":8},\n",
    "    )\n",
    "    ax.set_title(ano,fontsize=11)\n",
    "#     ax.axes.get_xaxis().set_visible(False)\n",
    "#     ax.axes.get_yaxis().set_visible(False)\n",
    "#     ax.set_xlabel('', fontsize=20)\n",
    "#     ax.set_ylabel('', fontsize=20)\n",
    "    ax.spines['right'].set_visible(False)\n",
    "    ax.spines['top'].set_visible(False)\n",
    "    ax.spines['bottom'].set_visible(False)\n",
    "    ax.spines['left'].set_visible(False)\n",
    "    ax.margins(x=0, y=0)\n",
    "\n",
    "    i+=1\n",
    "fig.tight_layout(rect=[0, 0, .9, 1])\n",
    "\n",
    "# axn.flat[18].axis('off')\n",
    "# axn.flat[19].axis('off')\n",
    "\n",
    "# plt.savefig(f'../images/brasileirao/distribuicao_{col}_brasileirao.png',dpi=100, transparent=True, bbox_inches = 'tight', pad_inches = 0)"
   ]
  },
  {
   "cell_type": "code",
   "execution_count": null,
   "metadata": {},
   "outputs": [],
   "source": []
  },
  {
   "cell_type": "code",
   "execution_count": null,
   "metadata": {},
   "outputs": [],
   "source": []
  },
  {
   "cell_type": "code",
   "execution_count": null,
   "metadata": {},
   "outputs": [],
   "source": []
  },
  {
   "cell_type": "code",
   "execution_count": null,
   "metadata": {},
   "outputs": [],
   "source": []
  },
  {
   "cell_type": "code",
   "execution_count": null,
   "metadata": {},
   "outputs": [],
   "source": []
  },
  {
   "cell_type": "code",
   "execution_count": null,
   "metadata": {},
   "outputs": [],
   "source": []
  },
  {
   "cell_type": "code",
   "execution_count": null,
   "metadata": {},
   "outputs": [],
   "source": []
  },
  {
   "cell_type": "code",
   "execution_count": 73,
   "metadata": {},
   "outputs": [
    {
     "data": {
      "image/png": "[encoded data removed]",
      "text/plain": [
       "<Figure size 432x288 with 2 Axes>"
      ]
     },
     "metadata": {
      "needs_background": "light"
     },
     "output_type": "display_data"
    }
   ],
   "source": [
    "from matplotlib.colors import LinearSegmentedColormap\n",
    "paleta = ['#F0FAF3','#C1EBD0','#65CD89','#329A56','#194D2B']\n",
    "cmap = LinearSegmentedColormap.from_list('bdmais',paleta)\n",
    "\n",
    "a = np.outer(np.linspace(0, 1, 20), np.linspace(0, 1, 20))\n",
    "im = plt.imshow(a, cmap=cmap)\n",
    "plt.colorbar(im)\n",
    "plt.show()"
   ]
  },
  {
   "cell_type": "code",
   "execution_count": null,
   "metadata": {},
   "outputs": [],
   "source": []
  },
  {
   "cell_type": "code",
   "execution_count": null,
   "metadata": {},
   "outputs": [],
   "source": []
  },
  {
   "cell_type": "code",
   "execution_count": null,
   "metadata": {},
   "outputs": [],
   "source": []
  },
  {
   "cell_type": "code",
   "execution_count": null,
   "metadata": {},
   "outputs": [],
   "source": []
  },
  {
   "cell_type": "code",
   "execution_count": null,
   "metadata": {},
   "outputs": [],
   "source": []
  },
  {
   "cell_type": "code",
   "execution_count": null,
   "metadata": {},
   "outputs": [],
   "source": []
  },
  {
   "cell_type": "code",
   "execution_count": null,
   "metadata": {},
   "outputs": [],
   "source": []
  },
  {
   "cell_type": "code",
   "execution_count": null,
   "metadata": {},
   "outputs": [],
   "source": []
  }
 ],
 "metadata": {
  "kernelspec": {
   "display_name": "Python 3",
   "language": "python",
   "name": "python3"
  },
  "language_info": {
   "codemirror_mode": {
    "name": "ipython",
    "version": 3
   },
   "file_extension": ".py",
   "mimetype": "text/x-python",
   "name": "python",
   "nbconvert_exporter": "python",
   "pygments_lexer": "ipython3",
   "version": "3.8.5"
  }
 },
 "nbformat": 4,
 "nbformat_minor": 4
}
