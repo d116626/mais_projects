{
 "cells": [
  {
   "cell_type": "code",
   "execution_count": 2,
   "metadata": {},
   "outputs": [],
   "source": [
    "## caged_brach\n",
    "%reload_ext autoreload\n",
    "%autoreload 2\n",
    "\n",
    "import pandas as pd\n",
    "import numpy as np\n",
    "\n",
    "pd.options.display.max_columns = 999\n",
    "pd.options.display.max_rows = 1999\n",
    "pd.options.display.max_colwidth = 200\n",
    "\n",
    "from paths import *\n",
    "from scpts import manipulation\n",
    "from scpts import io\n",
    "from scpts import caged_novo\n",
    "\n",
    "from basedosdados import Storage, Table, Dataset\n",
    "import basedosdados as bd\n",
    "\n",
    "import glob\n"
   ]
  },
  {
   "cell_type": "markdown",
   "metadata": {},
   "source": [
    "### Download Dados\n",
    " - ftp://ftp.mtps.gov.br/pdet/microdados/CAGED/\n",
    " - ftp://ftp.mtps.gov.br/pdet/microdados/CAGED_AJUSTES/\n",
    " - ftp://ftp.mtps.gov.br/pdet/microdados/NOVO%20CAGED/"
   ]
  },
  {
   "cell_type": "markdown",
   "metadata": {},
   "source": [
    "### Get Urls"
   ]
  },
  {
   "cell_type": "code",
   "execution_count": null,
   "metadata": {},
   "outputs": [],
   "source": [
    "import os\n",
    "import shutil\n",
    "\n",
    "import urllib.request as request\n",
    "from contextlib import closing\n",
    "\n",
    "import re\n",
    "\n",
    "import time\n",
    "from datetime import datetime\n",
    "\n",
    "today = datetime.strftime(datetime.today(), \"%Y-%m-%d\")\n",
    "\n",
    "import pandas as pd\n",
    "\n",
    "month_number_dict = {\n",
    "    \"04\": \"Abril\",\n",
    "    \"08\": \"Agosto\",\n",
    "    \"12\": \"Dezembro\",\n",
    "    \"02\": \"Fevereiro\",\n",
    "    \"01\": \"Janeiro\",\n",
    "    \"07\": \"Julho\",\n",
    "    \"06\": \"Junho\",\n",
    "    \"05\": \"Maio\",\n",
    "    \"03\": \"Março\",\n",
    "    \"11\": \"Novembro\",\n",
    "    \"10\": \"Outubro\",\n",
    "    \"09\": \"Setembro\",\n",
    "}\n",
    "\n",
    "month_name_dict = {\n",
    "    \"Abril\": \"04\",\n",
    "    \"Agosto\": \"08\",\n",
    "    \"Dezembro\": \"12\",\n",
    "    \"Fevereiro\": \"02\",\n",
    "    \"Janeiro\": \"01\",\n",
    "    \"Julho\": \"07\",\n",
    "    \"Junho\": \"06\",\n",
    "    \"Maio\": \"05\",\n",
    "    \"Março\": \"03\",\n",
    "    \"Novembro\": \"11\",\n",
    "    \"Outubro\": \"10\",\n",
    "    \"Setembro\": \"09\",\n",
    "}\n",
    "\n",
    "\n",
    "def get_urls(download_url):\n",
    "    with request.urlopen(download_url) as r:\n",
    "        data = r.read()\n",
    "    return [line.split(\" \")[-1] for line in data.decode(\"latin1\").splitlines()]\n",
    "\n",
    "\n",
    "def get_download_links():\n",
    "    download_url = \"ftp://ftp.mtps.gov.br/pdet/microdados/NOVO%20CAGED/\"\n",
    "    tipos = get_urls(download_url)\n",
    "    tipos = [tipo for tipo in tipos if \".pdf\" not in tipo]\n",
    "\n",
    "    download_dict = {}\n",
    "    for tipo in tipos:\n",
    "        print(tipo)\n",
    "        year_url = download_url + tipo + \"/\"\n",
    "        years = get_urls(year_url)\n",
    "        ## adiciona 2020 hard coded caso n exista. problema no ftp dos microdados\n",
    "        years = years + [\"2020\"] if \"2020\" not in years else years\n",
    "\n",
    "        years = [int(year) for year in years if re.findall(r\"\\b\\d\\d\\d\\d\\b\", year)]\n",
    "        last_year = max(years)\n",
    "        first_year = min(years)\n",
    "        ##cria url com o maior ano\n",
    "        months_url = year_url + f\"{last_year}/\"\n",
    "        months_last_year = get_urls(months_url)\n",
    "\n",
    "        ##descobre o maior mes do maior ano\n",
    "        last_month = max(int(month_name_dict[month]) for month in months_last_year)\n",
    "        last_month_number = f\"0{last_month}\" if last_month <= 9 else str(last_month)\n",
    "        last_month_name = month_number_dict[last_month_number]\n",
    "\n",
    "        ## cria url com maior ano/mes\n",
    "        file_names_url = months_url + f\"{last_month_name}/\"\n",
    "        last_year_file_names = get_urls(file_names_url)\n",
    "\n",
    "        last_year_files_urls = [\n",
    "            file_names_url + file_name for file_name in last_year_file_names\n",
    "        ]\n",
    "\n",
    "        ## lista dos ultiimos 12 arquivos atualizados\n",
    "        last_year_month_dt = [month[-9:-3] for month in last_year_file_names]\n",
    "\n",
    "        ## define ultimo mes para criar uma lista de datas, adiciona mais 1 para incluir o mes vigente\n",
    "        last_month_dt = int(last_month_number) + 1\n",
    "        last_month_dt = (\n",
    "            f\"0{last_month_dt}\" if last_month_dt <= 9 else str(last_month_dt)\n",
    "        )\n",
    "\n",
    "        dates = pd.date_range(\n",
    "            f\"{first_year}-01-01\", f\"{last_year}-{last_month_dt}-01\", freq=\"m\"\n",
    "        )\n",
    "        dates = [str(date)[:7].replace(\"-\", \"\") for date in dates]\n",
    "\n",
    "        ## meses a serem baixados separadamente\n",
    "        left_over_dates = [date for date in dates if date not in last_year_month_dt]\n",
    "\n",
    "        left_over_files = []\n",
    "        for left_date in left_over_dates:\n",
    "            ano_plus = str(int(left_date[:4]) + 1)\n",
    "            mes_number = left_date[4:]\n",
    "            mes_name = month_number_dict[mes_number]\n",
    "\n",
    "            ## cria url para baixar o arquivo maiis atualizado\n",
    "            left_files_url = year_url + f\"{ano_plus}/{mes_name}/\"\n",
    "\n",
    "            ## encontra o nome do arquivo mais atualizado\n",
    "            last_year_files = get_urls(left_files_url)\n",
    "            file_name = [\n",
    "                last_month for last_month in last_year_files if left_date in last_month\n",
    "            ][0]\n",
    "\n",
    "            ##adiciona a lista de arquivos que sobraram\n",
    "            file_url = left_files_url + file_name\n",
    "            left_over_files.append(file_url)\n",
    "\n",
    "        download_dict[tipo] = left_over_files + last_year_files_urls\n",
    "\n",
    "    return download_dict\n"
   ]
  },
  {
   "cell_type": "code",
   "execution_count": null,
   "metadata": {},
   "outputs": [],
   "source": []
  },
  {
   "cell_type": "code",
   "execution_count": null,
   "metadata": {},
   "outputs": [],
   "source": []
  },
  {
   "cell_type": "code",
   "execution_count": 5,
   "metadata": {},
   "outputs": [
    {
     "name": "stdout",
     "output_type": "stream",
     "text": [
      "Estabelecimentos\n",
      "Movimentações\n"
     ]
    }
   ],
   "source": [
    "download_dict = caged_novo.get_download_links()"
   ]
  },
  {
   "cell_type": "code",
   "execution_count": 6,
   "metadata": {},
   "outputs": [
    {
     "data": {
      "text/plain": [
       "{'Estabelecimentos': ['ftp://ftp.mtps.gov.br/pdet/microdados/NOVO%20CAGED/Estabelecimentos/2021/Janeiro/CAGEDESTAB202001.7z',\n",
       "  'ftp://ftp.mtps.gov.br/pdet/microdados/NOVO%20CAGED/Estabelecimentos/2021/Fevereiro/CAGEDESTAB202002.7z',\n",
       "  'ftp://ftp.mtps.gov.br/pdet/microdados/NOVO%20CAGED/Estabelecimentos/2021/Março/CAGEDESTAB202003.7z',\n",
       "  'ftp://ftp.mtps.gov.br/pdet/microdados/NOVO%20CAGED/Estabelecimentos/2021/Março/CAGEDESTAB202004.7z',\n",
       "  'ftp://ftp.mtps.gov.br/pdet/microdados/NOVO%20CAGED/Estabelecimentos/2021/Março/CAGEDESTAB202005.7z',\n",
       "  'ftp://ftp.mtps.gov.br/pdet/microdados/NOVO%20CAGED/Estabelecimentos/2021/Março/CAGEDESTAB202006.7z',\n",
       "  'ftp://ftp.mtps.gov.br/pdet/microdados/NOVO%20CAGED/Estabelecimentos/2021/Março/CAGEDESTAB202007.7z',\n",
       "  'ftp://ftp.mtps.gov.br/pdet/microdados/NOVO%20CAGED/Estabelecimentos/2021/Março/CAGEDESTAB202008.7z',\n",
       "  'ftp://ftp.mtps.gov.br/pdet/microdados/NOVO%20CAGED/Estabelecimentos/2021/Março/CAGEDESTAB202009.7z',\n",
       "  'ftp://ftp.mtps.gov.br/pdet/microdados/NOVO%20CAGED/Estabelecimentos/2021/Março/CAGEDESTAB202010.7z',\n",
       "  'ftp://ftp.mtps.gov.br/pdet/microdados/NOVO%20CAGED/Estabelecimentos/2021/Março/CAGEDESTAB202011.7z',\n",
       "  'ftp://ftp.mtps.gov.br/pdet/microdados/NOVO%20CAGED/Estabelecimentos/2021/Março/CAGEDESTAB202012.7z',\n",
       "  'ftp://ftp.mtps.gov.br/pdet/microdados/NOVO%20CAGED/Estabelecimentos/2021/Março/CAGEDESTAB202101.7z',\n",
       "  'ftp://ftp.mtps.gov.br/pdet/microdados/NOVO%20CAGED/Estabelecimentos/2021/Março/CAGEDESTAB202102.7z',\n",
       "  'ftp://ftp.mtps.gov.br/pdet/microdados/NOVO%20CAGED/Estabelecimentos/2021/Março/CAGEDESTAB202103.7z'],\n",
       " 'Movimentações': ['ftp://ftp.mtps.gov.br/pdet/microdados/NOVO%20CAGED/Movimentações/2021/Janeiro/CAGEDMOV202001.7z',\n",
       "  'ftp://ftp.mtps.gov.br/pdet/microdados/NOVO%20CAGED/Movimentações/2021/Fevereiro/CAGEDMOV202002.7z',\n",
       "  'ftp://ftp.mtps.gov.br/pdet/microdados/NOVO%20CAGED/Movimentações/2021/Março/CAGEDMOV202003.7z',\n",
       "  'ftp://ftp.mtps.gov.br/pdet/microdados/NOVO%20CAGED/Movimentações/2021/Março/CAGEDMOV202004.7z',\n",
       "  'ftp://ftp.mtps.gov.br/pdet/microdados/NOVO%20CAGED/Movimentações/2021/Março/CAGEDMOV202005.7z',\n",
       "  'ftp://ftp.mtps.gov.br/pdet/microdados/NOVO%20CAGED/Movimentações/2021/Março/CAGEDMOV202006.7z',\n",
       "  'ftp://ftp.mtps.gov.br/pdet/microdados/NOVO%20CAGED/Movimentações/2021/Março/CAGEDMOV202007.7z',\n",
       "  'ftp://ftp.mtps.gov.br/pdet/microdados/NOVO%20CAGED/Movimentações/2021/Março/CAGEDMOV202008.7z',\n",
       "  'ftp://ftp.mtps.gov.br/pdet/microdados/NOVO%20CAGED/Movimentações/2021/Março/CAGEDMOV202009.7z',\n",
       "  'ftp://ftp.mtps.gov.br/pdet/microdados/NOVO%20CAGED/Movimentações/2021/Março/CAGEDMOV202010.7z',\n",
       "  'ftp://ftp.mtps.gov.br/pdet/microdados/NOVO%20CAGED/Movimentações/2021/Março/CAGEDMOV202011.7z',\n",
       "  'ftp://ftp.mtps.gov.br/pdet/microdados/NOVO%20CAGED/Movimentações/2021/Março/CAGEDMOV202012.7z',\n",
       "  'ftp://ftp.mtps.gov.br/pdet/microdados/NOVO%20CAGED/Movimentações/2021/Março/CAGEDMOV202101.7z',\n",
       "  'ftp://ftp.mtps.gov.br/pdet/microdados/NOVO%20CAGED/Movimentações/2021/Março/CAGEDMOV202102.7z',\n",
       "  'ftp://ftp.mtps.gov.br/pdet/microdados/NOVO%20CAGED/Movimentações/2021/Março/CAGEDMOV202103.7z']}"
      ]
     },
     "execution_count": 6,
     "metadata": {},
     "output_type": "execute_result"
    }
   ],
   "source": [
    "download_dict"
   ]
  },
  {
   "cell_type": "code",
   "execution_count": null,
   "metadata": {},
   "outputs": [],
   "source": []
  },
  {
   "cell_type": "markdown",
   "metadata": {},
   "source": [
    "### Download Data"
   ]
  },
  {
   "cell_type": "code",
   "execution_count": 3,
   "metadata": {},
   "outputs": [],
   "source": [
    "\n",
    "import shutil\n",
    "import urllib.request as request\n",
    "from contextlib import closing\n",
    "\n",
    "def download_data(download_link, download_path, filename):\n",
    "    ## download do arquivo\n",
    "    with closing(request.urlopen(download_link)) as r:\n",
    "        with open(os.path.join(download_path, filename), \"wb\") as f:\n",
    "            shutil.copyfileobj(r, f)"
   ]
  },
  {
   "cell_type": "code",
   "execution_count": 4,
   "metadata": {},
   "outputs": [],
   "source": [
    "download_data(\n",
    "    'ftp://ftp.mtps.gov.br/pdet/microdados/NOVO%20CAGED/Movimentações/2021/Março/CAGEDMOV202103.7z', \n",
    "    '.', \n",
    "    'CAGEDMOV202103.7z')"
   ]
  },
  {
   "cell_type": "code",
   "execution_count": null,
   "metadata": {},
   "outputs": [],
   "source": []
  },
  {
   "cell_type": "code",
   "execution_count": null,
   "metadata": {},
   "outputs": [],
   "source": []
  },
  {
   "cell_type": "code",
   "execution_count": null,
   "metadata": {},
   "outputs": [],
   "source": []
  },
  {
   "cell_type": "code",
   "execution_count": null,
   "metadata": {},
   "outputs": [],
   "source": []
  },
  {
   "cell_type": "code",
   "execution_count": null,
   "metadata": {},
   "outputs": [],
   "source": []
  },
  {
   "cell_type": "code",
   "execution_count": null,
   "metadata": {},
   "outputs": [],
   "source": []
  },
  {
   "cell_type": "code",
   "execution_count": null,
   "metadata": {},
   "outputs": [],
   "source": []
  },
  {
   "cell_type": "code",
   "execution_count": null,
   "metadata": {},
   "outputs": [],
   "source": []
  },
  {
   "cell_type": "code",
   "execution_count": null,
   "metadata": {},
   "outputs": [],
   "source": []
  },
  {
   "cell_type": "code",
   "execution_count": null,
   "metadata": {},
   "outputs": [],
   "source": []
  },
  {
   "cell_type": "code",
   "execution_count": null,
   "metadata": {},
   "outputs": [],
   "source": []
  },
  {
   "cell_type": "code",
   "execution_count": null,
   "metadata": {},
   "outputs": [],
   "source": []
  }
 ],
 "metadata": {
  "kernelspec": {
   "display_name": "Python 3",
   "language": "python",
   "name": "python3"
  },
  "language_info": {
   "codemirror_mode": {
    "name": "ipython",
    "version": 3
   },
   "file_extension": ".py",
   "mimetype": "text/x-python",
   "name": "python",
   "nbconvert_exporter": "python",
   "pygments_lexer": "ipython3",
   "version": "3.8.5"
  }
 },
 "nbformat": 4,
 "nbformat_minor": 4
}
