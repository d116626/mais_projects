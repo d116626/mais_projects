{
 "cells": [
  {
   "cell_type": "code",
   "execution_count": 1,
   "metadata": {},
   "outputs": [],
   "source": [
    "## caged_brach\n",
    "%reload_ext autoreload\n",
    "%autoreload 2\n",
    "\n",
    "import pandas as pd\n",
    "import numpy as np\n",
    "\n",
    "pd.options.display.max_columns = 999\n",
    "pd.options.display.max_rows = 1999\n",
    "pd.options.display.max_colwidth = 200\n",
    "\n",
    "from paths import *\n",
    "from scpts import manipulation\n",
    "from scpts import io\n",
    "from scpts import caged_novo\n",
    "\n",
    "from basedosdados import Storage, Table, Dataset\n",
    "import basedosdados as bd\n",
    "\n",
    "import glob\n"
   ]
  },
  {
   "cell_type": "markdown",
   "metadata": {},
   "source": [
    "### Download Dados\n",
    " - ftp://ftp.mtps.gov.br/pdet/microdados/CAGED/\n",
    " - ftp://ftp.mtps.gov.br/pdet/microdados/CAGED_AJUSTES/\n",
    " - ftp://ftp.mtps.gov.br/pdet/microdados/NOVO%20CAGED/"
   ]
  },
  {
   "cell_type": "markdown",
   "metadata": {},
   "source": [
    "### Get Urls"
   ]
  },
  {
   "cell_type": "code",
   "execution_count": 88,
   "metadata": {},
   "outputs": [
    {
     "name": "stdout",
     "output_type": "stream",
     "text": [
      "estabelecimentos\n",
      "movimentacoes\n"
     ]
    }
   ],
   "source": [
    "download_dict = caged_novo.get_download_links()"
   ]
  },
  {
   "cell_type": "code",
   "execution_count": 15,
   "metadata": {
    "scrolled": true,
    "tags": []
   },
   "outputs": [
    {
     "data": {
      "text/plain": [
       "{'estabelecimentos': {'must_download': ['Estabelecimentos/2021/Julho/CAGEDESTAB202007.7z',\n",
       "   'Estabelecimentos/2021/Julho/CAGEDESTAB202008.7z',\n",
       "   'Estabelecimentos/2021/Julho/CAGEDESTAB202009.7z',\n",
       "   'Estabelecimentos/2021/Julho/CAGEDESTAB202010.7z',\n",
       "   'Estabelecimentos/2021/Julho/CAGEDESTAB202011.7z',\n",
       "   'Estabelecimentos/2021/Julho/CAGEDESTAB202012.7z',\n",
       "   'Estabelecimentos/2021/Julho/CAGEDESTAB202101.7z',\n",
       "   'Estabelecimentos/2021/Julho/CAGEDESTAB202102.7z',\n",
       "   'Estabelecimentos/2021/Julho/CAGEDESTAB202103.7z',\n",
       "   'Estabelecimentos/2021/Julho/CAGEDESTAB202104.7z',\n",
       "   'Estabelecimentos/2021/Julho/CAGEDESTAB202105.7z',\n",
       "   'Estabelecimentos/2021/Julho/CAGEDESTAB202106.7z',\n",
       "   'Estabelecimentos/2021/Julho/CAGEDESTAB202107.7z'],\n",
       "  'check_download': {'202001': 'Estabelecimentos/2021/Janeiro/CAGEDESTAB202001.7z',\n",
       "   '202002': 'Estabelecimentos/2021/Fevereiro/CAGEDESTAB202002.7z',\n",
       "   '202003': 'Estabelecimentos/2021/Março/CAGEDESTAB202003.7z',\n",
       "   '202004': 'Estabelecimentos/2021/Abril/CAGEDESTAB202004.7z',\n",
       "   '202005': 'Estabelecimentos/2021/Maio/CAGEDESTAB202005.7z',\n",
       "   '202006': 'Estabelecimentos/2021/Junho/CAGEDESTAB202006.7z'}},\n",
       " 'movimentacoes': {'must_download': ['Movimentações/2021/Julho/CAGEDMOV202007.7z',\n",
       "   'Movimentações/2021/Julho/CAGEDMOV202008.7z',\n",
       "   'Movimentações/2021/Julho/CAGEDMOV202009.7z',\n",
       "   'Movimentações/2021/Julho/CAGEDMOV202010.7z',\n",
       "   'Movimentações/2021/Julho/CAGEDMOV202011.7z',\n",
       "   'Movimentações/2021/Julho/CAGEDMOV202012.7z',\n",
       "   'Movimentações/2021/Julho/CAGEDMOV202101.7z',\n",
       "   'Movimentações/2021/Julho/CAGEDMOV202102.7z',\n",
       "   'Movimentações/2021/Julho/CAGEDMOV202103.7z',\n",
       "   'Movimentações/2021/Julho/CAGEDMOV202104.7z',\n",
       "   'Movimentações/2021/Julho/CAGEDMOV202105.7z',\n",
       "   'Movimentações/2021/Julho/CAGEDMOV202106.7z',\n",
       "   'Movimentações/2021/Julho/CAGEDMOV202107.7z'],\n",
       "  'check_download': {'202001': 'Movimentações/2021/Janeiro/CAGEDMOV202001.7z',\n",
       "   '202002': 'Movimentações/2021/Fevereiro/CAGEDMOV202002.7z',\n",
       "   '202003': 'Movimentações/2021/Março/CAGEDMOV202003.7z',\n",
       "   '202004': 'Movimentações/2021/Abril/CAGEDMOV202004.7z',\n",
       "   '202005': 'Movimentações/2021/Maio/CAGEDMOV202005.7z',\n",
       "   '202006': 'Movimentações/2021/Junho/CAGEDMOV202006.7z'}}}"
      ]
     },
     "execution_count": 15,
     "metadata": {},
     "output_type": "execute_result"
    }
   ],
   "source": [
    "download_dict"
   ]
  },
  {
   "cell_type": "code",
   "execution_count": null,
   "metadata": {},
   "outputs": [],
   "source": []
  },
  {
   "cell_type": "markdown",
   "metadata": {},
   "source": [
    "### Download Data\n",
    "\n",
    "- download do zip na pasta raw"
   ]
  },
  {
   "cell_type": "code",
   "execution_count": 143,
   "metadata": {
    "scrolled": true,
    "tags": []
   },
   "outputs": [
    {
     "name": "stdout",
     "output_type": "stream",
     "text": [
      "estabelecimentos 2020/1/\n",
      "estabelecimentos 2020/2/\n",
      "estabelecimentos 2020/3/\n",
      "estabelecimentos 2020/4/\n",
      "estabelecimentos 2020/5/\n",
      "estabelecimentos 2020/6/\n",
      "\n",
      "\n",
      "movimentacoes 2020/1/\n",
      "movimentacoes 2020/2/\n",
      "movimentacoes 2020/3/\n",
      "movimentacoes 2020/4/\n",
      "movimentacoes 2020/5/\n",
      "movimentacoes 2020/6/\n",
      "\n",
      "\n"
     ]
    }
   ],
   "source": [
    "RAW_PATH = \"../data/caged_novo/raw/\"\n",
    "creat_path_tree(RAW_PATH)\n",
    "for tipo in download_dict.keys():\n",
    "    download_opt = download_dict[tipo][\"check_download\"]\n",
    "    download_opt.update(download_dict[tipo][\"must_download\"])\n",
    "    # TODO: etapa de filtragem do que n deve ser baixado\n",
    "\n",
    "    for year_month_path in list(download_opt.keys()):\n",
    "        print(tipo, year_month_path)\n",
    "        save_path = RAW_PATH + f\"{tipo}/\" + year_month_path\n",
    "        download_data(save_path, download_opt[year_month_path])\n",
    "    print(\"\\n\")"
   ]
  },
  {
   "cell_type": "code",
   "execution_count": 321,
   "metadata": {},
   "outputs": [],
   "source": []
  },
  {
   "cell_type": "markdown",
   "metadata": {},
   "source": [
    "### TRATAMENTO\n",
    "\n",
    "- extrair\n",
    "- load\n",
    "- padroniza nome das colunas\n",
    "- limpa\n",
    "- salva, formato ano=xxxx/mes=xx/sigla_uf=XX"
   ]
  },
  {
   "cell_type": "code",
   "execution_count": 337,
   "metadata": {},
   "outputs": [],
   "source": [
    "import py7zr\n",
    "from scpts import manipulation\n",
    "\n",
    "\n",
    "def extract_file(file_path, file_name, save_rows=10):\n",
    "    print(file_path)\n",
    "    if not os.path.exists(f\"{file_path}{file_name}.csv\"):\n",
    "        archive = py7zr.SevenZipFile(f\"{file_path}{file_name}.7z\", mode=\"r\").extractall(\n",
    "            path=file_path\n",
    "        )\n",
    "        filename_txt = [\n",
    "            file for file in os.listdir(file_path) if \".txt\" in file.lower()\n",
    "        ][0]\n",
    "\n",
    "        #         print(filename_txt)\n",
    "\n",
    "        df = pd.read_csv(\n",
    "            f\"{file_path}{filename_txt}\",\n",
    "            sep=\";\",\n",
    "            encoding=\"latin-1\",\n",
    "            nrows=save_rows,\n",
    "            dtype=\"str\",\n",
    "        )\n",
    "\n",
    "        #         df.columns = manipulation.normalize_cols(df.columns)\n",
    "\n",
    "        df.to_csv(f\"{file_path}{file_name}.csv\", index=False, encoding=\"latin-1\")\n",
    "\n",
    "        os.remove(f\"{file_path}{filename_txt}\")\n",
    "\n",
    "\n",
    "def clean_csvs(file_path, file_name):\n",
    "    try:\n",
    "        os.remove(f\"{file_path}{file_name}.csv\")\n",
    "    except:\n",
    "        pass\n",
    "\n",
    "\n",
    "def rename_add_orginaze_columns(file_path, file_name, tipo):\n",
    "    municipios = pd.read_csv(\"../data/caged_novo/diretorio_municipios.csv\")\n",
    "    df = pd.read_csv(f\"{file_path}{file_name}.csv\")\n",
    "\n",
    "    colunas_estabelecimento = {\n",
    "        \"sigla_uf\": \"sigla_uf\",\n",
    "        \"id_municipio\": \"id_municipio\",\n",
    "        \"município\": \"id_municipio_6\",\n",
    "        \"seção\": \"cnae_2\",\n",
    "        \"subclasse\": \"cnae_2_subclasse\",\n",
    "        \"admitidos\": \"admitidos\",\n",
    "        \"desligados\": \"desligados\",\n",
    "        \"fonte_desl\": \"fonte_desligamento\",\n",
    "        \"saldomovimentação\": \"saldo_movimentacao\",\n",
    "        \"tipoempregador\": \"tipo_empregador\",\n",
    "        \"tipoestabelecimento\": \"tipo_estabelecimento\",\n",
    "        \"tamestabjan\": \"tamanho_estabelecimento_janeiro\",\n",
    "        \"competência\": \"\",\n",
    "        \"região\": \"\",\n",
    "        \"uf\": \"\",\n",
    "    }\n",
    "\n",
    "    colunas_movimentacoes = {\n",
    "        \"sigla_uf\": \"sigla_uf\",\n",
    "        \"id_municipo\": \"id_municipio\",\n",
    "        \"município\": \"id_municipio_6\",\n",
    "        \"seção\": \"cnae_2\",\n",
    "        \"subclasse\": \"cnae_2_subclasse\",\n",
    "        \"cbo2002ocupação\": \"cbo_2002\",\n",
    "        \"saldomovimentação\": \"saldo_movimentacao\",\n",
    "        \"categoria\": \"categoria\",\n",
    "        \"graudeinstrução\": \"grau_instrucao\",\n",
    "        \"idade\": \"idade\",\n",
    "        \"horascontratuais\": \"horas_contratuais\",\n",
    "        \"raçacor\": \"raca_cor\",\n",
    "        \"sexo\": \"sexo\",\n",
    "        \"tipoempregador\": \"tipo_empregador\",\n",
    "        \"tipoestabelecimento\": \"tipo_estabelecimento\",\n",
    "        \"tipomovimentação\": \"tipo_movimentacao\",\n",
    "        \"tipodedeficiência\": \"tipo_deficiencia\",\n",
    "        \"indtrabintermitente\": \"indicador_trabalho_intermitente\",\n",
    "        \"indtrabparcial\": \"indicador_trabalho_parcial\",\n",
    "        \"salário\": \"salario_mensal\",\n",
    "        \"tamestabjan\": \"tamanho_estabelecimento_janeiro\",\n",
    "        \"indicadoraprendiz\": \"indicador_aprendiz\",\n",
    "        \"fonte\": \"fonte\",\n",
    "        \"competência\": \"\",\n",
    "        \"região\": \"\",\n",
    "        \"uf\": \"\",\n",
    "    }\n",
    "\n",
    "    if tipo == \"estabelecimentos\":\n",
    "        col_dict = colunas_estabelecimento\n",
    "    else:\n",
    "        col_dict = colunas_movimentacoes\n",
    "\n",
    "    remove_cols = [col for col in col_dict if col_dict.get(col) == \"\"]\n",
    "\n",
    "    df = df.drop(columns=remove_cols)\n",
    "    df = df.rename(columns=col_dict)\n",
    "    df = df.merge(municipios, on=\"id_municipio_6\", how=\"left\")\n",
    "\n",
    "    col_order = [col_dict[col] for col in col_dict if col not in remove_cols]\n",
    "    df = df[col_order]\n",
    "\n",
    "    return df"
   ]
  },
  {
   "cell_type": "code",
   "execution_count": null,
   "metadata": {},
   "outputs": [],
   "source": []
  },
  {
   "cell_type": "code",
   "execution_count": 338,
   "metadata": {},
   "outputs": [
    {
     "name": "stdout",
     "output_type": "stream",
     "text": [
      "movimentacoes\n",
      "../data/caged_novo/raw/movimentacoes/2020/1/\n",
      "../data/caged_novo/raw/movimentacoes/2020/2/\n",
      "../data/caged_novo/raw/movimentacoes/2020/3/\n",
      "../data/caged_novo/raw/movimentacoes/2020/4/\n",
      "../data/caged_novo/raw/movimentacoes/2020/5/\n",
      "../data/caged_novo/raw/movimentacoes/2020/6/\n",
      "../data/caged_novo/raw/movimentacoes/2020/7/\n",
      "../data/caged_novo/raw/movimentacoes/2020/8/\n",
      "../data/caged_novo/raw/movimentacoes/2020/9/\n",
      "../data/caged_novo/raw/movimentacoes/2020/10/\n",
      "../data/caged_novo/raw/movimentacoes/2020/11/\n",
      "../data/caged_novo/raw/movimentacoes/2020/12/\n",
      "../data/caged_novo/raw/movimentacoes/2021/1/\n",
      "../data/caged_novo/raw/movimentacoes/2021/2/\n",
      "../data/caged_novo/raw/movimentacoes/2021/3/\n",
      "../data/caged_novo/raw/movimentacoes/2021/4/\n",
      "../data/caged_novo/raw/movimentacoes/2021/5/\n",
      "../data/caged_novo/raw/movimentacoes/2021/6/\n",
      "../data/caged_novo/raw/movimentacoes/2021/7/\n"
     ]
    }
   ],
   "source": [
    "RAW_PATH = \"../data/caged_novo/raw/\"\n",
    "CLEAN_PATH = \"../data/caged_novo/clean/\"\n",
    "\n",
    "dd = pd.DataFrame()\n",
    "for tipo in list(download_dict.keys())[1:]:\n",
    "    print(tipo)\n",
    "    download_opt = download_dict[tipo][\"check_download\"]\n",
    "    download_opt.update(download_dict[tipo][\"must_download\"])\n",
    "    # TODO: etapa de filtragem do que n deve ser baixado\n",
    "    for year_month_path in list(download_opt.keys()):\n",
    "        file_name = download_opt[year_month_path].split(\"/\")[-1].split(\".\")[0]\n",
    "        file_path = RAW_PATH + f\"{tipo}/\" + year_month_path\n",
    "\n",
    "        # extrai arquivo\n",
    "        extract_file(file_path, file_name, save_rows=10)\n",
    "\n",
    "        # load e organiza os dados\n",
    "        df = rename_add_orginaze_columns(file_path, file_name, tipo)\n",
    "\n",
    "        # limpa dados\n",
    "\n",
    "        # salva no formato de particao\n",
    "\n",
    "        #         clean_csvs(file_path,file_name)\n"
   ]
  },
  {
   "cell_type": "code",
   "execution_count": null,
   "metadata": {},
   "outputs": [],
   "source": []
  },
  {
   "cell_type": "code",
   "execution_count": null,
   "metadata": {},
   "outputs": [],
   "source": []
  },
  {
   "cell_type": "code",
   "execution_count": null,
   "metadata": {},
   "outputs": [],
   "source": []
  },
  {
   "cell_type": "code",
   "execution_count": null,
   "metadata": {},
   "outputs": [],
   "source": []
  },
  {
   "cell_type": "code",
   "execution_count": null,
   "metadata": {},
   "outputs": [],
   "source": []
  },
  {
   "cell_type": "code",
   "execution_count": null,
   "metadata": {},
   "outputs": [],
   "source": []
  },
  {
   "cell_type": "code",
   "execution_count": null,
   "metadata": {},
   "outputs": [],
   "source": []
  },
  {
   "cell_type": "code",
   "execution_count": null,
   "metadata": {},
   "outputs": [],
   "source": []
  },
  {
   "cell_type": "code",
   "execution_count": null,
   "metadata": {},
   "outputs": [],
   "source": []
  },
  {
   "cell_type": "code",
   "execution_count": null,
   "metadata": {},
   "outputs": [],
   "source": []
  },
  {
   "cell_type": "code",
   "execution_count": null,
   "metadata": {},
   "outputs": [],
   "source": []
  },
  {
   "cell_type": "code",
   "execution_count": null,
   "metadata": {},
   "outputs": [],
   "source": []
  },
  {
   "cell_type": "code",
   "execution_count": null,
   "metadata": {},
   "outputs": [],
   "source": []
  },
  {
   "cell_type": "code",
   "execution_count": null,
   "metadata": {},
   "outputs": [],
   "source": []
  },
  {
   "cell_type": "code",
   "execution_count": null,
   "metadata": {},
   "outputs": [],
   "source": []
  },
  {
   "cell_type": "code",
   "execution_count": null,
   "metadata": {},
   "outputs": [],
   "source": []
  },
  {
   "cell_type": "code",
   "execution_count": null,
   "metadata": {},
   "outputs": [],
   "source": []
  },
  {
   "cell_type": "code",
   "execution_count": null,
   "metadata": {},
   "outputs": [],
   "source": []
  },
  {
   "cell_type": "code",
   "execution_count": null,
   "metadata": {},
   "outputs": [],
   "source": []
  },
  {
   "cell_type": "code",
   "execution_count": null,
   "metadata": {},
   "outputs": [],
   "source": []
  },
  {
   "cell_type": "code",
   "execution_count": null,
   "metadata": {},
   "outputs": [],
   "source": []
  },
  {
   "cell_type": "code",
   "execution_count": null,
   "metadata": {},
   "outputs": [],
   "source": []
  },
  {
   "cell_type": "code",
   "execution_count": null,
   "metadata": {},
   "outputs": [],
   "source": []
  },
  {
   "cell_type": "code",
   "execution_count": null,
   "metadata": {},
   "outputs": [],
   "source": []
  },
  {
   "cell_type": "code",
   "execution_count": null,
   "metadata": {},
   "outputs": [],
   "source": []
  },
  {
   "cell_type": "code",
   "execution_count": null,
   "metadata": {},
   "outputs": [],
   "source": []
  },
  {
   "cell_type": "code",
   "execution_count": null,
   "metadata": {},
   "outputs": [],
   "source": []
  },
  {
   "cell_type": "code",
   "execution_count": null,
   "metadata": {},
   "outputs": [],
   "source": []
  },
  {
   "cell_type": "code",
   "execution_count": null,
   "metadata": {},
   "outputs": [],
   "source": []
  },
  {
   "cell_type": "code",
   "execution_count": null,
   "metadata": {},
   "outputs": [],
   "source": []
  },
  {
   "cell_type": "code",
   "execution_count": null,
   "metadata": {},
   "outputs": [],
   "source": []
  },
  {
   "cell_type": "code",
   "execution_count": null,
   "metadata": {},
   "outputs": [],
   "source": []
  }
 ],
 "metadata": {
  "kernelspec": {
   "display_name": "Python 3 (ipykernel)",
   "language": "python",
   "name": "python3"
  },
  "language_info": {
   "codemirror_mode": {
    "name": "ipython",
    "version": 3
   },
   "file_extension": ".py",
   "mimetype": "text/x-python",
   "name": "python",
   "nbconvert_exporter": "python",
   "pygments_lexer": "ipython3",
   "version": "3.9.1"
  }
 },
 "nbformat": 4,
 "nbformat_minor": 4
}
