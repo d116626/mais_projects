{
 "cells": [
  {
   "cell_type": "code",
   "execution_count": 1,
   "metadata": {},
   "outputs": [],
   "source": [
    "## caged_brach\n",
    "%reload_ext autoreload\n",
    "%autoreload 2\n",
    "\n",
    "import pandas as pd\n",
    "import numpy as np\n",
    "\n",
    "pd.options.display.max_columns = 999\n",
    "pd.options.display.max_rows = 1999\n",
    "pd.options.display.max_colwidth = 200\n",
    "\n",
    "from paths import *\n",
    "from scpts import manipulation\n",
    "from scpts import io\n",
    "from scpts import caged_novo\n",
    "\n",
    "from basedosdados import Storage, Table, Dataset\n",
    "import basedosdados as bd\n",
    "\n",
    "import glob\n",
    "import shutil\n"
   ]
  },
  {
   "cell_type": "markdown",
   "metadata": {},
   "source": [
    "### Download Dados\n",
    " - ftp://ftp.mtps.gov.br/pdet/microdados/CAGED/\n",
    " - ftp://ftp.mtps.gov.br/pdet/microdados/CAGED_AJUSTES/\n",
    " - ftp://ftp.mtps.gov.br/pdet/microdados/NOVO%20CAGED/"
   ]
  },
  {
   "cell_type": "markdown",
   "metadata": {},
   "source": [
    "### Get Urls"
   ]
  },
  {
   "cell_type": "code",
   "execution_count": 2,
   "metadata": {},
   "outputs": [
    {
     "name": "stdout",
     "output_type": "stream",
     "text": [
      "estabelecimentos\n",
      "movimentacoes\n"
     ]
    }
   ],
   "source": [
    "download_dict = caged_novo.get_download_links()"
   ]
  },
  {
   "cell_type": "code",
   "execution_count": 3,
   "metadata": {
    "scrolled": true,
    "tags": []
   },
   "outputs": [
    {
     "data": {
      "text/plain": [
       "{'estabelecimentos': {'must_download': {'2020/7/': 'Estabelecimentos/2021/Julho/CAGEDESTAB202007.7z',\n",
       "   '2020/8/': 'Estabelecimentos/2021/Julho/CAGEDESTAB202008.7z',\n",
       "   '2020/9/': 'Estabelecimentos/2021/Julho/CAGEDESTAB202009.7z',\n",
       "   '2020/10/': 'Estabelecimentos/2021/Julho/CAGEDESTAB202010.7z',\n",
       "   '2020/11/': 'Estabelecimentos/2021/Julho/CAGEDESTAB202011.7z',\n",
       "   '2020/12/': 'Estabelecimentos/2021/Julho/CAGEDESTAB202012.7z',\n",
       "   '2021/1/': 'Estabelecimentos/2021/Julho/CAGEDESTAB202101.7z',\n",
       "   '2021/2/': 'Estabelecimentos/2021/Julho/CAGEDESTAB202102.7z',\n",
       "   '2021/3/': 'Estabelecimentos/2021/Julho/CAGEDESTAB202103.7z',\n",
       "   '2021/4/': 'Estabelecimentos/2021/Julho/CAGEDESTAB202104.7z',\n",
       "   '2021/5/': 'Estabelecimentos/2021/Julho/CAGEDESTAB202105.7z',\n",
       "   '2021/6/': 'Estabelecimentos/2021/Julho/CAGEDESTAB202106.7z',\n",
       "   '2021/7/': 'Estabelecimentos/2021/Julho/CAGEDESTAB202107.7z'},\n",
       "  'check_download': {'2020/1/': 'Estabelecimentos/2021/Janeiro/CAGEDESTAB202001.7z',\n",
       "   '2020/2/': 'Estabelecimentos/2021/Fevereiro/CAGEDESTAB202002.7z',\n",
       "   '2020/3/': 'Estabelecimentos/2021/Março/CAGEDESTAB202003.7z',\n",
       "   '2020/4/': 'Estabelecimentos/2021/Abril/CAGEDESTAB202004.7z',\n",
       "   '2020/5/': 'Estabelecimentos/2021/Maio/CAGEDESTAB202005.7z',\n",
       "   '2020/6/': 'Estabelecimentos/2021/Junho/CAGEDESTAB202006.7z'}},\n",
       " 'movimentacoes': {'must_download': {'2020/7/': 'Movimentações/2021/Julho/CAGEDMOV202007.7z',\n",
       "   '2020/8/': 'Movimentações/2021/Julho/CAGEDMOV202008.7z',\n",
       "   '2020/9/': 'Movimentações/2021/Julho/CAGEDMOV202009.7z',\n",
       "   '2020/10/': 'Movimentações/2021/Julho/CAGEDMOV202010.7z',\n",
       "   '2020/11/': 'Movimentações/2021/Julho/CAGEDMOV202011.7z',\n",
       "   '2020/12/': 'Movimentações/2021/Julho/CAGEDMOV202012.7z',\n",
       "   '2021/1/': 'Movimentações/2021/Julho/CAGEDMOV202101.7z',\n",
       "   '2021/2/': 'Movimentações/2021/Julho/CAGEDMOV202102.7z',\n",
       "   '2021/3/': 'Movimentações/2021/Julho/CAGEDMOV202103.7z',\n",
       "   '2021/4/': 'Movimentações/2021/Julho/CAGEDMOV202104.7z',\n",
       "   '2021/5/': 'Movimentações/2021/Julho/CAGEDMOV202105.7z',\n",
       "   '2021/6/': 'Movimentações/2021/Julho/CAGEDMOV202106.7z',\n",
       "   '2021/7/': 'Movimentações/2021/Julho/CAGEDMOV202107.7z'},\n",
       "  'check_download': {'2020/1/': 'Movimentações/2021/Janeiro/CAGEDMOV202001.7z',\n",
       "   '2020/2/': 'Movimentações/2021/Fevereiro/CAGEDMOV202002.7z',\n",
       "   '2020/3/': 'Movimentações/2021/Março/CAGEDMOV202003.7z',\n",
       "   '2020/4/': 'Movimentações/2021/Abril/CAGEDMOV202004.7z',\n",
       "   '2020/5/': 'Movimentações/2021/Maio/CAGEDMOV202005.7z',\n",
       "   '2020/6/': 'Movimentações/2021/Junho/CAGEDMOV202006.7z'}}}"
      ]
     },
     "execution_count": 3,
     "metadata": {},
     "output_type": "execute_result"
    }
   ],
   "source": [
    "download_dict"
   ]
  },
  {
   "cell_type": "markdown",
   "metadata": {},
   "source": [
    "### DOWNLOAD E TRATAMENTO\n",
    "\n",
    "- download\n",
    "- extrair\n",
    "- load\n",
    "- padroniza nome das colunas\n",
    "- limpa\n",
    "- salva, formato ano=xxxx/mes=xx/sigla_uf=XX\n",
    "- upload bd\n",
    "- deleta arquivos"
   ]
  },
  {
   "cell_type": "code",
   "execution_count": 7,
   "metadata": {},
   "outputs": [
    {
     "name": "stdout",
     "output_type": "stream",
     "text": [
      "estabelecimentos :  2020/1/\n"
     ]
    },
    {
     "name": "stderr",
     "output_type": "stream",
     "text": [
      "Uploading files: 100%|██████████████████████████| 27/27 [00:24<00:00,  1.12it/s]"
     ]
    },
    {
     "name": "stdout",
     "output_type": "stream",
     "text": [
      "\n",
      "\n"
     ]
    },
    {
     "name": "stderr",
     "output_type": "stream",
     "text": [
      "\n"
     ]
    }
   ],
   "source": [
    "RAW_PATH = \"../data/caged_novo/raw/\"\n",
    "CLEAN_PATH = \"../data/caged_novo/clean/\"\n",
    "\n",
    "dd = pd.DataFrame()\n",
    "for tipo in list(download_dict.keys())[:1]:\n",
    "    \n",
    "    download_opt = download_dict[tipo][\"check_download\"]\n",
    "    download_opt.update(download_dict[tipo][\"must_download\"])\n",
    "    # TODO: etapa de filtragem do que n deve ser baixado\n",
    "    \n",
    "    for year_month_path in list(download_opt.keys())[:1]:\n",
    "        print(tipo,\": \",year_month_path)\n",
    "        ## download data\n",
    "        save_path = RAW_PATH + f\"{tipo}/\" + year_month_path\n",
    "        caged_novo.download_data(save_path, download_opt[year_month_path])\n",
    "        \n",
    "        #create some vars\n",
    "        file_name = download_opt[year_month_path].split(\"/\")[-1].split(\".\")[0]\n",
    "        file_path = RAW_PATH + f\"{tipo}/\" + year_month_path\n",
    "        \n",
    "        #extrai arquivo\n",
    "        caged_novo.extract_file(file_path, file_name, save_rows=None)\n",
    "\n",
    "        # load e organiza os dados\n",
    "        df = caged_novo.rename_add_orginaze_columns(file_path, file_name, tipo)\n",
    "\n",
    "        # salva no formato de particao\n",
    "        save_clean_path = CLEAN_PATH + f\"{tipo}/\"\n",
    "        caged_novo.creat_partition(df,save_clean_path,year_month_path)\n",
    "        \n",
    "        #upload basedosdados\n",
    "        caged_novo.upload_to_bd(tipo,save_clean_path)\n",
    "        \n",
    "        #deleta pasta\n",
    "        shutil.rmtree(CLEAN_PATH + f\"{tipo}/\")\n",
    "        shutil.rmtree(RAW_PATH + f\"{tipo}/\")\n",
    "    \n",
    "    print('\\n')\n"
   ]
  },
  {
   "cell_type": "code",
   "execution_count": null,
   "metadata": {},
   "outputs": [],
   "source": []
  },
  {
   "cell_type": "code",
   "execution_count": null,
   "metadata": {},
   "outputs": [],
   "source": []
  },
  {
   "cell_type": "markdown",
   "metadata": {},
   "source": [
    "### Create table and fill metadata"
   ]
  },
  {
   "cell_type": "code",
   "execution_count": 394,
   "metadata": {},
   "outputs": [],
   "source": [
    "tb = bd.Table('microdados_movimentacoes','br_me_caged')\n",
    "# st = bd.Storage('br_me_caged','microdados_movimentacoes',)\n",
    "# st.delete_table(bucket_name='basedosdados-dev')\n",
    "# tb.create(path='../data/caged_novo/clean/movimentacoes/',\n",
    "#           if_table_config_exists='replace',\n",
    "#           if_storage_data_exists='replace',\n",
    "#           if_table_exists='replace'\n",
    "#          )\n",
    "\n",
    "# tb.update_columns('https://docs.google.com/spreadsheets/d/1ihyOCSkaarmR3uMHj8bmP9tv-OChVeL2LkEWaGqxp7w/edit#gid=787251136')\n",
    "\n",
    "tb.publish(if_exists='replace')"
   ]
  },
  {
   "cell_type": "code",
   "execution_count": null,
   "metadata": {},
   "outputs": [],
   "source": []
  },
  {
   "cell_type": "code",
   "execution_count": 395,
   "metadata": {},
   "outputs": [],
   "source": [
    "tb = bd.Table('microdados_estabelecimentos','br_me_caged')\n",
    "# st = bd.Storage('br_me_caged','microdados_estabelecimentos',)\n",
    "# st.delete_table(bucket_name='basedosdados-dev')\n",
    "# tb.create(path='../data/caged_novo/clean/estabelecimentos/', \n",
    "#           if_table_config_exists='replace',\n",
    "#           if_storage_data_exists='replace',\n",
    "#           if_table_exists='replace' \n",
    "#          )\n",
    "\n",
    "# tb.update_columns('https://docs.google.com/spreadsheets/d/1-XQM9mhlJ3-t10c7cPpwOOK24hKz0u3qR6m04I1PoR4/edit#gid=1885260190')\n",
    "\n",
    "tb.publish(if_exists='replace')"
   ]
  },
  {
   "cell_type": "code",
   "execution_count": null,
   "metadata": {},
   "outputs": [],
   "source": [
    "## fill columns description\n"
   ]
  },
  {
   "cell_type": "code",
   "execution_count": null,
   "metadata": {},
   "outputs": [],
   "source": []
  },
  {
   "cell_type": "code",
   "execution_count": null,
   "metadata": {},
   "outputs": [],
   "source": []
  },
  {
   "cell_type": "code",
   "execution_count": null,
   "metadata": {},
   "outputs": [],
   "source": []
  },
  {
   "cell_type": "code",
   "execution_count": null,
   "metadata": {},
   "outputs": [],
   "source": []
  },
  {
   "cell_type": "code",
   "execution_count": 366,
   "metadata": {},
   "outputs": [],
   "source": [
    "import basedosdados as bd"
   ]
  },
  {
   "cell_type": "code",
   "execution_count": null,
   "metadata": {},
   "outputs": [],
   "source": []
  },
  {
   "cell_type": "code",
   "execution_count": null,
   "metadata": {},
   "outputs": [],
   "source": []
  },
  {
   "cell_type": "code",
   "execution_count": null,
   "metadata": {},
   "outputs": [],
   "source": []
  },
  {
   "cell_type": "code",
   "execution_count": null,
   "metadata": {},
   "outputs": [],
   "source": []
  },
  {
   "cell_type": "code",
   "execution_count": null,
   "metadata": {},
   "outputs": [],
   "source": []
  },
  {
   "cell_type": "code",
   "execution_count": null,
   "metadata": {},
   "outputs": [],
   "source": []
  },
  {
   "cell_type": "code",
   "execution_count": null,
   "metadata": {},
   "outputs": [],
   "source": []
  },
  {
   "cell_type": "code",
   "execution_count": null,
   "metadata": {},
   "outputs": [],
   "source": []
  },
  {
   "cell_type": "code",
   "execution_count": null,
   "metadata": {},
   "outputs": [],
   "source": []
  },
  {
   "cell_type": "code",
   "execution_count": null,
   "metadata": {},
   "outputs": [],
   "source": []
  },
  {
   "cell_type": "code",
   "execution_count": null,
   "metadata": {},
   "outputs": [],
   "source": []
  },
  {
   "cell_type": "code",
   "execution_count": null,
   "metadata": {},
   "outputs": [],
   "source": []
  },
  {
   "cell_type": "code",
   "execution_count": null,
   "metadata": {},
   "outputs": [],
   "source": []
  },
  {
   "cell_type": "code",
   "execution_count": null,
   "metadata": {},
   "outputs": [],
   "source": []
  },
  {
   "cell_type": "code",
   "execution_count": null,
   "metadata": {},
   "outputs": [],
   "source": []
  },
  {
   "cell_type": "code",
   "execution_count": null,
   "metadata": {},
   "outputs": [],
   "source": []
  },
  {
   "cell_type": "code",
   "execution_count": null,
   "metadata": {},
   "outputs": [],
   "source": []
  },
  {
   "cell_type": "code",
   "execution_count": null,
   "metadata": {},
   "outputs": [],
   "source": []
  },
  {
   "cell_type": "code",
   "execution_count": null,
   "metadata": {},
   "outputs": [],
   "source": []
  },
  {
   "cell_type": "code",
   "execution_count": null,
   "metadata": {},
   "outputs": [],
   "source": []
  },
  {
   "cell_type": "code",
   "execution_count": null,
   "metadata": {},
   "outputs": [],
   "source": []
  },
  {
   "cell_type": "code",
   "execution_count": null,
   "metadata": {},
   "outputs": [],
   "source": []
  },
  {
   "cell_type": "code",
   "execution_count": null,
   "metadata": {},
   "outputs": [],
   "source": []
  },
  {
   "cell_type": "code",
   "execution_count": null,
   "metadata": {},
   "outputs": [],
   "source": []
  },
  {
   "cell_type": "code",
   "execution_count": null,
   "metadata": {},
   "outputs": [],
   "source": []
  },
  {
   "cell_type": "code",
   "execution_count": null,
   "metadata": {},
   "outputs": [],
   "source": []
  },
  {
   "cell_type": "code",
   "execution_count": null,
   "metadata": {},
   "outputs": [],
   "source": []
  },
  {
   "cell_type": "code",
   "execution_count": null,
   "metadata": {},
   "outputs": [],
   "source": []
  },
  {
   "cell_type": "code",
   "execution_count": null,
   "metadata": {},
   "outputs": [],
   "source": []
  },
  {
   "cell_type": "code",
   "execution_count": null,
   "metadata": {},
   "outputs": [],
   "source": []
  },
  {
   "cell_type": "code",
   "execution_count": null,
   "metadata": {},
   "outputs": [],
   "source": []
  },
  {
   "cell_type": "code",
   "execution_count": null,
   "metadata": {},
   "outputs": [],
   "source": []
  },
  {
   "cell_type": "code",
   "execution_count": null,
   "metadata": {},
   "outputs": [],
   "source": []
  },
  {
   "cell_type": "code",
   "execution_count": null,
   "metadata": {},
   "outputs": [],
   "source": []
  },
  {
   "cell_type": "code",
   "execution_count": null,
   "metadata": {},
   "outputs": [],
   "source": []
  }
 ],
 "metadata": {
  "kernelspec": {
   "display_name": "Python 3 (ipykernel)",
   "language": "python",
   "name": "python3"
  },
  "language_info": {
   "codemirror_mode": {
    "name": "ipython",
    "version": 3
   },
   "file_extension": ".py",
   "mimetype": "text/x-python",
   "name": "python",
   "nbconvert_exporter": "python",
   "pygments_lexer": "ipython3",
   "version": "3.9.1"
  }
 },
 "nbformat": 4,
 "nbformat_minor": 4
}
