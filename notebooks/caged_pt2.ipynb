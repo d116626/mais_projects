{
 "cells": [
  {
   "cell_type": "code",
   "execution_count": 4,
   "metadata": {},
   "outputs": [],
   "source": [
    "## caged_brach\n",
    "%reload_ext autoreload\n",
    "%autoreload 2\n",
    "\n",
    "import pandas as pd\n",
    "import numpy as np\n",
    "\n",
    "pd.options.display.max_columns = 999\n",
    "pd.options.display.max_rows = 1999\n",
    "pd.options.display.max_colwidth = 200\n",
    "\n",
    "from paths import *\n",
    "from scpts import manipulation\n",
    "from scpts import io\n",
    "from scpts import caged_novo\n",
    "\n",
    "from basedosdados import Storage, Table, Dataset\n",
    "import basedosdados as bd\n",
    "\n",
    "import glob\n"
   ]
  },
  {
   "cell_type": "code",
   "execution_count": null,
   "metadata": {},
   "outputs": [],
   "source": []
  },
  {
   "cell_type": "markdown",
   "metadata": {},
   "source": [
    "### Download Dados\n",
    " - ftp://ftp.mtps.gov.br/pdet/microdados/CAGED/\n",
    " - ftp://ftp.mtps.gov.br/pdet/microdados/CAGED_AJUSTES/\n",
    " - ftp://ftp.mtps.gov.br/pdet/microdados/NOVO%20CAGED/"
   ]
  },
  {
   "cell_type": "code",
   "execution_count": 8,
   "metadata": {},
   "outputs": [
    {
     "name": "stdout",
     "output_type": "stream",
     "text": [
      "Estabelecimentos\n",
      "Movimentações\n"
     ]
    }
   ],
   "source": [
    "download_dict = caged_novo.get_download_links()"
   ]
  },
  {
   "cell_type": "code",
   "execution_count": 9,
   "metadata": {},
   "outputs": [
    {
     "data": {
      "text/plain": [
       "{'Estabelecimentos': ['ftp://ftp.mtps.gov.br/pdet/microdados/NOVO%20CAGED/Estabelecimentos/2021/Janeiro/CAGEDESTAB202001.7z',\n",
       "  'ftp://ftp.mtps.gov.br/pdet/microdados/NOVO%20CAGED/Estabelecimentos/2021/Fevereiro/CAGEDESTAB202002.7z',\n",
       "  'ftp://ftp.mtps.gov.br/pdet/microdados/NOVO%20CAGED/Estabelecimentos/2021/Março/CAGEDESTAB202003.7z',\n",
       "  'ftp://ftp.mtps.gov.br/pdet/microdados/NOVO%20CAGED/Estabelecimentos/2021/Março/CAGEDESTAB202004.7z',\n",
       "  'ftp://ftp.mtps.gov.br/pdet/microdados/NOVO%20CAGED/Estabelecimentos/2021/Março/CAGEDESTAB202005.7z',\n",
       "  'ftp://ftp.mtps.gov.br/pdet/microdados/NOVO%20CAGED/Estabelecimentos/2021/Março/CAGEDESTAB202006.7z',\n",
       "  'ftp://ftp.mtps.gov.br/pdet/microdados/NOVO%20CAGED/Estabelecimentos/2021/Março/CAGEDESTAB202007.7z',\n",
       "  'ftp://ftp.mtps.gov.br/pdet/microdados/NOVO%20CAGED/Estabelecimentos/2021/Março/CAGEDESTAB202008.7z',\n",
       "  'ftp://ftp.mtps.gov.br/pdet/microdados/NOVO%20CAGED/Estabelecimentos/2021/Março/CAGEDESTAB202009.7z',\n",
       "  'ftp://ftp.mtps.gov.br/pdet/microdados/NOVO%20CAGED/Estabelecimentos/2021/Março/CAGEDESTAB202010.7z',\n",
       "  'ftp://ftp.mtps.gov.br/pdet/microdados/NOVO%20CAGED/Estabelecimentos/2021/Março/CAGEDESTAB202011.7z',\n",
       "  'ftp://ftp.mtps.gov.br/pdet/microdados/NOVO%20CAGED/Estabelecimentos/2021/Março/CAGEDESTAB202012.7z',\n",
       "  'ftp://ftp.mtps.gov.br/pdet/microdados/NOVO%20CAGED/Estabelecimentos/2021/Março/CAGEDESTAB202101.7z',\n",
       "  'ftp://ftp.mtps.gov.br/pdet/microdados/NOVO%20CAGED/Estabelecimentos/2021/Março/CAGEDESTAB202102.7z',\n",
       "  'ftp://ftp.mtps.gov.br/pdet/microdados/NOVO%20CAGED/Estabelecimentos/2021/Março/CAGEDESTAB202103.7z'],\n",
       " 'Movimentações': ['ftp://ftp.mtps.gov.br/pdet/microdados/NOVO%20CAGED/Movimentações/2021/Janeiro/CAGEDMOV202001.7z',\n",
       "  'ftp://ftp.mtps.gov.br/pdet/microdados/NOVO%20CAGED/Movimentações/2021/Fevereiro/CAGEDMOV202002.7z',\n",
       "  'ftp://ftp.mtps.gov.br/pdet/microdados/NOVO%20CAGED/Movimentações/2021/Março/CAGEDMOV202003.7z',\n",
       "  'ftp://ftp.mtps.gov.br/pdet/microdados/NOVO%20CAGED/Movimentações/2021/Março/CAGEDMOV202004.7z',\n",
       "  'ftp://ftp.mtps.gov.br/pdet/microdados/NOVO%20CAGED/Movimentações/2021/Março/CAGEDMOV202005.7z',\n",
       "  'ftp://ftp.mtps.gov.br/pdet/microdados/NOVO%20CAGED/Movimentações/2021/Março/CAGEDMOV202006.7z',\n",
       "  'ftp://ftp.mtps.gov.br/pdet/microdados/NOVO%20CAGED/Movimentações/2021/Março/CAGEDMOV202007.7z',\n",
       "  'ftp://ftp.mtps.gov.br/pdet/microdados/NOVO%20CAGED/Movimentações/2021/Março/CAGEDMOV202008.7z',\n",
       "  'ftp://ftp.mtps.gov.br/pdet/microdados/NOVO%20CAGED/Movimentações/2021/Março/CAGEDMOV202009.7z',\n",
       "  'ftp://ftp.mtps.gov.br/pdet/microdados/NOVO%20CAGED/Movimentações/2021/Março/CAGEDMOV202010.7z',\n",
       "  'ftp://ftp.mtps.gov.br/pdet/microdados/NOVO%20CAGED/Movimentações/2021/Março/CAGEDMOV202011.7z',\n",
       "  'ftp://ftp.mtps.gov.br/pdet/microdados/NOVO%20CAGED/Movimentações/2021/Março/CAGEDMOV202012.7z',\n",
       "  'ftp://ftp.mtps.gov.br/pdet/microdados/NOVO%20CAGED/Movimentações/2021/Março/CAGEDMOV202101.7z',\n",
       "  'ftp://ftp.mtps.gov.br/pdet/microdados/NOVO%20CAGED/Movimentações/2021/Março/CAGEDMOV202102.7z',\n",
       "  'ftp://ftp.mtps.gov.br/pdet/microdados/NOVO%20CAGED/Movimentações/2021/Março/CAGEDMOV202103.7z']}"
      ]
     },
     "execution_count": 9,
     "metadata": {},
     "output_type": "execute_result"
    }
   ],
   "source": [
    "download_dict"
   ]
  },
  {
   "cell_type": "code",
   "execution_count": null,
   "metadata": {},
   "outputs": [],
   "source": []
  },
  {
   "cell_type": "code",
   "execution_count": null,
   "metadata": {},
   "outputs": [],
   "source": []
  },
  {
   "cell_type": "code",
   "execution_count": null,
   "metadata": {},
   "outputs": [],
   "source": []
  },
  {
   "cell_type": "code",
   "execution_count": null,
   "metadata": {},
   "outputs": [],
   "source": []
  },
  {
   "cell_type": "code",
   "execution_count": null,
   "metadata": {},
   "outputs": [],
   "source": []
  },
  {
   "cell_type": "code",
   "execution_count": null,
   "metadata": {},
   "outputs": [],
   "source": []
  },
  {
   "cell_type": "code",
   "execution_count": null,
   "metadata": {},
   "outputs": [],
   "source": []
  },
  {
   "cell_type": "code",
   "execution_count": null,
   "metadata": {},
   "outputs": [],
   "source": []
  },
  {
   "cell_type": "code",
   "execution_count": null,
   "metadata": {},
   "outputs": [],
   "source": []
  },
  {
   "cell_type": "code",
   "execution_count": null,
   "metadata": {},
   "outputs": [],
   "source": []
  },
  {
   "cell_type": "code",
   "execution_count": null,
   "metadata": {},
   "outputs": [],
   "source": []
  },
  {
   "cell_type": "code",
   "execution_count": null,
   "metadata": {},
   "outputs": [],
   "source": []
  },
  {
   "cell_type": "code",
   "execution_count": null,
   "metadata": {},
   "outputs": [],
   "source": []
  },
  {
   "cell_type": "code",
   "execution_count": null,
   "metadata": {},
   "outputs": [],
   "source": []
  },
  {
   "cell_type": "code",
   "execution_count": null,
   "metadata": {},
   "outputs": [],
   "source": []
  }
 ],
 "metadata": {
  "kernelspec": {
   "display_name": "Python 3",
   "language": "python",
   "name": "python3"
  },
  "language_info": {
   "codemirror_mode": {
    "name": "ipython",
    "version": 3
   },
   "file_extension": ".py",
   "mimetype": "text/x-python",
   "name": "python",
   "nbconvert_exporter": "python",
   "pygments_lexer": "ipython3",
   "version": "3.8.5"
  }
 },
 "nbformat": 4,
 "nbformat_minor": 4
}
