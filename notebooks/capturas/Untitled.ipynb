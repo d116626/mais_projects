{
 "cells": [
  {
   "cell_type": "code",
   "execution_count": 1,
   "id": "b338e50e-e961-4601-9166-7e3d54a555c3",
   "metadata": {},
   "outputs": [
    {
     "name": "stderr",
     "output_type": "stream",
     "text": [
      "/Users/m/miniconda3/lib/python3.9/site-packages/geopandas/_compat.py:111: UserWarning: The Shapely GEOS version (3.8.0-CAPI-1.13.1 ) is incompatible with the GEOS version PyGEOS was compiled with (3.9.1-CAPI-1.14.2). Conversions between both will be slow.\n",
      "  warnings.warn(\n"
     ]
    }
   ],
   "source": [
    "## caged_brach\n",
    "%reload_ext autoreload\n",
    "%autoreload 2\n",
    "\n",
    "import pandas as pd\n",
    "import numpy as np\n",
    "import geopandas as gpd\n",
    "\n",
    "pd.options.display.max_columns = 999\n",
    "pd.options.display.max_rows = 1999\n",
    "pd.options.display.max_colwidth = 200\n",
    "\n",
    "\n",
    "import basedosdados as bd\n",
    "from pathlib import Path"
   ]
  },
  {
   "cell_type": "markdown",
   "id": "272e82e5-670f-4227-91e3-890d11aa2f66",
   "metadata": {},
   "source": [
    "###  Discursos e Notas Taquigráficas\n",
    "\n",
    "- O Banco de Discursos contém pronunciamentos dos Srs. Deputados e de convidados em sessões plenárias da Câmara dos Deputados e do Congresso Nacional a partir de 1946.\n",
    "\n",
    "- https://www2.camara.leg.br/atividade-legislativa/discursos-e-notas-taquigraficas\n"
   ]
  },
  {
   "cell_type": "code",
   "execution_count": null,
   "id": "2489322e-2108-42e4-913b-e8167a761595",
   "metadata": {},
   "outputs": [],
   "source": []
  },
  {
   "cell_type": "code",
   "execution_count": null,
   "id": "51f0e56d-fcbc-4b5c-a9e0-eb41b2e5ce03",
   "metadata": {},
   "outputs": [],
   "source": []
  },
  {
   "cell_type": "code",
   "execution_count": null,
   "id": "1d5c87e3-dee1-4779-90f5-3c08edc6835b",
   "metadata": {},
   "outputs": [],
   "source": []
  },
  {
   "cell_type": "code",
   "execution_count": null,
   "id": "26a92f5b-286e-4689-a8b4-7d7d0d4eed5a",
   "metadata": {},
   "outputs": [],
   "source": []
  },
  {
   "cell_type": "code",
   "execution_count": null,
   "id": "a936987e-4021-4f5d-837a-fe6b5fd0dc1a",
   "metadata": {},
   "outputs": [],
   "source": []
  },
  {
   "cell_type": "code",
   "execution_count": null,
   "id": "97583235-dfcc-4b15-8cd5-17b17a28ba7e",
   "metadata": {},
   "outputs": [],
   "source": []
  }
 ],
 "metadata": {
  "kernelspec": {
   "display_name": "Python 3 (ipykernel)",
   "language": "python",
   "name": "python3"
  },
  "language_info": {
   "codemirror_mode": {
    "name": "ipython",
    "version": 3
   },
   "file_extension": ".py",
   "mimetype": "text/x-python",
   "name": "python",
   "nbconvert_exporter": "python",
   "pygments_lexer": "ipython3",
   "version": "3.9.1"
  }
 },
 "nbformat": 4,
 "nbformat_minor": 5
}
