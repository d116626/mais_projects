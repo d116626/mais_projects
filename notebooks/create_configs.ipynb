{
 "cells": [
  {
   "cell_type": "code",
   "execution_count": 1,
   "metadata": {},
   "outputs": [],
   "source": [
    "import base64\n",
    "import json\n",
    "from pathlib import Path\n",
    "import os\n",
    "import tomlkit"
   ]
  },
  {
   "cell_type": "code",
   "execution_count": 7,
   "metadata": {},
   "outputs": [],
   "source": [
    "def encoding_base64(message):\n",
    "    #encoding\n",
    "    message_bytes = message.encode('ascii')\n",
    "    base64_bytes = base64.b64encode(message_bytes)\n",
    "    return base64_bytes.decode('ascii')\n",
    "\n",
    "def decogind_base64(message):\n",
    "    #decoding\n",
    "    base64_bytes = message.encode('ascii')\n",
    "    message_bytes = base64.b64decode(base64_bytes)\n",
    "    return message_bytes.decode('ascii')\n",
    "\n",
    "def save_json(json_obj, file_path, file_name):\n",
    "    with open(f'{file_path}/{file_name}', 'w', encoding='utf-8') as f:\n",
    "        json.dump(json_obj, f, ensure_ascii=False, indent=2)\n",
    "        \n",
    "def create_config_folder(config_folder):\n",
    "    ## create ~/.basedosdados\n",
    "    if os.path.exists(Path.home() / config_folder):\n",
    "        shutil.rmtree(Path.home() / config_folder, ignore_errors=True)\n",
    "\n",
    "    os.mkdir(Path.home() / config_folder)\n",
    "    os.mkdir(Path.home() / config_folder / 'credentials')\n",
    "\n",
    "def create_json_file(message_base64,file_name,config_folder):\n",
    "    json_obj = json.loads(decogind_base64(message_base64))\n",
    "    prod_file_path = Path.home() / config_folder / 'credentials'\n",
    "    save_json(json_obj, prod_file_path ,file_name)\n",
    "    \n",
    "def save_toml(config_dict, file_name, config_folder):\n",
    "    file_path = Path.home() / config_folder\n",
    "    with open(file_path / file_name, \"w\") as toml_file:\n",
    "        toml.dump(config_dict, toml_file)\n",
    "    "
   ]
  },
  {
   "cell_type": "code",
   "execution_count": 22,
   "metadata": {},
   "outputs": [],
   "source": [
    "with open('/home/m/.basedosdados/credentials/prod.json', 'r') as f:\n",
    "    message = f.read()\n",
    "\n",
    "prod_base64 = encoding_base64(message)\n",
    "\n",
    "with open('/home/m/.basedosdados/credentials/staging.json', 'r') as f:\n",
    "    message = f.read()\n",
    "\n",
    "staging_base64 = encoding_base64(message)\n",
    "\n",
    "    \n",
    "# config_dict = {\n",
    "#     'metadata_path':'XXX',\n",
    "#     'templates_path':'XXX',\n",
    "#     'gcloud-projects':{\n",
    "#         'staging':{\n",
    "#             \"name\":\"XXXXX\",\n",
    "#             'credentials_path':\"/home/m/.basedosdados/credentials/staging.json\"\n",
    "#         },\n",
    "#         'prod':{\n",
    "#             \"name\":\"gabinete-sv\",\n",
    "#             'credentials_path':\"/home/m/.basedosdados/credentials/prod.json\"\n",
    "#         }\n",
    "#     }    \n",
    "# }\n",
    "\n",
    "    \n",
    "\n"
   ]
  },
  {
   "cell_type": "code",
   "execution_count": 24,
   "metadata": {},
   "outputs": [],
   "source": [
    "prod_base64 = encoding_base64('{\"prod_json_test\":\"prod_json_test\"}')\n",
    "staging_base64 = encoding_base64('{\"staging_json_test\":\"staging_json_test\"}')\n"
   ]
  },
  {
   "cell_type": "code",
   "execution_count": 27,
   "metadata": {},
   "outputs": [
    {
     "data": {
      "text/plain": [
       "'eyJwcm9kX2pzb25fdGVzdCI6InByb2RfanNvbl90ZXN0In0='"
      ]
     },
     "execution_count": 27,
     "metadata": {},
     "output_type": "execute_result"
    }
   ],
   "source": [
    "prod_base64"
   ]
  },
  {
   "cell_type": "code",
   "execution_count": 26,
   "metadata": {},
   "outputs": [
    {
     "data": {
      "text/plain": [
       "'eyJzdGFnaW5nX2pzb25fdGVzdCI6InN0YWdpbmdfanNvbl90ZXN0In0='"
      ]
     },
     "execution_count": 26,
     "metadata": {},
     "output_type": "execute_result"
    }
   ],
   "source": [
    "staging_base64"
   ]
  },
  {
   "cell_type": "code",
   "execution_count": 38,
   "metadata": {},
   "outputs": [
    {
     "data": {
      "text/plain": [
       "[PosixPath('/home/m/Downloads'),\n",
       " PosixPath('/home/m/.vscode'),\n",
       " PosixPath('/home/m/.nv'),\n",
       " PosixPath('/home/m/.gnupg'),\n",
       " PosixPath('/home/m/.java'),\n",
       " PosixPath('/home/m/.config'),\n",
       " PosixPath('/home/m/.conda'),\n",
       " PosixPath('/home/m/dwhelper'),\n",
       " PosixPath('/home/m/Documents'),\n",
       " PosixPath('/home/m/.sqlsecrets'),\n",
       " PosixPath('/home/m/.astropy'),\n",
       " PosixPath('/home/m/.oracle_jre_usage'),\n",
       " PosixPath('/home/m/.ipython'),\n",
       " PosixPath('/home/m/snap'),\n",
       " PosixPath('/home/m/.antigen'),\n",
       " PosixPath('/home/m/.ssh'),\n",
       " PosixPath('/home/m/.wdm'),\n",
       " PosixPath('/home/m/.oh-my-zsh'),\n",
       " PosixPath('/home/m/.dotnet'),\n",
       " PosixPath('/home/m/Templates'),\n",
       " PosixPath('/home/m/.minecraft'),\n",
       " PosixPath('/home/m/.gnome'),\n",
       " PosixPath('/home/m/Desktop'),\n",
       " PosixPath('/home/m/.gdal'),\n",
       " PosixPath('/home/m/.cache'),\n",
       " PosixPath('/home/m/Videos'),\n",
       " PosixPath('/home/m/.npm'),\n",
       " PosixPath('/home/m/aaaaa'),\n",
       " PosixPath('/home/m/Music'),\n",
       " PosixPath('/home/m/.yarn'),\n",
       " PosixPath('/home/m/Pictures'),\n",
       " PosixPath('/home/m/.pki'),\n",
       " PosixPath('/home/m/jd2'),\n",
       " PosixPath('/home/m/.mume'),\n",
       " PosixPath('/home/m/.jupyter'),\n",
       " PosixPath('/home/m/.mozilla'),\n",
       " PosixPath('/home/m/Public'),\n",
       " PosixPath('/home/m/.local'),\n",
       " PosixPath('/home/m/.zoom'),\n",
       " PosixPath('/home/m/.basedosdados'),\n",
       " PosixPath('/home/m/anaconda3')]"
      ]
     },
     "execution_count": 38,
     "metadata": {},
     "output_type": "execute_result"
    }
   ],
   "source": [
    "p = Path('/github')\n",
    "\n",
    "print([f for f in p.iterdir() if f.is_dir()])"
   ]
  },
  {
   "cell_type": "code",
   "execution_count": null,
   "metadata": {},
   "outputs": [],
   "source": []
  },
  {
   "cell_type": "code",
   "execution_count": null,
   "metadata": {},
   "outputs": [],
   "source": []
  },
  {
   "cell_type": "code",
   "execution_count": null,
   "metadata": {},
   "outputs": [],
   "source": []
  },
  {
   "cell_type": "code",
   "execution_count": null,
   "metadata": {},
   "outputs": [],
   "source": []
  },
  {
   "cell_type": "code",
   "execution_count": null,
   "metadata": {},
   "outputs": [],
   "source": []
  },
  {
   "cell_type": "code",
   "execution_count": null,
   "metadata": {},
   "outputs": [],
   "source": []
  },
  {
   "cell_type": "code",
   "execution_count": 87,
   "metadata": {},
   "outputs": [],
   "source": []
  },
  {
   "cell_type": "code",
   "execution_count": null,
   "metadata": {},
   "outputs": [],
   "source": []
  },
  {
   "cell_type": "code",
   "execution_count": null,
   "metadata": {},
   "outputs": [],
   "source": []
  }
 ],
 "metadata": {
  "kernelspec": {
   "display_name": "Python 3",
   "language": "python",
   "name": "python3"
  },
  "language_info": {
   "codemirror_mode": {
    "name": "ipython",
    "version": 3
   },
   "file_extension": ".py",
   "mimetype": "text/x-python",
   "name": "python",
   "nbconvert_exporter": "python",
   "pygments_lexer": "ipython3",
   "version": "3.8.3"
  }
 },
 "nbformat": 4,
 "nbformat_minor": 4
}
