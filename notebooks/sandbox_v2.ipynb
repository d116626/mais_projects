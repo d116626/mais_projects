{
 "cells": [
  {
   "cell_type": "code",
   "execution_count": 15,
   "id": "3de72e1b-d061-4f8b-bf33-aaaeada0aa55",
   "metadata": {},
   "outputs": [],
   "source": [
    "## caged_brach\n",
    "%reload_ext autoreload\n",
    "%autoreload 2\n",
    "\n",
    "import pandas as pd\n",
    "import numpy as np\n",
    "\n",
    "pd.options.display.max_columns = 999\n",
    "pd.options.display.max_rows = 1999\n",
    "pd.options.display.max_colwidth = 200\n",
    "\n",
    "\n",
    "from basedosdados.upload.base import Base\n",
    "from basedosdados.upload.table import Table\n",
    "import basedosdados as bd\n",
    "import requests\n",
    "\n",
    "from pathlib import Path\n",
    "from copy import deepcopy\n"
   ]
  },
  {
   "cell_type": "markdown",
   "id": "824d6429-110f-49a1-a4d5-d4ce73a0dbd7",
   "metadata": {},
   "source": [
    "## FACEBOOK & INSTAGRAM MONITOR\n",
    "\n",
    "- monitorar seguidores / comentarios / curtidas / engajamento / impressoes de figuras publicas\n",
    " \n",
    "----\n",
    "\n",
    "### Refs\n",
    "\n",
    "- [Features Reference](https://developers.facebook.com/docs/features-reference#reference-PAGES_ACCESS)\n",
    "- [Page Public Content Access](https://developers.facebook.com/docs/features-reference/page-public-content-access)\n",
    "- [Page Public Metadata Access](https://developers.facebook.com/docs/features-reference/page-public-metadata-access)\n",
    "- https://stackoverflow.com/questions/55176179/facebook-graph-api-to-get-public-post-of-the-public-page"
   ]
  },
  {
   "cell_type": "code",
   "execution_count": null,
   "id": "4e016a18-1112-4211-93e3-57f03d25f280",
   "metadata": {},
   "outputs": [],
   "source": []
  },
  {
   "cell_type": "code",
   "execution_count": null,
   "id": "99ddc667-145b-4674-80da-8d8f3faca089",
   "metadata": {},
   "outputs": [],
   "source": []
  },
  {
   "cell_type": "code",
   "execution_count": 9,
   "id": "8c0ccd30-69d9-4205-9aab-f34aaa177701",
   "metadata": {},
   "outputs": [],
   "source": [
    "import basedosdados as bd"
   ]
  },
  {
   "cell_type": "code",
   "execution_count": 11,
   "id": "a45822fb-aee6-455a-8f5c-d0b4bc6ed53b",
   "metadata": {},
   "outputs": [],
   "source": [
    "tb = bd.Table('a','a')"
   ]
  },
  {
   "cell_type": "code",
   "execution_count": 13,
   "id": "5ce3f468-5e21-4b9d-8878-374087d59651",
   "metadata": {},
   "outputs": [
    {
     "data": {
      "text/plain": [
       "''"
      ]
     },
     "execution_count": 13,
     "metadata": {},
     "output_type": "execute_result"
    }
   ],
   "source": []
  },
  {
   "cell_type": "code",
   "execution_count": null,
   "id": "3f2d459c-2be0-4e1c-b465-1f343d1f326e",
   "metadata": {},
   "outputs": [],
   "source": []
  },
  {
   "cell_type": "code",
   "execution_count": null,
   "id": "3d3736d7-b6af-49ef-80c1-35518adb702f",
   "metadata": {},
   "outputs": [],
   "source": []
  },
  {
   "cell_type": "code",
   "execution_count": null,
   "id": "66fbabf0-fac2-4d75-9671-c0d5a288ba91",
   "metadata": {},
   "outputs": [],
   "source": []
  },
  {
   "cell_type": "code",
   "execution_count": null,
   "id": "d642d08f-06d7-47dd-9623-04a6c580945d",
   "metadata": {},
   "outputs": [],
   "source": []
  },
  {
   "cell_type": "code",
   "execution_count": null,
   "id": "63e468aa-feda-4522-b6fa-2de5eb764538",
   "metadata": {},
   "outputs": [],
   "source": []
  },
  {
   "cell_type": "code",
   "execution_count": null,
   "id": "3c2ff0b7-6f3b-4ea0-8ab9-57c5458b2328",
   "metadata": {},
   "outputs": [],
   "source": []
  }
 ],
 "metadata": {
  "kernelspec": {
   "display_name": "Python 3.9.1 64-bit ('base': conda)",
   "language": "python",
   "name": "python391jvsc74a57bd09265c6d278ff067d4da8b5e0a1d20cb7aab3603d0caea247effcbced8f1ecd4c"
  },
  "language_info": {
   "codemirror_mode": {
    "name": "ipython",
    "version": 3
   },
   "file_extension": ".py",
   "mimetype": "text/x-python",
   "name": "python",
   "nbconvert_exporter": "python",
   "pygments_lexer": "ipython3",
   "version": "3.9.1"
  }
 },
 "nbformat": 4,
 "nbformat_minor": 5
}
