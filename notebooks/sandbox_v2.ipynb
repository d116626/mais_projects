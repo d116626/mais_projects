{
 "cells": [
  {
   "cell_type": "code",
   "execution_count": 43,
   "id": "3de72e1b-d061-4f8b-bf33-aaaeada0aa55",
   "metadata": {},
   "outputs": [],
   "source": [
    "## caged_brach\n",
    "%reload_ext autoreload\n",
    "%autoreload 2\n",
    "\n",
    "import pandas as pd\n",
    "import numpy as np\n",
    "\n",
    "pd.options.display.max_columns = 999\n",
    "pd.options.display.max_rows = 1999\n",
    "pd.options.display.max_colwidth = 200\n",
    "\n",
    "\n",
    "from basedosdados.upload.base import Base\n",
    "from basedosdados.upload.table import Table\n",
    "import basedosdados as bd\n",
    "import requests\n",
    "\n",
    "from pathlib import Path\n",
    "from copy import deepcopy\n"
   ]
  },
  {
   "cell_type": "markdown",
   "id": "824d6429-110f-49a1-a4d5-d4ce73a0dbd7",
   "metadata": {},
   "source": [
    "## FACEBOOK & INSTAGRAM MONITOR\n",
    "\n",
    "- monitorar seguidores / comentarios / curtidas / engajamento / impressoes de figuras publicas\n",
    " \n",
    "----\n",
    "\n",
    "### Refs\n",
    "\n",
    "- [Features Reference](https://developers.facebook.com/docs/features-reference#reference-PAGES_ACCESS)\n",
    "- [Page Public Content Access](https://developers.facebook.com/docs/features-reference/page-public-content-access)\n",
    "- [Page Public Metadata Access](https://developers.facebook.com/docs/features-reference/page-public-metadata-access)\n",
    "- https://stackoverflow.com/questions/55176179/facebook-graph-api-to-get-public-post-of-the-public-page"
   ]
  },
  {
   "cell_type": "code",
   "execution_count": null,
   "id": "fcdfed74-a0bc-4e90-88c2-0f5734996407",
   "metadata": {},
   "outputs": [],
   "source": []
  },
  {
   "cell_type": "code",
   "execution_count": null,
   "id": "230d5b3d-609c-4eec-a4b1-76b49275e624",
   "metadata": {},
   "outputs": [],
   "source": []
  },
  {
   "cell_type": "code",
   "execution_count": null,
   "id": "cdb5af63-ea9f-413f-91b1-04c496dc9005",
   "metadata": {},
   "outputs": [],
   "source": []
  },
  {
   "cell_type": "code",
   "execution_count": null,
   "id": "4e016a18-1112-4211-93e3-57f03d25f280",
   "metadata": {},
   "outputs": [],
   "source": []
  },
  {
   "cell_type": "code",
   "execution_count": null,
   "id": "99ddc667-145b-4674-80da-8d8f3faca089",
   "metadata": {},
   "outputs": [],
   "source": []
  },
  {
   "cell_type": "code",
   "execution_count": null,
   "id": "24732a0b-89e3-47aa-9e50-3ac4b6fe56da",
   "metadata": {},
   "outputs": [],
   "source": []
  },
  {
   "cell_type": "markdown",
   "id": "b65a6fe0-410b-4066-8c19-85e6aa86486d",
   "metadata": {},
   "source": [
    "## TESTA METADATA"
   ]
  },
  {
   "cell_type": "code",
   "execution_count": 1,
   "id": "ec9803eb-1159-4853-ba0c-de7a4af651d8",
   "metadata": {},
   "outputs": [],
   "source": [
    "import basedosdados as bd\n",
    "\n",
    "st = bd.Table(dataset_id='test_dataset',table_id='test_table')\n",
    "tb = bd.Table(dataset_id='test_dataset',table_id='test_table')\n",
    "md = bd.Metadata('test_dataset','test_table')\n"
   ]
  },
  {
   "cell_type": "code",
   "execution_count": 2,
   "id": "d5cb36ea-b5e8-47b1-9504-d1d8e97e6dde",
   "metadata": {},
   "outputs": [
    {
     "name": "stderr",
     "output_type": "stream",
     "text": [
      "Uploading files: 100%|█████████████████████████████████████████████████████████████████████████| 2/2 [00:02<00:00,  1.18s/it]\n"
     ]
    }
   ],
   "source": [
    "tb.create(path='../test_data',\n",
    "          if_table_exists='replace',\n",
    "          if_storage_data_exists='replace',\n",
    "          if_table_config_exists='replace'\n",
    "         )"
   ]
  },
  {
   "cell_type": "code",
   "execution_count": 3,
   "id": "f8dda1b1-d9a7-4ec6-980a-16713beaf9e4",
   "metadata": {},
   "outputs": [],
   "source": [
    "tb.update_columns('https://docs.google.com/spreadsheets/d/1ihyOCSkaarmR3uMHj8bmP9tv-OChVeL2LkEWaGqxp7w/edit#gid=787251136')\n"
   ]
  },
  {
   "cell_type": "code",
   "execution_count": null,
   "id": "e723d059-3324-4a7d-9f8e-3ef9047b8930",
   "metadata": {},
   "outputs": [],
   "source": []
  },
  {
   "cell_type": "code",
   "execution_count": null,
   "id": "5f998426-5beb-4e31-9040-1e3950bfd3cc",
   "metadata": {},
   "outputs": [],
   "source": []
  },
  {
   "cell_type": "code",
   "execution_count": null,
   "id": "425c3d12-9655-411c-a3bf-8dbf9e70dd29",
   "metadata": {},
   "outputs": [],
   "source": []
  },
  {
   "cell_type": "code",
   "execution_count": null,
   "id": "c54f5205-e50b-4d1d-9e4b-92a86dd0f683",
   "metadata": {},
   "outputs": [],
   "source": []
  },
  {
   "cell_type": "code",
   "execution_count": null,
   "id": "633d22ba-94f1-4b6b-b2ae-24b1f3c91ff8",
   "metadata": {},
   "outputs": [],
   "source": []
  },
  {
   "cell_type": "code",
   "execution_count": null,
   "id": "3c2ff0b7-6f3b-4ea0-8ab9-57c5458b2328",
   "metadata": {},
   "outputs": [],
   "source": []
  }
 ],
 "metadata": {
  "kernelspec": {
   "display_name": "Python 3.9.1 64-bit ('base': conda)",
   "language": "python",
   "name": "python391jvsc74a57bd09265c6d278ff067d4da8b5e0a1d20cb7aab3603d0caea247effcbced8f1ecd4c"
  },
  "language_info": {
   "codemirror_mode": {
    "name": "ipython",
    "version": 3
   },
   "file_extension": ".py",
   "mimetype": "text/x-python",
   "name": "python",
   "nbconvert_exporter": "python",
   "pygments_lexer": "ipython3",
   "version": "3.9.1"
  }
 },
 "nbformat": 4,
 "nbformat_minor": 5
}
