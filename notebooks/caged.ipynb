{
 "cells": [
  {
   "cell_type": "code",
   "execution_count": 27,
   "metadata": {},
   "outputs": [],
   "source": [
    "%reload_ext autoreload\n",
    "%autoreload 2\n",
    "\n",
    "import warnings\n",
    "warnings.filterwarnings('ignore')\n",
    "\n",
    "import pandas as pd\n",
    "import numpy as np\n",
    "\n",
    "pd.options.display.max_columns = 999\n",
    "pd.options.display.max_rows = 1999\n",
    "pd.options.display.max_colwidth = 200\n",
    "\n",
    "from paths import *\n",
    "from scpts import manipulation\n",
    "from scpts import io\n",
    "from scpts import caged\n",
    "\n",
    "from basedosdados import Storage, Table, Dataset\n",
    "import basedosdados as bd\n",
    "import py7zr\n",
    "\n",
    "\n"
   ]
  },
  {
   "cell_type": "code",
   "execution_count": null,
   "metadata": {},
   "outputs": [],
   "source": []
  },
  {
   "cell_type": "markdown",
   "metadata": {},
   "source": [
    "### Download Dados\n",
    " - ftp://ftp.mtps.gov.br/pdet/microdados/CAGED/"
   ]
  },
  {
   "cell_type": "code",
   "execution_count": null,
   "metadata": {},
   "outputs": [],
   "source": [
    "raw_path = '../data/caged/raw/'\n",
    "clean_path = '../data/caged/clean/'"
   ]
  },
  {
   "cell_type": "code",
   "execution_count": 23,
   "metadata": {},
   "outputs": [],
   "source": [
    "anos = [i for i in range(2007,2020)]\n",
    "meses= ['01', '02', '03', '04', '05', '06', '07', '08', '09', '10', '11', '12']"
   ]
  },
  {
   "cell_type": "code",
   "execution_count": 7,
   "metadata": {
    "scrolled": true
   },
   "outputs": [
    {
     "name": "stdout",
     "output_type": "stream",
     "text": [
      "01/2007 ja existe\n",
      "02/2007 ja existe\n",
      "03/2007 ja existe\n",
      "04/2007 ja existe\n",
      "05/2007 ja existe\n",
      "06/2007 ja existe\n",
      "07/2007 ja existe\n",
      "08/2007 ja existe\n",
      "09/2007 ja existe\n",
      "10/2007 ja existe\n",
      "11/2007 ja existe\n",
      "12/2007 ja existe\n",
      "01/2008 ja existe\n",
      "02/2008 ja existe\n",
      "03/2008 ja existe\n",
      "04/2008 ja existe\n",
      "05/2008 ja existe\n",
      "06/2008 ja existe\n",
      "07/2008 ja existe\n",
      "08/2008 ja existe\n",
      "09/2008 ja existe\n",
      "10/2008 ja existe\n",
      "11/2008 ja existe\n",
      "12/2008 ja existe\n",
      "01/2009 ja existe\n",
      "02/2009 ja existe\n",
      "03/2009 ja existe\n",
      "04/2009 ja existe\n",
      "05/2009 ja existe\n",
      "06/2009 ja existe\n",
      "07/2009 ja existe\n",
      "08/2009 ja existe\n",
      "09/2009 ja existe\n",
      "10/2009 ja existe\n",
      "11/2009 ja existe\n",
      "12/2009 ja existe\n",
      "01/2010 ja existe\n",
      "02/2010 ja existe\n",
      "03/2010 ja existe\n",
      "04/2010 ja existe\n",
      "05/2010 ja existe\n",
      "06/2010 ja existe\n",
      "07/2010 ja existe\n",
      "08/2010 ja existe\n",
      "09/2010 ja existe\n",
      "10/2010 ja existe\n",
      "11/2010 ja existe\n",
      "12/2010 ja existe\n",
      "01/2011 ja existe\n",
      "02/2011 ja existe\n",
      "03/2011 ja existe\n",
      "04/2011 ja existe\n",
      "05/2011 ja existe\n",
      "06/2011 ja existe\n",
      "07/2011 ja existe\n",
      "08/2011 ja existe\n",
      "09/2011 ja existe\n",
      "10/2011 ja existe\n",
      "11/2011 ja existe\n",
      "12/2011 ja existe\n",
      "01/2012 ja existe\n",
      "02/2012 ja existe\n",
      "03/2012 ja existe\n",
      "04/2012 ja existe\n",
      "05/2012 ja existe\n",
      "06/2012 ja existe\n",
      "07/2012 ja existe\n",
      "08/2012 ja existe\n",
      "09/2012 ja existe\n",
      "10/2012 ja existe\n",
      "11/2012 ja existe\n",
      "12/2012 ja existe\n",
      "01/2013 ja existe\n",
      "02/2013 ja existe\n",
      "03/2013 ja existe\n",
      "04/2013 ja existe\n",
      "05/2013 ja existe\n",
      "06/2013 ja existe\n",
      "07/2013 ja existe\n",
      "08/2013 ja existe\n",
      "09/2013 ja existe\n",
      "10/2013 ja existe\n",
      "11/2013 ja existe\n",
      "12/2013 ja existe\n",
      "01/2014 ja existe\n",
      "02/2014 ja existe\n",
      "03/2014 ja existe\n",
      "04/2014 ja existe\n",
      "05/2014 ja existe\n",
      "06/2014 ja existe\n",
      "07/2014 ja existe\n",
      "08/2014 ja existe\n",
      "09/2014 ja existe\n",
      "10/2014 ja existe\n",
      "11/2014 ja existe\n",
      "12/2014 ja existe\n",
      "01/2015 ja existe\n",
      "02/2015 ja existe\n",
      "03/2015 ja existe\n",
      "04/2015 ja existe\n",
      "05/2015 criado em 07:32\n",
      "06/2015 criado em 06:30\n",
      "07/2015 criado em 05:26\n",
      "08/2015 criado em 05:24\n",
      "09/2015 criado em 05:22\n",
      "10/2015 criado em 04:59\n",
      "11/2015 criado em 01:57\n",
      "12/2015 criado em 00:02\n",
      "01/2016 criado em 00:03\n",
      "02/2016 criado em 00:03\n",
      "03/2016 criado em 00:07\n",
      "04/2016 criado em 00:03\n",
      "05/2016 criado em 00:03\n",
      "06/2016 criado em 00:03\n",
      "07/2016 criado em 00:03\n",
      "08/2016 criado em 00:03\n",
      "09/2016 criado em 00:03\n",
      "10/2016 criado em 00:02\n",
      "11/2016 criado em 00:03\n",
      "12/2016 criado em 00:02\n",
      "01/2017 criado em 00:02\n",
      "02/2017 criado em 00:03\n",
      "03/2017 criado em 00:03\n",
      "04/2017 criado em 00:02\n",
      "05/2017 criado em 00:03\n",
      "06/2017 criado em 00:02\n",
      "07/2017 criado em 00:02\n",
      "08/2017 criado em 00:03\n",
      "09/2017 criado em 00:03\n",
      "10/2017 criado em 00:02\n",
      "11/2017 criado em 00:02\n",
      "12/2017 criado em 00:05\n",
      "01/2018 criado em 00:03\n",
      "02/2018 criado em 00:02\n",
      "03/2018 criado em 00:02\n",
      "04/2018 criado em 00:02\n",
      "05/2018 criado em 00:03\n",
      "06/2018 criado em 00:03\n",
      "07/2018 criado em 00:03\n",
      "08/2018 criado em 00:04\n",
      "09/2018 criado em 00:02\n",
      "10/2018 criado em 00:02\n",
      "11/2018 criado em 00:02\n",
      "12/2018 criado em 00:02\n",
      "01/2019 criado em 00:03\n",
      "02/2019 criado em 00:03\n",
      "03/2019 criado em 00:02\n",
      "04/2019 criado em 00:02\n",
      "05/2019 criado em 00:03\n",
      "06/2019 criado em 00:02\n",
      "07/2019 criado em 00:03\n",
      "08/2019 criado em 00:03\n",
      "09/2019 criado em 00:02\n",
      "10/2019 criado em 00:03\n",
      "11/2019 ja existe\n",
      "12/2019 ja existe\n"
     ]
    }
   ],
   "source": [
    "for ano in anos:\n",
    "    for mes in meses:\n",
    "        download_caged_file(ano,mes,raw_path)"
   ]
  },
  {
   "cell_type": "code",
   "execution_count": null,
   "metadata": {},
   "outputs": [],
   "source": []
  },
  {
   "cell_type": "code",
   "execution_count": null,
   "metadata": {},
   "outputs": [],
   "source": []
  },
  {
   "cell_type": "markdown",
   "metadata": {},
   "source": [
    "### Padronizacao"
   ]
  },
  {
   "cell_type": "markdown",
   "metadata": {},
   "source": [
    "- Cria Samples de 10 rows de cada arquivo"
   ]
  },
  {
   "cell_type": "code",
   "execution_count": 32,
   "metadata": {},
   "outputs": [
    {
     "ename": "FileNotFoundError",
     "evalue": "[Errno 2] No such file or directory: '../data/caged/raw/2012/6/CAGEDEST_062012.txt'",
     "output_type": "error",
     "traceback": [
      "\u001b[0;31m---------------------------------------------------------------------------\u001b[0m",
      "\u001b[0;31mFileNotFoundError\u001b[0m                         Traceback (most recent call last)",
      "\u001b[0;32m<ipython-input-32-3351a035f701>\u001b[0m in \u001b[0;36m<module>\u001b[0;34m\u001b[0m\n\u001b[1;32m      8\u001b[0m         \u001b[0marchive\u001b[0m \u001b[0;34m=\u001b[0m \u001b[0mpy7zr\u001b[0m\u001b[0;34m.\u001b[0m\u001b[0mSevenZipFile\u001b[0m\u001b[0;34m(\u001b[0m\u001b[0;34mf'{path_month}{filename}.7z'\u001b[0m\u001b[0;34m,\u001b[0m \u001b[0mmode\u001b[0m\u001b[0;34m=\u001b[0m\u001b[0;34m'r'\u001b[0m\u001b[0;34m)\u001b[0m\u001b[0;31m \u001b[0m\u001b[0;31m\\\u001b[0m\u001b[0;34m\u001b[0m\u001b[0;34m\u001b[0m\u001b[0m\n\u001b[1;32m      9\u001b[0m                        \u001b[0;34m.\u001b[0m\u001b[0mextractall\u001b[0m\u001b[0;34m(\u001b[0m\u001b[0mpath\u001b[0m\u001b[0;34m=\u001b[0m\u001b[0mpath_month\u001b[0m\u001b[0;34m)\u001b[0m\u001b[0;34m\u001b[0m\u001b[0;34m\u001b[0m\u001b[0m\n\u001b[0;32m---> 10\u001b[0;31m         df = pd.read_csv(f'{path_month}{filename}.txt',\n\u001b[0m\u001b[1;32m     11\u001b[0m                          \u001b[0msep\u001b[0m\u001b[0;34m=\u001b[0m\u001b[0;34m';'\u001b[0m\u001b[0;34m,\u001b[0m\u001b[0;34m\u001b[0m\u001b[0;34m\u001b[0m\u001b[0m\n\u001b[1;32m     12\u001b[0m                          \u001b[0mencoding\u001b[0m\u001b[0;34m=\u001b[0m\u001b[0;34m'latin-1'\u001b[0m\u001b[0;34m,\u001b[0m\u001b[0;34m\u001b[0m\u001b[0;34m\u001b[0m\u001b[0m\n",
      "\u001b[0;32m~/.local/lib/python3.8/site-packages/pandas/io/parsers.py\u001b[0m in \u001b[0;36mread_csv\u001b[0;34m(filepath_or_buffer, sep, delimiter, header, names, index_col, usecols, squeeze, prefix, mangle_dupe_cols, dtype, engine, converters, true_values, false_values, skipinitialspace, skiprows, skipfooter, nrows, na_values, keep_default_na, na_filter, verbose, skip_blank_lines, parse_dates, infer_datetime_format, keep_date_col, date_parser, dayfirst, cache_dates, iterator, chunksize, compression, thousands, decimal, lineterminator, quotechar, quoting, doublequote, escapechar, comment, encoding, dialect, error_bad_lines, warn_bad_lines, delim_whitespace, low_memory, memory_map, float_precision)\u001b[0m\n\u001b[1;32m    684\u001b[0m     )\n\u001b[1;32m    685\u001b[0m \u001b[0;34m\u001b[0m\u001b[0m\n\u001b[0;32m--> 686\u001b[0;31m     \u001b[0;32mreturn\u001b[0m \u001b[0m_read\u001b[0m\u001b[0;34m(\u001b[0m\u001b[0mfilepath_or_buffer\u001b[0m\u001b[0;34m,\u001b[0m \u001b[0mkwds\u001b[0m\u001b[0;34m)\u001b[0m\u001b[0;34m\u001b[0m\u001b[0;34m\u001b[0m\u001b[0m\n\u001b[0m\u001b[1;32m    687\u001b[0m \u001b[0;34m\u001b[0m\u001b[0m\n\u001b[1;32m    688\u001b[0m \u001b[0;34m\u001b[0m\u001b[0m\n",
      "\u001b[0;32m~/.local/lib/python3.8/site-packages/pandas/io/parsers.py\u001b[0m in \u001b[0;36m_read\u001b[0;34m(filepath_or_buffer, kwds)\u001b[0m\n\u001b[1;32m    450\u001b[0m \u001b[0;34m\u001b[0m\u001b[0m\n\u001b[1;32m    451\u001b[0m     \u001b[0;31m# Create the parser.\u001b[0m\u001b[0;34m\u001b[0m\u001b[0;34m\u001b[0m\u001b[0;34m\u001b[0m\u001b[0m\n\u001b[0;32m--> 452\u001b[0;31m     \u001b[0mparser\u001b[0m \u001b[0;34m=\u001b[0m \u001b[0mTextFileReader\u001b[0m\u001b[0;34m(\u001b[0m\u001b[0mfp_or_buf\u001b[0m\u001b[0;34m,\u001b[0m \u001b[0;34m**\u001b[0m\u001b[0mkwds\u001b[0m\u001b[0;34m)\u001b[0m\u001b[0;34m\u001b[0m\u001b[0;34m\u001b[0m\u001b[0m\n\u001b[0m\u001b[1;32m    453\u001b[0m \u001b[0;34m\u001b[0m\u001b[0m\n\u001b[1;32m    454\u001b[0m     \u001b[0;32mif\u001b[0m \u001b[0mchunksize\u001b[0m \u001b[0;32mor\u001b[0m \u001b[0miterator\u001b[0m\u001b[0;34m:\u001b[0m\u001b[0;34m\u001b[0m\u001b[0;34m\u001b[0m\u001b[0m\n",
      "\u001b[0;32m~/.local/lib/python3.8/site-packages/pandas/io/parsers.py\u001b[0m in \u001b[0;36m__init__\u001b[0;34m(self, f, engine, **kwds)\u001b[0m\n\u001b[1;32m    944\u001b[0m             \u001b[0mself\u001b[0m\u001b[0;34m.\u001b[0m\u001b[0moptions\u001b[0m\u001b[0;34m[\u001b[0m\u001b[0;34m\"has_index_names\"\u001b[0m\u001b[0;34m]\u001b[0m \u001b[0;34m=\u001b[0m \u001b[0mkwds\u001b[0m\u001b[0;34m[\u001b[0m\u001b[0;34m\"has_index_names\"\u001b[0m\u001b[0;34m]\u001b[0m\u001b[0;34m\u001b[0m\u001b[0;34m\u001b[0m\u001b[0m\n\u001b[1;32m    945\u001b[0m \u001b[0;34m\u001b[0m\u001b[0m\n\u001b[0;32m--> 946\u001b[0;31m         \u001b[0mself\u001b[0m\u001b[0;34m.\u001b[0m\u001b[0m_make_engine\u001b[0m\u001b[0;34m(\u001b[0m\u001b[0mself\u001b[0m\u001b[0;34m.\u001b[0m\u001b[0mengine\u001b[0m\u001b[0;34m)\u001b[0m\u001b[0;34m\u001b[0m\u001b[0;34m\u001b[0m\u001b[0m\n\u001b[0m\u001b[1;32m    947\u001b[0m \u001b[0;34m\u001b[0m\u001b[0m\n\u001b[1;32m    948\u001b[0m     \u001b[0;32mdef\u001b[0m \u001b[0mclose\u001b[0m\u001b[0;34m(\u001b[0m\u001b[0mself\u001b[0m\u001b[0;34m)\u001b[0m\u001b[0;34m:\u001b[0m\u001b[0;34m\u001b[0m\u001b[0;34m\u001b[0m\u001b[0m\n",
      "\u001b[0;32m~/.local/lib/python3.8/site-packages/pandas/io/parsers.py\u001b[0m in \u001b[0;36m_make_engine\u001b[0;34m(self, engine)\u001b[0m\n\u001b[1;32m   1176\u001b[0m     \u001b[0;32mdef\u001b[0m \u001b[0m_make_engine\u001b[0m\u001b[0;34m(\u001b[0m\u001b[0mself\u001b[0m\u001b[0;34m,\u001b[0m \u001b[0mengine\u001b[0m\u001b[0;34m=\u001b[0m\u001b[0;34m\"c\"\u001b[0m\u001b[0;34m)\u001b[0m\u001b[0;34m:\u001b[0m\u001b[0;34m\u001b[0m\u001b[0;34m\u001b[0m\u001b[0m\n\u001b[1;32m   1177\u001b[0m         \u001b[0;32mif\u001b[0m \u001b[0mengine\u001b[0m \u001b[0;34m==\u001b[0m \u001b[0;34m\"c\"\u001b[0m\u001b[0;34m:\u001b[0m\u001b[0;34m\u001b[0m\u001b[0;34m\u001b[0m\u001b[0m\n\u001b[0;32m-> 1178\u001b[0;31m             \u001b[0mself\u001b[0m\u001b[0;34m.\u001b[0m\u001b[0m_engine\u001b[0m \u001b[0;34m=\u001b[0m \u001b[0mCParserWrapper\u001b[0m\u001b[0;34m(\u001b[0m\u001b[0mself\u001b[0m\u001b[0;34m.\u001b[0m\u001b[0mf\u001b[0m\u001b[0;34m,\u001b[0m \u001b[0;34m**\u001b[0m\u001b[0mself\u001b[0m\u001b[0;34m.\u001b[0m\u001b[0moptions\u001b[0m\u001b[0;34m)\u001b[0m\u001b[0;34m\u001b[0m\u001b[0;34m\u001b[0m\u001b[0m\n\u001b[0m\u001b[1;32m   1179\u001b[0m         \u001b[0;32melse\u001b[0m\u001b[0;34m:\u001b[0m\u001b[0;34m\u001b[0m\u001b[0;34m\u001b[0m\u001b[0m\n\u001b[1;32m   1180\u001b[0m             \u001b[0;32mif\u001b[0m \u001b[0mengine\u001b[0m \u001b[0;34m==\u001b[0m \u001b[0;34m\"python\"\u001b[0m\u001b[0;34m:\u001b[0m\u001b[0;34m\u001b[0m\u001b[0;34m\u001b[0m\u001b[0m\n",
      "\u001b[0;32m~/.local/lib/python3.8/site-packages/pandas/io/parsers.py\u001b[0m in \u001b[0;36m__init__\u001b[0;34m(self, src, **kwds)\u001b[0m\n\u001b[1;32m   1989\u001b[0m         \u001b[0;32mif\u001b[0m \u001b[0mkwds\u001b[0m\u001b[0;34m.\u001b[0m\u001b[0mget\u001b[0m\u001b[0;34m(\u001b[0m\u001b[0;34m\"compression\"\u001b[0m\u001b[0;34m)\u001b[0m \u001b[0;32mis\u001b[0m \u001b[0;32mNone\u001b[0m \u001b[0;32mand\u001b[0m \u001b[0mencoding\u001b[0m\u001b[0;34m:\u001b[0m\u001b[0;34m\u001b[0m\u001b[0;34m\u001b[0m\u001b[0m\n\u001b[1;32m   1990\u001b[0m             \u001b[0;32mif\u001b[0m \u001b[0misinstance\u001b[0m\u001b[0;34m(\u001b[0m\u001b[0msrc\u001b[0m\u001b[0;34m,\u001b[0m \u001b[0mstr\u001b[0m\u001b[0;34m)\u001b[0m\u001b[0;34m:\u001b[0m\u001b[0;34m\u001b[0m\u001b[0;34m\u001b[0m\u001b[0m\n\u001b[0;32m-> 1991\u001b[0;31m                 \u001b[0msrc\u001b[0m \u001b[0;34m=\u001b[0m \u001b[0mopen\u001b[0m\u001b[0;34m(\u001b[0m\u001b[0msrc\u001b[0m\u001b[0;34m,\u001b[0m \u001b[0;34m\"rb\"\u001b[0m\u001b[0;34m)\u001b[0m\u001b[0;34m\u001b[0m\u001b[0;34m\u001b[0m\u001b[0m\n\u001b[0m\u001b[1;32m   1992\u001b[0m                 \u001b[0mself\u001b[0m\u001b[0;34m.\u001b[0m\u001b[0mhandles\u001b[0m\u001b[0;34m.\u001b[0m\u001b[0mappend\u001b[0m\u001b[0;34m(\u001b[0m\u001b[0msrc\u001b[0m\u001b[0;34m)\u001b[0m\u001b[0;34m\u001b[0m\u001b[0;34m\u001b[0m\u001b[0m\n\u001b[1;32m   1993\u001b[0m \u001b[0;34m\u001b[0m\u001b[0m\n",
      "\u001b[0;31mFileNotFoundError\u001b[0m: [Errno 2] No such file or directory: '../data/caged/raw/2012/6/CAGEDEST_062012.txt'"
     ]
    }
   ],
   "source": [
    "raw_path = '../data/caged/raw/'\n",
    "\n",
    "for ano in anos:\n",
    "    for mes in meses:\n",
    "        path_month = raw_path + f\"{ano}\" + f\"/{int(mes)}/\"\n",
    "        filename = f\"CAGEDEST_{mes}{ano}\"\n",
    "\n",
    "        archive = py7zr.SevenZipFile(f'{path_month}{filename}.7z', mode='r') \\\n",
    "                       .extractall(path=path_month)\n",
    "        df = pd.read_csv(f'{path_month}{filename}.txt',\n",
    "                         sep=';', \n",
    "                         encoding='latin-1',\n",
    "                         nrows=10)\n",
    "        df.columns = manipulation.normalize_cols(df.columns)\n",
    "\n",
    "        df.to_csv(f'{path_month}{filename}.csv', index=False, encoding='utf-8')\n",
    "        \n",
    "        os.remove(f'{path_month}{filename}.txt')"
   ]
  },
  {
   "cell_type": "code",
   "execution_count": null,
   "metadata": {},
   "outputs": [],
   "source": []
  },
  {
   "cell_type": "code",
   "execution_count": null,
   "metadata": {},
   "outputs": [],
   "source": []
  },
  {
   "cell_type": "code",
   "execution_count": null,
   "metadata": {},
   "outputs": [],
   "source": []
  },
  {
   "cell_type": "code",
   "execution_count": null,
   "metadata": {},
   "outputs": [],
   "source": []
  },
  {
   "cell_type": "code",
   "execution_count": null,
   "metadata": {},
   "outputs": [],
   "source": []
  },
  {
   "cell_type": "code",
   "execution_count": null,
   "metadata": {},
   "outputs": [],
   "source": []
  },
  {
   "cell_type": "code",
   "execution_count": null,
   "metadata": {},
   "outputs": [],
   "source": []
  },
  {
   "cell_type": "code",
   "execution_count": null,
   "metadata": {},
   "outputs": [],
   "source": []
  },
  {
   "cell_type": "code",
   "execution_count": null,
   "metadata": {},
   "outputs": [],
   "source": []
  },
  {
   "cell_type": "code",
   "execution_count": null,
   "metadata": {},
   "outputs": [],
   "source": []
  },
  {
   "cell_type": "code",
   "execution_count": null,
   "metadata": {},
   "outputs": [],
   "source": []
  }
 ],
 "metadata": {
  "kernelspec": {
   "display_name": "Python 3",
   "language": "python",
   "name": "python3"
  },
  "language_info": {
   "codemirror_mode": {
    "name": "ipython",
    "version": 3
   },
   "file_extension": ".py",
   "mimetype": "text/x-python",
   "name": "python",
   "nbconvert_exporter": "python",
   "pygments_lexer": "ipython3",
   "version": "3.8.3"
  }
 },
 "nbformat": 4,
 "nbformat_minor": 4
}
