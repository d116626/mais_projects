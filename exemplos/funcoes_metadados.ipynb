{
 "cells": [
  {
   "cell_type": "code",
   "execution_count": 1,
   "metadata": {},
   "outputs": [],
   "source": [
    "import basedosdados as bd"
   ]
  },
  {
   "cell_type": "code",
   "execution_count": 4,
   "metadata": {
    "scrolled": true
   },
   "outputs": [
    {
     "name": "stdout",
     "output_type": "stream",
     "text": [
      "\n",
      "\n",
      "dataset_id: br_sp_alesp\n"
     ]
    }
   ],
   "source": [
    "## mostra os datasets que contem a palavra do filtro\n",
    "bd.list_datasets(filter_by='alesp')"
   ]
  },
  {
   "cell_type": "code",
   "execution_count": 5,
   "metadata": {
    "scrolled": true
   },
   "outputs": [
    {
     "name": "stdout",
     "output_type": "stream",
     "text": [
      "\n",
      "\n",
      "table_id: assessores\n",
      "\n",
      "\n",
      "table_id: deputados\n",
      "\n",
      "\n",
      "table_id: despesas_gabinete\n"
     ]
    }
   ],
   "source": [
    "## lista as tabelas do dataset\n",
    "bd.list_dataset_tables(dataset_id='br_sp_alesp')"
   ]
  },
  {
   "cell_type": "code",
   "execution_count": 6,
   "metadata": {
    "scrolled": true
   },
   "outputs": [
    {
     "name": "stdout",
     "output_type": "stream",
     "text": [
      "Dados relativo ao Poder Legislativo do Estado de São Paulo\n",
      "\n",
      "\n",
      "Para saber mais acesse:\n",
      "Website: https://basedosdados.org/dataset/br-sp-alesp\n",
      "Github: https://github.com/basedosdados/mais/\n",
      "\n",
      "Ajude a manter o projeto :)\n",
      "Apoia-se: https://apoia.se/basedosdados\n",
      "\n",
      "Instituição (Quem mantém os dados oficiais?)\n",
      "-----------\n",
      "Nome: ALESP\n",
      "Autor: Portal dos Dados Abertos da Alesp\n",
      "Email: dadosabertos@al.sp.gov.br\n",
      "\n",
      "Onde encontrar os dados\n",
      "-----------------------\n",
      "- https://www.al.sp.gov.br/dados-abertos/\n",
      "\n",
      "Grupos\n",
      "------\n",
      "- politica\n",
      "\n",
      "Idiomas\n",
      "------\n",
      "- portugues\n",
      "\n",
      "Licença\n",
      "-------\n",
      "Nome: MIT\n",
      "\n"
     ]
    }
   ],
   "source": [
    "## mostra a descrição do dataset\n",
    "bd.get_dataset_description('br_sp_alesp')"
   ]
  },
  {
   "cell_type": "code",
   "execution_count": 7,
   "metadata": {
    "scrolled": true
   },
   "outputs": [
    {
     "name": "stdout",
     "output_type": "stream",
     "text": [
      "Lista dos Deputados Estaduais do Estado de São Paulo da legislatura atual\n",
      "\n",
      "\n",
      "Para saber mais acesse:\n",
      "Website: \n",
      "Github: https://github.com/basedosdados/mais/\n",
      "\n",
      "Ajude a manter o projeto :)\n",
      "Apoia-se: https://apoia.se/basedosdados\n",
      "\n",
      "Nível da Observação (Colunas que identificam cada linha unicamente)\n",
      "-------------------\n",
      "- matricula\n",
      "\n",
      "Cobertura Temporal\n",
      "------------------\n",
      "- 2020\n",
      "\n",
      "Cobertura Espacial\n",
      "------------------\n",
      "- brasil\n",
      "- SP\n",
      "\n",
      "Tratamento\n",
      "----------\n",
      "Padronização do nome das colunas, remoção de textos e logos, unificação das bases\n",
      "\n",
      "Frequencia de Atualização\n",
      "-------------------------\n",
      "1 ano\n",
      "\n",
      "Tratado por\n",
      "-----------\n",
      "Nome: Diego Oliveira\n",
      "Código: https://github.com/basedosdados/mais/tree/master/bases/br_sp_alesp/code\n",
      "Website: https://www.al.sp.gov.br/repositorioDados/deputados/deputados.xml\n",
      "Email: ds.oliveira404@gmail.com\n",
      "\n",
      "Publicado por\n",
      "-------------\n",
      "Nome: Diego Oliveira\n",
      "Código: https://github.com/basedosdados/mais/tree/master/bases/br_sp_alesp/code\n",
      "Website: github.com/d116626\n",
      "Email: ds.oliveira404@gmail.com\n"
     ]
    }
   ],
   "source": [
    "## mostra a descrição da tabela\n",
    "bd.get_table_description(dataset_id='br_sp_alesp', table_id='deputados')"
   ]
  },
  {
   "cell_type": "code",
   "execution_count": 2,
   "metadata": {
    "scrolled": true
   },
   "outputs": [
    {
     "name": "stdout",
     "output_type": "stream",
     "text": [
      "\n",
      "\n",
      "name: matricula\n",
      "field_type: STRING\n",
      "description: Número de matrícula do deputado\n",
      "\n",
      "\n",
      "name: nome_parlamentar\n",
      "field_type: STRING\n",
      "description: Nome parlamentar do deputado\n",
      "\n",
      "\n",
      "name: aniversario\n",
      "field_type: STRING\n",
      "description: Dia e mês do aniversário do deputado\n",
      "\n",
      "\n",
      "name: partido\n",
      "field_type: STRING\n",
      "description: Partido ao qual o deputado pertence\n",
      "\n",
      "\n",
      "name: situacao\n",
      "field_type: STRING\n",
      "description: Situação domandato dodeputadona legislatura atual\n",
      "\n",
      "\n",
      "name: email\n",
      "field_type: STRING\n",
      "description: Email do deputado\n",
      "\n",
      "\n",
      "name: sala\n",
      "field_type: STRING\n",
      "description: Sala do gabinete do deputado no prédio da Alesp\n",
      "\n",
      "\n",
      "name: placa_veiculo\n",
      "field_type: STRING\n",
      "description: Placa do veículo oficial usado pelo deputado\n",
      "\n",
      "\n",
      "name: home_page\n",
      "field_type: STRING\n",
      "description: Endereço da página do deputado na internet\n",
      "\n",
      "\n",
      "name: andar\n",
      "field_type: STRING\n",
      "description: Andar no qual se localiza o gabinete do deputado no prédio da Alesp\n",
      "\n",
      "\n",
      "name: id_deputado\n",
      "field_type: STRING\n",
      "description: Identificador único do deputado no sistema Parlamento Web\n",
      "\n",
      "\n",
      "name: id_spl\n",
      "field_type: STRING\n",
      "description: Identificador único do deputado no sistema SPL (Sistema de Processo Legislativo)\n"
     ]
    }
   ],
   "source": [
    "## mostra as colunas e descrições da tabela\n",
    "bd.get_table_columns(dataset_id='br_sp_alesp', table_id='deputados')"
   ]
  },
  {
   "cell_type": "code",
   "execution_count": 4,
   "metadata": {},
   "outputs": [
    {
     "name": "stdout",
     "output_type": "stream",
     "text": [
      "\n",
      "\n",
      "project_id: basedosdados\n",
      "dataset_id: br_sp_alesp\n",
      "table_id: deputados\n",
      "num_rows: 94\n",
      "size_mb: 0.01\n"
     ]
    }
   ],
   "source": [
    "## mostra o numero de linhas e tamanho da tabela\n",
    "bd.get_table_size(dataset_id='br_sp_alesp', table_id='deputados',billing_project_id='gabinete-sv')"
   ]
  },
  {
   "cell_type": "code",
   "execution_count": null,
   "metadata": {},
   "outputs": [],
   "source": []
  },
  {
   "cell_type": "code",
   "execution_count": null,
   "metadata": {},
   "outputs": [],
   "source": []
  },
  {
   "cell_type": "code",
   "execution_count": null,
   "metadata": {},
   "outputs": [],
   "source": []
  },
  {
   "cell_type": "code",
   "execution_count": null,
   "metadata": {},
   "outputs": [],
   "source": []
  },
  {
   "cell_type": "code",
   "execution_count": null,
   "metadata": {},
   "outputs": [],
   "source": []
  },
  {
   "cell_type": "code",
   "execution_count": null,
   "metadata": {},
   "outputs": [],
   "source": []
  },
  {
   "cell_type": "code",
   "execution_count": null,
   "metadata": {},
   "outputs": [],
   "source": []
  },
  {
   "cell_type": "code",
   "execution_count": null,
   "metadata": {},
   "outputs": [],
   "source": []
  },
  {
   "cell_type": "code",
   "execution_count": null,
   "metadata": {},
   "outputs": [],
   "source": []
  },
  {
   "cell_type": "code",
   "execution_count": null,
   "metadata": {},
   "outputs": [],
   "source": []
  },
  {
   "cell_type": "code",
   "execution_count": null,
   "metadata": {},
   "outputs": [],
   "source": []
  },
  {
   "cell_type": "code",
   "execution_count": null,
   "metadata": {},
   "outputs": [],
   "source": []
  }
 ],
 "metadata": {
  "kernelspec": {
   "display_name": "Python 3",
   "language": "python",
   "name": "python3"
  },
  "language_info": {
   "codemirror_mode": {
    "name": "ipython",
    "version": 3
   },
   "file_extension": ".py",
   "mimetype": "text/x-python",
   "name": "python",
   "nbconvert_exporter": "python",
   "pygments_lexer": "ipython3",
   "version": "3.8.3"
  }
 },
 "nbformat": 4,
 "nbformat_minor": 4
}
